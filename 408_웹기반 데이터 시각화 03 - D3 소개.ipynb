{
 "cells": [
  {
   "cell_type": "markdown",
   "metadata": {
    "deletable": true,
    "editable": true,
    "slideshow": {
     "slide_type": "slide"
    }
   },
   "source": [
    "# 웹기반 데이터 시각화 03 - D3 소개\n",
    "<img src=\"https://d3js.org/preview.png\"/>\n",
    "\n",
    "#### 2016 이승준 fb.com/plusjune"
   ]
  },
  {
   "cell_type": "markdown",
   "metadata": {
    "deletable": true,
    "editable": true,
    "slideshow": {
     "slide_type": "slide"
    }
   },
   "source": [
    "# d3.js\n",
    "* Data-Driven Documents\n",
    "* 웹 기반 시각화 라이브러리\n",
    "* Stanford Visualization Group 에서 개발 (Protovis를 계승) - Mike Bostock\n",
    "* HTML의 DOM을 이용하여 데이터를 visualize → interactive visualization\n",
    "* HTML5, CSS3, SVG 기반\n",
    "* 웹브라우저에서 작동 → 스마트폰, 태블릿 등 다양한 플랫 폼에서 작동 가능"
   ]
  },
  {
   "cell_type": "markdown",
   "metadata": {
    "deletable": true,
    "editable": true,
    "slideshow": {
     "slide_type": "slide"
    }
   },
   "source": [
    "# D3 소개\n",
    "\n",
    "D3로 어떤 일을 할 수 있나?\n",
    "* http://bl.ocks.org/mbostock\n",
    "* http://christopheviau.com/d3list/gallery.html\n",
    "\n",
    "전체적 개념\n",
    "* http://bost.ocks.org/mike/d3/workshop\n",
    "\n",
    "D3를 정확하게 바라보기\n",
    "* http://www.macwright.org/presentations/dcjq/"
   ]
  },
  {
   "cell_type": "markdown",
   "metadata": {
    "deletable": true,
    "editable": true,
    "slideshow": {
     "slide_type": "slide"
    }
   },
   "source": [
    "# D3 바로보기\n",
    "* D3.js 는 차트 기능을 가지고 있지 않다!\n",
    "* 데이터를 처리하여 어디에 그릴 것인가를 좌표나 넓이 등으로 반환하는 기능만 수행\n",
    "* HTML의 DOM, SVG, Canvas 요소를 이용, 그래프를 직접 그림\n",
    "* 단순한 그래프 그리기 → R, jqPlot, Google Chart API\n",
    "* D3.js → 데이터를 인터랙티브하고 역동적으로 표현하고 자 할 때 사용"
   ]
  },
  {
   "cell_type": "markdown",
   "metadata": {
    "deletable": true,
    "editable": true,
    "slideshow": {
     "slide_type": "slide"
    }
   },
   "source": [
    "# D3.js의 기능\n",
    "* D3.js는 d3라는 객체를 사용하여 데이터 시각화\n",
    "* D3.js의 모든 기능은 d3 객체에 포함되어 있음\n",
    "* d3 객체가 제공하는 기능의 리스트 <br> https://github.com/mbostock/d3/wiki/API-Reference"
   ]
  },
  {
   "cell_type": "markdown",
   "metadata": {
    "deletable": true,
    "editable": true,
    "slideshow": {
     "slide_type": "slide"
    }
   },
   "source": [
    "# D3.js의 기능\n",
    "* Core - selections, transitions, data, localization, colors, etc.\n",
    "* Behaviors - reusable interaction behaviors\n",
    "* Geography - project spherical coordinates, latitude & longitude math\n",
    "* Geometry - utilities for 2D geometry, such as Voronoi diagrams and quadtrees\n",
    "* Layouts - derive secondary data for positioning elements\n",
    "* Scales - convert between data and visual encodings\n",
    "* SVG - utilities for creating Scalable Vector Graphics\n",
    "* Time - parse or format times, compute calendar intervals, etc."
   ]
  },
  {
   "cell_type": "markdown",
   "metadata": {
    "deletable": true,
    "editable": true,
    "slideshow": {
     "slide_type": "slide"
    }
   },
   "source": [
    "# Method and Method Chain In JavaScript\n",
    "\n",
    "### Method  _bject.method()_\n",
    "```javascript\n",
    "document.getElementByID(\"some_id\")\n",
    "```\n",
    "\n",
    "Method Chain\n",
    "```javascript\n",
    "object.method().method().method()\n",
    "object.method()\n",
    ".method()\n",
    ".method()\n",
    "```"
   ]
  },
  {
   "cell_type": "markdown",
   "metadata": {
    "deletable": true,
    "editable": true,
    "slideshow": {
     "slide_type": "slide"
    }
   },
   "source": [
    "# D3.js 코드의 기본 흐름\n",
    "1. 데이터를 읽는다: CSV, TSV, XML, JSON 등의 형식의 데이터\n",
    "1. 표시할 그래프를 지정: d3의 레이아웃 객체 이용, 표시 좌표 계산\n",
    "1. 그래프를 그리는데 필요한 SVG 요소를 준비\n",
    "1. SVG 요소의 속성값을 변경: attr() 메서드와 style() 메서드 이용하여 SVG 요소의 속성값을 변경 (예: x, y 축의 좌표, w, h 의 값, 요소의 색상 등)\n",
    "1. (선택적) 에니메이션 처리: transition() mouse over 등과 같은 이벤트\n",
    "1. (선택적) 인터랙션 처리: mouse over 등과 같은 이벤트 처리"
   ]
  },
  {
   "cell_type": "markdown",
   "metadata": {
    "deletable": true,
    "editable": true,
    "slideshow": {
     "slide_type": "slide"
    }
   },
   "source": [
    "# 실습\n",
    "\n",
    "* STEP 1: SVG로 사각형 그리기\n",
    "* STEP 2: d3.js로 사각형 그리기\n",
    "* SETP 3: <rect>에 속성 추가\n",
    "* SETP 4: 데이터셋 추가\n",
    "* SETP 5: 데이터에 맞게 bar의 길이 수정, 애니메이션 추가\n",
    "    \n",
    "<img src=\"http://i.imgur.com/heePbJR.png\">\n",
    "        "
   ]
  }
 ],
 "metadata": {
  "celltoolbar": "Slideshow",
  "kernelspec": {
   "display_name": "Python 3",
   "language": "python",
   "name": "python3"
  },
  "language_info": {
   "codemirror_mode": {
    "name": "ipython",
    "version": 3
   },
   "file_extension": ".py",
   "mimetype": "text/x-python",
   "name": "python",
   "nbconvert_exporter": "python",
   "pygments_lexer": "ipython3",
   "version": "3.5.2"
  }
 },
 "nbformat": 4,
 "nbformat_minor": 0
}