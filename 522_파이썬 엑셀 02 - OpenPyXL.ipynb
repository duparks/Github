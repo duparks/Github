{
 "cells": [
  {
   "cell_type": "markdown",
   "metadata": {
    "slideshow": {
     "slide_type": "slide"
    }
   },
   "source": [
    "# 파이썬 엑셀 02 - OpenPyXL\n",
    "\n",
    "<img width=\"30%\" src=\"https://i.imgur.com/4NZ1Tiw.jpg\" >\n",
    "    \n",
    "### 2018 FinanceData.KR http://financedata.kr"
   ]
  },
  {
   "cell_type": "markdown",
   "metadata": {
    "slideshow": {
     "slide_type": "slide"
    }
   },
   "source": [
    "# 파이썬 + 엑셀 데스크탑 자동화 도구\n",
    "\n",
    "파이썬에서 엑셀을 다루는 라이브러리는 꽤 다양한데,\n",
    "크게 엑셀 파일을 읽고 쓰는 라이브러리(xlrd & xlwt, openpyxl, xlsxwriter)와 엑셀과 상호작용 하는 부류(xlwings, PyWin32)로 나눌 수 있습니다.\n",
    "\n",
    "### xlwings\n",
    "* http://xlwings.org/\n",
    "* 문서 https://goo.gl/WGsFVc (PDF)\n",
    "* 엑셀 자동화 스크립팅, 엑셀의 VBA를 Python으로 대체\n",
    "* Windows, OSX 지원, 설치된 엑셀 필요\n",
    "\n",
    "### openpyxl\n",
    "* https://openpyxl.readthedocs.io\n",
    "* 2010 (.xlsx) 포맷 읽고 쓰기 지원\n",
    "* 설치된 엑셀 필요 없음\n",
    "\n",
    "### xlrd & xlwt\n",
    "* http://xlrd.readthedocs.io , http://xlwt.readthedocs.io\n",
    "* 엑셀 파일 읽기/쓰기 (가볍고 빠르다, 기능이 적다)\n",
    "* 설치된 엑셀 필요 없음\n",
    "\n",
    "### xlsxwriter\n",
    "* https://xlsxwriter.readthedocs.org/\n",
    "* 2010 (.xlsx) 포맷 쓰기, 차트 가능 \n",
    "* 설치된 엑셀 필요 없음\n",
    "\n",
    "### PyWin32\n",
    "* 윈도우의 COM 기술(정확히는 OLE Automation) 사용\n",
    "* 엑셀 뿐만 아니라 다양한 오피스 제품과 상호작용이 가능\n",
    "* Windows 지원, 설치된 엑셀 필요"
   ]
  },
  {
   "cell_type": "markdown",
   "metadata": {
    "slideshow": {
     "slide_type": "slide"
    }
   },
   "source": [
    "# 파이썬+엑셀 추천\n",
    "* 설치된 엑셀 + 매크로 자동화(Windows, Mac): xlwings 추천 \n",
    "* 엑셀SW 없이 파이썬에서 엑셀 파일 생성, 처리 자동화: openpyxl 추천"
   ]
  },
  {
   "cell_type": "markdown",
   "metadata": {
    "collapsed": true,
    "slideshow": {
     "slide_type": "slide"
    }
   },
   "source": [
    "# OpenPyXL\n",
    "* https://openpyxl.readthedocs.io\n",
    "* 2010 (.xlsx) 포맷 읽고 쓰기 지원\n",
    "* 설치된 엑셀 필요 없음"
   ]
  },
  {
   "cell_type": "markdown",
   "metadata": {
    "collapsed": true,
    "slideshow": {
     "slide_type": "slide"
    }
   },
   "source": [
    "# 예제 데이터 - 광고비 지출\n",
    "\n",
    "https://gist.github.com/FinanceData/f61436d6ca76a60b81ec9ad09fefbb3e"
   ]
  },
  {
   "cell_type": "code",
   "execution_count": 1,
   "metadata": {
    "collapsed": true,
    "slideshow": {
     "slide_type": "-"
    }
   },
   "outputs": [],
   "source": [
    "import pandas as pd"
   ]
  },
  {
   "cell_type": "code",
   "execution_count": 2,
   "metadata": {
    "slideshow": {
     "slide_type": "-"
    }
   },
   "outputs": [
    {
     "data": {
      "text/html": [
       "<div>\n",
       "<style scoped>\n",
       "    .dataframe tbody tr th:only-of-type {\n",
       "        vertical-align: middle;\n",
       "    }\n",
       "\n",
       "    .dataframe tbody tr th {\n",
       "        vertical-align: top;\n",
       "    }\n",
       "\n",
       "    .dataframe thead th {\n",
       "        text-align: right;\n",
       "    }\n",
       "</style>\n",
       "<table border=\"1\" class=\"dataframe\">\n",
       "  <thead>\n",
       "    <tr style=\"text-align: right;\">\n",
       "      <th></th>\n",
       "      <th>month</th>\n",
       "      <th>adexp</th>\n",
       "    </tr>\n",
       "  </thead>\n",
       "  <tbody>\n",
       "    <tr>\n",
       "      <th>0</th>\n",
       "      <td>2013-01</td>\n",
       "      <td>7039177</td>\n",
       "    </tr>\n",
       "    <tr>\n",
       "      <th>1</th>\n",
       "      <td>2013-02</td>\n",
       "      <td>6960795</td>\n",
       "    </tr>\n",
       "    <tr>\n",
       "      <th>2</th>\n",
       "      <td>2013-03</td>\n",
       "      <td>6438333</td>\n",
       "    </tr>\n",
       "    <tr>\n",
       "      <th>3</th>\n",
       "      <td>2013-04</td>\n",
       "      <td>5024973</td>\n",
       "    </tr>\n",
       "    <tr>\n",
       "      <th>4</th>\n",
       "      <td>2013-05</td>\n",
       "      <td>7327214</td>\n",
       "    </tr>\n",
       "    <tr>\n",
       "      <th>5</th>\n",
       "      <td>2013-06</td>\n",
       "      <td>5891620</td>\n",
       "    </tr>\n",
       "  </tbody>\n",
       "</table>\n",
       "</div>"
      ],
      "text/plain": [
       "     month    adexp\n",
       "0  2013-01  7039177\n",
       "1  2013-02  6960795\n",
       "2  2013-03  6438333\n",
       "3  2013-04  5024973\n",
       "4  2013-05  7327214\n",
       "5  2013-06  5891620"
      ]
     },
     "execution_count": 2,
     "metadata": {},
     "output_type": "execute_result"
    }
   ],
   "source": [
    "df_KT = pd.read_csv('https://goo.gl/cjrrHm')\n",
    "df_KT"
   ]
  },
  {
   "cell_type": "code",
   "execution_count": 3,
   "metadata": {
    "slideshow": {
     "slide_type": "subslide"
    }
   },
   "outputs": [
    {
     "data": {
      "text/html": [
       "<div>\n",
       "<style scoped>\n",
       "    .dataframe tbody tr th:only-of-type {\n",
       "        vertical-align: middle;\n",
       "    }\n",
       "\n",
       "    .dataframe tbody tr th {\n",
       "        vertical-align: top;\n",
       "    }\n",
       "\n",
       "    .dataframe thead th {\n",
       "        text-align: right;\n",
       "    }\n",
       "</style>\n",
       "<table border=\"1\" class=\"dataframe\">\n",
       "  <thead>\n",
       "    <tr style=\"text-align: right;\">\n",
       "      <th></th>\n",
       "      <th>month</th>\n",
       "      <th>adexp</th>\n",
       "    </tr>\n",
       "  </thead>\n",
       "  <tbody>\n",
       "    <tr>\n",
       "      <th>0</th>\n",
       "      <td>2013-01</td>\n",
       "      <td>5277359</td>\n",
       "    </tr>\n",
       "    <tr>\n",
       "      <th>1</th>\n",
       "      <td>2013-02</td>\n",
       "      <td>9523039</td>\n",
       "    </tr>\n",
       "    <tr>\n",
       "      <th>2</th>\n",
       "      <td>2013-03</td>\n",
       "      <td>8420870</td>\n",
       "    </tr>\n",
       "    <tr>\n",
       "      <th>3</th>\n",
       "      <td>2013-04</td>\n",
       "      <td>8114839</td>\n",
       "    </tr>\n",
       "    <tr>\n",
       "      <th>4</th>\n",
       "      <td>2013-05</td>\n",
       "      <td>10809910</td>\n",
       "    </tr>\n",
       "    <tr>\n",
       "      <th>5</th>\n",
       "      <td>2013-06</td>\n",
       "      <td>8650904</td>\n",
       "    </tr>\n",
       "  </tbody>\n",
       "</table>\n",
       "</div>"
      ],
      "text/plain": [
       "     month     adexp\n",
       "0  2013-01   5277359\n",
       "1  2013-02   9523039\n",
       "2  2013-03   8420870\n",
       "3  2013-04   8114839\n",
       "4  2013-05  10809910\n",
       "5  2013-06   8650904"
      ]
     },
     "execution_count": 3,
     "metadata": {},
     "output_type": "execute_result"
    }
   ],
   "source": [
    "df_SKT = pd.read_csv('https://goo.gl/WkkUay')\n",
    "df_SKT"
   ]
  },
  {
   "cell_type": "code",
   "execution_count": 4,
   "metadata": {
    "collapsed": true,
    "slideshow": {
     "slide_type": "subslide"
    }
   },
   "outputs": [],
   "source": [
    "df_KT.to_excel('KT.xlsx')\n",
    "df_SKT.to_excel('SKT.xlsx')"
   ]
  },
  {
   "cell_type": "markdown",
   "metadata": {
    "slideshow": {
     "slide_type": "slide"
    }
   },
   "source": [
    "# 두 엑셀 파일 읽어 하나로 합치기"
   ]
  },
  {
   "cell_type": "code",
   "execution_count": 5,
   "metadata": {
    "slideshow": {
     "slide_type": "-"
    }
   },
   "outputs": [
    {
     "data": {
      "text/html": [
       "<div>\n",
       "<style scoped>\n",
       "    .dataframe tbody tr th:only-of-type {\n",
       "        vertical-align: middle;\n",
       "    }\n",
       "\n",
       "    .dataframe tbody tr th {\n",
       "        vertical-align: top;\n",
       "    }\n",
       "\n",
       "    .dataframe thead th {\n",
       "        text-align: right;\n",
       "    }\n",
       "</style>\n",
       "<table border=\"1\" class=\"dataframe\">\n",
       "  <thead>\n",
       "    <tr style=\"text-align: right;\">\n",
       "      <th></th>\n",
       "      <th>adexp</th>\n",
       "    </tr>\n",
       "    <tr>\n",
       "      <th>month</th>\n",
       "      <th></th>\n",
       "    </tr>\n",
       "  </thead>\n",
       "  <tbody>\n",
       "    <tr>\n",
       "      <th>2013-01</th>\n",
       "      <td>7039177</td>\n",
       "    </tr>\n",
       "    <tr>\n",
       "      <th>2013-02</th>\n",
       "      <td>6960795</td>\n",
       "    </tr>\n",
       "    <tr>\n",
       "      <th>2013-03</th>\n",
       "      <td>6438333</td>\n",
       "    </tr>\n",
       "    <tr>\n",
       "      <th>2013-04</th>\n",
       "      <td>5024973</td>\n",
       "    </tr>\n",
       "    <tr>\n",
       "      <th>2013-05</th>\n",
       "      <td>7327214</td>\n",
       "    </tr>\n",
       "    <tr>\n",
       "      <th>2013-06</th>\n",
       "      <td>5891620</td>\n",
       "    </tr>\n",
       "  </tbody>\n",
       "</table>\n",
       "</div>"
      ],
      "text/plain": [
       "           adexp\n",
       "month           \n",
       "2013-01  7039177\n",
       "2013-02  6960795\n",
       "2013-03  6438333\n",
       "2013-04  5024973\n",
       "2013-05  7327214\n",
       "2013-06  5891620"
      ]
     },
     "execution_count": 5,
     "metadata": {},
     "output_type": "execute_result"
    }
   ],
   "source": [
    "df_KT = pd.read_excel('KT.xlsx')\n",
    "df_KT.set_index('month', inplace=True)\n",
    "df_KT"
   ]
  },
  {
   "cell_type": "code",
   "execution_count": 6,
   "metadata": {
    "slideshow": {
     "slide_type": "subslide"
    }
   },
   "outputs": [
    {
     "data": {
      "text/html": [
       "<div>\n",
       "<style scoped>\n",
       "    .dataframe tbody tr th:only-of-type {\n",
       "        vertical-align: middle;\n",
       "    }\n",
       "\n",
       "    .dataframe tbody tr th {\n",
       "        vertical-align: top;\n",
       "    }\n",
       "\n",
       "    .dataframe thead th {\n",
       "        text-align: right;\n",
       "    }\n",
       "</style>\n",
       "<table border=\"1\" class=\"dataframe\">\n",
       "  <thead>\n",
       "    <tr style=\"text-align: right;\">\n",
       "      <th></th>\n",
       "      <th>adexp</th>\n",
       "    </tr>\n",
       "    <tr>\n",
       "      <th>month</th>\n",
       "      <th></th>\n",
       "    </tr>\n",
       "  </thead>\n",
       "  <tbody>\n",
       "    <tr>\n",
       "      <th>2013-01</th>\n",
       "      <td>5277359</td>\n",
       "    </tr>\n",
       "    <tr>\n",
       "      <th>2013-02</th>\n",
       "      <td>9523039</td>\n",
       "    </tr>\n",
       "    <tr>\n",
       "      <th>2013-03</th>\n",
       "      <td>8420870</td>\n",
       "    </tr>\n",
       "    <tr>\n",
       "      <th>2013-04</th>\n",
       "      <td>8114839</td>\n",
       "    </tr>\n",
       "    <tr>\n",
       "      <th>2013-05</th>\n",
       "      <td>10809910</td>\n",
       "    </tr>\n",
       "    <tr>\n",
       "      <th>2013-06</th>\n",
       "      <td>8650904</td>\n",
       "    </tr>\n",
       "  </tbody>\n",
       "</table>\n",
       "</div>"
      ],
      "text/plain": [
       "            adexp\n",
       "month            \n",
       "2013-01   5277359\n",
       "2013-02   9523039\n",
       "2013-03   8420870\n",
       "2013-04   8114839\n",
       "2013-05  10809910\n",
       "2013-06   8650904"
      ]
     },
     "execution_count": 6,
     "metadata": {},
     "output_type": "execute_result"
    }
   ],
   "source": [
    "df_SKT = pd.read_excel('SKT.xlsx')\n",
    "df_SKT.set_index('month', inplace=True)\n",
    "df_SKT"
   ]
  },
  {
   "cell_type": "code",
   "execution_count": 7,
   "metadata": {
    "collapsed": true,
    "slideshow": {
     "slide_type": "subslide"
    }
   },
   "outputs": [],
   "source": [
    "df_merge = pd.DataFrame()"
   ]
  },
  {
   "cell_type": "code",
   "execution_count": 8,
   "metadata": {
    "slideshow": {
     "slide_type": "-"
    }
   },
   "outputs": [
    {
     "data": {
      "text/html": [
       "<div>\n",
       "<style scoped>\n",
       "    .dataframe tbody tr th:only-of-type {\n",
       "        vertical-align: middle;\n",
       "    }\n",
       "\n",
       "    .dataframe tbody tr th {\n",
       "        vertical-align: top;\n",
       "    }\n",
       "\n",
       "    .dataframe thead th {\n",
       "        text-align: right;\n",
       "    }\n",
       "</style>\n",
       "<table border=\"1\" class=\"dataframe\">\n",
       "  <thead>\n",
       "    <tr style=\"text-align: right;\">\n",
       "      <th></th>\n",
       "      <th>KT</th>\n",
       "      <th>SKT</th>\n",
       "    </tr>\n",
       "    <tr>\n",
       "      <th>month</th>\n",
       "      <th></th>\n",
       "      <th></th>\n",
       "    </tr>\n",
       "  </thead>\n",
       "  <tbody>\n",
       "    <tr>\n",
       "      <th>2013-01</th>\n",
       "      <td>7039177</td>\n",
       "      <td>5277359</td>\n",
       "    </tr>\n",
       "    <tr>\n",
       "      <th>2013-02</th>\n",
       "      <td>6960795</td>\n",
       "      <td>9523039</td>\n",
       "    </tr>\n",
       "    <tr>\n",
       "      <th>2013-03</th>\n",
       "      <td>6438333</td>\n",
       "      <td>8420870</td>\n",
       "    </tr>\n",
       "    <tr>\n",
       "      <th>2013-04</th>\n",
       "      <td>5024973</td>\n",
       "      <td>8114839</td>\n",
       "    </tr>\n",
       "    <tr>\n",
       "      <th>2013-05</th>\n",
       "      <td>7327214</td>\n",
       "      <td>10809910</td>\n",
       "    </tr>\n",
       "    <tr>\n",
       "      <th>2013-06</th>\n",
       "      <td>5891620</td>\n",
       "      <td>8650904</td>\n",
       "    </tr>\n",
       "  </tbody>\n",
       "</table>\n",
       "</div>"
      ],
      "text/plain": [
       "              KT       SKT\n",
       "month                     \n",
       "2013-01  7039177   5277359\n",
       "2013-02  6960795   9523039\n",
       "2013-03  6438333   8420870\n",
       "2013-04  5024973   8114839\n",
       "2013-05  7327214  10809910\n",
       "2013-06  5891620   8650904"
      ]
     },
     "execution_count": 8,
     "metadata": {},
     "output_type": "execute_result"
    }
   ],
   "source": [
    "df_merge['KT'] = df_KT['adexp']\n",
    "df_merge['SKT'] = df_SKT['adexp']\n",
    "df_merge"
   ]
  },
  {
   "cell_type": "code",
   "execution_count": 9,
   "metadata": {
    "collapsed": true,
    "slideshow": {
     "slide_type": "subslide"
    }
   },
   "outputs": [],
   "source": [
    "df_merge.to_excel('merged.xlsx')"
   ]
  },
  {
   "cell_type": "markdown",
   "metadata": {
    "slideshow": {
     "slide_type": "-"
    }
   },
   "source": [
    "merged.xlsx\n",
    "<img src=\"https://i.imgur.com/S4u8Rnv.png\" >"
   ]
  },
  {
   "cell_type": "code",
   "execution_count": 10,
   "metadata": {
    "slideshow": {
     "slide_type": "slide"
    }
   },
   "outputs": [
    {
     "data": {
      "text/plain": [
       "<openpyxl.workbook.workbook.Workbook at 0x79549d0>"
      ]
     },
     "execution_count": 10,
     "metadata": {},
     "output_type": "execute_result"
    }
   ],
   "source": [
    "import openpyxl\n",
    "\n",
    "# 엑셀 파일 열기\n",
    "wb = openpyxl.load_workbook('merged.xlsx')\n",
    "wb"
   ]
  },
  {
   "cell_type": "code",
   "execution_count": 11,
   "metadata": {
    "slideshow": {
     "slide_type": "subslide"
    }
   },
   "outputs": [
    {
     "data": {
      "text/plain": [
       "['Sheet1']"
      ]
     },
     "execution_count": 11,
     "metadata": {},
     "output_type": "execute_result"
    }
   ],
   "source": [
    "# 시트 이름 얻기\n",
    "wb.get_sheet_names()"
   ]
  },
  {
   "cell_type": "code",
   "execution_count": 12,
   "metadata": {
    "slideshow": {
     "slide_type": "subslide"
    }
   },
   "outputs": [
    {
     "data": {
      "text/plain": [
       "'2013-01'"
      ]
     },
     "execution_count": 12,
     "metadata": {},
     "output_type": "execute_result"
    }
   ],
   "source": [
    "# 셀에 접근\n",
    "sheet = wb.get_sheet_by_name('Sheet1')\n",
    "sheet['A2'].value"
   ]
  },
  {
   "cell_type": "code",
   "execution_count": 13,
   "metadata": {
    "slideshow": {
     "slide_type": "subslide"
    }
   },
   "outputs": [
    {
     "data": {
      "text/plain": [
       "'SKT'"
      ]
     },
     "execution_count": 13,
     "metadata": {},
     "output_type": "execute_result"
    }
   ],
   "source": [
    "# cell(row = n, column = m) 셀에 접근\n",
    "\n",
    "sheet.cell(row = 1, column = 3).value"
   ]
  },
  {
   "cell_type": "code",
   "execution_count": 14,
   "metadata": {
    "slideshow": {
     "slide_type": "subslide"
    }
   },
   "outputs": [
    {
     "data": {
      "text/plain": [
       "'KT'"
      ]
     },
     "execution_count": 14,
     "metadata": {},
     "output_type": "execute_result"
    }
   ],
   "source": [
    "sheet['B1'].value"
   ]
  },
  {
   "cell_type": "markdown",
   "metadata": {
    "slideshow": {
     "slide_type": "slide"
    }
   },
   "source": [
    "# 범위 접근"
   ]
  },
  {
   "cell_type": "code",
   "execution_count": 15,
   "metadata": {
    "slideshow": {
     "slide_type": "-"
    }
   },
   "outputs": [
    {
     "name": "stdout",
     "output_type": "stream",
     "text": [
      "7039177\n",
      "6960795\n",
      "6438333\n",
      "5024973\n",
      "7327214\n",
      "5891620\n"
     ]
    }
   ],
   "source": [
    "muti_cells = sheet['B2':'B7']\n",
    "for row in muti_cells:\n",
    "    for col in row:\n",
    "        print(col.value)"
   ]
  },
  {
   "cell_type": "code",
   "execution_count": 16,
   "metadata": {
    "slideshow": {
     "slide_type": "subslide"
    }
   },
   "outputs": [
    {
     "data": {
      "text/plain": [
       "((<Cell 'Sheet1'.B2>, <Cell 'Sheet1'.C2>),\n",
       " (<Cell 'Sheet1'.B3>, <Cell 'Sheet1'.C3>),\n",
       " (<Cell 'Sheet1'.B4>, <Cell 'Sheet1'.C4>),\n",
       " (<Cell 'Sheet1'.B5>, <Cell 'Sheet1'.C5>),\n",
       " (<Cell 'Sheet1'.B6>, <Cell 'Sheet1'.C6>),\n",
       " (<Cell 'Sheet1'.B7>, <Cell 'Sheet1'.C7>))"
      ]
     },
     "execution_count": 16,
     "metadata": {},
     "output_type": "execute_result"
    }
   ],
   "source": [
    "muti_cells = sheet['B2':'C7']\n",
    "muti_cells"
   ]
  },
  {
   "cell_type": "code",
   "execution_count": 17,
   "metadata": {
    "slideshow": {
     "slide_type": "subslide"
    }
   },
   "outputs": [
    {
     "name": "stdout",
     "output_type": "stream",
     "text": [
      "7039177 5277359\n",
      "6960795 9523039\n",
      "6438333 8420870\n",
      "5024973 8114839\n",
      "7327214 10809910\n",
      "5891620 8650904\n"
     ]
    }
   ],
   "source": [
    "for row in muti_cells:\n",
    "    print(row[0].value, row[1].value)"
   ]
  },
  {
   "cell_type": "code",
   "execution_count": 18,
   "metadata": {
    "slideshow": {
     "slide_type": "subslide"
    }
   },
   "outputs": [
    {
     "name": "stdout",
     "output_type": "stream",
     "text": [
      "month KT SKT\n",
      "2013-01 7039177 5277359\n",
      "2013-02 6960795 9523039\n",
      "2013-03 6438333 8420870\n",
      "2013-04 5024973 8114839\n",
      "2013-05 7327214 10809910\n",
      "2013-06 5891620 8650904\n"
     ]
    }
   ],
   "source": [
    "# 모든 row 살펴보기\n",
    "for row in sheet.rows:\n",
    "    print(row[0].value, row[1].value, row[2].value)"
   ]
  },
  {
   "cell_type": "code",
   "execution_count": 19,
   "metadata": {
    "slideshow": {
     "slide_type": "subslide"
    }
   },
   "outputs": [
    {
     "name": "stdout",
     "output_type": "stream",
     "text": [
      "month\n",
      "2013-01\n",
      "2013-02\n",
      "2013-03\n",
      "2013-04\n",
      "2013-05\n",
      "2013-06\n",
      "KT\n",
      "7039177\n",
      "6960795\n",
      "6438333\n",
      "5024973\n",
      "7327214\n",
      "5891620\n",
      "SKT\n",
      "5277359\n",
      "9523039\n",
      "8420870\n",
      "8114839\n",
      "10809910\n",
      "8650904\n"
     ]
    }
   ],
   "source": [
    "# 모든 column 살펴보기\n",
    "for col in sheet.columns:\n",
    "    for r in col:\n",
    "        print(r.value)"
   ]
  },
  {
   "cell_type": "markdown",
   "metadata": {
    "slideshow": {
     "slide_type": "slide"
    }
   },
   "source": [
    "# 계산 및 결과 저장"
   ]
  },
  {
   "cell_type": "code",
   "execution_count": 20,
   "metadata": {
    "slideshow": {
     "slide_type": "-"
    }
   },
   "outputs": [
    {
     "data": {
      "text/plain": [
       "[7039177, 6960795, 6438333, 5024973, 7327214, 5891620]"
      ]
     },
     "execution_count": 20,
     "metadata": {},
     "output_type": "execute_result"
    }
   ],
   "source": [
    "# KT 컬럼\n",
    "kt_list = [row[0].value for row in sheet['B2':'B7']]\n",
    "kt_list"
   ]
  },
  {
   "cell_type": "code",
   "execution_count": 21,
   "metadata": {
    "slideshow": {
     "slide_type": "subslide"
    }
   },
   "outputs": [
    {
     "data": {
      "text/plain": [
       "38682112"
      ]
     },
     "execution_count": 21,
     "metadata": {},
     "output_type": "execute_result"
    }
   ],
   "source": [
    "# 합계\n",
    "sum(kt_list)"
   ]
  },
  {
   "cell_type": "code",
   "execution_count": 22,
   "metadata": {
    "slideshow": {
     "slide_type": "-"
    }
   },
   "outputs": [],
   "source": [
    "sheet['B8'].value = sum(kt_list)"
   ]
  },
  {
   "cell_type": "code",
   "execution_count": 23,
   "metadata": {
    "collapsed": true,
    "slideshow": {
     "slide_type": "subslide"
    }
   },
   "outputs": [],
   "source": [
    "# '합계'\n",
    "sheet['A8'].value = '합계'\n",
    "\n",
    "# SKT 합계 계산\n",
    "sheet['C8'].value = sum([row[0].value for row in sheet['C2':'C7']])"
   ]
  },
  {
   "cell_type": "code",
   "execution_count": 24,
   "metadata": {
    "slideshow": {
     "slide_type": "subslide"
    }
   },
   "outputs": [],
   "source": [
    "wb.save(\"merged_02.xlsx\")"
   ]
  },
  {
   "cell_type": "markdown",
   "metadata": {
    "slideshow": {
     "slide_type": "-"
    }
   },
   "source": [
    "<img src=\"https://i.imgur.com/AQVuoVi.png\" >\n",
    "    "
   ]
  },
  {
   "cell_type": "markdown",
   "metadata": {
    "slideshow": {
     "slide_type": "slide"
    }
   },
   "source": [
    "# 셀에 스타일 지정"
   ]
  },
  {
   "cell_type": "code",
   "execution_count": 25,
   "metadata": {
    "slideshow": {
     "slide_type": "-"
    }
   },
   "outputs": [],
   "source": [
    "from openpyxl.styles import Font, Alignment, Border, Side, Color, PatternFill\n",
    "\n",
    "cell_sum = sheet['A8']\n",
    "\n",
    "# 셀 값 지정\n",
    "cell_sum.value = '합계'\n",
    "\n",
    "# Font: '맑은 고딕', 크기 15, 굵게\n",
    "cell_sum.font = Font(name='맑은 고딕', size=15, bold=True)\n",
    "\n",
    "# Alignment: 가로 세로 , 가운데 정렬\n",
    "cell_sum.alignment = Alignment(horizontal='center', vertical='center')\n",
    "\n",
    "# Border: 테두리 지정\n",
    "thin = Border(\n",
    "    left=Side(style='thin'), right=Side(style='thin'), \n",
    "    top=Side(style='thin'), bottom=Side(style='thin'))\n",
    "\n",
    "cell_sum.border = thin # Cell 테두리를 지정\n",
    "\n",
    "# PatternFill: 셀 색상 지정\n",
    "cell_sum.fill = PatternFill(patternType='solid', fgColor=Color('FFC000'))"
   ]
  },
  {
   "cell_type": "code",
   "execution_count": 26,
   "metadata": {
    "slideshow": {
     "slide_type": "subslide"
    }
   },
   "outputs": [],
   "source": [
    "wb.save(\"merged_03.xlsx\")"
   ]
  },
  {
   "cell_type": "markdown",
   "metadata": {
    "slideshow": {
     "slide_type": "-"
    }
   },
   "source": [
    "<img src=\"https://i.imgur.com/EjNohk9.png\" >"
   ]
  },
  {
   "cell_type": "markdown",
   "metadata": {
    "slideshow": {
     "slide_type": "slide"
    }
   },
   "source": [
    "# 리뷰\n",
    "\n",
    "* 파이썬+엑셀: xlwings, openpyxl\n",
    "* 두 엑셀 파일 읽어 하나로 합치기\n",
    "* 범위 접근 - sheet['B2':'B7']\n",
    "* 계산 및 결과 저장 - cell.value = val\n",
    "* 셀에 스타일 지정 - Font, Alignment, Border, Side, Color, PatternFill"
   ]
  },
  {
   "cell_type": "markdown",
   "metadata": {
    "collapsed": true,
    "slideshow": {
     "slide_type": "notes"
    }
   },
   "source": [
    "### 2018 FinanceData.KR"
   ]
  }
 ],
 "metadata": {
  "celltoolbar": "Slideshow",
  "kernelspec": {
   "display_name": "Python 3",
   "language": "python",
   "name": "python3"
  },
  "language_info": {
   "codemirror_mode": {
    "name": "ipython",
    "version": 3
   },
   "file_extension": ".py",
   "mimetype": "text/x-python",
   "name": "python",
   "nbconvert_exporter": "python",
   "pygments_lexer": "ipython3",
   "version": "3.6.3"
  }
 },
 "nbformat": 4,
 "nbformat_minor": 2
}
