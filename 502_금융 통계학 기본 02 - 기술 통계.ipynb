{
 "cells": [
  {
   "cell_type": "markdown",
   "metadata": {
    "slideshow": {
     "slide_type": "slide"
    }
   },
   "source": [
    "# 금융 통계학 기본 02 - 기술 통계\n",
    "\n",
    "<img width=\"320\" src=\"http://goo.gl/Hphovm\">\n",
    "\n",
    "#### 2017 FinanceData http://fb.com/financedata"
   ]
  },
  {
   "cell_type": "markdown",
   "metadata": {
    "slideshow": {
     "slide_type": "slide"
    }
   },
   "source": [
    "# 데이터의 종류\n",
    "* 질적 데이터 qualitative data\n",
    "* 양적 데이터 quantitative data\n",
    "\n",
    "(한마디로, 수치로 표현되는냐 아니냐로 구분)"
   ]
  },
  {
   "cell_type": "markdown",
   "metadata": {
    "slideshow": {
     "slide_type": "slide"
    }
   },
   "source": [
    "# 질적 데이터 (qualitative data) \n",
    "#### = 범주형 categorical\n",
    "* 수치로 표현되지 않는 데이터,\n",
    "* 예를 들어: 전화번호, 성별, 혈액형, <br> 종교 분류, 순위 (rank) , 등급(A,B,C) 등\n",
    "\n",
    "* 명목 (nominal) : 순서없이 범주 예) 성별, 지역\n",
    "* 순서 (ordinal) : 순서, 상대적비교 예) 크기, 계층"
   ]
  },
  {
   "cell_type": "markdown",
   "metadata": {
    "slideshow": {
     "slide_type": "slide"
    }
   },
   "source": [
    "# 양적 데이터 (quantitative data) \n",
    "#### = 수치적 numerical\n",
    "* 수치로 측정이 가능한 데이터 (계량 데이터)\n",
    "* 예를 들어 : 온도, 가격, 수익률, 주가지수, 실업률, 매출액, 임직원의 수 등\n",
    "\n",
    "* 연속 (continuous) : 예) 키, 몸무게, 온도 (실수로 표현)\n",
    "* 이산 (discrete) : 예) 몇개의 값, 회수, 가족수 (정수로 표현)"
   ]
  },
  {
   "cell_type": "markdown",
   "metadata": {
    "slideshow": {
     "slide_type": "slide"
    }
   },
   "source": [
    "# 척도\n",
    "척도(scale) : 관찰된 결과에 특정 값을 할당하기 위해 사용되는 측정 수준\n",
    " \n",
    "척도 | 핵심 | 특징 | 예\n",
    ":---: | :---: | :---: | :---:\n",
    "명목척도 nominal scale | 어떤 범주에 속하는가 | 순서나 크기의 의미 없음 | 종교, 인종, 성별, 지지정당\n",
    "순서척도 ordinal scale | 순위 부여 | 등간격 아님, 연산 불가 | 5점 척도 만족도\n",
    "구간척도 interval scale | 명목/서열 척도의 특성 + 등간격 | 크기비교(차이) 의미 있음 | 섭씨온도, 물가지수, 주가지수\n",
    "비율척도 ratio scale | 구간척도의 특성 + 절대 원점 | 크기비교(차이)와 비율도 의미 | 월평균 소득, 가족수, 수익률\n",
    "\n",
    "\n",
    "* 순서척도는 범주형 데이터\n",
    "* 정보의 양 : 명목척도 < 순서척도 < 구간척도 < 비율척도"
   ]
  },
  {
   "cell_type": "markdown",
   "metadata": {
    "slideshow": {
     "slide_type": "slide"
    }
   },
   "source": [
    "# 질적(=범주형) 데이터 그래픽 요약\n",
    "* 도수분포표 frequency table\n",
    "* 막대차트 bar chart\n",
    "* 파이차트 pie chart"
   ]
  },
  {
   "cell_type": "markdown",
   "metadata": {
    "slideshow": {
     "slide_type": "slide"
    }
   },
   "source": [
    "# 양적(=수치적) 데이터 그래픽 요약\n",
    "* 점 그래프 dot plot\n",
    "* 줄기 잎 그래프 stem plot\n",
    "* 박스 그래프 box plot\n",
    "* 선 그래프 line plot\n",
    "* 히스토그램 histogram\n",
    "* 시계열 그래프 time series graph"
   ]
  },
  {
   "cell_type": "markdown",
   "metadata": {
    "slideshow": {
     "slide_type": "slide"
    }
   },
   "source": [
    "# 데이터의 수치 요약 방법\n",
    "1. 중심경향치 measure of central tendency (=대푯값)\n",
    "1. 산포도 measure of dispersion\n",
    "1. 상대적 위치의 측도"
   ]
  },
  {
   "cell_type": "markdown",
   "metadata": {
    "slideshow": {
     "slide_type": "slide"
    }
   },
   "source": [
    "# 1) 중심경향치(=대푯값)\n",
    "모집단의 대표적인 경향을 중심경향 (central tendency) 이라고 하며, <br/>\n",
    "중심경향을 나타내는 값을 중심경향치 혹은 대푯값 (representative value) 이라고 한다\n",
    "\n",
    "\n",
    "중심경향치로 주로 평균값, 중앙값, 최빈값이 사용된다.\n",
    "* 평균값 mean\n",
    "* 중앙값 median\n",
    "* 최빈값 mode"
   ]
  },
  {
   "cell_type": "markdown",
   "metadata": {
    "slideshow": {
     "slide_type": "slide"
    }
   },
   "source": [
    "# 2) 산포도\n",
    "산포(퍼진 dispersion ), 도(정도 measure ) <br>(<strike>먹는 과일 포도와 아무런 관련 없음 </strike>)\n",
    "* 분산과 표준편차\n",
    "* 범위 range : 최대 - 최소\n",
    "* 사분범위 IQR interquatile range\n",
    "* 변동계수 coefficient of variation : <br> CV = 표준편차 / 산술평균"
   ]
  },
  {
   "cell_type": "markdown",
   "metadata": {
    "slideshow": {
     "slide_type": "slide"
    }
   },
   "source": [
    "# 3) 상대적 위치의 측도\n",
    "특정 값이 전체 데이터에서 어느 정도 위치에 있는지 찾기 위해 사용\n",
    "* 백분위수: =PERCENTILE(array, k)\n",
    "* 백분율 순위: =PERCENTRANK(array, x, significance)\n",
    "* 표준점수: =STANDARDIZE(x, mean, standard_dev)"
   ]
  },
  {
   "cell_type": "markdown",
   "metadata": {
    "slideshow": {
     "slide_type": "slide"
    }
   },
   "source": [
    "# 평균과 평균값\n",
    "\n",
    "<img width=\"80%\" src=\"http://i.imgur.com/peDxSGh.png\">\n",
    "\n",
    "흔히, 평균 average 과 산술평균 arithmetic mean 을 혼용 \n",
    "(<strike>그러나, 먹고 사는데 지장은 없다</strike>)\n",
    " "
   ]
  },
  {
   "cell_type": "markdown",
   "metadata": {
    "slideshow": {
     "slide_type": "slide"
    }
   },
   "source": [
    "# 산술평균 arithmetic mean\n",
    "자료 전체의 합을 <br>개수로 나눈 값\n",
    "\n",
    "$$ A=\\frac{1}{n}\\sum_{k=1}^{n} a_k = \\frac{a_{1} + a_{2} + \\cdots + a_{n}}{n} $$"
   ]
  },
  {
   "cell_type": "markdown",
   "metadata": {
    "slideshow": {
     "slide_type": "slide"
    }
   },
   "source": [
    "# 기하평균 geometric mean\n",
    "n개의 양수 값을 <br>모두 곱한 것의 n제곱근\n",
    "\n",
    "$$ \\left(\\prod_{i=1}^n a_i \\right)^{1/n} = (a_1 \\cdot a_2 \\dotsb a_n)^{1/n} = \\sqrt[n]{a_1 \\cdot a_2 \\dotsb a_n} $$\n",
    "\n",
    "* 누적된 비율, 비례의 평균을 구할 때 <br>(년평균 이익률, 년평균 성장률)\n",
    "* 첫 해 -50%, 둘째 해 100% 수익이 났다면, 2년간 평균 수익률은 25% 일까?\n",
    "* https://goo.gl/zVDvXG 년평균 수익률 (구글 닥스)\n",
    "* 매출이 작년의 1.5배 증가하고 올해 6배 증가했다면? <br> $ \\sqrt {(1.5 X 6)} = 3배 $"
   ]
  },
  {
   "cell_type": "markdown",
   "metadata": {
    "slideshow": {
     "slide_type": "slide"
    }
   },
   "source": [
    "# 조화평균 harmonic mean\n",
    "주어진 데이터의 역수들을 <br> 산술 평균한 값의 역수\n",
    "\n",
    "$$ H = \\frac{n}{\\frac{1}{a_1} + \\frac{1}{a_2} + \\cdots + \\frac{1}{a_n}} $$"
   ]
  },
  {
   "cell_type": "markdown",
   "metadata": {
    "slideshow": {
     "slide_type": "slide"
    }
   },
   "source": [
    "# 가중평균 weighted mean\n",
    "\n",
    "데이터 x 가중치의 합을\n",
    "가중치의 합으로 나눈 값평균, \n",
    "\n",
    "$$ \\bar{x} = \\frac{ \\sum\\limits_{i=1}^n w_i x_i}{\\sum\\limits_{i=1}^n w_i} $$\n",
    "\n",
    "$$ \\bar{x} = \\frac{w_1 x_1 + w_2 x_2 + \\cdots + w_n x_n}{w_1 + w_2 + \\cdots + w_n}.$$"
   ]
  },
  {
   "cell_type": "markdown",
   "metadata": {
    "slideshow": {
     "slide_type": "slide"
    }
   },
   "source": [
    "# 가중 평균 (파이썬)\n",
    "\n",
    "```python\n",
    "s = np.random.randint(0, 100, 10)\n",
    "\n",
    "print (np.average(s))\n",
    "print (np.average(s, weights=range(1,11)))\n",
    "```"
   ]
  },
  {
   "cell_type": "markdown",
   "metadata": {
    "slideshow": {
     "slide_type": "slide"
    }
   },
   "source": [
    "# 기하평균, 조화평균\n",
    "\n",
    "```python\n",
    "from scipy import stats\n",
    "\n",
    "s = np.random.randint(0, 100, 10)\n",
    "\n",
    "print (stats.hmean(s))\n",
    "print (stats.gmean(s))\n",
    "```"
   ]
  },
  {
   "cell_type": "markdown",
   "metadata": {
    "slideshow": {
     "slide_type": "slide"
    }
   },
   "source": [
    "# 금융 데이터와 평균값\n",
    "평균값 | 핵심 | 사용예 | 스프레드시트 함수\n",
    "---- | ---- | ---- | ----\n",
    "산술평균 |  덧셈 연산, 총합 | 1인당 GDP | =average()\n",
    "기하평균 | 곱셈 연산, 비율 | 평균 수익률, 연평균 경제성장률, <br> 물가상승률, 인구증가율 | =geomean()\n",
    "조화평균 |  정해진 범위<br> 데이터가 변화 | 평균시속 | =harmean()\n",
    "가중평균 | 항목들이 비중이<br> 다른데이터 집합 | 포트폴리오의 기대수익률,<br>소비자 물가지수, 폭탄주 도수 | =sumproduct (w, d)/sum(w)"
   ]
  },
  {
   "cell_type": "markdown",
   "metadata": {
    "slideshow": {
     "slide_type": "slide"
    }
   },
   "source": [
    "```python\n",
    "from scipy import stats\n",
    "import numpy as np\n",
    "s = np.random.randint(0, 100, 10)\n",
    "\n",
    "\n",
    "# 평균, 이동평균\n",
    "print (np.average(s))\n",
    "print (np.average(s, weights=range(1,11)))\n",
    "# 조화평균, 기하평균\n",
    "print (stats.hmean(s))\n",
    "print (stats.gmean(s))\n",
    "```\n"
   ]
  },
  {
   "cell_type": "markdown",
   "metadata": {
    "slideshow": {
     "slide_type": "slide"
    }
   },
   "source": [
    "# 수익률 Returns of investment\n",
    "* 투자한 자본에 대한 수익(혹은 손실)의 비율\n",
    "\n",
    "수익률 = (나중가격 - 처음가격) / 처음가격\n",
    "\n",
    "예를 들어, 100원을 투자해서 110원이 되었다면 수익룰은 +10%"
   ]
  },
  {
   "cell_type": "markdown",
   "metadata": {
    "slideshow": {
     "slide_type": "slide"
    }
   },
   "source": [
    "# 가격과 수익률\n",
    "* 가격 price : 추세를 가지고 있어 통계적 특성을 분석하기 어렵다\n",
    "* 수익률 returns : 추세가 없고, 시간에 따른 확률 분포의 변화가 작다\n",
    "\n",
    "※ 금융 분석에서는 가격을 쓰지 않고 수익률을 쓴다"
   ]
  },
  {
   "cell_type": "markdown",
   "metadata": {
    "slideshow": {
     "slide_type": "slide"
    }
   },
   "source": [
    "# +10%, -10%의 결과는?\n",
    "\n",
    "하루는 10% 이익을, 하루는 10% 손해를 봤다면 수익율이 0% 일까?\n",
    "* 1000원 → +10% (잔액 1100원) → -10% (잔액 990원)\n",
    "\n",
    "수익과 손실의 순서를 바꾸면?\n",
    "* 1000원 → -10% (잔액 900원) → +10% (잔액 990원)"
   ]
  },
  {
   "cell_type": "markdown",
   "metadata": {
    "slideshow": {
     "slide_type": "slide"
    }
   },
   "source": [
    "# +10%씩 5번 수익, 딱 한번 50% 손실. 결과는?\n",
    "\n",
    "* 1000원 → +10% 수익 5회(=1000X(1+0.1)^5, 잔액 1610.51) → -50% 손실 (잔액: 805.255)\n",
    "* 1000원 → -50% 손실 (잔액 500원) → +10% 수익 x 5회(=500X(1+0.1)^5, 잔액 805.255)"
   ]
  },
  {
   "cell_type": "markdown",
   "metadata": {
    "slideshow": {
     "slide_type": "slide"
    }
   },
   "source": [
    "# 평균 수익률\n",
    "\n",
    "100원 짜리 주식을 보유 첫해 반토막(-50% 수익률), 다음해 (100% 수익률)로 상승했다. 수익률은?\n",
    "\n",
    "  | 년말 가격 | 수익률 | 수익률+1\n",
    "-- | -- | -- | --\n",
    "초기값 | 1000 | - | - \n",
    "1년차 | 500 | -50% | 0.5\n",
    "2년차 | 1000 | 100% | 2.0\n",
    "\n",
    "산술평균 vs 기하평균\n",
    "* 산술평균은 (-0.5+1)/2 = 0.25 (25%)<br>\n",
    "* 기하평균은 ((-0.5+1)(1+1))^(1/2) - 1 = 0%\n",
    "\n",
    "※ 증가배율을 계산할때는 기하평균으로 계산해야 한다.\n",
    "\n",
    "https://goo.gl/hAKumc [구글닥스] 산술평균, 기하평균 수익률일반수익률과 로그수익률"
   ]
  },
  {
   "cell_type": "markdown",
   "metadata": {
    "slideshow": {
     "slide_type": "slide"
    }
   },
   "source": [
    "# 일반수익률과 로그수익률\n",
    "\n",
    "$$ 일반 수익률(R) = \\frac{P - P_0}{P_0} = \\frac{P}{P_0} - 1 $$\n",
    "\n",
    "$$ 로그 수익률(R) = ln(\\frac{P}{P_0}) = ln(P) - ln{P_0} $$"
   ]
  },
  {
   "cell_type": "markdown",
   "metadata": {
    "slideshow": {
     "slide_type": "slide"
    }
   },
   "source": [
    "# 일반수익률 로그수익률\n",
    "\n",
    "거래일 | 가격 | 일반수익률 | 로그수익률 \n",
    "--- | --- | --- | ---\n",
    "1일 | 1,000 |  . |  .\n",
    "2일 | 1,300 | 30.00% | 26.24%\n",
    "3일 | 800 | -38.46% | -48.55%\n",
    "4일 | 1,300 | 62.50% | 48.55%\n",
    "5일 | 1,100 | -15.38% | -16.71%\n",
    "수익률 합계 | 39% | 38.65% | 9.53%\n",
    "최종수익률 | 10% | 10.00% | 9.53%\n",
    "\n",
    "\n",
    "https://goo.gl/IfSPjZ [구글닥스] 일반 수익률, 로그 수익률"
   ]
  },
  {
   "cell_type": "markdown",
   "metadata": {
    "slideshow": {
     "slide_type": "slide"
    }
   },
   "source": [
    "## 일반 수익률\n",
    "* 재투자 해서 발생하는 손실까지 포함\n",
    "* 각 거래에서 발생하는 손실률의 합과 최종 손실률이 달라진다\n",
    "\n",
    "## 로그 수익률\n",
    "* 최종 수익률과 수익률의 합계가 일치\n",
    "* 금융 분야에서는 주로 로그 수익률을 사용한다"
   ]
  },
  {
   "cell_type": "markdown",
   "metadata": {
    "slideshow": {
     "slide_type": "slide"
    }
   },
   "source": [
    "# 거래비용\n",
    "거래를 위해 수반되는 모든 비용\n",
    "* 수익률 계산이나 시뮬레이션에서는 가격만으로 계산, 거래비용은 따로 고려\n",
    "* 매매를 자주 할 때는 매우 중요한 요소 (투자전략 시뮬레이션 때는 거래비용을 고려)\n",
    "* 증권사 수수료(0.015%) 대비 증권거래세(0.3%) 20배, 증권거래세는 모든 증권사 동일"
   ]
  },
  {
   "cell_type": "markdown",
   "metadata": {
    "slideshow": {
     "slide_type": "slide"
    }
   },
   "source": [
    "# 매매 수수료와 세금\n",
    "어떤 주식을 10만원에 10주를 매수, 수익률이 10% 라고 가정<br>\n",
    "(매매 수수료 0.015%, 증권거래세 0.3% 가정)\n",
    "\n",
    "총 거래비용은 150원 + 165원 + 3,300원 = 3,615원\n",
    "* 매수 수수료: 백만원 x 0.015% = 150원\n",
    "* 매도 수수료: 백십만원 x 0.015% = 165원\n",
    "* 증권 거래세(매도): 백십만원 x 0.3% = 3,300원\n",
    "\n",
    "실질수익 = 수익 - ( 매수수수료+매도수수료+세금)"
   ]
  },
  {
   "cell_type": "markdown",
   "metadata": {
    "slideshow": {
     "slide_type": "slide"
    }
   },
   "source": [
    "# 코스피 지수 수익률 (실습)\n",
    "* 새 시트를 만들고, A2 셀에 다음 입력\n",
    "```\n",
    "=importdata(\"http://real-chart.finance.yahoo.com/table.csv?s=^KS11&a=00&b=1&c=2015&d=10&e=30&f=2015&g=d&ignore=.csv\")\n",
    "```"
   ]
  },
  {
   "cell_type": "markdown",
   "metadata": {
    "slideshow": {
     "slide_type": "slide"
    }
   },
   "source": [
    "# 기본 통계량\n",
    "* 데이터에대한 간략한 요약 정보. <br> 평균값, 중앙값, 최빈값, 최소값, 최대값, 범위, 표준편차 등\n",
    "* 엑셀 데이터 분석, “기술통계법” \n",
    "\n",
    "[구글닥스] https://goo.gl/H90Uom 요약 통계 Summary satistics"
   ]
  },
  {
   "cell_type": "markdown",
   "metadata": {
    "slideshow": {
     "slide_type": "slide"
    }
   },
   "source": [
    "항목 | 설명 | 스프레드시트 함수 | 상세\n",
    "--- | --- | --- | ---\n",
    "Mean | 평균 | =AVERAGE() | 자료 전체의 합을 개수로 나눈 값, 산술평균\n",
    "Standard Error | 표준오차 | =STDEV()/SQRT(COUNT()) | 표본의 통계치와 모수와의 차이\n",
    "Median |중앙값 | =MEDIAN() | 값의 범위(range)에서 가운데 있는 값\n",
    "Mode | 최빈값 | =MODE() | 가장 많이 관측되는 값\n",
    "Standard Deviation | 표준편차 | =STDEV() | 평균에서 떨어진 정도(분산의 제곱근)\n",
    "Variance | 분산 | =VAR() | 평균에서 떨어진 정도\n",
    "Kurtosis | 첨도 | =KURT() | 표준(정규분포) 위로 뾰족(>0), 납작(<0)한 정도\n",
    "Skewness | 왜도 | =SKEW() | 평균으로 부터 왼쪽(+)이나 오른쪽(-)으로 치우친 정도\n",
    "Range | 범위 | =MAX()-MIN() | 최대값과 최소값의 차이\n",
    "Minimum | 최소값 | =MIN() | 가장 작은 값\n",
    "Maximum | 최대값 | =MAX() | 가장 큰 값\n",
    "Sum | 합 | =SUM() | 모든 관측수의 합계\n",
    "Count | 관측수 | =COUNT() | 관측수\n",
    "\n",
    "\n",
    "\n",
    "# 기본 금융 통계량, 어디에 사용하는가\n",
    "* 평균, 이동평균: 주가, 기대 수익률, 기댓값, 매매신호\n",
    "* 왜도, 첨도: 확률 분포의 특성, 시장의 심리 등\n",
    "* 분산, 표준편차: 투자위험 risk , 변동성 volatility, 매매신호\n",
    "* 공분산, 상관계수, 베타: 두 데이터 집합의 비례관계의 정도 (상관분석)\n",
    "\n",
    "\n",
    "\n",
    "# 2014년 삼성전자 수익률 (실습)\n",
    "```\n",
    "=importdata(\"http://real-chart.finance.yahoo.com/table.csv?\n",
    "s=005930.KS&a=0&b=1&c=2014&d=11&e=31&f=2014&g=d&ignore=.csv\")\n",
    "```"
   ]
  },
  {
   "cell_type": "markdown",
   "metadata": {
    "slideshow": {
     "slide_type": "slide"
    }
   },
   "source": [
    "# 종목과 지수 읽기"
   ]
  },
  {
   "cell_type": "code",
   "execution_count": 5,
   "metadata": {
    "slideshow": {
     "slide_type": "slide"
    }
   },
   "outputs": [],
   "source": [
    "%matplotlib inline\n",
    "import numpy as np\n",
    "import pandas as pd\n",
    "import pandas_datareader as pdr\n",
    "\n",
    "df_005930 = pdr.DataReader('005930.KS', 'yahoo', '2017-01-01', '2017-11-30')\n",
    "df_005930 = df_005930[df_005930.Volume > 0]\n",
    "\n",
    "df_ks11 = pdr.DataReader('^KS11', 'yahoo', '2017-01-01', '2017-11-30')\n",
    "df_ks11 = df_ks11[df_ks11.Volume > 0]"
   ]
  },
  {
   "cell_type": "markdown",
   "metadata": {
    "slideshow": {
     "slide_type": "slide"
    }
   },
   "source": [
    "# 로그 수익률"
   ]
  },
  {
   "cell_type": "code",
   "execution_count": 6,
   "metadata": {
    "collapsed": true,
    "slideshow": {
     "slide_type": "slide"
    }
   },
   "outputs": [],
   "source": [
    "df_005930['Ret'] = np.log(df_005930['Adj Close'] / df_005930['Adj Close'].shift(1))\n",
    "\n",
    "df_ks11['Ret'] = np.log(df_ks11['Adj Close'] / df_ks11['Adj Close'].shift(1))"
   ]
  },
  {
   "cell_type": "markdown",
   "metadata": {
    "slideshow": {
     "slide_type": "slide"
    }
   },
   "source": [
    "# 로그 수익률 차트"
   ]
  },
  {
   "cell_type": "code",
   "execution_count": 7,
   "metadata": {
    "slideshow": {
     "slide_type": "slide"
    }
   },
   "outputs": [
    {
     "data": {
      "text/plain": [
       "<matplotlib.axes._subplots.AxesSubplot at 0x7f788049b438>"
      ]
     },
     "execution_count": 7,
     "metadata": {},
     "output_type": "execute_result"
    },
    {
     "data": {
      "image/png": "[encoded data removed]",
      "text/plain": [
       "<matplotlib.figure.Figure at 0x7f78872b5ac8>"
      ]
     },
     "metadata": {},
     "output_type": "display_data"
    }
   ],
   "source": [
    "df_005930['Ret'].plot(figsize=(12,4))"
   ]
  },
  {
   "cell_type": "markdown",
   "metadata": {
    "slideshow": {
     "slide_type": "slide"
    }
   },
   "source": [
    "# 로그 수익률 누적 차트"
   ]
  },
  {
   "cell_type": "code",
   "execution_count": 8,
   "metadata": {
    "slideshow": {
     "slide_type": "slide"
    }
   },
   "outputs": [
    {
     "data": {
      "text/plain": [
       "<matplotlib.axes._subplots.AxesSubplot at 0x7f7866c3c7f0>"
      ]
     },
     "execution_count": 8,
     "metadata": {},
     "output_type": "execute_result"
    },
    {
     "data": {
      "image/png": "[encoded data removed]",
      "text/plain": [
       "<matplotlib.figure.Figure at 0x7f7848a11b00>"
      ]
     },
     "metadata": {},
     "output_type": "display_data"
    }
   ],
   "source": [
    "df_005930['Ret'].cumsum().plot(figsize=(12,4))"
   ]
  },
  {
   "cell_type": "markdown",
   "metadata": {
    "slideshow": {
     "slide_type": "slide"
    }
   },
   "source": [
    "# 기술통계"
   ]
  },
  {
   "cell_type": "code",
   "execution_count": 9,
   "metadata": {
    "slideshow": {
     "slide_type": "slide"
    }
   },
   "outputs": [
    {
     "name": "stdout",
     "output_type": "stream",
     "text": [
      "mean        0.001586\n",
      "std_err        0.001000\n",
      "median        0.000967\n",
      "std        0.014859\n",
      "var        0.000221\n",
      "kurt        0.980457\n",
      "skew       -0.301696\n",
      "range        0.092627\n",
      "min       -0.052186\n",
      "max        0.040441\n",
      "sum        0.350612\n",
      "count      221.000000\n"
     ]
    }
   ],
   "source": [
    "def full_describe(df):\n",
    "    print ('mean %15.6f' % (df.mean()))\n",
    "    print ('std_err %15.6f' % (df.std() / np.sqrt(df.count())))\n",
    "    print ('median %15.6f' % (df.median()))\n",
    "    print ('std %15.6f' % (df.std()))\n",
    "    print ('var %15.6f' % (df.var()))\n",
    "    print ('kurt %15.6f' % (df.kurt()))\n",
    "    print ('skew %15.6f' % (df.skew()))\n",
    "    print ('range %15.6f' % (df.max() - df.min()))\n",
    "    print ('min %15.6f' % (df.min()))\n",
    "    print ('max %15.6f' % (df.max()))\n",
    "    print ('sum %15.6f' % (df.sum()))\n",
    "    print ('count %15.6f' % (df.count()))\n",
    "        \n",
    "full_describe(df_005930['Ret'])"
   ]
  },
  {
   "cell_type": "markdown",
   "metadata": {
    "slideshow": {
     "slide_type": "slide"
    }
   },
   "source": [
    "<img width=\"80%\" src=\"http://i.imgur.com/6pWC7We.png\" >"
   ]
  },
  {
   "cell_type": "markdown",
   "metadata": {
    "slideshow": {
     "slide_type": "slide"
    }
   },
   "source": [
    "<img width=\"80%\" src=\"http://i.imgur.com/sUnHdYx.png\" >"
   ]
  },
  {
   "cell_type": "markdown",
   "metadata": {
    "slideshow": {
     "slide_type": "slide"
    }
   },
   "source": [
    "항상 비교되는 지표가 필요하다.<br>\n",
    "이를 <b><u>벤치마크</u></b>라고 하며, <br>코스피 지수, 업종 지수, 국공채 채권 수익률 같은 대표적인 지수를 사용한다."
   ]
  },
  {
   "cell_type": "markdown",
   "metadata": {
    "slideshow": {
     "slide_type": "slide"
    }
   },
   "source": [
    "# 왜도, 첨도\n",
    "* 왜도 skewness , 데이터 분포의 비대칭 정도. <br> 0이면 좌우 대칭, 양수면 오른쪽으로 긴꼬리, 음수면 왼쪽으로 긴꼬리.\n",
    "* 첨도 kurtosis , 분포의 정도가 얼마나 중심에 집중해있는지, 분포의 중심의 뾰족한 정도 <br>정규분포에 비해, 0이면 동일, >0 더 뾰족, <0 납작\n",
    "\n",
    "왜도가 오른쪽 치우치고(-), 첨도가 작을수록(<0) 활발해 지고 변동성이 커짐"
   ]
  },
  {
   "cell_type": "markdown",
   "metadata": {
    "slideshow": {
     "slide_type": "slide"
    }
   },
   "source": [
    "# 분산과 표준편차\n",
    "* 관측값과 평균의 차이가 \"편차\" deviation\n",
    "* \"편차\" 제곱의 평균이 \"분산\" variance\n",
    "* \"분산\"의 제곱근이 \"표준편차\" standard deviation\n",
    "\n",
    "분산 variance 은 평균을 기준으로 자료들이 얼마나 퍼져 있는지를 재는 측도. (분산=편차 제곱값의 평균)\n",
    "왜 제곱을 쓰는가? 절대값을 얻기 위해.\n",
    "\n",
    "“표준편차”가 반이다. “표준편차”만 제대로 알아도 통계의 절반은 먹고 들어간다."
   ]
  },
  {
   "cell_type": "markdown",
   "metadata": {
    "slideshow": {
     "slide_type": "slide"
    }
   },
   "source": [
    "# 표준편차 standard deviation\n",
    "* 분산의 제곱근\n",
    "* '표준편차'를 대충 '평균적인 편차'라고 생각해도 무리 없다\n",
    "\n",
    "$$ \\sigma = \\sqrt{\\frac{1}{N} \\sum_{i=1}^N (x_i - \\mu)^2} $$\n",
    "\n",
    "엑셀에서는 STDEV.P(), STDEV.S() 함수"
   ]
  },
  {
   "cell_type": "markdown",
   "metadata": {
    "slideshow": {
     "slide_type": "slide"
    }
   },
   "source": [
    "# 표준편차의 중요성\n",
    "금융 통계에서 가장 중요한 것 딱 하나만 꼽으라면 <br>\n",
    "그것은 표준편차\n",
    "\n",
    "* 표준편차는 얼마나 울퉁불퉁한가를 표현.\n",
    "* 같은 점수라도 점수가 속한 그룹의 SD의 크기가 중요. 속한 그룹의 SD클 수록 잘한 것이다. <br>\n",
    "(편차/표준편차 값으로 과목 경쟁력을 비교할 수 있다)\n",
    "* 평균은 서열, SD는 성질을 표현 (모든 데이터에 a를 더하면 ?)"
   ]
  },
  {
   "cell_type": "markdown",
   "metadata": {
    "slideshow": {
     "slide_type": "slide"
    }
   },
   "source": [
    "# 수익률의 표준편차\n",
    "투자에서 수익률 뿐만 아니라 표준편차도 중요\n",
    "* “수익률이 SD의 1배 정도가 될 것이다”라는 생각이 가능\n",
    "* 수익률의 표준편차 = 주가 변동성 = 거래 리스크(위험지표)\n",
    "* 위험지표는 역으로 기회지표"
   ]
  },
  {
   "cell_type": "markdown",
   "metadata": {
    "slideshow": {
     "slide_type": "slide"
    }
   },
   "source": [
    "# 샤프지수\n",
    "Sharpe Ratio, 변동성(위험) 대비 펀드 수익률\n",
    "* 샤프 지수 = (수익률 - 국공체 수익률) / 수익률의 표준편차\n",
    "* 초과 수익 대비 수익률의 표준편차 <br>사프지수가 2이면 위험(SD) 1에 대해 은행이자 대비 2배의 수익이라는 의미\n",
    "* 높을 수록 좋다(2 이상이면 쓸만한 펀드). 즉, 같은 위험대비 수익율 안정적"
   ]
  },
  {
   "cell_type": "markdown",
   "metadata": {
    "slideshow": {
     "slide_type": "slide"
    }
   },
   "source": [
    "# Mahalanobis distance\n",
    "마할라노비스 거리, 평균과의 거리가 표준편차의 몇 배인지를 나타내는 값\n",
    "* 평균이 50, 표준편차가 3인 경우. 56 이란 값의 평균과 거리는 6이다. 마할라노비스 거리는 (56 -50) / 3 = 2. (즉, 표준편차의 2배 거리)\n",
    "* 어떤 값이 얼마나 일어나기 힘든 값인지, 또는 얼마나 이상한 값인지를 수치화 하는 방법\n",
    "* 어떤 데이터가 가짜 데이터인지, 아니면 진짜 데이터인지를 구분\n",
    "* 아주 특이한 데이터가 들어왔다면, 이 값을 제외하고 평균을 내는 것이 더 합리적일 수 있다"
   ]
  },
  {
   "cell_type": "markdown",
   "metadata": {
    "slideshow": {
     "slide_type": "slide"
    }
   },
   "source": [
    "# 요약\n",
    "* 데이터의 종류: 질적 qualitative data(=categorical) , 양적 quantitative data(=numerical)\n",
    "* 척도 scale : 명목 < 순서 < 구간 < 비율\n",
    "* 중심경향치 measure of central tendency (평균): 평균값, 중앙값, 최빈값\n",
    "* 산포도 measure of dispersion : 분산과 표준편차\n",
    "* 상대적 위치의 측도: 백분위수, 백분율 순위\n",
    "* 평균값: 산술, 기하, 조화, 가중\n",
    "* 일반 수익률 & 로그 수익률\n",
    "* 기본 통계량: 평균, 분산, 표준편차, 왜도/첨도"
   ]
  },
  {
   "cell_type": "markdown",
   "metadata": {
    "slideshow": {
     "slide_type": "notes"
    }
   },
   "source": [
    "----\n",
    "#### 2017 FinanceData http://fb.com/financedata http://financedata.github.com\n"
   ]
  }
 ],
 "metadata": {
  "celltoolbar": "Slideshow",
  "kernelspec": {
   "display_name": "Python 3",
   "language": "python",
   "name": "python3"
  },
  "language_info": {
   "codemirror_mode": {
    "name": "ipython",
    "version": 3
   },
   "file_extension": ".py",
   "mimetype": "text/x-python",
   "name": "python",
   "nbconvert_exporter": "python",
   "pygments_lexer": "ipython3",
   "version": "3.5.2"
  }
 },
 "nbformat": 4,
 "nbformat_minor": 1
}
