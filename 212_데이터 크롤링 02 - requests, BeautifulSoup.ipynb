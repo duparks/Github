{
 "cells": [
  {
   "cell_type": "markdown",
   "metadata": {
    "slideshow": {
     "slide_type": "slide"
    }
   },
   "source": [
    "# 데이터 크롤링 02 - requests, BeautifulSoup\n",
    "* 구글 카운터 - requests, BeautifulSoup\n",
    "* 네이버 파이낸스 기업현황\n",
    "\n",
    "<img width=\"300\" src=\"http://i.imgur.com/grQHNKG.jpg\">\n",
    "\n",
    "#### 2017 FinanceData http://fb.com/financedata"
   ]
  },
  {
   "cell_type": "markdown",
   "metadata": {
    "slideshow": {
     "slide_type": "slide"
    }
   },
   "source": [
    "# 구글 카운터\n",
    "* 특정 태그의 text 가져오기\n",
    "\n",
    "<img src=\"http://i.imgur.com/cWezq4x.png\" >\n"
   ]
  },
  {
   "cell_type": "code",
   "execution_count": 3,
   "metadata": {
    "slideshow": {
     "slide_type": "-"
    }
   },
   "outputs": [
    {
     "name": "stdout",
     "output_type": "stream",
     "text": [
      "검색결과 약 30,900,000개\n"
     ]
    }
   ],
   "source": [
    "import requests\n",
    "from bs4 import BeautifulSoup\n",
    "\n",
    "r = requests.get(\"https://www.google.co.kr/search?q=삼성전자\")\n",
    "\n",
    "soup = BeautifulSoup(r.content, 'lxml')\n",
    "res_stat = soup.find(id='resultStats').text\n",
    "\n",
    "print (res_stat)"
   ]
  },
  {
   "cell_type": "markdown",
   "metadata": {
    "slideshow": {
     "slide_type": "slide"
    }
   },
   "source": [
    "# 네이버 파이낸스 기업현황\n",
    "\n",
    "http://companyinfo.stock.naver.com/v1/company/c1010001.aspx?cmp_cd=005930\n",
    "\n",
    "<img src=\"http://i.imgur.com/aWBN6PR.png\" >\n"
   ]
  },
  {
   "cell_type": "code",
   "execution_count": 4,
   "metadata": {
    "slideshow": {
     "slide_type": "slide"
    }
   },
   "outputs": [
    {
     "data": {
      "text/plain": [
       "<td class=\"cmp-table-cell td0101\">\n",
       "<dl>\n",
       "<dt>\n",
       "<span class=\"name\">삼성전자</span>\n",
       "<a class=\"cEm\" href=\"http://www.samsung.com/sec\" target=\"comPage\" title=\"[홈페이지] www.samsung.com/sec\"><img align=\"absmiddle\" hspace=\"3\" src=\"/images/icon_home.gif\"/></a>\n",
       "<a class=\"cEm\" title=\"[대표전화] 031-200-1114       \n",
       "[주식담당] 02-2255-8126\"><img align=\"absmiddle\" hspace=\"1\" src=\"/images/icon_tel.gif\"/></a>\n",
       "<b class=\"num\">005930</b>\n",
       "</dt>\n",
       "<dt class=\"line-left\">Samsung Electronics</dt>\n",
       "<dt class=\"line-left\">KOSPI : 전기전자</dt>\n",
       "<dt class=\"line-left\">WICS : 반도체와반도체장비</dt>\n",
       "</dl>\n",
       "</td>"
      ]
     },
     "execution_count": 4,
     "metadata": {},
     "output_type": "execute_result"
    }
   ],
   "source": [
    "code = '005930'\n",
    "url = 'http://companyinfo.stock.naver.com/v1/company/c1010001.aspx?cmp_cd=' + code\n",
    "\n",
    "r = requests.get(url)\n",
    "soup = BeautifulSoup(r.text,\"lxml\")\n",
    "td = soup.find('td', {'class':'cmp-table-cell td0101'})\n",
    "td"
   ]
  },
  {
   "cell_type": "code",
   "execution_count": 5,
   "metadata": {
    "slideshow": {
     "slide_type": "-"
    }
   },
   "outputs": [
    {
     "data": {
      "text/plain": [
       "'삼성전자'"
      ]
     },
     "execution_count": 5,
     "metadata": {},
     "output_type": "execute_result"
    }
   ],
   "source": [
    "td.find('span', {'class':'name'}).text"
   ]
  },
  {
   "cell_type": "code",
   "execution_count": 6,
   "metadata": {
    "slideshow": {
     "slide_type": "-"
    }
   },
   "outputs": [
    {
     "name": "stdout",
     "output_type": "stream",
     "text": [
      "http://www.samsung.com/sec\n",
      "[대표전화] 031-200-1114       \r",
      "[주식담당] 02-2255-8126\n"
     ]
    }
   ],
   "source": [
    "anchors = td.find_all('a', {'class':'cEm'})\n",
    "\n",
    "print(anchors[0]['href'])\n",
    "print(anchors[1]['title'])"
   ]
  },
  {
   "cell_type": "code",
   "execution_count": 7,
   "metadata": {
    "slideshow": {
     "slide_type": "-"
    }
   },
   "outputs": [
    {
     "name": "stdout",
     "output_type": "stream",
     "text": [
      "Samsung Electronics\n",
      "KOSPI : 전기전자\n",
      "WICS : 반도체와반도체장비\n"
     ]
    }
   ],
   "source": [
    "dts = td.find_all('dt', {'class':'line-left'})\n",
    "\n",
    "print(dts[0].text)\n",
    "print(dts[1].text)\n",
    "print(dts[2].text)"
   ]
  },
  {
   "cell_type": "markdown",
   "metadata": {
    "collapsed": true,
    "slideshow": {
     "slide_type": "slide"
    }
   },
   "source": [
    "----\n",
    "#### 2017 FinanceData http://fb.com/financedata http://financedata.github.com"
   ]
  }
 ],
 "metadata": {
  "celltoolbar": "Slideshow",
  "kernelspec": {
   "display_name": "Python 3",
   "language": "python",
   "name": "python3"
  },
  "language_info": {
   "codemirror_mode": {
    "name": "ipython",
    "version": 3
   },
   "file_extension": ".py",
   "mimetype": "text/x-python",
   "name": "python",
   "nbconvert_exporter": "python",
   "pygments_lexer": "ipython3",
   "version": "3.5.2"
  }
 },
 "nbformat": 4,
 "nbformat_minor": 2
}
