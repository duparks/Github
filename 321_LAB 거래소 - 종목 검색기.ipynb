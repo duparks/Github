{
 "cells": [
  {
   "cell_type": "markdown",
   "metadata": {
    "slideshow": {
     "slide_type": "slide"
    }
   },
   "source": [
    "### 마켓 데이터 크롤링\n",
    "# LAB 종목 검색기\n",
    "\n",
    "<img src=\"http://i.imgur.com/grQHNKG.jpg\">\n",
    "\n",
    "#### 2017 FinanceData http://fb.com/financedata"
   ]
  },
  {
   "cell_type": "markdown",
   "metadata": {
    "slideshow": {
     "slide_type": "slide"
    }
   },
   "source": [
    "# 주식종목검색기\n",
    "주식 >> 종목정보 >> 기업개요 (개별 종목을 지정하는 메뉴는 모두 가능)\n",
    "<img src=\"https://i.imgur.com/6zdCupL.png\" >\n"
   ]
  },
  {
   "cell_type": "markdown",
   "metadata": {
    "slideshow": {
     "slide_type": "slide"
    }
   },
   "source": [
    "<img src=\"https://i.imgur.com/9bFL9dZ.png\" >"
   ]
  },
  {
   "cell_type": "markdown",
   "metadata": {
    "slideshow": {
     "slide_type": "slide"
    }
   },
   "source": [
    "# STEP 01"
   ]
  },
  {
   "cell_type": "code",
   "execution_count": 9,
   "metadata": {
    "slideshow": {
     "slide_type": "-"
    }
   },
   "outputs": [
    {
     "data": {
      "text/plain": [
       "1509337487.0140061"
      ]
     },
     "execution_count": 9,
     "metadata": {},
     "output_type": "execute_result"
    }
   ],
   "source": [
    "# 시간값 얻기\n",
    "import time\n",
    "\n",
    "t = time.time()\n",
    "t"
   ]
  },
  {
   "cell_type": "code",
   "execution_count": 10,
   "metadata": {
    "slideshow": {
     "slide_type": "-"
    }
   },
   "outputs": [
    {
     "data": {
      "text/plain": [
       "b'x69eY9cmoR1yP3+VG2llTh1ZbmSGK8ToJB0o8U08W7bXd22ymsrgRPcV7jYUyFMMkFyXJ5dlH2QB6IjAPtgCOaVgBcOglFaThPZjwfxF/16GDjQ2S7pVy0mOF7gwJBjGXKUSLRu8ghcehocMCstopw=='"
      ]
     },
     "execution_count": 10,
     "metadata": {},
     "output_type": "execute_result"
    }
   ],
   "source": [
    "import time\n",
    "import requests\n",
    "\n",
    "t = time.time() * 1000\n",
    "url = 'http://marketdata.krx.co.kr/contents/COM/GenerateOTP.jspx?bld=COM%2Ffinder_stkisu&name=form&_=' + str(t)\n",
    "r = requests.get(url)\n",
    "r.content"
   ]
  },
  {
   "cell_type": "markdown",
   "metadata": {
    "slideshow": {
     "slide_type": "slide"
    }
   },
   "source": [
    "# STEP 02"
   ]
  },
  {
   "cell_type": "code",
   "execution_count": 3,
   "metadata": {
    "slideshow": {
     "slide_type": "-"
    }
   },
   "outputs": [
    {
     "data": {
      "text/plain": [
       "'{\"block1\":[{\"full_code\":\"KR7060310000\",\"short_code\":\"A060310\",\"codeName\":\"3S\",\"marketName\":\"KOSDAQ\"},{\"full_code\":\"KR7095570008\",\"short_code\":\"A095570\",\"codeName\":\"AJ네트웍스\",\"marketName\":\"KOSPI\"},{\"full_code\":\"KR7068400001\",\"short_code\":\"A068400\",\"codeName\":\"AJ렌터카\",\"marketName\":\"KOSPI\"},{\"full_code\":\"KR7006840003\",\"short_code\":\"A006840\",\"codeName\":\"AK홀딩스\",\"marketName\":\"KOSPI\"},{\"full_code\":\"KR7054620000\",\"short_code\":\"A054620\",\"codeName\":\"APS홀딩스\",\"marketName\":\"KOSDAQ\"},{\"full_code\":\"KR7265520007\",\"short_code\":\"A265520\",\"codeName\":\"AP시스템\",\"marketName\":\"KOSDAQ\"},{\"full_code\":\"KR7211270004\",\"short_code\":\"A211270\",\"codeName\":\"AP위성\",\"marketName\":\"KOSDAQ\"},{\"full_code\":\"KR7027410000\",\"short_code\":\"A027410\",\"codeName\":\"BGF리테일\",\"marketName\":\"KOSPI\"},{\"full_code\":\"KR7138930003\",\"short_code\":\"A138930\",\"codeName\":\"BNK금융지주\",\"marketName\":\"KOSPI\"},{\"full_code\":\"KR7001460005\",\"short_code\":\"A001460\",\"codeName\":\"BYC\",\"marketName\":\"KOSPI\"},{\"full_code\":\"KR7001461003\",\"short_code\":\"A001465\",\"codeName\":\"BYC'"
      ]
     },
     "execution_count": 3,
     "metadata": {},
     "output_type": "execute_result"
    }
   ],
   "source": [
    "down_url = 'http://marketdata.krx.co.kr/contents/MKD/99/MKD99000001.jspx'\n",
    "down_data = {\n",
    "    'isuCd':'',\n",
    "    'no':'P1',\n",
    "    'mktsel':'ALL',\n",
    "    'searchText':'',\n",
    "    'pagePath':'/contents/COM/FinderStkIsu.jsp',\n",
    "    'code': r.content,\n",
    "    'geFirstCall':'Y',\n",
    "}\n",
    "r = requests.post(down_url, down_data)\n",
    "r.text[:1000]"
   ]
  },
  {
   "cell_type": "code",
   "execution_count": 4,
   "metadata": {
    "slideshow": {
     "slide_type": "slide"
    }
   },
   "outputs": [
    {
     "data": {
      "text/plain": [
       "[{'codeName': '3S',\n",
       "  'full_code': 'KR7060310000',\n",
       "  'marketName': 'KOSDAQ',\n",
       "  'short_code': 'A060310'},\n",
       " {'codeName': 'AJ네트웍스',\n",
       "  'full_code': 'KR7095570008',\n",
       "  'marketName': 'KOSPI',\n",
       "  'short_code': 'A095570'},\n",
       " {'codeName': 'AJ렌터카',\n",
       "  'full_code': 'KR7068400001',\n",
       "  'marketName': 'KOSPI',\n",
       "  'short_code': 'A068400'},\n",
       " {'codeName': 'AK홀딩스',\n",
       "  'full_code': 'KR7006840003',\n",
       "  'marketName': 'KOSPI',\n",
       "  'short_code': 'A006840'},\n",
       " {'codeName': 'APS홀딩스',\n",
       "  'full_code': 'KR7054620000',\n",
       "  'marketName': 'KOSDAQ',\n",
       "  'short_code': 'A054620'}]"
      ]
     },
     "execution_count": 4,
     "metadata": {},
     "output_type": "execute_result"
    }
   ],
   "source": [
    "import json\n",
    "\n",
    "jo = json.loads(r.text)\n",
    "jo['block1'][:5]"
   ]
  },
  {
   "cell_type": "code",
   "execution_count": 5,
   "metadata": {
    "slideshow": {
     "slide_type": "slide"
    }
   },
   "outputs": [
    {
     "name": "stdout",
     "output_type": "stream",
     "text": [
      "3S KR7060310000 KOSDAQ A060310\n",
      "AJ네트웍스 KR7095570008 KOSPI A095570\n",
      "AJ렌터카 KR7068400001 KOSPI A068400\n",
      "AK홀딩스 KR7006840003 KOSPI A006840\n",
      "APS홀딩스 KR7054620000 KOSDAQ A054620\n",
      "AP시스템 KR7265520007 KOSDAQ A265520\n",
      "AP위성 KR7211270004 KOSDAQ A211270\n",
      "BGF리테일 KR7027410000 KOSPI A027410\n",
      "BNK금융지주 KR7138930003 KOSPI A138930\n",
      "BYC KR7001460005 KOSPI A001460\n"
     ]
    }
   ],
   "source": [
    "for r in jo['block1'][:10]:\n",
    "    print(r['codeName'], r['full_code'], r['marketName'], r['short_code'] )"
   ]
  },
  {
   "cell_type": "markdown",
   "metadata": {
    "slideshow": {
     "slide_type": "slide"
    }
   },
   "source": [
    "# 함수로 정리"
   ]
  },
  {
   "cell_type": "code",
   "execution_count": 6,
   "metadata": {
    "slideshow": {
     "slide_type": "-"
    }
   },
   "outputs": [],
   "source": [
    "import json\n",
    "import time\n",
    "import requests\n",
    "from pandas.io.json import json_normalize\n",
    "\n",
    "def 주식종목검색기():\n",
    "    url_tmpl = 'http://marketdata.krx.co.kr/contents/COM/GenerateOTP.jspx?bld=COM%2Ffinder_stkisu&name=form&_={}' \n",
    "    url = url_tmpl.format( int(time.time() * 1000) )\n",
    "    r = requests.get(url)\n",
    "\n",
    "    down_url = 'http://marketdata.krx.co.kr/contents/MKD/99/MKD99000001.jspx'\n",
    "    down_data = {\n",
    "        'mktsel':'ALL',\n",
    "        'pagePath':'/contents/COM/FinderStkIsu.jsp',\n",
    "        'code': r.content,\n",
    "        'geFirstCall':'Y',\n",
    "    }\n",
    "    r = requests.post(down_url, down_data)\n",
    "    jo = json.loads(r.text)\n",
    "    return json_normalize(jo, 'block1')"
   ]
  },
  {
   "cell_type": "code",
   "execution_count": 7,
   "metadata": {
    "slideshow": {
     "slide_type": "-"
    }
   },
   "outputs": [
    {
     "name": "stdout",
     "output_type": "stream",
     "text": [
      "2315\n"
     ]
    },
    {
     "data": {
      "text/html": [
       "<div>\n",
       "<style>\n",
       "    .dataframe thead tr:only-child th {\n",
       "        text-align: right;\n",
       "    }\n",
       "\n",
       "    .dataframe thead th {\n",
       "        text-align: left;\n",
       "    }\n",
       "\n",
       "    .dataframe tbody tr th {\n",
       "        vertical-align: top;\n",
       "    }\n",
       "</style>\n",
       "<table border=\"1\" class=\"dataframe\">\n",
       "  <thead>\n",
       "    <tr style=\"text-align: right;\">\n",
       "      <th></th>\n",
       "      <th>codeName</th>\n",
       "      <th>full_code</th>\n",
       "      <th>marketName</th>\n",
       "      <th>short_code</th>\n",
       "    </tr>\n",
       "  </thead>\n",
       "  <tbody>\n",
       "    <tr>\n",
       "      <th>0</th>\n",
       "      <td>3S</td>\n",
       "      <td>KR7060310000</td>\n",
       "      <td>KOSDAQ</td>\n",
       "      <td>A060310</td>\n",
       "    </tr>\n",
       "    <tr>\n",
       "      <th>1</th>\n",
       "      <td>AJ네트웍스</td>\n",
       "      <td>KR7095570008</td>\n",
       "      <td>KOSPI</td>\n",
       "      <td>A095570</td>\n",
       "    </tr>\n",
       "    <tr>\n",
       "      <th>2</th>\n",
       "      <td>AJ렌터카</td>\n",
       "      <td>KR7068400001</td>\n",
       "      <td>KOSPI</td>\n",
       "      <td>A068400</td>\n",
       "    </tr>\n",
       "    <tr>\n",
       "      <th>3</th>\n",
       "      <td>AK홀딩스</td>\n",
       "      <td>KR7006840003</td>\n",
       "      <td>KOSPI</td>\n",
       "      <td>A006840</td>\n",
       "    </tr>\n",
       "    <tr>\n",
       "      <th>4</th>\n",
       "      <td>APS홀딩스</td>\n",
       "      <td>KR7054620000</td>\n",
       "      <td>KOSDAQ</td>\n",
       "      <td>A054620</td>\n",
       "    </tr>\n",
       "  </tbody>\n",
       "</table>\n",
       "</div>"
      ],
      "text/plain": [
       "  codeName     full_code marketName short_code\n",
       "0       3S  KR7060310000     KOSDAQ    A060310\n",
       "1   AJ네트웍스  KR7095570008      KOSPI    A095570\n",
       "2    AJ렌터카  KR7068400001      KOSPI    A068400\n",
       "3    AK홀딩스  KR7006840003      KOSPI    A006840\n",
       "4   APS홀딩스  KR7054620000     KOSDAQ    A054620"
      ]
     },
     "execution_count": 7,
     "metadata": {},
     "output_type": "execute_result"
    }
   ],
   "source": [
    "주식종목 = 주식종목검색기()\n",
    "print(len(주식종목))\n",
    "\n",
    "주식종목[:5]"
   ]
  },
  {
   "cell_type": "markdown",
   "metadata": {
    "slideshow": {
     "slide_type": "slide"
    }
   },
   "source": [
    "# 함수 사용예"
   ]
  },
  {
   "cell_type": "code",
   "execution_count": 8,
   "metadata": {
    "slideshow": {
     "slide_type": "-"
    }
   },
   "outputs": [
    {
     "name": "stdout",
     "output_type": "stream",
     "text": [
      "3S KR7060310000\n",
      "AJ네트웍스 KR7095570008\n",
      "AJ렌터카 KR7068400001\n",
      "AK홀딩스 KR7006840003\n",
      "APS홀딩스 KR7054620000\n",
      "AP시스템 KR7265520007\n",
      "AP위성 KR7211270004\n",
      "BGF리테일 KR7027410000\n",
      "BNK금융지주 KR7138930003\n",
      "BYC KR7001460005\n"
     ]
    }
   ],
   "source": [
    "df = 주식종목검색기()\n",
    "\n",
    "for ix, row in df[:10].iterrows():\n",
    "    print(row['codeName'], row['full_code'])\n",
    "    # 종목별 분석 작업"
   ]
  },
  {
   "cell_type": "markdown",
   "metadata": {
    "slideshow": {
     "slide_type": "notes"
    }
   },
   "source": [
    "----\n",
    "#### 2017 FinanceData http://fb.com/financedata http://financedata.github.com"
   ]
  }
 ],
 "metadata": {
  "celltoolbar": "Slideshow",
  "kernelspec": {
   "display_name": "Python 3",
   "language": "python",
   "name": "python3"
  },
  "language_info": {
   "codemirror_mode": {
    "name": "ipython",
    "version": 3
   },
   "file_extension": ".py",
   "mimetype": "text/x-python",
   "name": "python",
   "nbconvert_exporter": "python",
   "pygments_lexer": "ipython3",
   "version": "3.5.2"
  }
 },
 "nbformat": 4,
 "nbformat_minor": 1
}
