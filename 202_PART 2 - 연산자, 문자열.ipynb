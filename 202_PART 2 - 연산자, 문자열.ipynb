{
 "cells": [
  {
   "cell_type": "markdown",
   "metadata": {
    "slideshow": {
     "slide_type": "slide"
    }
   },
   "source": [
    "# Python Basics for Data Science - PART 2\n",
    "(파이낸스 데이터 분석을 위한 파이썬 언어 기본)\n",
    "\n",
    "### 연산자, 문자열\n",
    "\n",
    "<img width=\"300\" src=\"http://i.imgur.com/tHmNhjm.png\" >\n",
    "\n",
    "\n",
    "#### 2018 FinanceData.KR http://financedata.kr\n",
    "<!-- TEASER_END -->"
   ]
  },
  {
   "cell_type": "markdown",
   "metadata": {
    "slideshow": {
     "slide_type": "slide"
    }
   },
   "source": [
    "# 산술 연산자\n",
    "산술 연산자(arithmetic operator)는 사칙연산, 나머지, 제곱 등의 연산을 수행한다.\n",
    "\n",
    "* +, -, \\*, / (사칙연산)\n",
    "* % (나머지)\n",
    "* // (정수 나눗셈)\n",
    "* \\*\\* (제곱) "
   ]
  },
  {
   "cell_type": "code",
   "execution_count": 1,
   "metadata": {
    "slideshow": {
     "slide_type": "-"
    }
   },
   "outputs": [
    {
     "data": {
      "text/plain": [
       "(19, 11, 60, 3.75)"
      ]
     },
     "execution_count": 1,
     "metadata": {},
     "output_type": "execute_result"
    }
   ],
   "source": [
    "a = 15\n",
    "b = 4\n",
    "\n",
    "a + b, a - b, a * b, a / b"
   ]
  },
  {
   "cell_type": "code",
   "execution_count": 2,
   "metadata": {
    "slideshow": {
     "slide_type": "-"
    }
   },
   "outputs": [
    {
     "data": {
      "text/plain": [
       "3"
      ]
     },
     "execution_count": 2,
     "metadata": {},
     "output_type": "execute_result"
    }
   ],
   "source": [
    "# a를 b로 나눈 나머지\n",
    "\n",
    "a % b"
   ]
  },
  {
   "cell_type": "code",
   "execution_count": 3,
   "metadata": {
    "slideshow": {
     "slide_type": "-"
    }
   },
   "outputs": [
    {
     "data": {
      "text/plain": [
       "3.0"
      ]
     },
     "execution_count": 3,
     "metadata": {},
     "output_type": "execute_result"
    }
   ],
   "source": [
    "10.5 // 3.5"
   ]
  },
  {
   "cell_type": "code",
   "execution_count": 4,
   "metadata": {
    "slideshow": {
     "slide_type": "-"
    }
   },
   "outputs": [
    {
     "data": {
      "text/plain": [
       "1024"
      ]
     },
     "execution_count": 4,
     "metadata": {},
     "output_type": "execute_result"
    }
   ],
   "source": [
    "2 ** 10"
   ]
  },
  {
   "cell_type": "markdown",
   "metadata": {
    "slideshow": {
     "slide_type": "slide"
    }
   },
   "source": [
    "# 비교 연산자\n",
    "비교 연산자 (Comparison operators)는 두 대상의 대소비교 혹은 같은지 여부를 비교한다. 연산의 결과는 항상 True 혹은 False 이다\n",
    "\n",
    "*  `>` (크다), `<` (작다), `>=` (크거나 같다), `<=` (작거나 같다)\n",
    "*  `!=` (다르다), `==` (같은 값인가), `is` (같은 객체인가)"
   ]
  },
  {
   "cell_type": "code",
   "execution_count": 5,
   "metadata": {
    "slideshow": {
     "slide_type": "-"
    }
   },
   "outputs": [
    {
     "data": {
      "text/plain": [
       "False"
      ]
     },
     "execution_count": 5,
     "metadata": {},
     "output_type": "execute_result"
    }
   ],
   "source": [
    "1 > 2"
   ]
  },
  {
   "cell_type": "code",
   "execution_count": 6,
   "metadata": {
    "slideshow": {
     "slide_type": "-"
    }
   },
   "outputs": [
    {
     "name": "stdout",
     "output_type": "stream",
     "text": [
      "True\n",
      "False\n",
      "True\n"
     ]
    }
   ],
   "source": [
    "print( 10 > 3 )\n",
    "print( 20 != 20 )\n",
    "print( 17 < (118 %100) )"
   ]
  },
  {
   "cell_type": "markdown",
   "metadata": {
    "slideshow": {
     "slide_type": "slide"
    }
   },
   "source": [
    "`==` 연산자는 값을 비교, `is` 연산자 동일한 객체인지 비교한다."
   ]
  },
  {
   "cell_type": "code",
   "execution_count": 7,
   "metadata": {
    "slideshow": {
     "slide_type": "-"
    }
   },
   "outputs": [
    {
     "name": "stdout",
     "output_type": "stream",
     "text": [
      "True\n",
      "False\n"
     ]
    }
   ],
   "source": [
    "print( [10, 20] == [10, 20] )\n",
    "print( [10, 20] is [10, 20] )"
   ]
  },
  {
   "cell_type": "markdown",
   "metadata": {
    "slideshow": {
     "slide_type": "slide"
    }
   },
   "source": [
    "# 부울 연산자\n",
    "부울 연산자 (boolean operator 혹은 논리 연산)는 and, or, not 연산을 수행한다. 결과는 항상 True 혹은 False 이다.\n",
    "\n",
    "* and, or, not"
   ]
  },
  {
   "cell_type": "code",
   "execution_count": 8,
   "metadata": {
    "slideshow": {
     "slide_type": "-"
    }
   },
   "outputs": [
    {
     "data": {
      "text/plain": [
       "False"
      ]
     },
     "execution_count": 8,
     "metadata": {},
     "output_type": "execute_result"
    }
   ],
   "source": [
    "True and False"
   ]
  },
  {
   "cell_type": "code",
   "execution_count": 9,
   "metadata": {
    "slideshow": {
     "slide_type": "-"
    }
   },
   "outputs": [
    {
     "data": {
      "text/plain": [
       "True"
      ]
     },
     "execution_count": 9,
     "metadata": {},
     "output_type": "execute_result"
    }
   ],
   "source": [
    "not False"
   ]
  },
  {
   "cell_type": "code",
   "execution_count": 10,
   "metadata": {
    "slideshow": {
     "slide_type": "-"
    }
   },
   "outputs": [
    {
     "data": {
      "text/plain": [
       "True"
      ]
     },
     "execution_count": 10,
     "metadata": {},
     "output_type": "execute_result"
    }
   ],
   "source": [
    "30 > 20"
   ]
  },
  {
   "cell_type": "markdown",
   "metadata": {
    "slideshow": {
     "slide_type": "slide"
    }
   },
   "source": [
    "# 문자열\n",
    "작은 따옴표(' single quote) 혹은 큰 따옴표(\" double quote)로 표현"
   ]
  },
  {
   "cell_type": "code",
   "execution_count": 11,
   "metadata": {
    "slideshow": {
     "slide_type": "-"
    }
   },
   "outputs": [
    {
     "data": {
      "text/plain": [
       "str"
      ]
     },
     "execution_count": 11,
     "metadata": {},
     "output_type": "execute_result"
    }
   ],
   "source": [
    "s = 'Hello, Python!'\n",
    "type(s)"
   ]
  },
  {
   "cell_type": "code",
   "execution_count": 12,
   "metadata": {
    "slideshow": {
     "slide_type": "-"
    }
   },
   "outputs": [
    {
     "name": "stdout",
     "output_type": "stream",
     "text": [
      "Hello, 'Python'!\n",
      "Hello, \"Python\"!\n"
     ]
    }
   ],
   "source": [
    "print(\"Hello, 'Python'!\")\n",
    "print('Hello, \"Python\"!')"
   ]
  },
  {
   "cell_type": "markdown",
   "metadata": {
    "slideshow": {
     "slide_type": "slide"
    }
   },
   "source": [
    "탭 문자(\\t), 리턴 문자(\\n) 등 타이핑해서 입력할 수 없는 특수 문자들을 역슬래시(\\\\)문자와 함께 표시하여 사용할 수 있다. 이를 이스케이프 문자열(escape sequence)라고 한다."
   ]
  },
  {
   "cell_type": "code",
   "execution_count": 13,
   "metadata": {
    "slideshow": {
     "slide_type": "-"
    }
   },
   "outputs": [
    {
     "name": "stdout",
     "output_type": "stream",
     "text": [
      "Hello, \n",
      "Python!\n"
     ]
    }
   ],
   "source": [
    "# new line(\\n) 문자\n",
    "s = \"Hello, \\nPython!\"\n",
    "print(s)"
   ]
  },
  {
   "cell_type": "code",
   "execution_count": 14,
   "metadata": {
    "slideshow": {
     "slide_type": "slide"
    }
   },
   "outputs": [
    {
     "name": "stdout",
     "output_type": "stream",
     "text": [
      "Hello, World\n",
      "Hello, World\n"
     ]
    }
   ],
   "source": [
    "# 문자열 연결(덧셈)\n",
    "s = \"Hello\" + \", World\"\n",
    "print(s)\n",
    "\n",
    "s = \"Hello\"\n",
    "s += \", World\"\n",
    "print(s)"
   ]
  },
  {
   "cell_type": "code",
   "execution_count": 15,
   "metadata": {
    "slideshow": {
     "slide_type": "-"
    }
   },
   "outputs": [
    {
     "data": {
      "text/plain": [
       "14"
      ]
     },
     "execution_count": 15,
     "metadata": {},
     "output_type": "execute_result"
    }
   ],
   "source": [
    "# 문자열의 길이\n",
    "\n",
    "s = \"Hello, Python!\"\n",
    "len(s)"
   ]
  },
  {
   "cell_type": "code",
   "execution_count": 16,
   "metadata": {
    "slideshow": {
     "slide_type": "-"
    }
   },
   "outputs": [
    {
     "data": {
      "text/plain": [
       "True"
      ]
     },
     "execution_count": 16,
     "metadata": {},
     "output_type": "execute_result"
    }
   ],
   "source": [
    "# in: 문자열에 문자열 포함여부 테스트\n",
    "\n",
    "'파이썬' in '인생은 짧아요, 파이썬 쓰세요'"
   ]
  },
  {
   "cell_type": "code",
   "execution_count": 17,
   "metadata": {
    "slideshow": {
     "slide_type": "-"
    }
   },
   "outputs": [
    {
     "data": {
      "text/plain": [
       "['인', '생', '은', ' ', '짧', '아', '요']"
      ]
     },
     "execution_count": 17,
     "metadata": {},
     "output_type": "execute_result"
    }
   ],
   "source": [
    "# list(str) : 문자열을 리스트로 변환\n",
    "\n",
    "list('인생은 짧아요')"
   ]
  },
  {
   "cell_type": "markdown",
   "metadata": {
    "slideshow": {
     "slide_type": "slide"
    }
   },
   "source": [
    "# 문자열 슬라이스\n",
    "s[m:n] 표현은 s에서 [m~n) 범위를 추출\n",
    "\n",
    "* 문자열중의 부분을 지정하기 위해 s[인덱스] 형식으로 사용할 수 있으며, \"인덱스\"는 0부터 시작한다.\n",
    "* s[시작:끝]으로 문자열을 잘라(slice)낼 수 있다. \"끝\"은 포함되지 않는다.\n",
    "* s[시작:끝] 형식을 사용할 때 시작, 끝을 지정하지 않을 수도 있다. \"시작\"을 지정하지 않으면 '처음부터', \"끝\"을 지정하지 않으면 '끝까지'라는 의미가 된다."
   ]
  },
  {
   "cell_type": "code",
   "execution_count": 18,
   "metadata": {
    "slideshow": {
     "slide_type": "-"
    }
   },
   "outputs": [
    {
     "name": "stdout",
     "output_type": "stream",
     "text": [
      "H\n",
      "o\n",
      "Hello, Python!\n",
      "Hello\n",
      "Py\n",
      "!\n",
      "thon\n"
     ]
    }
   ],
   "source": [
    "s = \"Hello, Python!\"\n",
    "\n",
    "print(s[0])\n",
    "print(s[4])\n",
    "print(s[:])\n",
    "print(s[0:5])\n",
    "print(s[7:9])\n",
    "print(s[-1])\n",
    "print(s[-5:-1])"
   ]
  },
  {
   "cell_type": "markdown",
   "metadata": {
    "slideshow": {
     "slide_type": "slide"
    }
   },
   "source": [
    "# 문자열 자르기와 바꾸기\n",
    "\n",
    "* s.split() 함수는 문자열s 를 공백 문자를 기준으로 잘라 그 결과를 리스트로 반환한다.\n",
    "* s.replace(현재문자열, 대체문자열) 함수는 문자열 s에 있는 '현재문자열'을 '대체문자열'로 바꾼다."
   ]
  },
  {
   "cell_type": "code",
   "execution_count": 19,
   "metadata": {
    "slideshow": {
     "slide_type": "-"
    }
   },
   "outputs": [
    {
     "data": {
      "text/plain": [
       "['화학', '출판', '전기제품', '제약', '은행']"
      ]
     },
     "execution_count": 19,
     "metadata": {},
     "output_type": "execute_result"
    }
   ],
   "source": [
    "# 문자열 분리(split)\n",
    "s = \"화학,출판,전기제품,제약,은행\"\n",
    "s.split(',')"
   ]
  },
  {
   "cell_type": "code",
   "execution_count": 20,
   "metadata": {
    "slideshow": {
     "slide_type": "-"
    }
   },
   "outputs": [
    {
     "data": {
      "text/plain": [
       "'화학|출판|전기제품|제약|은행'"
      ]
     },
     "execution_count": 20,
     "metadata": {},
     "output_type": "execute_result"
    }
   ],
   "source": [
    "# 문자열 합치기 (join)\n",
    "\n",
    "sectors = ['화학', '출판', '전기제품', '제약', '은행']\n",
    "\"|\".join(sectors)"
   ]
  },
  {
   "cell_type": "code",
   "execution_count": 21,
   "metadata": {
    "slideshow": {
     "slide_type": "slide"
    }
   },
   "outputs": [
    {
     "data": {
      "text/plain": [
       "'Hello, World!'"
      ]
     },
     "execution_count": 21,
     "metadata": {},
     "output_type": "execute_result"
    }
   ],
   "source": [
    "# 문자열 대체 (replace)\n",
    "s = \"Hello, Python!\"\n",
    "w = s.replace('Python', 'World')\n",
    "w"
   ]
  },
  {
   "cell_type": "code",
   "execution_count": 22,
   "metadata": {
    "slideshow": {
     "slide_type": "slide"
    }
   },
   "outputs": [
    {
     "name": "stdout",
     "output_type": "stream",
     "text": [
      "<img width=\"300\" src=\"http://i.imgur.com/tHmNhjm.png\">\n"
     ]
    }
   ],
   "source": [
    "s = '&lt;img width=&quot;300&quot; src=&quot;http://i.imgur.com/tHmNhjm.png&quot;&gt;'\n",
    "print( s.replace('&lt;', '<').replace('&gt;', '>').replace('&quot;', '\"') )"
   ]
  },
  {
   "cell_type": "markdown",
   "metadata": {
    "slideshow": {
     "slide_type": "slide"
    }
   },
   "source": [
    "# 리뷰\n",
    "* 산술 연산자: +, -, *, /, %, //, **\n",
    "* 비교 연산자: >, <, >=, <=, !=, == (같은 값인가), is (같은 객체인가)\n",
    "* 부울 연산자: and, or, not\n",
    "* 문자열 슬라이스 str[n:m]\n",
    "* 문자열 자르기, 바꾸기"
   ]
  },
  {
   "cell_type": "markdown",
   "metadata": {
    "slideshow": {
     "slide_type": "notes"
    }
   },
   "source": [
    "----\n",
    "#### 2017 FinanceData.KR http://fb.com/financedata"
   ]
  }
 ],
 "metadata": {
  "celltoolbar": "Slideshow",
  "kernelspec": {
   "display_name": "Python 3",
   "language": "python",
   "name": "python3"
  },
  "language_info": {
   "codemirror_mode": {
    "name": "ipython",
    "version": 3
   },
   "file_extension": ".py",
   "mimetype": "text/x-python",
   "name": "python",
   "nbconvert_exporter": "python",
   "pygments_lexer": "ipython3",
   "version": "3.5.2"
  },
  "nikola": {
   "category": "dev",
   "date": "2017-06-16 05:45:10 UTC+09:00",
   "description": "연산자, 문자열, 흐름 제어(if, for, while)",
   "link": "",
   "slug": "python-basics-part-2",
   "tags": "python, basic,operator,flow control,for,if",
   "title": "Python Basics for Data Science - PART 2",
   "type": "text"
  }
 },
 "nbformat": 4,
 "nbformat_minor": 2
}
