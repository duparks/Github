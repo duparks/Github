{
 "cells": [
  {
   "cell_type": "markdown",
   "metadata": {
    "slideshow": {
     "slide_type": "slide"
    }
   },
   "source": [
    "#  파이썬 프로그래밍 언어 소개\n",
    "\n",
    "<img src=\"https://www.python.org/static/img/python-logo.png\" >\n",
    "\n",
    "#### 2016~2017 http://facebook.com/financedata"
   ]
  },
  {
   "cell_type": "markdown",
   "metadata": {
    "slideshow": {
     "slide_type": "slide"
    }
   },
   "source": [
    "# 같은 이유, 다른 방향\n",
    "\n",
    "<h4>\"Life is Short. Have an Affair\" (인생은 짧아요, 바람을 피세요) </h4>-- 애슐리메디슨 Ashley Madison\n",
    "\n",
    "<h4> \"Life is short, you need Python\" (인생은 짧아요, 파이썬을 쓰세요) </h4>-- 브루스 에켈 Bruce Eckel\n"
   ]
  },
  {
   "cell_type": "markdown",
   "metadata": {
    "slideshow": {
     "slide_type": "slide"
    }
   },
   "source": [
    "# 파이썬 소개\n",
    "* 1989년 암스텔담에서 귀도 반 로섬 Guido Van Rossum 개발되기 시작한 언어\n",
    "* 인터프리터식, 객체지향적, 플랫폼 독립적, 동적인 대화형 스크립트 언어\n",
    "\n",
    "#### 귀도 반 로섬 \n",
    "* 2013~현재 Dropbox\n",
    "* 2005~2012 Google\n",
    "* http://python.org/~guido\n",
    "\n",
    "<img src=\"https://goo.gl/9yP8Pl\" />"
   ]
  },
  {
   "cell_type": "markdown",
   "metadata": {
    "slideshow": {
     "slide_type": "slide"
    }
   },
   "source": [
    "# 파이썬의 특징\n",
    "* 무료, 오픈소스\n",
    "* 간편하고, 쉬운 문법\n",
    "* **방대한 커뮤니티 (필요한 것은 거의 대부분 얻을 수 있다) **\n",
    "* 크로스 플랫폼 (윈도, OSX, 리눅스.. 거의 모든 OS)\n",
    "* 객체 지향, 명령형, 함수형 등 대부분의 프로그래밍 모델 지원\n",
    "* 임베딩, 확장성\n",
    "* 상호대화적 쉘 (인터프리터), REPL"
   ]
  },
  {
   "cell_type": "markdown",
   "metadata": {
    "slideshow": {
     "slide_type": "slide"
    }
   },
   "source": [
    "# 장점, 단점\n",
    "* 장점: 깔끔하고 간결하다. 적은 량의 코드로 많은 일을 할 수 있다. 즉, 코드 생산성이 높다.\n",
    "* 단점: C/C++ 같은 강한 타입 언어에 비해 수행속도가 느리다.\n",
    "\n",
    "동일한 내용의 프로그램 C/C++과 비교해 10배 느리다고 하자 <br>(실제로는 생각보다 느리지 않다), <br>만드는 시간은 C/C++은 10일, 파이썬은 1일 이라면 어떤 선택을 할 것인가?\n"
   ]
  },
  {
   "cell_type": "markdown",
   "metadata": {
    "slideshow": {
     "slide_type": "slide"
    }
   },
   "source": [
    "# 파이썬 FAQ\n",
    "* 다른 언어나 환경과 연계 가능성은? (C, JVM, .NET)\n",
    "* 데이터를 다루는데 적합한가? (어떤 장점이 있길래?)\n",
    "* R, Excel, 파이썬 비교?\n",
    "* 전세계적으로 파이썬을 얼마나 선호(사용)하는가?\n",
    "* 2.x 와 3.x 두가지 버전 어떤 것을 써야 할까?"
   ]
  },
  {
   "cell_type": "markdown",
   "metadata": {
    "slideshow": {
     "slide_type": "slide"
    }
   },
   "source": [
    "# 엑셀\n",
    "엑셀은 아주 간편하고 직관적\n",
    "\n",
    "#### 버뜨, 그러나 …\n",
    "* 대용량 데이터를 다루는데 명확한 한계\n",
    "* 고수준의 통계와 자동화가 어렵다\n",
    "* 변수가 매우 적다면 엑셀로도 버텨볼 만 하지만 \n",
    "* 독립변수가 대여섯개인 다중회귀분석만 들어가도 대략난감\n"
   ]
  },
  {
   "cell_type": "markdown",
   "metadata": {
    "slideshow": {
     "slide_type": "slide"
    }
   },
   "source": [
    "# R 과 파이썬 (어떤 것을 선택할 것인가)\n",
    "\n",
    "* https://www.quora.com/Which-is-better-for-data-analysis-R-or-Python  <br>본격적인 데이터 분석 개발이 목적이라면 파이썬을 선택하라 <br> **머신러닝을 하려면** 파이썬을 선택하라\n",
    "* https://www.datacamp.com/community/tutorials/r-or-python-for-data-analysis <br> 웹으로 서비스를 제공하거나 통합하고 싶다면 파이썬을 선택하라\n",
    "* http://krksap.tistory.com/523  <br> 데이터 탐색(data exploration) 할 때 R보다 파이썬이 낫다\n",
    "* http://www.kdnuggets.com/2015/05/r-vs-python-data-science.html <br>  데이터 분석외 다른 목적으로도 사용하고 싶다면 파이썬을 선택하라\n",
    "* http://goo.gl/cA3SZn <br> 파이썬이 R을 프로그래밍 언어로 대체할 것이다\n",
    "* https://en.wikipedia.org/wiki/List_of_Python_software <br> 파이썬으로 만들어진 소프트웨어들"
   ]
  },
  {
   "cell_type": "markdown",
   "metadata": {
    "slideshow": {
     "slide_type": "slide"
    }
   },
   "source": [
    "# 파이썬 배우기\n",
    "* 학습: 學(배우기) + 習(익히기)\n",
    "* 문법이 아니라 이디엄(idioms)\n",
    "* 일부러 에러 만들어 보고 설명해 보기 i.e [고무오리 방법론](https://en.wikipedia.org/wiki/Rubber_duck_debugging)\n",
    "* 문제해결에 초점 (필요한 내용을 웹 사이트에서 검색)\n",
    "* 도전적인 과제 (미니 프로젝트)\n"
   ]
  },
  {
   "cell_type": "markdown",
   "metadata": {
    "slideshow": {
     "slide_type": "slide"
    }
   },
   "source": [
    "# 입문자를 위한 추천 자료\n",
    "* https://codecademy.com/ko/tracks/python-ko 코드카데미 파이썬(한국어)\n",
    "* https://wikidocs.net/1 점프 투 파이썬 (무료 온라인책)\n",
    "* http://goo.gl/1hTohd 파이썬(열혈강의) Notebook 정리\n",
    "* http://goo.gl/EECp2s 파이썬을 배우는 최고의 방법"
   ]
  },
  {
   "cell_type": "markdown",
   "metadata": {
    "slideshow": {
     "slide_type": "slide"
    }
   },
   "source": [
    "# Quick Start, Tutorials\n",
    "* https://docs.python.org/3/tutorial The Python Tutorial\n",
    "* https://docs.scipy.org/doc/numpy-dev/user/quickstart.html Numpy Quickstart tutorial\n",
    "* https://pandas.pydata.org/pandas-docs/stable/10min.html 10 Minutes to pandas\n",
    "* https://vimeo.com/59324550 10 Minutes to pandas Video (Wes McKinney)\n",
    "\n",
    "# Documentation, Manuals\n",
    "* https://docs.python.org/3 Python 3 documentation \n",
    "* http://pandas.pydata.org/pandas-docs/stable pandas documentation\n",
    "* https://docs.scipy.org/doc/numpy NumPy Manual"
   ]
  },
  {
   "cell_type": "markdown",
   "metadata": {
    "slideshow": {
     "slide_type": "slide"
    }
   },
   "source": [
    "# 추천 사이트\n",
    "* http://stackoverflow.com 코딩관련, 세상의 거의 모든 질문과 답\n",
    "* https://tutorialspoint.com/python tutorialspoint / python,  pandas, pandas "
   ]
  },
  {
   "cell_type": "markdown",
   "metadata": {
    "slideshow": {
     "slide_type": "slide"
    }
   },
   "source": [
    "# 데이터 사이언스\n",
    "\n",
    "1. 데이터 수집\n",
    "1. 데이터 전처리\n",
    "1. 데이터 분석\n",
    "1. 결과 리포트"
   ]
  },
  {
   "cell_type": "code",
   "execution_count": 1,
   "metadata": {
    "slideshow": {
     "slide_type": "-"
    }
   },
   "outputs": [
    {
     "name": "stdout",
     "output_type": "stream",
     "text": [
      "count of \"the\" = 309\n",
      "count of \"of\" = 208\n",
      "count of \"to\" = 174\n",
      "count of \"a\" = 165\n",
      "count of \"or\" = 131\n",
      "count of \"you\" = 102\n",
      "count of \"that\" = 89\n",
      "count of \"and\" = 86\n",
      "count of \"this\" = 72\n",
      "count of \"in\" = 70\n"
     ]
    }
   ],
   "source": [
    "# 라이브러리 임포트\n",
    "import requests\n",
    "from collections import Counter\n",
    "\n",
    "# 1. 데이터 수집\n",
    "r = requests.get('https://www.gnu.org/licenses/gpl.txt')\n",
    "\n",
    "# 2. 데이터 전처리\n",
    "words_list = r.text.split()\n",
    "\n",
    "# 3. 데이터 분석\n",
    "count = Counter(words_list)\n",
    "\n",
    "# 4. 결과 리포트\n",
    "for w in count.most_common(10):\n",
    "    print('count of \"{}\" = {}'.format(w[0], w[1]))"
   ]
  },
  {
   "cell_type": "markdown",
   "metadata": {
    "slideshow": {
     "slide_type": "subslide"
    }
   },
   "source": [
    "# 예제의 주요 구성\n",
    "1. 주석 (comment)\n",
    "1. import 모듈: import, from ~ import\n",
    "1. requests\n",
    "1. str.lower(), str.split()\n",
    "1. Counter, Counter.most_common()"
   ]
  },
  {
   "cell_type": "markdown",
   "metadata": {
    "slideshow": {
     "slide_type": "slide"
    }
   },
   "source": [
    "# 주석"
   ]
  },
  {
   "cell_type": "code",
   "execution_count": 2,
   "metadata": {
    "collapsed": true,
    "slideshow": {
     "slide_type": "-"
    }
   },
   "outputs": [],
   "source": [
    "# comment"
   ]
  },
  {
   "cell_type": "markdown",
   "metadata": {
    "slideshow": {
     "slide_type": "slide"
    }
   },
   "source": [
    "# 모듈 가져오기"
   ]
  },
  {
   "cell_type": "code",
   "execution_count": 3,
   "metadata": {
    "collapsed": true,
    "slideshow": {
     "slide_type": "-"
    }
   },
   "outputs": [],
   "source": [
    "import requests\n",
    "from collections import Counter"
   ]
  },
  {
   "cell_type": "markdown",
   "metadata": {
    "slideshow": {
     "slide_type": "slide"
    }
   },
   "source": [
    "# requests 모듈\n",
    "requests 특정 URL로 부터 페이지를 가져온다. get() 혹은 post()를 주로 사용한다.\n",
    "import 혹은 from ~ import 를 사용한다."
   ]
  },
  {
   "cell_type": "code",
   "execution_count": 4,
   "metadata": {
    "slideshow": {
     "slide_type": "-"
    }
   },
   "outputs": [
    {
     "name": "stdout",
     "output_type": "stream",
     "text": [
      "                    GNU GENERAL PUBLIC LICENSE\n",
      "                       Version 3, 29 June 2007\n",
      "\n",
      " Copyright (C) 2007 Free Software Foundation, Inc. <http://fsf.org/>\n",
      " Everyone is permitted to copy and distribute verbatim copies\n",
      " of this license document, but changing it is not allowed.\n",
      "\n",
      "                            Preamble\n",
      "\n",
      "  The GNU General Public License is a free, copyleft license for\n",
      "software an\n"
     ]
    }
   ],
   "source": [
    "r = requests.get('https://www.gnu.org/licenses/gpl.txt')\n",
    "print (r.text[:400])"
   ]
  },
  {
   "cell_type": "markdown",
   "metadata": {
    "slideshow": {
     "slide_type": "slide"
    }
   },
   "source": [
    "# str.lower(), str.split()\n",
    "* lower() 함수는 문자열을 소문자로 전환\n",
    "* split() 함수는 공백문자(whitespace)를 기준으로 문자열을 잘라서 리스트로 반환"
   ]
  },
  {
   "cell_type": "code",
   "execution_count": 5,
   "metadata": {
    "slideshow": {
     "slide_type": "-"
    }
   },
   "outputs": [
    {
     "name": "stdout",
     "output_type": "stream",
     "text": [
      "5644\n"
     ]
    },
    {
     "data": {
      "text/plain": [
       "['gnu',\n",
       " 'general',\n",
       " 'public',\n",
       " 'license',\n",
       " 'version',\n",
       " '3,',\n",
       " '29',\n",
       " 'june',\n",
       " '2007',\n",
       " 'copyright']"
      ]
     },
     "execution_count": 5,
     "metadata": {},
     "output_type": "execute_result"
    }
   ],
   "source": [
    "words = r.text.lower().split()\n",
    "print(len(words))\n",
    "words[:10]"
   ]
  },
  {
   "cell_type": "markdown",
   "metadata": {
    "slideshow": {
     "slide_type": "slide"
    }
   },
   "source": [
    "# 개수 세기, TOP-N 구하기\n",
    "collections.Counter 를 사용하면 간편하게 개수를 셀 수 있다\n",
    "\n",
    "https://docs.python.org/3/library/collections.html#counter-objects\n",
    "\n",
    "* Counter() 딕셔너리에 저장된 값을 카운드 \n",
    "* Counter.most_common(10) 최상위 10개"
   ]
  },
  {
   "cell_type": "code",
   "execution_count": 6,
   "metadata": {
    "slideshow": {
     "slide_type": "-"
    }
   },
   "outputs": [
    {
     "data": {
      "text/plain": [
       "[('the', 344),\n",
       " ('of', 219),\n",
       " ('to', 188),\n",
       " ('a', 178),\n",
       " ('or', 142),\n",
       " ('you', 123),\n",
       " ('and', 91),\n",
       " ('that', 89),\n",
       " ('for', 83),\n",
       " ('this', 83)]"
      ]
     },
     "execution_count": 6,
     "metadata": {},
     "output_type": "execute_result"
    }
   ],
   "source": [
    "count = Counter(words)\n",
    "common = count.most_common(10)\n",
    "common"
   ]
  },
  {
   "cell_type": "markdown",
   "metadata": {
    "slideshow": {
     "slide_type": "slide"
    }
   },
   "source": [
    "# [참고] 파이썬 딕셔너리 버전 \n",
    "\n",
    "collections.Counter를 사용하지 않고, 딕셔너리만 사용해서 만든 버전"
   ]
  },
  {
   "cell_type": "code",
   "execution_count": 7,
   "metadata": {
    "slideshow": {
     "slide_type": "-"
    }
   },
   "outputs": [
    {
     "data": {
      "text/plain": [
       "[('the', 309),\n",
       " ('of', 208),\n",
       " ('to', 174),\n",
       " ('a', 165),\n",
       " ('or', 131),\n",
       " ('you', 102),\n",
       " ('that', 89),\n",
       " ('and', 86),\n",
       " ('this', 72),\n",
       " ('in', 70),\n",
       " ('for', 70),\n",
       " ('is', 67),\n",
       " ('work', 60),\n",
       " ('not', 46),\n",
       " ('under', 44),\n",
       " ('any', 41),\n",
       " ('with', 41),\n",
       " ('License', 40),\n",
       " ('covered', 40),\n",
       " ('by', 39)]"
      ]
     },
     "execution_count": 7,
     "metadata": {},
     "output_type": "execute_result"
    }
   ],
   "source": [
    "import requests\n",
    "\n",
    "r = requests.get('https://www.gnu.org/licenses/gpl.txt')\n",
    "\n",
    "words_list = r.text.split()\n",
    "\n",
    "word_count = {}\n",
    "for w in words_list:\n",
    "    word_count[w] = word_count.get(w, 0) + 1\n",
    "    \n",
    "word_count_result = sorted(word_count.items(), key=lambda x:x[1], reverse=True)\n",
    "word_count_result[:20]"
   ]
  },
  {
   "cell_type": "markdown",
   "metadata": {
    "slideshow": {
     "slide_type": "notes"
    }
   },
   "source": [
    "----\n",
    "#### 2017 FinanceData http://fb.com/financedata"
   ]
  }
 ],
 "metadata": {
  "celltoolbar": "Slideshow",
  "kernelspec": {
   "display_name": "Python 3",
   "language": "python",
   "name": "python3"
  },
  "language_info": {
   "codemirror_mode": {
    "name": "ipython",
    "version": 3
   },
   "file_extension": ".py",
   "mimetype": "text/x-python",
   "name": "python",
   "nbconvert_exporter": "python",
   "pygments_lexer": "ipython3",
   "version": "3.5.2"
  }
 },
 "nbformat": 4,
 "nbformat_minor": 1
}
