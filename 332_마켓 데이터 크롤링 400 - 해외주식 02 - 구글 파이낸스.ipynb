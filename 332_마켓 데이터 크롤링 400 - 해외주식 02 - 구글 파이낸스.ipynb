{
 "cells": [
  {
   "cell_type": "markdown",
   "metadata": {
    "slideshow": {
     "slide_type": "slide"
    }
   },
   "source": [
    "# 마켓 데이터 크롤링 - 해외 주식 02\n",
    "\n",
    "<img src=\"http://i.imgur.com/grQHNKG.jpg\">\n",
    "\n",
    "\n",
    "### 2018 FinanceData http://fb.com/financedata"
   ]
  },
  {
   "cell_type": "code",
   "execution_count": 1,
   "metadata": {
    "collapsed": true,
    "slideshow": {
     "slide_type": "skip"
    }
   },
   "outputs": [],
   "source": [
    "import warnings\n",
    "warnings.filterwarnings('ignore')\n",
    "\n",
    "# disable Google Finance UNSTABLE_WARNING"
   ]
  },
  {
   "cell_type": "markdown",
   "metadata": {
    "slideshow": {
     "slide_type": "slide"
    }
   },
   "source": [
    "# 야후 파이낸스\n",
    "http://finance.yahoo.com/\n",
    "* http://finance.yahoo.com/q?s=005930.KS\n",
    "* 기업의 기본정보, 차트(지연), 뉴스\n",
    "* 배당 Dividends\n",
    "* 손익계산서 Income statement <br/> 대차대조표 Balance Sheet <br/> 현금흐름표 Cash Flow\n",
    "\n",
    "(DEPRECATED)"
   ]
  },
  {
   "cell_type": "markdown",
   "metadata": {
    "slideshow": {
     "slide_type": "slide"
    }
   },
   "source": [
    "# 야후 국내 지수, 종목 (DEPRECATED)\n",
    "### 국내 지수\n",
    "* ^KS11 : KOSPI Composite Index (코스피 지수)\n",
    "* ^KQ11 : KOSDAQ Composite Index (코스닥 지수)\n",
    "\n",
    "### 종목 티커 심볼\n",
    "* 유가증권시장은 종목코드에 .KS 붙인다 <br/>예) 삼성전자 005930.KS\n",
    "* 코스닥 시장은 종목코드에 .KQ 붙는다 <br/>예) 셀트리온 068270.KQ\n",
    "\n"
   ]
  },
  {
   "cell_type": "markdown",
   "metadata": {
    "slideshow": {
     "slide_type": "slide"
    }
   },
   "source": [
    "# 구글 국내 지수, 종목\n",
    "\n",
    "### 국내 지수\n",
    "* KRX:KOSPI : KOSPI Composite Index (코스피 지수)\n",
    "* KRX:KOSDAQ : KOSDAQ Composite Index (코스닥 지수)\n",
    "\n",
    "### 종목 티커 심볼\n",
    "* 코스피 종목: KRX: + 종목코드<br/>예) 삼성전자 KRX:005930\n",
    "* 코스닥 종목: KOSDAQ + 종목코드 <br/>예) 셀트리온 KOSDAQ:068270"
   ]
  },
  {
   "cell_type": "markdown",
   "metadata": {
    "slideshow": {
     "slide_type": "slide"
    }
   },
   "source": [
    "# 종가(Close) 와 수정종가(Adj Close)\n",
    "* 수정주가 Adjusted Closing Price: 분할, 배당, 배분, 신주 발행이 반영된 주식 가격\n",
    "* 데이터 분석에는 ”Adj Close” 사용\n",
    "\n",
    "[구글 닥스] https://goo.gl/8miw98 애플 2014년 6월 9일 7:1 액면분할"
   ]
  },
  {
   "cell_type": "markdown",
   "metadata": {
    "slideshow": {
     "slide_type": "slide"
    }
   },
   "source": [
    "#  pandas_datareader\n",
    "\n",
    "* https://pandas-datareader.readthedocs.io (공식 문서)"
   ]
  },
  {
   "cell_type": "code",
   "execution_count": 2,
   "metadata": {
    "slideshow": {
     "slide_type": "-"
    }
   },
   "outputs": [
    {
     "data": {
      "text/html": [
       "<div>\n",
       "<style scoped>\n",
       "    .dataframe tbody tr th:only-of-type {\n",
       "        vertical-align: middle;\n",
       "    }\n",
       "\n",
       "    .dataframe tbody tr th {\n",
       "        vertical-align: top;\n",
       "    }\n",
       "\n",
       "    .dataframe thead th {\n",
       "        text-align: right;\n",
       "    }\n",
       "</style>\n",
       "<table border=\"1\" class=\"dataframe\">\n",
       "  <thead>\n",
       "    <tr style=\"text-align: right;\">\n",
       "      <th></th>\n",
       "      <th>Open</th>\n",
       "      <th>High</th>\n",
       "      <th>Low</th>\n",
       "      <th>Close</th>\n",
       "      <th>Volume</th>\n",
       "    </tr>\n",
       "    <tr>\n",
       "      <th>Date</th>\n",
       "      <th></th>\n",
       "      <th></th>\n",
       "      <th></th>\n",
       "      <th></th>\n",
       "      <th></th>\n",
       "    </tr>\n",
       "  </thead>\n",
       "  <tbody>\n",
       "    <tr>\n",
       "      <th>2018-02-01</th>\n",
       "      <td>167.16</td>\n",
       "      <td>168.62</td>\n",
       "      <td>166.76</td>\n",
       "      <td>167.78</td>\n",
       "      <td>47230787</td>\n",
       "    </tr>\n",
       "    <tr>\n",
       "      <th>2018-02-02</th>\n",
       "      <td>166.00</td>\n",
       "      <td>166.80</td>\n",
       "      <td>160.10</td>\n",
       "      <td>160.50</td>\n",
       "      <td>86593825</td>\n",
       "    </tr>\n",
       "    <tr>\n",
       "      <th>2018-02-05</th>\n",
       "      <td>159.10</td>\n",
       "      <td>163.88</td>\n",
       "      <td>156.00</td>\n",
       "      <td>156.49</td>\n",
       "      <td>72738522</td>\n",
       "    </tr>\n",
       "    <tr>\n",
       "      <th>2018-02-06</th>\n",
       "      <td>154.83</td>\n",
       "      <td>163.72</td>\n",
       "      <td>154.00</td>\n",
       "      <td>163.03</td>\n",
       "      <td>68243838</td>\n",
       "    </tr>\n",
       "    <tr>\n",
       "      <th>2018-02-07</th>\n",
       "      <td>163.08</td>\n",
       "      <td>163.40</td>\n",
       "      <td>159.07</td>\n",
       "      <td>159.54</td>\n",
       "      <td>51608580</td>\n",
       "    </tr>\n",
       "    <tr>\n",
       "      <th>2018-02-08</th>\n",
       "      <td>160.29</td>\n",
       "      <td>161.00</td>\n",
       "      <td>155.03</td>\n",
       "      <td>155.15</td>\n",
       "      <td>54390516</td>\n",
       "    </tr>\n",
       "    <tr>\n",
       "      <th>2018-02-09</th>\n",
       "      <td>157.07</td>\n",
       "      <td>157.89</td>\n",
       "      <td>150.24</td>\n",
       "      <td>156.41</td>\n",
       "      <td>70672608</td>\n",
       "    </tr>\n",
       "    <tr>\n",
       "      <th>2018-02-12</th>\n",
       "      <td>158.50</td>\n",
       "      <td>163.89</td>\n",
       "      <td>157.51</td>\n",
       "      <td>162.71</td>\n",
       "      <td>60819539</td>\n",
       "    </tr>\n",
       "    <tr>\n",
       "      <th>2018-02-13</th>\n",
       "      <td>161.95</td>\n",
       "      <td>164.75</td>\n",
       "      <td>161.65</td>\n",
       "      <td>164.34</td>\n",
       "      <td>32549163</td>\n",
       "    </tr>\n",
       "    <tr>\n",
       "      <th>2018-02-14</th>\n",
       "      <td>163.04</td>\n",
       "      <td>167.54</td>\n",
       "      <td>162.88</td>\n",
       "      <td>167.37</td>\n",
       "      <td>40644933</td>\n",
       "    </tr>\n",
       "    <tr>\n",
       "      <th>2018-02-15</th>\n",
       "      <td>169.79</td>\n",
       "      <td>173.09</td>\n",
       "      <td>169.00</td>\n",
       "      <td>172.99</td>\n",
       "      <td>51147171</td>\n",
       "    </tr>\n",
       "    <tr>\n",
       "      <th>2018-02-16</th>\n",
       "      <td>172.36</td>\n",
       "      <td>174.82</td>\n",
       "      <td>171.77</td>\n",
       "      <td>172.43</td>\n",
       "      <td>40176091</td>\n",
       "    </tr>\n",
       "    <tr>\n",
       "      <th>2018-02-20</th>\n",
       "      <td>172.05</td>\n",
       "      <td>174.26</td>\n",
       "      <td>171.42</td>\n",
       "      <td>171.85</td>\n",
       "      <td>33930540</td>\n",
       "    </tr>\n",
       "    <tr>\n",
       "      <th>2018-02-21</th>\n",
       "      <td>172.83</td>\n",
       "      <td>174.12</td>\n",
       "      <td>171.01</td>\n",
       "      <td>171.07</td>\n",
       "      <td>37471623</td>\n",
       "    </tr>\n",
       "    <tr>\n",
       "      <th>2018-02-22</th>\n",
       "      <td>171.80</td>\n",
       "      <td>173.95</td>\n",
       "      <td>171.71</td>\n",
       "      <td>172.50</td>\n",
       "      <td>30991940</td>\n",
       "    </tr>\n",
       "    <tr>\n",
       "      <th>2018-02-23</th>\n",
       "      <td>173.67</td>\n",
       "      <td>175.65</td>\n",
       "      <td>173.54</td>\n",
       "      <td>175.50</td>\n",
       "      <td>33812360</td>\n",
       "    </tr>\n",
       "    <tr>\n",
       "      <th>2018-02-26</th>\n",
       "      <td>176.35</td>\n",
       "      <td>179.39</td>\n",
       "      <td>176.21</td>\n",
       "      <td>178.97</td>\n",
       "      <td>38162174</td>\n",
       "    </tr>\n",
       "    <tr>\n",
       "      <th>2018-02-27</th>\n",
       "      <td>179.10</td>\n",
       "      <td>180.48</td>\n",
       "      <td>178.16</td>\n",
       "      <td>178.39</td>\n",
       "      <td>38928125</td>\n",
       "    </tr>\n",
       "    <tr>\n",
       "      <th>2018-02-28</th>\n",
       "      <td>179.26</td>\n",
       "      <td>180.62</td>\n",
       "      <td>178.05</td>\n",
       "      <td>178.12</td>\n",
       "      <td>37782138</td>\n",
       "    </tr>\n",
       "  </tbody>\n",
       "</table>\n",
       "</div>"
      ],
      "text/plain": [
       "              Open    High     Low   Close    Volume\n",
       "Date                                                \n",
       "2018-02-01  167.16  168.62  166.76  167.78  47230787\n",
       "2018-02-02  166.00  166.80  160.10  160.50  86593825\n",
       "2018-02-05  159.10  163.88  156.00  156.49  72738522\n",
       "2018-02-06  154.83  163.72  154.00  163.03  68243838\n",
       "2018-02-07  163.08  163.40  159.07  159.54  51608580\n",
       "2018-02-08  160.29  161.00  155.03  155.15  54390516\n",
       "2018-02-09  157.07  157.89  150.24  156.41  70672608\n",
       "2018-02-12  158.50  163.89  157.51  162.71  60819539\n",
       "2018-02-13  161.95  164.75  161.65  164.34  32549163\n",
       "2018-02-14  163.04  167.54  162.88  167.37  40644933\n",
       "2018-02-15  169.79  173.09  169.00  172.99  51147171\n",
       "2018-02-16  172.36  174.82  171.77  172.43  40176091\n",
       "2018-02-20  172.05  174.26  171.42  171.85  33930540\n",
       "2018-02-21  172.83  174.12  171.01  171.07  37471623\n",
       "2018-02-22  171.80  173.95  171.71  172.50  30991940\n",
       "2018-02-23  173.67  175.65  173.54  175.50  33812360\n",
       "2018-02-26  176.35  179.39  176.21  178.97  38162174\n",
       "2018-02-27  179.10  180.48  178.16  178.39  38928125\n",
       "2018-02-28  179.26  180.62  178.05  178.12  37782138"
      ]
     },
     "execution_count": 2,
     "metadata": {},
     "output_type": "execute_result"
    }
   ],
   "source": [
    "import pandas_datareader as pdr\n",
    "pdr.DataReader('AAPL', 'google', '2018-02-01', '2018-02-28')"
   ]
  },
  {
   "cell_type": "markdown",
   "metadata": {
    "slideshow": {
     "slide_type": "slide"
    }
   },
   "source": [
    "# 가격 데이터 Historical Prices\n",
    "\n",
    "삼성전자(005930) 2017년 일별 주가"
   ]
  },
  {
   "cell_type": "code",
   "execution_count": 3,
   "metadata": {
    "slideshow": {
     "slide_type": "-"
    }
   },
   "outputs": [
    {
     "data": {
      "text/html": [
       "<div>\n",
       "<style scoped>\n",
       "    .dataframe tbody tr th:only-of-type {\n",
       "        vertical-align: middle;\n",
       "    }\n",
       "\n",
       "    .dataframe tbody tr th {\n",
       "        vertical-align: top;\n",
       "    }\n",
       "\n",
       "    .dataframe thead th {\n",
       "        text-align: right;\n",
       "    }\n",
       "</style>\n",
       "<table border=\"1\" class=\"dataframe\">\n",
       "  <thead>\n",
       "    <tr style=\"text-align: right;\">\n",
       "      <th></th>\n",
       "      <th>Open</th>\n",
       "      <th>High</th>\n",
       "      <th>Low</th>\n",
       "      <th>Close</th>\n",
       "      <th>Volume</th>\n",
       "    </tr>\n",
       "    <tr>\n",
       "      <th>Date</th>\n",
       "      <th></th>\n",
       "      <th></th>\n",
       "      <th></th>\n",
       "      <th></th>\n",
       "      <th></th>\n",
       "    </tr>\n",
       "  </thead>\n",
       "  <tbody>\n",
       "    <tr>\n",
       "      <th>2017-12-14</th>\n",
       "      <td>2566000.0</td>\n",
       "      <td>2614000.0</td>\n",
       "      <td>2553000.0</td>\n",
       "      <td>2553000.0</td>\n",
       "      <td>399389</td>\n",
       "    </tr>\n",
       "    <tr>\n",
       "      <th>2017-12-15</th>\n",
       "      <td>2562000.0</td>\n",
       "      <td>2574000.0</td>\n",
       "      <td>2526000.0</td>\n",
       "      <td>2531000.0</td>\n",
       "      <td>296584</td>\n",
       "    </tr>\n",
       "    <tr>\n",
       "      <th>2017-12-18</th>\n",
       "      <td>2531000.0</td>\n",
       "      <td>2562000.0</td>\n",
       "      <td>2531000.0</td>\n",
       "      <td>2560000.0</td>\n",
       "      <td>143527</td>\n",
       "    </tr>\n",
       "    <tr>\n",
       "      <th>2017-12-19</th>\n",
       "      <td>2577000.0</td>\n",
       "      <td>2604000.0</td>\n",
       "      <td>2576000.0</td>\n",
       "      <td>2578000.0</td>\n",
       "      <td>210149</td>\n",
       "    </tr>\n",
       "    <tr>\n",
       "      <th>2017-12-20</th>\n",
       "      <td>2575000.0</td>\n",
       "      <td>2588000.0</td>\n",
       "      <td>2541000.0</td>\n",
       "      <td>2544000.0</td>\n",
       "      <td>201101</td>\n",
       "    </tr>\n",
       "    <tr>\n",
       "      <th>2017-12-21</th>\n",
       "      <td>2550000.0</td>\n",
       "      <td>2553000.0</td>\n",
       "      <td>2455000.0</td>\n",
       "      <td>2457000.0</td>\n",
       "      <td>305492</td>\n",
       "    </tr>\n",
       "    <tr>\n",
       "      <th>2017-12-22</th>\n",
       "      <td>2470000.0</td>\n",
       "      <td>2498000.0</td>\n",
       "      <td>2462000.0</td>\n",
       "      <td>2485000.0</td>\n",
       "      <td>222193</td>\n",
       "    </tr>\n",
       "    <tr>\n",
       "      <th>2017-12-26</th>\n",
       "      <td>2488000.0</td>\n",
       "      <td>2505000.0</td>\n",
       "      <td>2410000.0</td>\n",
       "      <td>2410000.0</td>\n",
       "      <td>316068</td>\n",
       "    </tr>\n",
       "    <tr>\n",
       "      <th>2017-12-27</th>\n",
       "      <td>2448000.0</td>\n",
       "      <td>2478000.0</td>\n",
       "      <td>2423000.0</td>\n",
       "      <td>2468000.0</td>\n",
       "      <td>213411</td>\n",
       "    </tr>\n",
       "    <tr>\n",
       "      <th>2017-12-28</th>\n",
       "      <td>2478000.0</td>\n",
       "      <td>2548000.0</td>\n",
       "      <td>2475000.0</td>\n",
       "      <td>2548000.0</td>\n",
       "      <td>176561</td>\n",
       "    </tr>\n",
       "  </tbody>\n",
       "</table>\n",
       "</div>"
      ],
      "text/plain": [
       "                 Open       High        Low      Close  Volume\n",
       "Date                                                          \n",
       "2017-12-14  2566000.0  2614000.0  2553000.0  2553000.0  399389\n",
       "2017-12-15  2562000.0  2574000.0  2526000.0  2531000.0  296584\n",
       "2017-12-18  2531000.0  2562000.0  2531000.0  2560000.0  143527\n",
       "2017-12-19  2577000.0  2604000.0  2576000.0  2578000.0  210149\n",
       "2017-12-20  2575000.0  2588000.0  2541000.0  2544000.0  201101\n",
       "2017-12-21  2550000.0  2553000.0  2455000.0  2457000.0  305492\n",
       "2017-12-22  2470000.0  2498000.0  2462000.0  2485000.0  222193\n",
       "2017-12-26  2488000.0  2505000.0  2410000.0  2410000.0  316068\n",
       "2017-12-27  2448000.0  2478000.0  2423000.0  2468000.0  213411\n",
       "2017-12-28  2478000.0  2548000.0  2475000.0  2548000.0  176561"
      ]
     },
     "execution_count": 3,
     "metadata": {},
     "output_type": "execute_result"
    }
   ],
   "source": [
    "import pandas_datareader as pdr\n",
    "\n",
    "df = pdr.DataReader('KRX:005930', 'google', '2017-01-01', '2017-12-31')\n",
    "df.tail(10)"
   ]
  },
  {
   "cell_type": "code",
   "execution_count": 4,
   "metadata": {
    "slideshow": {
     "slide_type": "-"
    }
   },
   "outputs": [
    {
     "data": {
      "text/plain": [
       "243"
      ]
     },
     "execution_count": 4,
     "metadata": {},
     "output_type": "execute_result"
    }
   ],
   "source": [
    "len(df)"
   ]
  },
  {
   "cell_type": "code",
   "execution_count": 5,
   "metadata": {
    "slideshow": {
     "slide_type": "slide"
    }
   },
   "outputs": [
    {
     "name": "stdout",
     "output_type": "stream",
     "text": [
      "DatetimeIndex(['2017-01-02', '2017-01-03', '2017-01-04', '2017-01-05',\n",
      "               '2017-01-06', '2017-01-09', '2017-01-10', '2017-01-11',\n",
      "               '2017-01-12', '2017-01-13',\n",
      "               ...\n",
      "               '2017-12-14', '2017-12-15', '2017-12-18', '2017-12-19',\n",
      "               '2017-12-20', '2017-12-21', '2017-12-22', '2017-12-26',\n",
      "               '2017-12-27', '2017-12-28'],\n",
      "              dtype='datetime64[ns]', name='Date', length=243, freq=None)\n",
      "Index(['Open', 'High', 'Low', 'Close', 'Volume'], dtype='object')\n",
      "[[1799000. 1812000. 1794000. 1805000.   92936.]\n",
      " [1814000. 1831000. 1801000. 1824000.  146807.]\n",
      " [1825000. 1826000. 1805000. 1808000.  145894.]\n",
      " ...\n",
      " [2488000. 2505000. 2410000. 2410000.  316068.]\n",
      " [2448000. 2478000. 2423000. 2468000.  213411.]\n",
      " [2478000. 2548000. 2475000. 2548000.  176561.]]\n"
     ]
    }
   ],
   "source": [
    "print (df.index)\n",
    "print (df.columns)\n",
    "print (df.values)"
   ]
  },
  {
   "cell_type": "code",
   "execution_count": 6,
   "metadata": {
    "scrolled": true,
    "slideshow": {
     "slide_type": "-"
    }
   },
   "outputs": [
    {
     "data": {
      "text/plain": [
       "<matplotlib.axes._subplots.AxesSubplot at 0x7f9cee1ffe10>"
      ]
     },
     "execution_count": 6,
     "metadata": {},
     "output_type": "execute_result"
    },
    {
     "data": {
      "image/png": "[encoded data removed]",
      "text/plain": [
       "<matplotlib.figure.Figure at 0x7f9d079d9748>"
      ]
     },
     "metadata": {},
     "output_type": "display_data"
    }
   ],
   "source": [
    "%matplotlib inline\n",
    "\n",
    "df['Close'].plot(figsize=(16, 4))"
   ]
  },
  {
   "cell_type": "markdown",
   "metadata": {
    "slideshow": {
     "slide_type": "slide"
    }
   },
   "source": [
    "# 기간을 지정하는 다양한 방법들\n",
    "\n",
    "```python\n",
    "df['2017'] # 2017년\n",
    "df['2017-06'] # 6월\n",
    "df['2017-07-01':'2017-09-30'] # 3/4 분기\n",
    "df[:'2017-06-30'] # 상반기\n",
    "```"
   ]
  },
  {
   "cell_type": "code",
   "execution_count": 7,
   "metadata": {
    "slideshow": {
     "slide_type": "-"
    }
   },
   "outputs": [
    {
     "data": {
      "text/html": [
       "<div>\n",
       "<style scoped>\n",
       "    .dataframe tbody tr th:only-of-type {\n",
       "        vertical-align: middle;\n",
       "    }\n",
       "\n",
       "    .dataframe tbody tr th {\n",
       "        vertical-align: top;\n",
       "    }\n",
       "\n",
       "    .dataframe thead th {\n",
       "        text-align: right;\n",
       "    }\n",
       "</style>\n",
       "<table border=\"1\" class=\"dataframe\">\n",
       "  <thead>\n",
       "    <tr style=\"text-align: right;\">\n",
       "      <th></th>\n",
       "      <th>Open</th>\n",
       "      <th>High</th>\n",
       "      <th>Low</th>\n",
       "      <th>Close</th>\n",
       "      <th>Volume</th>\n",
       "    </tr>\n",
       "    <tr>\n",
       "      <th>Date</th>\n",
       "      <th></th>\n",
       "      <th></th>\n",
       "      <th></th>\n",
       "      <th></th>\n",
       "      <th></th>\n",
       "    </tr>\n",
       "  </thead>\n",
       "  <tbody>\n",
       "    <tr>\n",
       "      <th>2017-06-01</th>\n",
       "      <td>2243000.0</td>\n",
       "      <td>2245000.0</td>\n",
       "      <td>2220000.0</td>\n",
       "      <td>2234000.0</td>\n",
       "      <td>193891</td>\n",
       "    </tr>\n",
       "    <tr>\n",
       "      <th>2017-06-02</th>\n",
       "      <td>2253000.0</td>\n",
       "      <td>2298000.0</td>\n",
       "      <td>2250000.0</td>\n",
       "      <td>2298000.0</td>\n",
       "      <td>247894</td>\n",
       "    </tr>\n",
       "    <tr>\n",
       "      <th>2017-06-05</th>\n",
       "      <td>2302000.0</td>\n",
       "      <td>2318000.0</td>\n",
       "      <td>2286000.0</td>\n",
       "      <td>2297000.0</td>\n",
       "      <td>150954</td>\n",
       "    </tr>\n",
       "    <tr>\n",
       "      <th>2017-06-07</th>\n",
       "      <td>2325000.0</td>\n",
       "      <td>2325000.0</td>\n",
       "      <td>2262000.0</td>\n",
       "      <td>2265000.0</td>\n",
       "      <td>243638</td>\n",
       "    </tr>\n",
       "    <tr>\n",
       "      <th>2017-06-08</th>\n",
       "      <td>2250000.0</td>\n",
       "      <td>2279000.0</td>\n",
       "      <td>2250000.0</td>\n",
       "      <td>2258000.0</td>\n",
       "      <td>274158</td>\n",
       "    </tr>\n",
       "    <tr>\n",
       "      <th>2017-06-09</th>\n",
       "      <td>2284000.0</td>\n",
       "      <td>2322000.0</td>\n",
       "      <td>2280000.0</td>\n",
       "      <td>2305000.0</td>\n",
       "      <td>227782</td>\n",
       "    </tr>\n",
       "    <tr>\n",
       "      <th>2017-06-12</th>\n",
       "      <td>2271000.0</td>\n",
       "      <td>2280000.0</td>\n",
       "      <td>2257000.0</td>\n",
       "      <td>2269000.0</td>\n",
       "      <td>217181</td>\n",
       "    </tr>\n",
       "    <tr>\n",
       "      <th>2017-06-13</th>\n",
       "      <td>2257000.0</td>\n",
       "      <td>2281000.0</td>\n",
       "      <td>2257000.0</td>\n",
       "      <td>2270000.0</td>\n",
       "      <td>167722</td>\n",
       "    </tr>\n",
       "    <tr>\n",
       "      <th>2017-06-14</th>\n",
       "      <td>2290000.0</td>\n",
       "      <td>2303000.0</td>\n",
       "      <td>2262000.0</td>\n",
       "      <td>2268000.0</td>\n",
       "      <td>194743</td>\n",
       "    </tr>\n",
       "    <tr>\n",
       "      <th>2017-06-15</th>\n",
       "      <td>2284000.0</td>\n",
       "      <td>2296000.0</td>\n",
       "      <td>2259000.0</td>\n",
       "      <td>2284000.0</td>\n",
       "      <td>182884</td>\n",
       "    </tr>\n",
       "    <tr>\n",
       "      <th>2017-06-16</th>\n",
       "      <td>2275000.0</td>\n",
       "      <td>2297000.0</td>\n",
       "      <td>2273000.0</td>\n",
       "      <td>2279000.0</td>\n",
       "      <td>301134</td>\n",
       "    </tr>\n",
       "    <tr>\n",
       "      <th>2017-06-19</th>\n",
       "      <td>2279000.0</td>\n",
       "      <td>2328000.0</td>\n",
       "      <td>2278000.0</td>\n",
       "      <td>2328000.0</td>\n",
       "      <td>212538</td>\n",
       "    </tr>\n",
       "    <tr>\n",
       "      <th>2017-06-20</th>\n",
       "      <td>2362000.0</td>\n",
       "      <td>2407000.0</td>\n",
       "      <td>2361000.0</td>\n",
       "      <td>2407000.0</td>\n",
       "      <td>296577</td>\n",
       "    </tr>\n",
       "    <tr>\n",
       "      <th>2017-06-21</th>\n",
       "      <td>2387000.0</td>\n",
       "      <td>2406000.0</td>\n",
       "      <td>2374000.0</td>\n",
       "      <td>2374000.0</td>\n",
       "      <td>192556</td>\n",
       "    </tr>\n",
       "    <tr>\n",
       "      <th>2017-06-22</th>\n",
       "      <td>2398000.0</td>\n",
       "      <td>2404000.0</td>\n",
       "      <td>2386000.0</td>\n",
       "      <td>2398000.0</td>\n",
       "      <td>178242</td>\n",
       "    </tr>\n",
       "    <tr>\n",
       "      <th>2017-06-23</th>\n",
       "      <td>2380000.0</td>\n",
       "      <td>2389000.0</td>\n",
       "      <td>2371000.0</td>\n",
       "      <td>2381000.0</td>\n",
       "      <td>172622</td>\n",
       "    </tr>\n",
       "    <tr>\n",
       "      <th>2017-06-26</th>\n",
       "      <td>2376000.0</td>\n",
       "      <td>2418000.0</td>\n",
       "      <td>2376000.0</td>\n",
       "      <td>2414000.0</td>\n",
       "      <td>160857</td>\n",
       "    </tr>\n",
       "    <tr>\n",
       "      <th>2017-06-27</th>\n",
       "      <td>2411000.0</td>\n",
       "      <td>2420000.0</td>\n",
       "      <td>2395000.0</td>\n",
       "      <td>2415000.0</td>\n",
       "      <td>187532</td>\n",
       "    </tr>\n",
       "    <tr>\n",
       "      <th>2017-06-28</th>\n",
       "      <td>2380000.0</td>\n",
       "      <td>2400000.0</td>\n",
       "      <td>2378000.0</td>\n",
       "      <td>2385000.0</td>\n",
       "      <td>188156</td>\n",
       "    </tr>\n",
       "    <tr>\n",
       "      <th>2017-06-29</th>\n",
       "      <td>2402000.0</td>\n",
       "      <td>2416000.0</td>\n",
       "      <td>2397000.0</td>\n",
       "      <td>2397000.0</td>\n",
       "      <td>159859</td>\n",
       "    </tr>\n",
       "    <tr>\n",
       "      <th>2017-06-30</th>\n",
       "      <td>2375000.0</td>\n",
       "      <td>2381000.0</td>\n",
       "      <td>2355000.0</td>\n",
       "      <td>2377000.0</td>\n",
       "      <td>234972</td>\n",
       "    </tr>\n",
       "  </tbody>\n",
       "</table>\n",
       "</div>"
      ],
      "text/plain": [
       "                 Open       High        Low      Close  Volume\n",
       "Date                                                          \n",
       "2017-06-01  2243000.0  2245000.0  2220000.0  2234000.0  193891\n",
       "2017-06-02  2253000.0  2298000.0  2250000.0  2298000.0  247894\n",
       "2017-06-05  2302000.0  2318000.0  2286000.0  2297000.0  150954\n",
       "2017-06-07  2325000.0  2325000.0  2262000.0  2265000.0  243638\n",
       "2017-06-08  2250000.0  2279000.0  2250000.0  2258000.0  274158\n",
       "2017-06-09  2284000.0  2322000.0  2280000.0  2305000.0  227782\n",
       "2017-06-12  2271000.0  2280000.0  2257000.0  2269000.0  217181\n",
       "2017-06-13  2257000.0  2281000.0  2257000.0  2270000.0  167722\n",
       "2017-06-14  2290000.0  2303000.0  2262000.0  2268000.0  194743\n",
       "2017-06-15  2284000.0  2296000.0  2259000.0  2284000.0  182884\n",
       "2017-06-16  2275000.0  2297000.0  2273000.0  2279000.0  301134\n",
       "2017-06-19  2279000.0  2328000.0  2278000.0  2328000.0  212538\n",
       "2017-06-20  2362000.0  2407000.0  2361000.0  2407000.0  296577\n",
       "2017-06-21  2387000.0  2406000.0  2374000.0  2374000.0  192556\n",
       "2017-06-22  2398000.0  2404000.0  2386000.0  2398000.0  178242\n",
       "2017-06-23  2380000.0  2389000.0  2371000.0  2381000.0  172622\n",
       "2017-06-26  2376000.0  2418000.0  2376000.0  2414000.0  160857\n",
       "2017-06-27  2411000.0  2420000.0  2395000.0  2415000.0  187532\n",
       "2017-06-28  2380000.0  2400000.0  2378000.0  2385000.0  188156\n",
       "2017-06-29  2402000.0  2416000.0  2397000.0  2397000.0  159859\n",
       "2017-06-30  2375000.0  2381000.0  2355000.0  2377000.0  234972"
      ]
     },
     "execution_count": 7,
     "metadata": {},
     "output_type": "execute_result"
    }
   ],
   "source": [
    "df['2017-06']"
   ]
  },
  {
   "cell_type": "markdown",
   "metadata": {
    "slideshow": {
     "slide_type": "slide"
    }
   },
   "source": [
    "# 삼성전자 2017년 하반기 가격 데이터"
   ]
  },
  {
   "cell_type": "code",
   "execution_count": 8,
   "metadata": {
    "slideshow": {
     "slide_type": "-"
    }
   },
   "outputs": [
    {
     "data": {
      "text/plain": [
       "<matplotlib.axes._subplots.AxesSubplot at 0x7f9cedf55cf8>"
      ]
     },
     "execution_count": 8,
     "metadata": {},
     "output_type": "execute_result"
    },
    {
     "data": {
      "image/png": "[encoded data removed]",
      "text/plain": [
       "<matplotlib.figure.Figure at 0x7f9cedf670f0>"
      ]
     },
     "metadata": {},
     "output_type": "display_data"
    }
   ],
   "source": [
    "df['2017-07-01':]['Close'].plot(figsize=(16, 4)) # 하반기"
   ]
  },
  {
   "cell_type": "markdown",
   "metadata": {
    "slideshow": {
     "slide_type": "slide"
    }
   },
   "source": [
    "# 리뷰\n",
    "1. Google Finance, Yahoo Finance (DEPRECATED)\n",
    "1. requests.get(url)\n",
    "1. pandas_datareader()\n",
    "1. DataFrame.plot()"
   ]
  },
  {
   "cell_type": "markdown",
   "metadata": {
    "slideshow": {
     "slide_type": "notes"
    }
   },
   "source": [
    "----\n",
    "### 2018 FinanceData http://fb.com/financedata http://financedata.github.com"
   ]
  }
 ],
 "metadata": {
  "celltoolbar": "Slideshow",
  "kernelspec": {
   "display_name": "Python 3",
   "language": "python",
   "name": "python3"
  },
  "language_info": {
   "codemirror_mode": {
    "name": "ipython",
    "version": 3
   },
   "file_extension": ".py",
   "mimetype": "text/x-python",
   "name": "python",
   "nbconvert_exporter": "python",
   "pygments_lexer": "ipython3",
   "version": "3.5.2"
  }
 },
 "nbformat": 4,
 "nbformat_minor": 1
}
