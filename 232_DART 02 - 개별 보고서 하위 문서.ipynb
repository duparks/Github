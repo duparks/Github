{
 "cells": [
  {
   "cell_type": "markdown",
   "metadata": {
    "slideshow": {
     "slide_type": "slide"
    }
   },
   "source": [
    "# DART 02 - 개별 보고서 하위 문서\n",
    "\n",
    "<img src=\"http://i.imgur.com/W3QMRaX.png\" >\n",
    "\n",
    "* 정규식을 활용하여 HTML 문서에서 데이터 추출\n",
    "* 개별 보고서와 하위 보고서 URL\n",
    "\n",
    "### 2018 FinanceData.KR"
   ]
  },
  {
   "cell_type": "markdown",
   "metadata": {
    "slideshow": {
     "slide_type": "slide"
    }
   },
   "source": [
    "# 개별 보고서의 하위문서\n",
    "해당 보고서 페이지 http://dart.fss.or.kr/dsaf001/main.do?rcpNo=20170515003806 의 페이지 소스\n",
    "\n",
    "\n",
    "```javascript\n",
    "    // 1\n",
    "    treeNode1 = new Tree.TreeNode({\n",
    "      text: \"분 기 보 고 서\",\n",
    "      id: \"1\",\n",
    "      cls: \"text\",\n",
    "      listeners: {\n",
    "        click: function() {viewDoc('20170515003806', '5653406', '1', '564', '4104', 'dart3.xsd');}\n",
    "      }\n",
    "    });\n",
    "    cnt++;\n",
    "    \n",
    "    treeRoot.appendChild(treeNode1);\n",
    "  \n",
    "    // 2\n",
    "    treeNode1 = new Tree.TreeNode({\n",
    "      text: \"【 대표이사 등의 확인 】\",\n",
    "      id: \"2\",\n",
    "      cls: \"text\",\n",
    "      listeners: {\n",
    "        click: function() {viewDoc('20170515003806', '5653406', '2', '12691', '409', 'dart3.xsd');}\n",
    "      }\n",
    "    });\n",
    "    cnt++;\n",
    "    \n",
    "    treeRoot.appendChild(treeNode1);\n",
    "    \n",
    "    // 3\n",
    "    treeNode1 = new Tree.TreeNode({\n",
    "      text: \"I. 회사의 개요\",\n",
    "      id: \"3\",\n",
    "      cls: \"text\",\n",
    "      listeners: {\n",
    "        click: function() {viewDoc('20170515003806', '5653406', '3', '13104', '333222', 'dart3.xsd');}\n",
    "      }\n",
    "    });\n",
    "    cnt++;\n",
    "```"
   ]
  },
  {
   "cell_type": "markdown",
   "metadata": {
    "slideshow": {
     "slide_type": "slide"
    }
   },
   "source": [
    "# 정규식으로 데이터 추출\n",
    "* 페이지가 여러개의 하위 페이지로 구성, JavaScript 가 실행된 결과로 링크가 생성\n",
    "* viewDoc(rcpNo, dcmNo, eleId, offset, length, dtd) 로 구성\n",
    "* 예를 들어, viewDoc('20170515003806', '5653406', '1', '564', '4104', 'dart3.xsd');}\n",
    "* viewDoc()를 구성하는 파라미터 (rcpNo, dcmNo, eleId, offset, length, dtd)를 얻는다.\n",
    "\n",
    "\n",
    "예를 들어 \"분 기 보 고 서\"의 경우,\n",
    "\n",
    "```javascript\n",
    "viewDoc('20170515003806', '5653406', '1', '564', '4104', 'dart3.xsd');}\n",
    "```\n",
    "로 부터 정규식 re.compile('viewDoc\\((.*)\\);') 을 사용하여 다음을 추출\n",
    "\n",
    "```javascript\n",
    "    '20170515003806', '5653406', '1', '564', '4104', 'dart3.xsd'\n",
    "```    \n",
    "\n",
    "다음 링크가 만들어 진다. <br> http://dart.fss.or.kr/report/viewer.do?rcpNo=20170515003806&dcmNo=5653406&eleId=1&offset=564&length=4104&dtd=dart3.xsd\n"
   ]
  },
  {
   "cell_type": "code",
   "execution_count": 13,
   "metadata": {
    "slideshow": {
     "slide_type": "subslide"
    }
   },
   "outputs": [
    {
     "data": {
      "text/plain": [
       "[\"'20170515003806', '5653406', '1', '564', '4104', 'dart3.xsd'\",\n",
       " \"'20170515003806', '5653406', '2', '12691', '409', 'dart3.xsd'\"]"
      ]
     },
     "execution_count": 13,
     "metadata": {},
     "output_type": "execute_result"
    }
   ],
   "source": [
    "import re\n",
    "\n",
    "source_text = '''\n",
    "  ...  임의 문자열 ...\n",
    "  click: function() {viewDoc('20170515003806', '5653406', '1', '564', '4104', 'dart3.xsd');}\n",
    " \n",
    " ...  임의 문자열 ...\n",
    "  click: function() {viewDoc('20170515003806', '5653406', '2', '12691', '409', 'dart3.xsd');}\n",
    "\n",
    " ...  임의 문자열 ...\n",
    "'''\n",
    "\n",
    "matches = re.findall('viewDoc\\((.*)\\);', source_text)\n",
    "matches"
   ]
  },
  {
   "cell_type": "code",
   "execution_count": 16,
   "metadata": {
    "slideshow": {
     "slide_type": "-"
    }
   },
   "outputs": [
    {
     "data": {
      "text/plain": [
       "\"'20170515003806', '5653406', '1', '564', '4104', 'dart3.xsd'\""
      ]
     },
     "execution_count": 16,
     "metadata": {},
     "output_type": "execute_result"
    }
   ],
   "source": [
    "matches[0]"
   ]
  },
  {
   "cell_type": "code",
   "execution_count": 19,
   "metadata": {
    "slideshow": {
     "slide_type": "-"
    }
   },
   "outputs": [
    {
     "data": {
      "text/plain": [
       "['20170515003806', ' 5653406', ' 1', ' 564', ' 4104', ' dart3.xsd']"
      ]
     },
     "execution_count": 19,
     "metadata": {},
     "output_type": "execute_result"
    }
   ],
   "source": [
    "matches[0].replace(\"'\", \"\").split(\",\")"
   ]
  },
  {
   "cell_type": "markdown",
   "metadata": {
    "slideshow": {
     "slide_type": "slide"
    }
   },
   "source": [
    "# 함수로 정리"
   ]
  },
  {
   "cell_type": "code",
   "execution_count": 20,
   "metadata": {
    "collapsed": true,
    "slideshow": {
     "slide_type": "-"
    }
   },
   "outputs": [],
   "source": [
    "import requests\n",
    "import re\n",
    "\n",
    "def get_report_doc_urls(rcp_no):\n",
    "    '''접수번호(rcp_no)에 해당하는 모든 하위 문서 URL을 추출\n",
    "    '''\n",
    "    doc_urls = []\n",
    "    url = \"http://dart.fss.or.kr/dsaf001/main.do?rcpNo=%s\" % (rcp_no)\n",
    "    r = requests.get(url)\n",
    "    reg = re.compile('viewDoc\\((.*)\\);')\n",
    "    params = []\n",
    "    matches = reg.findall(r.text)\n",
    "    for m in matches: \n",
    "        params.append(m.replace(\"'\", \"\").replace(\" \", \"\").split(\",\"))\n",
    "   \n",
    "    doc_url_tmpl = \"http://dart.fss.or.kr/report/viewer.do?rcpNo=%s&dcmNo=%s&eleId=%s&offset=%s&length=%s&dtd=%s\" \n",
    "\n",
    "    for p in params:\n",
    "        if rcp_no == p[0]:\n",
    "            doc_urls.append( doc_url_tmpl % tuple(p) )\n",
    "        \n",
    "    return doc_urls"
   ]
  },
  {
   "cell_type": "code",
   "execution_count": 23,
   "metadata": {
    "slideshow": {
     "slide_type": "subslide"
    }
   },
   "outputs": [
    {
     "name": "stdout",
     "output_type": "stream",
     "text": [
      "하위보고서 갯수: 34\n",
      "http://dart.fss.or.kr/report/viewer.do?rcpNo=20170515003806&dcmNo=5653406&eleId=1&offset=564&length=4104&dtd=dart3.xsd\n",
      "http://dart.fss.or.kr/report/viewer.do?rcpNo=20170515003806&dcmNo=5653406&eleId=2&offset=12691&length=409&dtd=dart3.xsd\n",
      "http://dart.fss.or.kr/report/viewer.do?rcpNo=20170515003806&dcmNo=5653406&eleId=3&offset=13104&length=333222&dtd=dart3.xsd\n",
      "http://dart.fss.or.kr/report/viewer.do?rcpNo=20170515003806&dcmNo=5653406&eleId=4&offset=13194&length=234991&dtd=dart3.xsd\n",
      "http://dart.fss.or.kr/report/viewer.do?rcpNo=20170515003806&dcmNo=5653406&eleId=5&offset=248189&length=19537&dtd=dart3.xsd\n",
      "http://dart.fss.or.kr/report/viewer.do?rcpNo=20170515003806&dcmNo=5653406&eleId=6&offset=267730&length=4064&dtd=dart3.xsd\n",
      "http://dart.fss.or.kr/report/viewer.do?rcpNo=20170515003806&dcmNo=5653406&eleId=7&offset=271798&length=58143&dtd=dart3.xsd\n",
      "http://dart.fss.or.kr/report/viewer.do?rcpNo=20170515003806&dcmNo=5653406&eleId=8&offset=329945&length=7183&dtd=dart3.xsd\n",
      "http://dart.fss.or.kr/report/viewer.do?rcpNo=20170515003806&dcmNo=5653406&eleId=9&offset=337132&length=9180&dtd=dart3.xsd\n",
      "http://dart.fss.or.kr/report/viewer.do?rcpNo=20170515003806&dcmNo=5653406&eleId=10&offset=346330&length=212575&dtd=dart3.xsd\n",
      "http://dart.fss.or.kr/report/viewer.do?rcpNo=20170515003806&dcmNo=5653406&eleId=11&offset=558909&length=1130633&dtd=dart3.xsd\n",
      "http://dart.fss.or.kr/report/viewer.do?rcpNo=20170515003806&dcmNo=5653406&eleId=12&offset=559027&length=21948&dtd=dart3.xsd\n",
      "http://dart.fss.or.kr/report/viewer.do?rcpNo=20170515003806&dcmNo=5653406&eleId=13&offset=581212&length=147285&dtd=dart3.xsd\n",
      "http://dart.fss.or.kr/report/viewer.do?rcpNo=20170515003806&dcmNo=5653406&eleId=14&offset=728501&length=373055&dtd=dart3.xsd\n",
      "http://dart.fss.or.kr/report/viewer.do?rcpNo=20170515003806&dcmNo=5653406&eleId=15&offset=1101560&length=112166&dtd=dart3.xsd\n",
      "http://dart.fss.or.kr/report/viewer.do?rcpNo=20170515003806&dcmNo=5653406&eleId=16&offset=1213730&length=282598&dtd=dart3.xsd\n",
      "http://dart.fss.or.kr/report/viewer.do?rcpNo=20170515003806&dcmNo=5653406&eleId=17&offset=1496358&length=193170&dtd=dart3.xsd\n",
      "http://dart.fss.or.kr/report/viewer.do?rcpNo=20170515003806&dcmNo=5653406&eleId=18&offset=1689546&length=11311&dtd=dart3.xsd\n",
      "http://dart.fss.or.kr/report/viewer.do?rcpNo=20170515003806&dcmNo=5653406&eleId=19&offset=1700861&length=242&dtd=dart3.xsd\n",
      "http://dart.fss.or.kr/report/viewer.do?rcpNo=20170515003806&dcmNo=5653406&eleId=20&offset=1701107&length=41421&dtd=dart3.xsd\n",
      "http://dart.fss.or.kr/report/viewer.do?rcpNo=20170515003806&dcmNo=5653406&eleId=21&offset=1701220&length=29966&dtd=dart3.xsd\n",
      "http://dart.fss.or.kr/report/viewer.do?rcpNo=20170515003806&dcmNo=5653406&eleId=22&offset=1731190&length=10535&dtd=dart3.xsd\n",
      "http://dart.fss.or.kr/report/viewer.do?rcpNo=20170515003806&dcmNo=5653406&eleId=23&offset=1741729&length=785&dtd=dart3.xsd\n",
      "http://dart.fss.or.kr/report/viewer.do?rcpNo=20170515003806&dcmNo=5653406&eleId=24&offset=1742532&length=56652&dtd=dart3.xsd\n",
      "http://dart.fss.or.kr/report/viewer.do?rcpNo=20170515003806&dcmNo=5653406&eleId=25&offset=1799188&length=581706&dtd=dart3.xsd\n",
      "http://dart.fss.or.kr/report/viewer.do?rcpNo=20170515003806&dcmNo=5653406&eleId=26&offset=1799300&length=568413&dtd=dart3.xsd\n",
      "http://dart.fss.or.kr/report/viewer.do?rcpNo=20170515003806&dcmNo=5653406&eleId=27&offset=2367717&length=13163&dtd=dart3.xsd\n",
      "http://dart.fss.or.kr/report/viewer.do?rcpNo=20170515003806&dcmNo=5653406&eleId=28&offset=2380898&length=478855&dtd=dart3.xsd\n",
      "http://dart.fss.or.kr/report/viewer.do?rcpNo=20170515003806&dcmNo=5653406&eleId=29&offset=2859757&length=46462&dtd=dart3.xsd\n",
      "http://dart.fss.or.kr/report/viewer.do?rcpNo=20170515003806&dcmNo=5653406&eleId=30&offset=2906223&length=63735&dtd=dart3.xsd\n",
      "http://dart.fss.or.kr/report/viewer.do?rcpNo=20170515003806&dcmNo=5653406&eleId=31&offset=2969962&length=337&dtd=dart3.xsd\n",
      "http://dart.fss.or.kr/report/viewer.do?rcpNo=20170515003806&dcmNo=5653406&eleId=32&offset=2970054&length=112&dtd=dart3.xsd\n",
      "http://dart.fss.or.kr/report/viewer.do?rcpNo=20170515003806&dcmNo=5653406&eleId=33&offset=2970170&length=115&dtd=dart3.xsd\n",
      "http://dart.fss.or.kr/report/viewer.do?rcpNo=20170515003806&dcmNo=5653406&eleId=1&offset=564&length=4104&dtd=dart3.xsd\n"
     ]
    }
   ],
   "source": [
    "# 사업 보고서 하위 문서 전체\n",
    "\n",
    "print('하위보고서 갯수:', len(doc_urls))\n",
    "\n",
    "doc_urls = get_report_doc_urls('20170515003806')\n",
    "for url in doc_urls:\n",
    "    print (url)\n",
    "    \n"
   ]
  },
  {
   "cell_type": "markdown",
   "metadata": {
    "slideshow": {
     "slide_type": "slide"
    }
   },
   "source": [
    "# Summary\n",
    "\n",
    "* 정규식으로 데이터 추출, 'viewDoc\\((.*)\\);' 사이 문자열\n",
    "* 개별 보고서와 하위 보고서 URL"
   ]
  },
  {
   "cell_type": "markdown",
   "metadata": {
    "slideshow": {
     "slide_type": "notes"
    }
   },
   "source": [
    "----\n",
    "### 2018 FinanceData.KR http://fb.com/financedata"
   ]
  }
 ],
 "metadata": {
  "celltoolbar": "Slideshow",
  "kernelspec": {
   "display_name": "Python 3",
   "language": "python",
   "name": "python3"
  },
  "language_info": {
   "codemirror_mode": {
    "name": "ipython",
    "version": 3
   },
   "file_extension": ".py",
   "mimetype": "text/x-python",
   "name": "python",
   "nbconvert_exporter": "python",
   "pygments_lexer": "ipython3",
   "version": "3.5.2"
  }
 },
 "nbformat": 4,
 "nbformat_minor": 2
}
