{
 "cells": [
  {
   "cell_type": "markdown",
   "metadata": {
    "slideshow": {
     "slide_type": "slide"
    }
   },
   "source": [
    "# Python Basics for Data Science - PART 6\n",
    "(파이낸스 데이터 분석을 위한 파이썬 언어 기본)\n",
    "\n",
    "###  날짜와 시간, 요약 통계, 파일 입출력\n",
    "\n",
    "<img width=\"300\" src=\"http://i.imgur.com/tHmNhjm.png\" >\n",
    "\n",
    "\n",
    "#### 2018 FinanceData.KR http://financedata.kr\n",
    "<!-- TEASER_END -->"
   ]
  },
  {
   "cell_type": "markdown",
   "metadata": {
    "slideshow": {
     "slide_type": "slide"
    }
   },
   "source": [
    "# time\n",
    "* 유닉스 타임(Unix time, Epoch time, POSIX time)\n",
    "* 1970년 1월 1일 0시 이후 경과시간을 초로 환산        "
   ]
  },
  {
   "cell_type": "code",
   "execution_count": 1,
   "metadata": {
    "slideshow": {
     "slide_type": "-"
    }
   },
   "outputs": [
    {
     "name": "stdout",
     "output_type": "stream",
     "text": [
      "1970년 1월 1일 이후 초: 1520673789.2706378\n"
     ]
    }
   ],
   "source": [
    "# 타임스탬프\n",
    "import time\n",
    "\n",
    "timestamp = time.time()\n",
    "print(\"1970년 1월 1일 이후 초:\", timestamp)"
   ]
  },
  {
   "cell_type": "code",
   "execution_count": 2,
   "metadata": {
    "slideshow": {
     "slide_type": "-"
    }
   },
   "outputs": [
    {
     "data": {
      "text/plain": [
       "datetime.datetime(2018, 3, 10, 18, 23, 9, 270638)"
      ]
     },
     "execution_count": 2,
     "metadata": {},
     "output_type": "execute_result"
    }
   ],
   "source": [
    "# 타임스탬프를 datetime로 변환\n",
    "from datetime import datetime\n",
    "\n",
    "dt = datetime.fromtimestamp(timestamp)\n",
    "dt"
   ]
  },
  {
   "cell_type": "markdown",
   "metadata": {
    "slideshow": {
     "slide_type": "slide"
    }
   },
   "source": [
    "# datetime"
   ]
  },
  {
   "cell_type": "code",
   "execution_count": 3,
   "metadata": {
    "slideshow": {
     "slide_type": "-"
    }
   },
   "outputs": [
    {
     "name": "stdout",
     "output_type": "stream",
     "text": [
      "2018-03-10 18:23:09.304421\n"
     ]
    }
   ],
   "source": [
    "# 현재 시간 얻기\n",
    "from datetime import datetime\n",
    "now = datetime.now() \n",
    "\n",
    "print (now)"
   ]
  },
  {
   "cell_type": "code",
   "execution_count": 4,
   "metadata": {
    "slideshow": {
     "slide_type": "-"
    }
   },
   "outputs": [
    {
     "data": {
      "text/plain": [
       "(2018, 3, 10)"
      ]
     },
     "execution_count": 4,
     "metadata": {},
     "output_type": "execute_result"
    }
   ],
   "source": [
    "dt.year, dt.month, dt.day"
   ]
  },
  {
   "cell_type": "code",
   "execution_count": 5,
   "metadata": {
    "slideshow": {
     "slide_type": "-"
    }
   },
   "outputs": [
    {
     "data": {
      "text/plain": [
       "(18, 23, 9, 270638)"
      ]
     },
     "execution_count": 5,
     "metadata": {},
     "output_type": "execute_result"
    }
   ],
   "source": [
    "dt.hour, dt.minute, dt.second, dt.microsecond"
   ]
  },
  {
   "cell_type": "code",
   "execution_count": 6,
   "metadata": {
    "slideshow": {
     "slide_type": "subslide"
    }
   },
   "outputs": [
    {
     "data": {
      "text/plain": [
       "datetime.datetime(2018, 10, 5, 0, 0)"
      ]
     },
     "execution_count": 6,
     "metadata": {},
     "output_type": "execute_result"
    }
   ],
   "source": [
    "# 날짜와 시간을 지정하여 날짜 객체 만들기\n",
    "\n",
    "dt = datetime(2018, 10, 5)\n",
    "dt"
   ]
  },
  {
   "cell_type": "code",
   "execution_count": 7,
   "metadata": {
    "slideshow": {
     "slide_type": "subslide"
    }
   },
   "outputs": [
    {
     "data": {
      "text/plain": [
       "datetime.datetime(2018, 10, 5, 14, 50, 10)"
      ]
     },
     "execution_count": 7,
     "metadata": {},
     "output_type": "execute_result"
    }
   ],
   "source": [
    "# 날짜와 시간을 지정하여 날짜 객체 만들기\n",
    "\n",
    "dt = datetime(2018, 10, 5, 14, 50, 10)\n",
    "dt"
   ]
  },
  {
   "cell_type": "code",
   "execution_count": 8,
   "metadata": {
    "slideshow": {
     "slide_type": "subslide"
    }
   },
   "outputs": [
    {
     "name": "stdout",
     "output_type": "stream",
     "text": [
      "2018-03-10 18:23:09.361050\n",
      "2018 3 10 18 23\n",
      "2018-03-10\n",
      "2018-03-10\n"
     ]
    }
   ],
   "source": [
    "# 현재 시간과 날짜 포맷팅\n",
    "\n",
    "from datetime import datetime\n",
    "now = datetime.now()\n",
    "\n",
    "print (now)\n",
    "print (now.year, now.month, now.day, now.hour, now.minute)\n",
    "print (\"%d-%02d-%02d\" % (now.year, now.month, now.day))\n",
    "print (\"{:d}-{:02d}-{:02d}\".format(now.year, now.month, now.day))"
   ]
  },
  {
   "cell_type": "markdown",
   "metadata": {
    "slideshow": {
     "slide_type": "slide"
    }
   },
   "source": [
    "# datetime 과 문자열"
   ]
  },
  {
   "cell_type": "code",
   "execution_count": 9,
   "metadata": {
    "slideshow": {
     "slide_type": "-"
    }
   },
   "outputs": [
    {
     "name": "stdout",
     "output_type": "stream",
     "text": [
      "2017-03-10 11:00:00\n"
     ]
    }
   ],
   "source": [
    "# 문자열을 시간으로 strptime()\n",
    "\n",
    "s = \"2017년 3월 10일 11:00\"\n",
    "dt = datetime.strptime(s, \"%Y년 %m월 %d일 %H:%M\")\n",
    "print(dt)"
   ]
  },
  {
   "cell_type": "code",
   "execution_count": 10,
   "metadata": {
    "slideshow": {
     "slide_type": "-"
    }
   },
   "outputs": [
    {
     "name": "stdout",
     "output_type": "stream",
     "text": [
      "2018-03-10\n",
      "2018-03-10 18:23:09\n"
     ]
    }
   ],
   "source": [
    "# 시간을 문자열로  strftime()\n",
    "\n",
    "print( now.strftime(\"%Y-%m-%d\") )\n",
    "print( now.strftime(\"%Y-%m-%d %H:%M:%S\") )"
   ]
  },
  {
   "cell_type": "markdown",
   "metadata": {
    "slideshow": {
     "slide_type": "slide"
    }
   },
   "source": [
    "# 날짜 연산"
   ]
  },
  {
   "cell_type": "code",
   "execution_count": 11,
   "metadata": {
    "slideshow": {
     "slide_type": "-"
    }
   },
   "outputs": [
    {
     "data": {
      "text/plain": [
       "datetime.datetime(2018, 3, 10, 18, 23, 9, 393881)"
      ]
     },
     "execution_count": 11,
     "metadata": {},
     "output_type": "execute_result"
    }
   ],
   "source": [
    "# 오늘 날짜, 현재 시간\n",
    "\n",
    "datetime.now()"
   ]
  },
  {
   "cell_type": "code",
   "execution_count": 12,
   "metadata": {
    "slideshow": {
     "slide_type": "subslide"
    }
   },
   "outputs": [
    {
     "data": {
      "text/plain": [
       "99"
      ]
     },
     "execution_count": 12,
     "metadata": {},
     "output_type": "execute_result"
    }
   ],
   "source": [
    "# 3.1운동 이후 경과 년 수\n",
    "\n",
    "start = datetime(1919, 3, 1)\n",
    "today = datetime.now() \n",
    "\n",
    "delta = today - start\n",
    "int(delta.days / 365)"
   ]
  },
  {
   "cell_type": "code",
   "execution_count": 13,
   "metadata": {
    "slideshow": {
     "slide_type": "subslide"
    }
   },
   "outputs": [
    {
     "data": {
      "text/plain": [
       "datetime.datetime(2017, 11, 30, 18, 23, 9, 417610)"
      ]
     },
     "execution_count": 13,
     "metadata": {},
     "output_type": "execute_result"
    }
   ],
   "source": [
    "# 오늘 부터 100일전 날짜\n",
    "from datetime import datetime, timedelta\n",
    "\n",
    "theday = datetime.now() - timedelta(days=100)\n",
    "theday"
   ]
  },
  {
   "cell_type": "code",
   "execution_count": 14,
   "metadata": {
    "slideshow": {
     "slide_type": "-"
    }
   },
   "outputs": [
    {
     "data": {
      "text/plain": [
       "datetime.datetime(2018, 3, 12, 18, 23, 9, 428190)"
      ]
     },
     "execution_count": 14,
     "metadata": {},
     "output_type": "execute_result"
    }
   ],
   "source": [
    "# 현재 부터 48시간 이후\n",
    "\n",
    "theday = datetime.now() + timedelta(hours=48)\n",
    "theday"
   ]
  },
  {
   "cell_type": "markdown",
   "metadata": {
    "slideshow": {
     "slide_type": "slide"
    }
   },
   "source": [
    "# 요약 통계량"
   ]
  },
  {
   "cell_type": "code",
   "execution_count": 15,
   "metadata": {
    "slideshow": {
     "slide_type": "-"
    }
   },
   "outputs": [
    {
     "name": "stdout",
     "output_type": "stream",
     "text": [
      "count =  10\n",
      "sum =  0.73\n",
      "max =  0.28\n",
      "min =  -0.14\n"
     ]
    }
   ],
   "source": [
    "data = [0.13, -0.05, 0.15, 0.11, 0.15, -0.07, 0.25, 0.28, -0.14, -0.08 ]\n",
    "\n",
    "print( 'count = ', len(data) )\n",
    "print( 'sum = ', sum(data) )\n",
    "print( 'max = ', max(data) )\n",
    "print( 'min = ', min(data) )"
   ]
  },
  {
   "cell_type": "code",
   "execution_count": 16,
   "metadata": {
    "slideshow": {
     "slide_type": "subslide"
    }
   },
   "outputs": [
    {
     "name": "stdout",
     "output_type": "stream",
     "text": [
      "평균 수익률 = 7.3\n"
     ]
    }
   ],
   "source": [
    "data = [0.13, -0.05, 0.15, 0.11, 0.15, -0.07, 0.25, 0.28, -0.14, -0.08 ]\n",
    "\n",
    "avg = sum(data) / len(data)\n",
    "\n",
    "print( \"평균 수익률 = {:.1f}\".format(avg * 100) )"
   ]
  },
  {
   "cell_type": "code",
   "execution_count": 17,
   "metadata": {
    "collapsed": true,
    "slideshow": {
     "slide_type": "subslide"
    }
   },
   "outputs": [],
   "source": [
    "# 분산과 표준편차\n",
    "\n",
    "data = [0.13, -0.05, 0.15, 0.11, 0.15, -0.07, 0.25, 0.28, -0.14, -0.08 ]\n",
    "\n",
    "def ret_variance(data):\n",
    "    avg = sum(data) / len(data)\n",
    "    var_sum = 0\n",
    "    for val in data:\n",
    "        var_sum += (val - avg) ** 2\n",
    "    return var_sum / len(data)\n",
    "\n",
    "def red_std_dev(variance):\n",
    "    return variance ** 0.5"
   ]
  },
  {
   "cell_type": "code",
   "execution_count": 18,
   "metadata": {
    "slideshow": {
     "slide_type": "subslide"
    }
   },
   "outputs": [
    {
     "name": "stdout",
     "output_type": "stream",
     "text": [
      "분산(variance) = 0.02\n",
      "표준편차(standard deviation) = 0.14\n"
     ]
    }
   ],
   "source": [
    "# 분산(variance)은 편차 제곱의 평균\n",
    "var = ret_variance(data)\n",
    "print (\"분산(variance) = {:.2f}\".format(var))\n",
    "\n",
    "# 표준편차(SD, standard deviation): 분산(variance)의 제곱근\n",
    "sd = red_std_dev(var)\n",
    "print (\"표준편차(standard deviation) = {:.2f}\".format(sd))"
   ]
  },
  {
   "cell_type": "markdown",
   "metadata": {
    "slideshow": {
     "slide_type": "slide"
    }
   },
   "source": [
    "# 파일 입출력"
   ]
  },
  {
   "cell_type": "code",
   "execution_count": 19,
   "metadata": {
    "collapsed": true,
    "slideshow": {
     "slide_type": "-"
    }
   },
   "outputs": [],
   "source": [
    "# 쓰기\n",
    "my_list = [i**2 for i in range(1,11)]\n",
    "\n",
    "fn = \"output.txt\"\n",
    "with open(fn, \"w\") as f:\n",
    "    f.write(str(my_list))"
   ]
  },
  {
   "cell_type": "code",
   "execution_count": 20,
   "metadata": {
    "slideshow": {
     "slide_type": "-"
    }
   },
   "outputs": [
    {
     "name": "stdout",
     "output_type": "stream",
     "text": [
      "[1, 4, 9, 16, 25, 36, 49, 64, 81, 100]\n"
     ]
    }
   ],
   "source": [
    "# 읽기\n",
    "fn = \"output.txt\"\n",
    "with open(fn, \"r\") as f:\n",
    "    contents = f.read()\n",
    "    \n",
    "print(contents)"
   ]
  },
  {
   "cell_type": "markdown",
   "metadata": {
    "collapsed": true,
    "slideshow": {
     "slide_type": "slide"
    }
   },
   "source": [
    "# 리뷰\n",
    "* time, datetime\n",
    "* datetime과 문자열 사이 변환 strptime(), strftime()\n",
    "* 날짜 연산 timedelta()\n",
    "* len(), sum(), max(), min(), 평균, 분산, 표준편차\n",
    "* 파일 입출력: open(), f.read(), f.write()"
   ]
  },
  {
   "cell_type": "markdown",
   "metadata": {
    "slideshow": {
     "slide_type": "notes"
    }
   },
   "source": [
    "----\n",
    "#### 2017 FinanceData.KR http://fb.com/financedata"
   ]
  }
 ],
 "metadata": {
  "celltoolbar": "Slideshow",
  "kernelspec": {
   "display_name": "Python 3",
   "language": "python",
   "name": "python3"
  },
  "language_info": {
   "codemirror_mode": {
    "name": "ipython",
    "version": 3
   },
   "file_extension": ".py",
   "mimetype": "text/x-python",
   "name": "python",
   "nbconvert_exporter": "python",
   "pygments_lexer": "ipython3",
   "version": "3.5.2"
  }
 },
 "nbformat": 4,
 "nbformat_minor": 2
}
