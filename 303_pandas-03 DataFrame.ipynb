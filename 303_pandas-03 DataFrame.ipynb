{
 "cells": [
  {
   "cell_type": "markdown",
   "metadata": {
    "slideshow": {
     "slide_type": "slide"
    }
   },
   "source": [
    "# pandas-03 DataFrame\n",
    "\n",
    "<img src=\"http://goo.gl/ht49rJ\" >\n",
    "\n",
    "#### 2017 FinanceData http://fb.com/financedata\n"
   ]
  },
  {
   "cell_type": "code",
   "execution_count": 1,
   "metadata": {
    "collapsed": true,
    "slideshow": {
     "slide_type": "slide"
    }
   },
   "outputs": [],
   "source": [
    "# 하나의 셀에서 여러 값을 출력하기 위한 주피터(IPython) 옵션 설정\n",
    "from IPython.core.interactiveshell import InteractiveShell\n",
    "InteractiveShell.ast_node_interactivity = \"all\""
   ]
  },
  {
   "cell_type": "markdown",
   "metadata": {
    "slideshow": {
     "slide_type": "slide"
    }
   },
   "source": [
    "# DataFrame\n",
    "* 다양한 데이터를 포함할 수 있는 2차원 자료구조\n",
    "* 간단한게 말하면 시리즈(Series) 객체들의 딕셔너리\n",
    "* 스프레드시트와 시트와 유사"
   ]
  },
  {
   "cell_type": "markdown",
   "metadata": {
    "slideshow": {
     "slide_type": "slide"
    }
   },
   "source": [
    "# DataFrame 구성\n",
    "DataFrame 은 columns 기반\n",
    "* df.columns\n",
    "* df.index\n",
    "* df.values\n",
    "\n",
    "(참고: Series는 index, values로 구성)"
   ]
  },
  {
   "cell_type": "code",
   "execution_count": 2,
   "metadata": {
    "slideshow": {
     "slide_type": "slide"
    }
   },
   "outputs": [
    {
     "data": {
      "text/html": [
       "<div>\n",
       "<style>\n",
       "    .dataframe thead tr:only-child th {\n",
       "        text-align: right;\n",
       "    }\n",
       "\n",
       "    .dataframe thead th {\n",
       "        text-align: left;\n",
       "    }\n",
       "\n",
       "    .dataframe tbody tr th {\n",
       "        vertical-align: top;\n",
       "    }\n",
       "</style>\n",
       "<table border=\"1\" class=\"dataframe\">\n",
       "  <thead>\n",
       "    <tr style=\"text-align: right;\">\n",
       "      <th></th>\n",
       "      <th>A</th>\n",
       "      <th>B</th>\n",
       "      <th>C</th>\n",
       "    </tr>\n",
       "  </thead>\n",
       "  <tbody>\n",
       "    <tr>\n",
       "      <th>1</th>\n",
       "      <td>10</td>\n",
       "      <td>20</td>\n",
       "      <td>30</td>\n",
       "    </tr>\n",
       "    <tr>\n",
       "      <th>2</th>\n",
       "      <td>40</td>\n",
       "      <td>50</td>\n",
       "      <td>60</td>\n",
       "    </tr>\n",
       "    <tr>\n",
       "      <th>3</th>\n",
       "      <td>70</td>\n",
       "      <td>80</td>\n",
       "      <td>90</td>\n",
       "    </tr>\n",
       "  </tbody>\n",
       "</table>\n",
       "</div>"
      ],
      "text/plain": [
       "    A   B   C\n",
       "1  10  20  30\n",
       "2  40  50  60\n",
       "3  70  80  90"
      ]
     },
     "execution_count": 2,
     "metadata": {},
     "output_type": "execute_result"
    }
   ],
   "source": [
    "# 간단한 예\n",
    "import pandas as pd\n",
    "\n",
    "values = [[10, 20, 30], [40, 50, 60], [70, 80, 90]]\n",
    "index = [1,2,3]\n",
    "columns = ['A', 'B', 'C']\n",
    "\n",
    "df = pd.DataFrame(values, index=index, columns=columns)\n",
    "df"
   ]
  },
  {
   "cell_type": "markdown",
   "metadata": {
    "slideshow": {
     "slide_type": "slide"
    }
   },
   "source": [
    "# 예제 데이터\n",
    "\n",
    "삼성전자, LG전자 2017년 1월~4월 광고비 지출 (단위, 천원)\n",
    "\n",
    "\n",
    "|  날짜   | 삼성전자 | LG전자 |\n",
    "| ----- | ----- | --- |\n",
    "| 2016년 10월   | 23353920 |  13611721 |\n",
    "| 2016년 11월   | 21405206 |  14520911 |\n",
    "| 2016년 12월   | 15932536 |  20073843 |\n",
    "| 2017년 1월   | 11286761 |  5911641 |\n",
    "| 2017년 2월   | 12195995 |  4220130 |\n",
    "| 2017년 3월   | 12922589 |  14147994 |\n",
    "\n",
    "https://www.adic.or.kr (광고정보센터)"
   ]
  },
  {
   "cell_type": "markdown",
   "metadata": {
    "slideshow": {
     "slide_type": "slide"
    }
   },
   "source": [
    "# DataFame 생성\n",
    "배열, 리스트, 튜플, ndarray 등으로 부터 생성할 수 있다"
   ]
  },
  {
   "cell_type": "code",
   "execution_count": 3,
   "metadata": {},
   "outputs": [
    {
     "data": {
      "text/html": [
       "<div>\n",
       "<style>\n",
       "    .dataframe thead tr:only-child th {\n",
       "        text-align: right;\n",
       "    }\n",
       "\n",
       "    .dataframe thead th {\n",
       "        text-align: left;\n",
       "    }\n",
       "\n",
       "    .dataframe tbody tr th {\n",
       "        vertical-align: top;\n",
       "    }\n",
       "</style>\n",
       "<table border=\"1\" class=\"dataframe\">\n",
       "  <thead>\n",
       "    <tr style=\"text-align: right;\">\n",
       "      <th></th>\n",
       "      <th>0</th>\n",
       "      <th>1</th>\n",
       "      <th>2</th>\n",
       "    </tr>\n",
       "  </thead>\n",
       "  <tbody>\n",
       "    <tr>\n",
       "      <th>0</th>\n",
       "      <td>2016-10</td>\n",
       "      <td>23353920</td>\n",
       "      <td>13611721</td>\n",
       "    </tr>\n",
       "    <tr>\n",
       "      <th>1</th>\n",
       "      <td>2016-11</td>\n",
       "      <td>21405206</td>\n",
       "      <td>14520911</td>\n",
       "    </tr>\n",
       "    <tr>\n",
       "      <th>2</th>\n",
       "      <td>2016-12</td>\n",
       "      <td>15932536</td>\n",
       "      <td>20073843</td>\n",
       "    </tr>\n",
       "    <tr>\n",
       "      <th>3</th>\n",
       "      <td>2017-01</td>\n",
       "      <td>11286761</td>\n",
       "      <td>5911641</td>\n",
       "    </tr>\n",
       "    <tr>\n",
       "      <th>4</th>\n",
       "      <td>2017-02</td>\n",
       "      <td>12195995</td>\n",
       "      <td>4220130</td>\n",
       "    </tr>\n",
       "    <tr>\n",
       "      <th>5</th>\n",
       "      <td>2017-03</td>\n",
       "      <td>12922589</td>\n",
       "      <td>14147994</td>\n",
       "    </tr>\n",
       "  </tbody>\n",
       "</table>\n",
       "</div>"
      ],
      "text/plain": [
       "         0         1         2\n",
       "0  2016-10  23353920  13611721\n",
       "1  2016-11  21405206  14520911\n",
       "2  2016-12  15932536  20073843\n",
       "3  2017-01  11286761   5911641\n",
       "4  2017-02  12195995   4220130\n",
       "5  2017-03  12922589  14147994"
      ]
     },
     "execution_count": 3,
     "metadata": {},
     "output_type": "execute_result"
    }
   ],
   "source": [
    "# 리스트로 부터 생성하기\n",
    "\n",
    "values = [\n",
    "    ['2016-10', 23353920, 13611721], \n",
    "    ['2016-11', 21405206, 14520911], \n",
    "    ['2016-12', 15932536, 20073843], \n",
    "    ['2017-01', 11286761, 5911641], \n",
    "    ['2017-02', 12195995, 4220130],\n",
    "    ['2017-03', 12922589, 14147994],\n",
    "]\n",
    "\n",
    "df = pd.DataFrame(values)\n",
    "df"
   ]
  },
  {
   "cell_type": "code",
   "execution_count": 4,
   "metadata": {},
   "outputs": [
    {
     "data": {
      "text/html": [
       "<div>\n",
       "<style>\n",
       "    .dataframe thead tr:only-child th {\n",
       "        text-align: right;\n",
       "    }\n",
       "\n",
       "    .dataframe thead th {\n",
       "        text-align: left;\n",
       "    }\n",
       "\n",
       "    .dataframe tbody tr th {\n",
       "        vertical-align: top;\n",
       "    }\n",
       "</style>\n",
       "<table border=\"1\" class=\"dataframe\">\n",
       "  <thead>\n",
       "    <tr style=\"text-align: right;\">\n",
       "      <th></th>\n",
       "      <th>날짜</th>\n",
       "      <th>삼성전자</th>\n",
       "      <th>LG전자</th>\n",
       "    </tr>\n",
       "  </thead>\n",
       "  <tbody>\n",
       "    <tr>\n",
       "      <th>0</th>\n",
       "      <td>2016-10</td>\n",
       "      <td>23353920</td>\n",
       "      <td>13611721</td>\n",
       "    </tr>\n",
       "    <tr>\n",
       "      <th>1</th>\n",
       "      <td>2016-11</td>\n",
       "      <td>21405206</td>\n",
       "      <td>14520911</td>\n",
       "    </tr>\n",
       "    <tr>\n",
       "      <th>2</th>\n",
       "      <td>2016-12</td>\n",
       "      <td>15932536</td>\n",
       "      <td>20073843</td>\n",
       "    </tr>\n",
       "    <tr>\n",
       "      <th>3</th>\n",
       "      <td>2017-01</td>\n",
       "      <td>11286761</td>\n",
       "      <td>5911641</td>\n",
       "    </tr>\n",
       "    <tr>\n",
       "      <th>4</th>\n",
       "      <td>2017-02</td>\n",
       "      <td>12195995</td>\n",
       "      <td>4220130</td>\n",
       "    </tr>\n",
       "    <tr>\n",
       "      <th>5</th>\n",
       "      <td>2017-03</td>\n",
       "      <td>12922589</td>\n",
       "      <td>14147994</td>\n",
       "    </tr>\n",
       "  </tbody>\n",
       "</table>\n",
       "</div>"
      ],
      "text/plain": [
       "        날짜      삼성전자      LG전자\n",
       "0  2016-10  23353920  13611721\n",
       "1  2016-11  21405206  14520911\n",
       "2  2016-12  15932536  20073843\n",
       "3  2017-01  11286761   5911641\n",
       "4  2017-02  12195995   4220130\n",
       "5  2017-03  12922589  14147994"
      ]
     },
     "execution_count": 4,
     "metadata": {},
     "output_type": "execute_result"
    }
   ],
   "source": [
    "# 컬럼 지정하기\n",
    "\n",
    "df = pd.DataFrame(values, columns=['날짜', '삼성전자', 'LG전자'])\n",
    "df"
   ]
  },
  {
   "cell_type": "markdown",
   "metadata": {},
   "source": [
    "# 딕셔너리로 부터 생성"
   ]
  },
  {
   "cell_type": "code",
   "execution_count": 5,
   "metadata": {
    "slideshow": {
     "slide_type": "-"
    }
   },
   "outputs": [
    {
     "data": {
      "text/html": [
       "<div>\n",
       "<style>\n",
       "    .dataframe thead tr:only-child th {\n",
       "        text-align: right;\n",
       "    }\n",
       "\n",
       "    .dataframe thead th {\n",
       "        text-align: left;\n",
       "    }\n",
       "\n",
       "    .dataframe tbody tr th {\n",
       "        vertical-align: top;\n",
       "    }\n",
       "</style>\n",
       "<table border=\"1\" class=\"dataframe\">\n",
       "  <thead>\n",
       "    <tr style=\"text-align: right;\">\n",
       "      <th></th>\n",
       "      <th>LG전자</th>\n",
       "      <th>날짜</th>\n",
       "      <th>삼성전자</th>\n",
       "    </tr>\n",
       "  </thead>\n",
       "  <tbody>\n",
       "    <tr>\n",
       "      <th>0</th>\n",
       "      <td>13611721</td>\n",
       "      <td>2016-10</td>\n",
       "      <td>23353920</td>\n",
       "    </tr>\n",
       "    <tr>\n",
       "      <th>1</th>\n",
       "      <td>14520911</td>\n",
       "      <td>2016-11</td>\n",
       "      <td>21405206</td>\n",
       "    </tr>\n",
       "    <tr>\n",
       "      <th>2</th>\n",
       "      <td>20073843</td>\n",
       "      <td>2016-12</td>\n",
       "      <td>15932536</td>\n",
       "    </tr>\n",
       "    <tr>\n",
       "      <th>3</th>\n",
       "      <td>5911641</td>\n",
       "      <td>2017-01</td>\n",
       "      <td>11286761</td>\n",
       "    </tr>\n",
       "    <tr>\n",
       "      <th>4</th>\n",
       "      <td>4220130</td>\n",
       "      <td>2017-02</td>\n",
       "      <td>12195995</td>\n",
       "    </tr>\n",
       "    <tr>\n",
       "      <th>5</th>\n",
       "      <td>14147994</td>\n",
       "      <td>2017-03</td>\n",
       "      <td>12922589</td>\n",
       "    </tr>\n",
       "  </tbody>\n",
       "</table>\n",
       "</div>"
      ],
      "text/plain": [
       "       LG전자       날짜      삼성전자\n",
       "0  13611721  2016-10  23353920\n",
       "1  14520911  2016-11  21405206\n",
       "2  20073843  2016-12  15932536\n",
       "3   5911641  2017-01  11286761\n",
       "4   4220130  2017-02  12195995\n",
       "5  14147994  2017-03  12922589"
      ]
     },
     "execution_count": 5,
     "metadata": {},
     "output_type": "execute_result"
    }
   ],
   "source": [
    "# 딕셔너리로 부터 생성\n",
    "\n",
    "values = {\n",
    "    '날짜': ['2016-10', '2016-11', '2016-12', '2017-01', '2017-02', '2017-03'],\n",
    "    '삼성전자': [23353920, 21405206, 15932536, 11286761, 12195995, 12922589], \n",
    "    'LG전자': [13611721, 14520911, 20073843, 5911641, 4220130, 14147994]\n",
    "}\n",
    "\n",
    "df = pd.DataFrame(values)\n",
    "df"
   ]
  },
  {
   "cell_type": "markdown",
   "metadata": {
    "slideshow": {
     "slide_type": "slide"
    }
   },
   "source": [
    "# 컬럼 순서 지정하기\n",
    "파이썬의 딕셔너리는 순서가 보장되지 않는다. 순서를 명시하려면 columns를 지정한다."
   ]
  },
  {
   "cell_type": "code",
   "execution_count": 6,
   "metadata": {},
   "outputs": [
    {
     "data": {
      "text/html": [
       "<div>\n",
       "<style>\n",
       "    .dataframe thead tr:only-child th {\n",
       "        text-align: right;\n",
       "    }\n",
       "\n",
       "    .dataframe thead th {\n",
       "        text-align: left;\n",
       "    }\n",
       "\n",
       "    .dataframe tbody tr th {\n",
       "        vertical-align: top;\n",
       "    }\n",
       "</style>\n",
       "<table border=\"1\" class=\"dataframe\">\n",
       "  <thead>\n",
       "    <tr style=\"text-align: right;\">\n",
       "      <th></th>\n",
       "      <th>날짜</th>\n",
       "      <th>삼성전자</th>\n",
       "      <th>LG전자</th>\n",
       "    </tr>\n",
       "  </thead>\n",
       "  <tbody>\n",
       "    <tr>\n",
       "      <th>0</th>\n",
       "      <td>2016-10</td>\n",
       "      <td>23353920</td>\n",
       "      <td>13611721</td>\n",
       "    </tr>\n",
       "    <tr>\n",
       "      <th>1</th>\n",
       "      <td>2016-11</td>\n",
       "      <td>21405206</td>\n",
       "      <td>14520911</td>\n",
       "    </tr>\n",
       "    <tr>\n",
       "      <th>2</th>\n",
       "      <td>2016-12</td>\n",
       "      <td>15932536</td>\n",
       "      <td>20073843</td>\n",
       "    </tr>\n",
       "    <tr>\n",
       "      <th>3</th>\n",
       "      <td>2017-01</td>\n",
       "      <td>11286761</td>\n",
       "      <td>5911641</td>\n",
       "    </tr>\n",
       "    <tr>\n",
       "      <th>4</th>\n",
       "      <td>2017-02</td>\n",
       "      <td>12195995</td>\n",
       "      <td>4220130</td>\n",
       "    </tr>\n",
       "    <tr>\n",
       "      <th>5</th>\n",
       "      <td>2017-03</td>\n",
       "      <td>12922589</td>\n",
       "      <td>14147994</td>\n",
       "    </tr>\n",
       "  </tbody>\n",
       "</table>\n",
       "</div>"
      ],
      "text/plain": [
       "        날짜      삼성전자      LG전자\n",
       "0  2016-10  23353920  13611721\n",
       "1  2016-11  21405206  14520911\n",
       "2  2016-12  15932536  20073843\n",
       "3  2017-01  11286761   5911641\n",
       "4  2017-02  12195995   4220130\n",
       "5  2017-03  12922589  14147994"
      ]
     },
     "execution_count": 6,
     "metadata": {},
     "output_type": "execute_result"
    }
   ],
   "source": [
    "values = { \n",
    "    '날짜': ['2016-10', '2016-11', '2016-12', '2017-01', '2017-02', '2017-03'],\n",
    "    '삼성전자': [23353920, 21405206, 15932536, 11286761, 12195995, 12922589], \n",
    "    'LG전자': [13611721, 14520911, 20073843, 5911641, 4220130, 14147994]\n",
    "}\n",
    "\n",
    "df = pd.DataFrame(values, columns=['날짜', '삼성전자', 'LG전자'])\n",
    "df"
   ]
  },
  {
   "cell_type": "markdown",
   "metadata": {
    "slideshow": {
     "slide_type": "slide"
    }
   },
   "source": [
    "# DataFrame 살펴 보기 - index, columns, values \n",
    "df.index, df.columns, df.values"
   ]
  },
  {
   "cell_type": "code",
   "execution_count": 7,
   "metadata": {
    "slideshow": {
     "slide_type": "-"
    }
   },
   "outputs": [
    {
     "data": {
      "text/plain": [
       "RangeIndex(start=0, stop=6, step=1)"
      ]
     },
     "execution_count": 7,
     "metadata": {},
     "output_type": "execute_result"
    },
    {
     "data": {
      "text/plain": [
       "Index(['날짜', '삼성전자', 'LG전자'], dtype='object')"
      ]
     },
     "execution_count": 7,
     "metadata": {},
     "output_type": "execute_result"
    },
    {
     "data": {
      "text/plain": [
       "array([['2016-10', 23353920, 13611721],\n",
       "       ['2016-11', 21405206, 14520911],\n",
       "       ['2016-12', 15932536, 20073843],\n",
       "       ['2017-01', 11286761, 5911641],\n",
       "       ['2017-02', 12195995, 4220130],\n",
       "       ['2017-03', 12922589, 14147994]], dtype=object)"
      ]
     },
     "execution_count": 7,
     "metadata": {},
     "output_type": "execute_result"
    }
   ],
   "source": [
    "# 인덱스(index)\n",
    "df.index\n",
    "\n",
    "# 열(column)\n",
    "df.columns\n",
    "\n",
    "# 값 (2차원 배열)\n",
    "df.values"
   ]
  },
  {
   "cell_type": "markdown",
   "metadata": {
    "slideshow": {
     "slide_type": "slide"
    }
   },
   "source": [
    "# DataFrame 살펴 보기 - df.dtypes\n",
    "df.dtypes - 각 컬럼의 데이터 타입을 확인"
   ]
  },
  {
   "cell_type": "code",
   "execution_count": 8,
   "metadata": {},
   "outputs": [
    {
     "data": {
      "text/plain": [
       "날짜      object\n",
       "삼성전자     int64\n",
       "LG전자     int64\n",
       "dtype: object"
      ]
     },
     "execution_count": 8,
     "metadata": {},
     "output_type": "execute_result"
    }
   ],
   "source": [
    "# 열(column)과 타입\n",
    "df.dtypes"
   ]
  },
  {
   "cell_type": "markdown",
   "metadata": {},
   "source": [
    "# DataFrame 살펴 보기\n",
    "* df.head() - 앞 부분 보기\n",
    "* df.tail() - 뒷 부분 보기\n",
    "* len(df) - 행(row)의 수"
   ]
  },
  {
   "cell_type": "code",
   "execution_count": 9,
   "metadata": {},
   "outputs": [
    {
     "data": {
      "text/html": [
       "<div>\n",
       "<style>\n",
       "    .dataframe thead tr:only-child th {\n",
       "        text-align: right;\n",
       "    }\n",
       "\n",
       "    .dataframe thead th {\n",
       "        text-align: left;\n",
       "    }\n",
       "\n",
       "    .dataframe tbody tr th {\n",
       "        vertical-align: top;\n",
       "    }\n",
       "</style>\n",
       "<table border=\"1\" class=\"dataframe\">\n",
       "  <thead>\n",
       "    <tr style=\"text-align: right;\">\n",
       "      <th></th>\n",
       "      <th>날짜</th>\n",
       "      <th>삼성전자</th>\n",
       "      <th>LG전자</th>\n",
       "    </tr>\n",
       "  </thead>\n",
       "  <tbody>\n",
       "    <tr>\n",
       "      <th>0</th>\n",
       "      <td>2016-10</td>\n",
       "      <td>23353920</td>\n",
       "      <td>13611721</td>\n",
       "    </tr>\n",
       "    <tr>\n",
       "      <th>1</th>\n",
       "      <td>2016-11</td>\n",
       "      <td>21405206</td>\n",
       "      <td>14520911</td>\n",
       "    </tr>\n",
       "  </tbody>\n",
       "</table>\n",
       "</div>"
      ],
      "text/plain": [
       "        날짜      삼성전자      LG전자\n",
       "0  2016-10  23353920  13611721\n",
       "1  2016-11  21405206  14520911"
      ]
     },
     "execution_count": 9,
     "metadata": {},
     "output_type": "execute_result"
    },
    {
     "data": {
      "text/html": [
       "<div>\n",
       "<style>\n",
       "    .dataframe thead tr:only-child th {\n",
       "        text-align: right;\n",
       "    }\n",
       "\n",
       "    .dataframe thead th {\n",
       "        text-align: left;\n",
       "    }\n",
       "\n",
       "    .dataframe tbody tr th {\n",
       "        vertical-align: top;\n",
       "    }\n",
       "</style>\n",
       "<table border=\"1\" class=\"dataframe\">\n",
       "  <thead>\n",
       "    <tr style=\"text-align: right;\">\n",
       "      <th></th>\n",
       "      <th>날짜</th>\n",
       "      <th>삼성전자</th>\n",
       "      <th>LG전자</th>\n",
       "    </tr>\n",
       "  </thead>\n",
       "  <tbody>\n",
       "    <tr>\n",
       "      <th>4</th>\n",
       "      <td>2017-02</td>\n",
       "      <td>12195995</td>\n",
       "      <td>4220130</td>\n",
       "    </tr>\n",
       "    <tr>\n",
       "      <th>5</th>\n",
       "      <td>2017-03</td>\n",
       "      <td>12922589</td>\n",
       "      <td>14147994</td>\n",
       "    </tr>\n",
       "  </tbody>\n",
       "</table>\n",
       "</div>"
      ],
      "text/plain": [
       "        날짜      삼성전자      LG전자\n",
       "4  2017-02  12195995   4220130\n",
       "5  2017-03  12922589  14147994"
      ]
     },
     "execution_count": 9,
     "metadata": {},
     "output_type": "execute_result"
    },
    {
     "data": {
      "text/plain": [
       "6"
      ]
     },
     "execution_count": 9,
     "metadata": {},
     "output_type": "execute_result"
    }
   ],
   "source": [
    "# 앞 부분 보기 (기본 5행)\n",
    "df.head(2)\n",
    "\n",
    "# 뒷 부분 보기 (기본 5행)\n",
    "df.tail(2)\n",
    "\n",
    "# 행(row) 수 (df.shape[0] 와 동일하다)\n",
    "len(df)"
   ]
  },
  {
   "cell_type": "markdown",
   "metadata": {},
   "source": [
    "# 요약 통계량\n",
    "* df.describe() - 모든 컬럼의 기술통계(descriptive stats) 값"
   ]
  },
  {
   "cell_type": "code",
   "execution_count": 10,
   "metadata": {},
   "outputs": [
    {
     "data": {
      "text/html": [
       "<div>\n",
       "<style>\n",
       "    .dataframe thead tr:only-child th {\n",
       "        text-align: right;\n",
       "    }\n",
       "\n",
       "    .dataframe thead th {\n",
       "        text-align: left;\n",
       "    }\n",
       "\n",
       "    .dataframe tbody tr th {\n",
       "        vertical-align: top;\n",
       "    }\n",
       "</style>\n",
       "<table border=\"1\" class=\"dataframe\">\n",
       "  <thead>\n",
       "    <tr style=\"text-align: right;\">\n",
       "      <th></th>\n",
       "      <th>삼성전자</th>\n",
       "      <th>LG전자</th>\n",
       "    </tr>\n",
       "  </thead>\n",
       "  <tbody>\n",
       "    <tr>\n",
       "      <th>count</th>\n",
       "      <td>6.000000e+00</td>\n",
       "      <td>6.000000e+00</td>\n",
       "    </tr>\n",
       "    <tr>\n",
       "      <th>mean</th>\n",
       "      <td>1.618283e+07</td>\n",
       "      <td>1.208104e+07</td>\n",
       "    </tr>\n",
       "    <tr>\n",
       "      <th>std</th>\n",
       "      <td>5.084406e+06</td>\n",
       "      <td>5.938157e+06</td>\n",
       "    </tr>\n",
       "    <tr>\n",
       "      <th>min</th>\n",
       "      <td>1.128676e+07</td>\n",
       "      <td>4.220130e+06</td>\n",
       "    </tr>\n",
       "    <tr>\n",
       "      <th>25%</th>\n",
       "      <td>1.237764e+07</td>\n",
       "      <td>7.836661e+06</td>\n",
       "    </tr>\n",
       "    <tr>\n",
       "      <th>50%</th>\n",
       "      <td>1.442756e+07</td>\n",
       "      <td>1.387986e+07</td>\n",
       "    </tr>\n",
       "    <tr>\n",
       "      <th>75%</th>\n",
       "      <td>2.003704e+07</td>\n",
       "      <td>1.442768e+07</td>\n",
       "    </tr>\n",
       "    <tr>\n",
       "      <th>max</th>\n",
       "      <td>2.335392e+07</td>\n",
       "      <td>2.007384e+07</td>\n",
       "    </tr>\n",
       "  </tbody>\n",
       "</table>\n",
       "</div>"
      ],
      "text/plain": [
       "               삼성전자          LG전자\n",
       "count  6.000000e+00  6.000000e+00\n",
       "mean   1.618283e+07  1.208104e+07\n",
       "std    5.084406e+06  5.938157e+06\n",
       "min    1.128676e+07  4.220130e+06\n",
       "25%    1.237764e+07  7.836661e+06\n",
       "50%    1.442756e+07  1.387986e+07\n",
       "75%    2.003704e+07  1.442768e+07\n",
       "max    2.335392e+07  2.007384e+07"
      ]
     },
     "execution_count": 10,
     "metadata": {},
     "output_type": "execute_result"
    }
   ],
   "source": [
    "# 모든 컬럼의 기술통계(descriptive stats) 값\n",
    "df.describe()"
   ]
  },
  {
   "cell_type": "markdown",
   "metadata": {
    "slideshow": {
     "slide_type": "slide"
    }
   },
   "source": [
    "# index\n",
    "* 인덱스는 로우, 컬럼의 이름과 정보를 저장하는 객체\n",
    "* 색인은 변경할 수 없다(immutable) \n",
    "* Index, Int64Index, MultiIndex 등 다양\n",
    "* 시계열: 인덱스가 DatetimeIndex, PeriodIndex"
   ]
  },
  {
   "cell_type": "code",
   "execution_count": 11,
   "metadata": {},
   "outputs": [
    {
     "data": {
      "text/plain": [
       "RangeIndex(start=0, stop=6, step=1)"
      ]
     },
     "execution_count": 11,
     "metadata": {},
     "output_type": "execute_result"
    }
   ],
   "source": [
    "df.index"
   ]
  },
  {
   "cell_type": "markdown",
   "metadata": {
    "slideshow": {
     "slide_type": "slide"
    }
   },
   "source": [
    "# 조회"
   ]
  },
  {
   "cell_type": "code",
   "execution_count": 12,
   "metadata": {
    "slideshow": {
     "slide_type": "-"
    }
   },
   "outputs": [
    {
     "data": {
      "text/html": [
       "<div>\n",
       "<style>\n",
       "    .dataframe thead tr:only-child th {\n",
       "        text-align: right;\n",
       "    }\n",
       "\n",
       "    .dataframe thead th {\n",
       "        text-align: left;\n",
       "    }\n",
       "\n",
       "    .dataframe tbody tr th {\n",
       "        vertical-align: top;\n",
       "    }\n",
       "</style>\n",
       "<table border=\"1\" class=\"dataframe\">\n",
       "  <thead>\n",
       "    <tr style=\"text-align: right;\">\n",
       "      <th></th>\n",
       "      <th>날짜</th>\n",
       "      <th>삼성전자</th>\n",
       "      <th>LG전자</th>\n",
       "    </tr>\n",
       "  </thead>\n",
       "  <tbody>\n",
       "    <tr>\n",
       "      <th>0</th>\n",
       "      <td>2016-10</td>\n",
       "      <td>23353920</td>\n",
       "      <td>13611721</td>\n",
       "    </tr>\n",
       "    <tr>\n",
       "      <th>1</th>\n",
       "      <td>2016-11</td>\n",
       "      <td>21405206</td>\n",
       "      <td>14520911</td>\n",
       "    </tr>\n",
       "    <tr>\n",
       "      <th>2</th>\n",
       "      <td>2016-12</td>\n",
       "      <td>15932536</td>\n",
       "      <td>20073843</td>\n",
       "    </tr>\n",
       "    <tr>\n",
       "      <th>3</th>\n",
       "      <td>2017-01</td>\n",
       "      <td>11286761</td>\n",
       "      <td>5911641</td>\n",
       "    </tr>\n",
       "    <tr>\n",
       "      <th>4</th>\n",
       "      <td>2017-02</td>\n",
       "      <td>12195995</td>\n",
       "      <td>4220130</td>\n",
       "    </tr>\n",
       "    <tr>\n",
       "      <th>5</th>\n",
       "      <td>2017-03</td>\n",
       "      <td>12922589</td>\n",
       "      <td>14147994</td>\n",
       "    </tr>\n",
       "  </tbody>\n",
       "</table>\n",
       "</div>"
      ],
      "text/plain": [
       "        날짜      삼성전자      LG전자\n",
       "0  2016-10  23353920  13611721\n",
       "1  2016-11  21405206  14520911\n",
       "2  2016-12  15932536  20073843\n",
       "3  2017-01  11286761   5911641\n",
       "4  2017-02  12195995   4220130\n",
       "5  2017-03  12922589  14147994"
      ]
     },
     "execution_count": 12,
     "metadata": {},
     "output_type": "execute_result"
    },
    {
     "data": {
      "text/plain": [
       "0    2016-10\n",
       "1    2016-11\n",
       "2    2016-12\n",
       "3    2017-01\n",
       "4    2017-02\n",
       "5    2017-03\n",
       "Name: 날짜, dtype: object"
      ]
     },
     "execution_count": 12,
     "metadata": {},
     "output_type": "execute_result"
    },
    {
     "data": {
      "text/plain": [
       "0    2016-10\n",
       "1    2016-11\n",
       "2    2016-12\n",
       "3    2017-01\n",
       "4    2017-02\n",
       "5    2017-03\n",
       "Name: 날짜, dtype: object"
      ]
     },
     "execution_count": 12,
     "metadata": {},
     "output_type": "execute_result"
    }
   ],
   "source": [
    "df\n",
    "\n",
    "df.날짜\n",
    "\n",
    "df['날짜']"
   ]
  },
  {
   "cell_type": "markdown",
   "metadata": {
    "slideshow": {
     "slide_type": "slide"
    }
   },
   "source": [
    "# 컬럼 지정"
   ]
  },
  {
   "cell_type": "code",
   "execution_count": 13,
   "metadata": {
    "slideshow": {
     "slide_type": "-"
    }
   },
   "outputs": [
    {
     "data": {
      "text/html": [
       "<div>\n",
       "<style>\n",
       "    .dataframe thead tr:only-child th {\n",
       "        text-align: right;\n",
       "    }\n",
       "\n",
       "    .dataframe thead th {\n",
       "        text-align: left;\n",
       "    }\n",
       "\n",
       "    .dataframe tbody tr th {\n",
       "        vertical-align: top;\n",
       "    }\n",
       "</style>\n",
       "<table border=\"1\" class=\"dataframe\">\n",
       "  <thead>\n",
       "    <tr style=\"text-align: right;\">\n",
       "      <th></th>\n",
       "      <th>날짜</th>\n",
       "      <th>삼성전자</th>\n",
       "    </tr>\n",
       "  </thead>\n",
       "  <tbody>\n",
       "    <tr>\n",
       "      <th>0</th>\n",
       "      <td>2016-10</td>\n",
       "      <td>23353920</td>\n",
       "    </tr>\n",
       "    <tr>\n",
       "      <th>1</th>\n",
       "      <td>2016-11</td>\n",
       "      <td>21405206</td>\n",
       "    </tr>\n",
       "    <tr>\n",
       "      <th>2</th>\n",
       "      <td>2016-12</td>\n",
       "      <td>15932536</td>\n",
       "    </tr>\n",
       "    <tr>\n",
       "      <th>3</th>\n",
       "      <td>2017-01</td>\n",
       "      <td>11286761</td>\n",
       "    </tr>\n",
       "    <tr>\n",
       "      <th>4</th>\n",
       "      <td>2017-02</td>\n",
       "      <td>12195995</td>\n",
       "    </tr>\n",
       "    <tr>\n",
       "      <th>5</th>\n",
       "      <td>2017-03</td>\n",
       "      <td>12922589</td>\n",
       "    </tr>\n",
       "  </tbody>\n",
       "</table>\n",
       "</div>"
      ],
      "text/plain": [
       "        날짜      삼성전자\n",
       "0  2016-10  23353920\n",
       "1  2016-11  21405206\n",
       "2  2016-12  15932536\n",
       "3  2017-01  11286761\n",
       "4  2017-02  12195995\n",
       "5  2017-03  12922589"
      ]
     },
     "execution_count": 13,
     "metadata": {},
     "output_type": "execute_result"
    }
   ],
   "source": [
    "# 컬럼 지정\n",
    "df[['날짜', '삼성전자']]"
   ]
  },
  {
   "cell_type": "markdown",
   "metadata": {
    "slideshow": {
     "slide_type": "slide"
    }
   },
   "source": [
    "# 위치 기반 조회 - df.iloc()"
   ]
  },
  {
   "cell_type": "code",
   "execution_count": 14,
   "metadata": {
    "slideshow": {
     "slide_type": "-"
    }
   },
   "outputs": [
    {
     "data": {
      "text/plain": [
       "날짜       2016-11\n",
       "삼성전자    21405206\n",
       "LG전자    14520911\n",
       "Name: 1, dtype: object"
      ]
     },
     "execution_count": 14,
     "metadata": {},
     "output_type": "execute_result"
    },
    {
     "data": {
      "text/html": [
       "<div>\n",
       "<style>\n",
       "    .dataframe thead tr:only-child th {\n",
       "        text-align: right;\n",
       "    }\n",
       "\n",
       "    .dataframe thead th {\n",
       "        text-align: left;\n",
       "    }\n",
       "\n",
       "    .dataframe tbody tr th {\n",
       "        vertical-align: top;\n",
       "    }\n",
       "</style>\n",
       "<table border=\"1\" class=\"dataframe\">\n",
       "  <thead>\n",
       "    <tr style=\"text-align: right;\">\n",
       "      <th></th>\n",
       "      <th>날짜</th>\n",
       "      <th>삼성전자</th>\n",
       "      <th>LG전자</th>\n",
       "    </tr>\n",
       "  </thead>\n",
       "  <tbody>\n",
       "    <tr>\n",
       "      <th>1</th>\n",
       "      <td>2016-11</td>\n",
       "      <td>21405206</td>\n",
       "      <td>14520911</td>\n",
       "    </tr>\n",
       "    <tr>\n",
       "      <th>2</th>\n",
       "      <td>2016-12</td>\n",
       "      <td>15932536</td>\n",
       "      <td>20073843</td>\n",
       "    </tr>\n",
       "  </tbody>\n",
       "</table>\n",
       "</div>"
      ],
      "text/plain": [
       "        날짜      삼성전자      LG전자\n",
       "1  2016-11  21405206  14520911\n",
       "2  2016-12  15932536  20073843"
      ]
     },
     "execution_count": 14,
     "metadata": {},
     "output_type": "execute_result"
    },
    {
     "data": {
      "text/plain": [
       "'2016-10'"
      ]
     },
     "execution_count": 14,
     "metadata": {},
     "output_type": "execute_result"
    },
    {
     "data": {
      "text/html": [
       "<div>\n",
       "<style>\n",
       "    .dataframe thead tr:only-child th {\n",
       "        text-align: right;\n",
       "    }\n",
       "\n",
       "    .dataframe thead th {\n",
       "        text-align: left;\n",
       "    }\n",
       "\n",
       "    .dataframe tbody tr th {\n",
       "        vertical-align: top;\n",
       "    }\n",
       "</style>\n",
       "<table border=\"1\" class=\"dataframe\">\n",
       "  <thead>\n",
       "    <tr style=\"text-align: right;\">\n",
       "      <th></th>\n",
       "      <th>날짜</th>\n",
       "      <th>삼성전자</th>\n",
       "    </tr>\n",
       "  </thead>\n",
       "  <tbody>\n",
       "    <tr>\n",
       "      <th>0</th>\n",
       "      <td>2016-10</td>\n",
       "      <td>23353920</td>\n",
       "    </tr>\n",
       "    <tr>\n",
       "      <th>1</th>\n",
       "      <td>2016-11</td>\n",
       "      <td>21405206</td>\n",
       "    </tr>\n",
       "    <tr>\n",
       "      <th>2</th>\n",
       "      <td>2016-12</td>\n",
       "      <td>15932536</td>\n",
       "    </tr>\n",
       "    <tr>\n",
       "      <th>3</th>\n",
       "      <td>2017-01</td>\n",
       "      <td>11286761</td>\n",
       "    </tr>\n",
       "  </tbody>\n",
       "</table>\n",
       "</div>"
      ],
      "text/plain": [
       "        날짜      삼성전자\n",
       "0  2016-10  23353920\n",
       "1  2016-11  21405206\n",
       "2  2016-12  15932536\n",
       "3  2017-01  11286761"
      ]
     },
     "execution_count": 14,
     "metadata": {},
     "output_type": "execute_result"
    }
   ],
   "source": [
    "# 1 행(두번째 행)\n",
    "df.iloc[1]\n",
    "\n",
    "# 1~3행\n",
    "df.iloc[1:3]\n",
    "\n",
    "#첫번째 행(row), 첫번째 열(column)\n",
    "df.iloc[0,0]\n",
    "\n",
    "# 처음 4개 행(row), 처음 3개 열(column)\n",
    "df.iloc[0:4, 0:2]"
   ]
  },
  {
   "cell_type": "markdown",
   "metadata": {
    "slideshow": {
     "slide_type": "slide"
    }
   },
   "source": [
    "# 컬럼 추가"
   ]
  },
  {
   "cell_type": "code",
   "execution_count": 15,
   "metadata": {
    "slideshow": {
     "slide_type": "-"
    }
   },
   "outputs": [
    {
     "data": {
      "text/html": [
       "<div>\n",
       "<style>\n",
       "    .dataframe thead tr:only-child th {\n",
       "        text-align: right;\n",
       "    }\n",
       "\n",
       "    .dataframe thead th {\n",
       "        text-align: left;\n",
       "    }\n",
       "\n",
       "    .dataframe tbody tr th {\n",
       "        vertical-align: top;\n",
       "    }\n",
       "</style>\n",
       "<table border=\"1\" class=\"dataframe\">\n",
       "  <thead>\n",
       "    <tr style=\"text-align: right;\">\n",
       "      <th></th>\n",
       "      <th>날짜</th>\n",
       "      <th>삼성전자</th>\n",
       "      <th>LG전자</th>\n",
       "      <th>차이</th>\n",
       "    </tr>\n",
       "  </thead>\n",
       "  <tbody>\n",
       "    <tr>\n",
       "      <th>0</th>\n",
       "      <td>2016-10</td>\n",
       "      <td>23353920</td>\n",
       "      <td>13611721</td>\n",
       "      <td>0</td>\n",
       "    </tr>\n",
       "    <tr>\n",
       "      <th>1</th>\n",
       "      <td>2016-11</td>\n",
       "      <td>21405206</td>\n",
       "      <td>14520911</td>\n",
       "      <td>0</td>\n",
       "    </tr>\n",
       "    <tr>\n",
       "      <th>2</th>\n",
       "      <td>2016-12</td>\n",
       "      <td>15932536</td>\n",
       "      <td>20073843</td>\n",
       "      <td>0</td>\n",
       "    </tr>\n",
       "    <tr>\n",
       "      <th>3</th>\n",
       "      <td>2017-01</td>\n",
       "      <td>11286761</td>\n",
       "      <td>5911641</td>\n",
       "      <td>0</td>\n",
       "    </tr>\n",
       "    <tr>\n",
       "      <th>4</th>\n",
       "      <td>2017-02</td>\n",
       "      <td>12195995</td>\n",
       "      <td>4220130</td>\n",
       "      <td>0</td>\n",
       "    </tr>\n",
       "    <tr>\n",
       "      <th>5</th>\n",
       "      <td>2017-03</td>\n",
       "      <td>12922589</td>\n",
       "      <td>14147994</td>\n",
       "      <td>0</td>\n",
       "    </tr>\n",
       "  </tbody>\n",
       "</table>\n",
       "</div>"
      ],
      "text/plain": [
       "        날짜      삼성전자      LG전자  차이\n",
       "0  2016-10  23353920  13611721   0\n",
       "1  2016-11  21405206  14520911   0\n",
       "2  2016-12  15932536  20073843   0\n",
       "3  2017-01  11286761   5911641   0\n",
       "4  2017-02  12195995   4220130   0\n",
       "5  2017-03  12922589  14147994   0"
      ]
     },
     "execution_count": 15,
     "metadata": {},
     "output_type": "execute_result"
    }
   ],
   "source": [
    "df['차이'] = 0\n",
    "df"
   ]
  },
  {
   "cell_type": "markdown",
   "metadata": {
    "slideshow": {
     "slide_type": "slide"
    }
   },
   "source": [
    "# 컬럼간 연산"
   ]
  },
  {
   "cell_type": "code",
   "execution_count": 16,
   "metadata": {
    "slideshow": {
     "slide_type": "-"
    }
   },
   "outputs": [
    {
     "data": {
      "text/html": [
       "<div>\n",
       "<style>\n",
       "    .dataframe thead tr:only-child th {\n",
       "        text-align: right;\n",
       "    }\n",
       "\n",
       "    .dataframe thead th {\n",
       "        text-align: left;\n",
       "    }\n",
       "\n",
       "    .dataframe tbody tr th {\n",
       "        vertical-align: top;\n",
       "    }\n",
       "</style>\n",
       "<table border=\"1\" class=\"dataframe\">\n",
       "  <thead>\n",
       "    <tr style=\"text-align: right;\">\n",
       "      <th></th>\n",
       "      <th>날짜</th>\n",
       "      <th>삼성전자</th>\n",
       "      <th>LG전자</th>\n",
       "      <th>차이</th>\n",
       "    </tr>\n",
       "  </thead>\n",
       "  <tbody>\n",
       "    <tr>\n",
       "      <th>0</th>\n",
       "      <td>2016-10</td>\n",
       "      <td>23353920</td>\n",
       "      <td>13611721</td>\n",
       "      <td>9742199</td>\n",
       "    </tr>\n",
       "    <tr>\n",
       "      <th>1</th>\n",
       "      <td>2016-11</td>\n",
       "      <td>21405206</td>\n",
       "      <td>14520911</td>\n",
       "      <td>6884295</td>\n",
       "    </tr>\n",
       "    <tr>\n",
       "      <th>2</th>\n",
       "      <td>2016-12</td>\n",
       "      <td>15932536</td>\n",
       "      <td>20073843</td>\n",
       "      <td>-4141307</td>\n",
       "    </tr>\n",
       "    <tr>\n",
       "      <th>3</th>\n",
       "      <td>2017-01</td>\n",
       "      <td>11286761</td>\n",
       "      <td>5911641</td>\n",
       "      <td>5375120</td>\n",
       "    </tr>\n",
       "    <tr>\n",
       "      <th>4</th>\n",
       "      <td>2017-02</td>\n",
       "      <td>12195995</td>\n",
       "      <td>4220130</td>\n",
       "      <td>7975865</td>\n",
       "    </tr>\n",
       "    <tr>\n",
       "      <th>5</th>\n",
       "      <td>2017-03</td>\n",
       "      <td>12922589</td>\n",
       "      <td>14147994</td>\n",
       "      <td>-1225405</td>\n",
       "    </tr>\n",
       "  </tbody>\n",
       "</table>\n",
       "</div>"
      ],
      "text/plain": [
       "        날짜      삼성전자      LG전자       차이\n",
       "0  2016-10  23353920  13611721  9742199\n",
       "1  2016-11  21405206  14520911  6884295\n",
       "2  2016-12  15932536  20073843 -4141307\n",
       "3  2017-01  11286761   5911641  5375120\n",
       "4  2017-02  12195995   4220130  7975865\n",
       "5  2017-03  12922589  14147994 -1225405"
      ]
     },
     "execution_count": 16,
     "metadata": {},
     "output_type": "execute_result"
    }
   ],
   "source": [
    "df['차이'] = df['삼성전자'] - df['LG전자']\n",
    "df"
   ]
  },
  {
   "cell_type": "markdown",
   "metadata": {
    "slideshow": {
     "slide_type": "slide"
    }
   },
   "source": [
    "# 컬럼 단위 데이터 변경\n",
    "단위 '천원', 100000로 나누어 억원'으로 단위 변경"
   ]
  },
  {
   "cell_type": "code",
   "execution_count": 17,
   "metadata": {
    "slideshow": {
     "slide_type": "-"
    }
   },
   "outputs": [
    {
     "data": {
      "text/html": [
       "<div>\n",
       "<style>\n",
       "    .dataframe thead tr:only-child th {\n",
       "        text-align: right;\n",
       "    }\n",
       "\n",
       "    .dataframe thead th {\n",
       "        text-align: left;\n",
       "    }\n",
       "\n",
       "    .dataframe tbody tr th {\n",
       "        vertical-align: top;\n",
       "    }\n",
       "</style>\n",
       "<table border=\"1\" class=\"dataframe\">\n",
       "  <thead>\n",
       "    <tr style=\"text-align: right;\">\n",
       "      <th></th>\n",
       "      <th>날짜</th>\n",
       "      <th>삼성전자</th>\n",
       "      <th>LG전자</th>\n",
       "      <th>차이</th>\n",
       "    </tr>\n",
       "  </thead>\n",
       "  <tbody>\n",
       "    <tr>\n",
       "      <th>0</th>\n",
       "      <td>2016-10</td>\n",
       "      <td>233.53920</td>\n",
       "      <td>136.11721</td>\n",
       "      <td>97.42199</td>\n",
       "    </tr>\n",
       "    <tr>\n",
       "      <th>1</th>\n",
       "      <td>2016-11</td>\n",
       "      <td>214.05206</td>\n",
       "      <td>145.20911</td>\n",
       "      <td>68.84295</td>\n",
       "    </tr>\n",
       "    <tr>\n",
       "      <th>2</th>\n",
       "      <td>2016-12</td>\n",
       "      <td>159.32536</td>\n",
       "      <td>200.73843</td>\n",
       "      <td>-41.41307</td>\n",
       "    </tr>\n",
       "    <tr>\n",
       "      <th>3</th>\n",
       "      <td>2017-01</td>\n",
       "      <td>112.86761</td>\n",
       "      <td>59.11641</td>\n",
       "      <td>53.75120</td>\n",
       "    </tr>\n",
       "    <tr>\n",
       "      <th>4</th>\n",
       "      <td>2017-02</td>\n",
       "      <td>121.95995</td>\n",
       "      <td>42.20130</td>\n",
       "      <td>79.75865</td>\n",
       "    </tr>\n",
       "    <tr>\n",
       "      <th>5</th>\n",
       "      <td>2017-03</td>\n",
       "      <td>129.22589</td>\n",
       "      <td>141.47994</td>\n",
       "      <td>-12.25405</td>\n",
       "    </tr>\n",
       "  </tbody>\n",
       "</table>\n",
       "</div>"
      ],
      "text/plain": [
       "        날짜       삼성전자       LG전자        차이\n",
       "0  2016-10  233.53920  136.11721  97.42199\n",
       "1  2016-11  214.05206  145.20911  68.84295\n",
       "2  2016-12  159.32536  200.73843 -41.41307\n",
       "3  2017-01  112.86761   59.11641  53.75120\n",
       "4  2017-02  121.95995   42.20130  79.75865\n",
       "5  2017-03  129.22589  141.47994 -12.25405"
      ]
     },
     "execution_count": 17,
     "metadata": {},
     "output_type": "execute_result"
    }
   ],
   "source": [
    "df['삼성전자'] =  df['삼성전자'] / 100000.\n",
    "df['LG전자'] =  df['LG전자'] / 100000.\n",
    "df['차이'] =  df['차이'] / 100000.\n",
    "df"
   ]
  },
  {
   "cell_type": "markdown",
   "metadata": {
    "slideshow": {
     "slide_type": "slide"
    }
   },
   "source": [
    "# 컬럼간 연산"
   ]
  },
  {
   "cell_type": "code",
   "execution_count": 18,
   "metadata": {
    "slideshow": {
     "slide_type": "-"
    }
   },
   "outputs": [
    {
     "data": {
      "text/html": [
       "<div>\n",
       "<style>\n",
       "    .dataframe thead tr:only-child th {\n",
       "        text-align: right;\n",
       "    }\n",
       "\n",
       "    .dataframe thead th {\n",
       "        text-align: left;\n",
       "    }\n",
       "\n",
       "    .dataframe tbody tr th {\n",
       "        vertical-align: top;\n",
       "    }\n",
       "</style>\n",
       "<table border=\"1\" class=\"dataframe\">\n",
       "  <thead>\n",
       "    <tr style=\"text-align: right;\">\n",
       "      <th></th>\n",
       "      <th>날짜</th>\n",
       "      <th>삼성전자</th>\n",
       "      <th>LG전자</th>\n",
       "      <th>차이</th>\n",
       "      <th>합계</th>\n",
       "    </tr>\n",
       "  </thead>\n",
       "  <tbody>\n",
       "    <tr>\n",
       "      <th>0</th>\n",
       "      <td>2016-10</td>\n",
       "      <td>233.53920</td>\n",
       "      <td>136.11721</td>\n",
       "      <td>97.42199</td>\n",
       "      <td>369.7</td>\n",
       "    </tr>\n",
       "    <tr>\n",
       "      <th>1</th>\n",
       "      <td>2016-11</td>\n",
       "      <td>214.05206</td>\n",
       "      <td>145.20911</td>\n",
       "      <td>68.84295</td>\n",
       "      <td>359.3</td>\n",
       "    </tr>\n",
       "    <tr>\n",
       "      <th>2</th>\n",
       "      <td>2016-12</td>\n",
       "      <td>159.32536</td>\n",
       "      <td>200.73843</td>\n",
       "      <td>-41.41307</td>\n",
       "      <td>360.1</td>\n",
       "    </tr>\n",
       "    <tr>\n",
       "      <th>3</th>\n",
       "      <td>2017-01</td>\n",
       "      <td>112.86761</td>\n",
       "      <td>59.11641</td>\n",
       "      <td>53.75120</td>\n",
       "      <td>172.0</td>\n",
       "    </tr>\n",
       "    <tr>\n",
       "      <th>4</th>\n",
       "      <td>2017-02</td>\n",
       "      <td>121.95995</td>\n",
       "      <td>42.20130</td>\n",
       "      <td>79.75865</td>\n",
       "      <td>164.2</td>\n",
       "    </tr>\n",
       "    <tr>\n",
       "      <th>5</th>\n",
       "      <td>2017-03</td>\n",
       "      <td>129.22589</td>\n",
       "      <td>141.47994</td>\n",
       "      <td>-12.25405</td>\n",
       "      <td>270.7</td>\n",
       "    </tr>\n",
       "  </tbody>\n",
       "</table>\n",
       "</div>"
      ],
      "text/plain": [
       "        날짜       삼성전자       LG전자        차이     합계\n",
       "0  2016-10  233.53920  136.11721  97.42199  369.7\n",
       "1  2016-11  214.05206  145.20911  68.84295  359.3\n",
       "2  2016-12  159.32536  200.73843 -41.41307  360.1\n",
       "3  2017-01  112.86761   59.11641  53.75120  172.0\n",
       "4  2017-02  121.95995   42.20130  79.75865  164.2\n",
       "5  2017-03  129.22589  141.47994 -12.25405  270.7"
      ]
     },
     "execution_count": 18,
     "metadata": {},
     "output_type": "execute_result"
    }
   ],
   "source": [
    "import numpy as np\n",
    "\n",
    "df['합계'] = np.round(df['삼성전자'] + df['LG전자'], 1)\n",
    "df"
   ]
  },
  {
   "cell_type": "markdown",
   "metadata": {
    "slideshow": {
     "slide_type": "slide"
    }
   },
   "source": [
    "# 로우(row) 삭제\n",
    "로우(row) 삭제 DataFrame.drop() 을 사용"
   ]
  },
  {
   "cell_type": "code",
   "execution_count": 19,
   "metadata": {
    "slideshow": {
     "slide_type": "-"
    }
   },
   "outputs": [
    {
     "data": {
      "text/html": [
       "<div>\n",
       "<style>\n",
       "    .dataframe thead tr:only-child th {\n",
       "        text-align: right;\n",
       "    }\n",
       "\n",
       "    .dataframe thead th {\n",
       "        text-align: left;\n",
       "    }\n",
       "\n",
       "    .dataframe tbody tr th {\n",
       "        vertical-align: top;\n",
       "    }\n",
       "</style>\n",
       "<table border=\"1\" class=\"dataframe\">\n",
       "  <thead>\n",
       "    <tr style=\"text-align: right;\">\n",
       "      <th></th>\n",
       "      <th>날짜</th>\n",
       "      <th>삼성전자</th>\n",
       "      <th>LG전자</th>\n",
       "      <th>차이</th>\n",
       "      <th>합계</th>\n",
       "    </tr>\n",
       "  </thead>\n",
       "  <tbody>\n",
       "    <tr>\n",
       "      <th>0</th>\n",
       "      <td>2016-10</td>\n",
       "      <td>233.53920</td>\n",
       "      <td>136.11721</td>\n",
       "      <td>97.42199</td>\n",
       "      <td>369.7</td>\n",
       "    </tr>\n",
       "    <tr>\n",
       "      <th>1</th>\n",
       "      <td>2016-11</td>\n",
       "      <td>214.05206</td>\n",
       "      <td>145.20911</td>\n",
       "      <td>68.84295</td>\n",
       "      <td>359.3</td>\n",
       "    </tr>\n",
       "    <tr>\n",
       "      <th>2</th>\n",
       "      <td>2016-12</td>\n",
       "      <td>159.32536</td>\n",
       "      <td>200.73843</td>\n",
       "      <td>-41.41307</td>\n",
       "      <td>360.1</td>\n",
       "    </tr>\n",
       "    <tr>\n",
       "      <th>3</th>\n",
       "      <td>2017-01</td>\n",
       "      <td>112.86761</td>\n",
       "      <td>59.11641</td>\n",
       "      <td>53.75120</td>\n",
       "      <td>172.0</td>\n",
       "    </tr>\n",
       "  </tbody>\n",
       "</table>\n",
       "</div>"
      ],
      "text/plain": [
       "        날짜       삼성전자       LG전자        차이     합계\n",
       "0  2016-10  233.53920  136.11721  97.42199  369.7\n",
       "1  2016-11  214.05206  145.20911  68.84295  359.3\n",
       "2  2016-12  159.32536  200.73843 -41.41307  360.1\n",
       "3  2017-01  112.86761   59.11641  53.75120  172.0"
      ]
     },
     "execution_count": 19,
     "metadata": {},
     "output_type": "execute_result"
    }
   ],
   "source": [
    "r_df = df.drop([4,5]) # axis=0 가 생략되어 있다.\n",
    "r_df"
   ]
  },
  {
   "cell_type": "markdown",
   "metadata": {
    "slideshow": {
     "slide_type": "slide"
    }
   },
   "source": [
    "# 컬럼 삭제\n",
    "drop 사용하면서 축(axis)를 지정한다."
   ]
  },
  {
   "cell_type": "code",
   "execution_count": 20,
   "metadata": {
    "slideshow": {
     "slide_type": "-"
    }
   },
   "outputs": [
    {
     "data": {
      "text/html": [
       "<div>\n",
       "<style>\n",
       "    .dataframe thead tr:only-child th {\n",
       "        text-align: right;\n",
       "    }\n",
       "\n",
       "    .dataframe thead th {\n",
       "        text-align: left;\n",
       "    }\n",
       "\n",
       "    .dataframe tbody tr th {\n",
       "        vertical-align: top;\n",
       "    }\n",
       "</style>\n",
       "<table border=\"1\" class=\"dataframe\">\n",
       "  <thead>\n",
       "    <tr style=\"text-align: right;\">\n",
       "      <th></th>\n",
       "      <th>날짜</th>\n",
       "      <th>삼성전자</th>\n",
       "      <th>LG전자</th>\n",
       "      <th>합계</th>\n",
       "    </tr>\n",
       "  </thead>\n",
       "  <tbody>\n",
       "    <tr>\n",
       "      <th>0</th>\n",
       "      <td>2016-10</td>\n",
       "      <td>233.53920</td>\n",
       "      <td>136.11721</td>\n",
       "      <td>369.7</td>\n",
       "    </tr>\n",
       "    <tr>\n",
       "      <th>1</th>\n",
       "      <td>2016-11</td>\n",
       "      <td>214.05206</td>\n",
       "      <td>145.20911</td>\n",
       "      <td>359.3</td>\n",
       "    </tr>\n",
       "    <tr>\n",
       "      <th>2</th>\n",
       "      <td>2016-12</td>\n",
       "      <td>159.32536</td>\n",
       "      <td>200.73843</td>\n",
       "      <td>360.1</td>\n",
       "    </tr>\n",
       "    <tr>\n",
       "      <th>3</th>\n",
       "      <td>2017-01</td>\n",
       "      <td>112.86761</td>\n",
       "      <td>59.11641</td>\n",
       "      <td>172.0</td>\n",
       "    </tr>\n",
       "    <tr>\n",
       "      <th>4</th>\n",
       "      <td>2017-02</td>\n",
       "      <td>121.95995</td>\n",
       "      <td>42.20130</td>\n",
       "      <td>164.2</td>\n",
       "    </tr>\n",
       "    <tr>\n",
       "      <th>5</th>\n",
       "      <td>2017-03</td>\n",
       "      <td>129.22589</td>\n",
       "      <td>141.47994</td>\n",
       "      <td>270.7</td>\n",
       "    </tr>\n",
       "  </tbody>\n",
       "</table>\n",
       "</div>"
      ],
      "text/plain": [
       "        날짜       삼성전자       LG전자     합계\n",
       "0  2016-10  233.53920  136.11721  369.7\n",
       "1  2016-11  214.05206  145.20911  359.3\n",
       "2  2016-12  159.32536  200.73843  360.1\n",
       "3  2017-01  112.86761   59.11641  172.0\n",
       "4  2017-02  121.95995   42.20130  164.2\n",
       "5  2017-03  129.22589  141.47994  270.7"
      ]
     },
     "execution_count": 20,
     "metadata": {},
     "output_type": "execute_result"
    }
   ],
   "source": [
    "r_df = df.drop(['차이'], axis=1)\n",
    "r_df"
   ]
  },
  {
   "cell_type": "code",
   "execution_count": 21,
   "metadata": {
    "slideshow": {
     "slide_type": "-"
    }
   },
   "outputs": [
    {
     "data": {
      "text/html": [
       "<div>\n",
       "<style>\n",
       "    .dataframe thead tr:only-child th {\n",
       "        text-align: right;\n",
       "    }\n",
       "\n",
       "    .dataframe thead th {\n",
       "        text-align: left;\n",
       "    }\n",
       "\n",
       "    .dataframe tbody tr th {\n",
       "        vertical-align: top;\n",
       "    }\n",
       "</style>\n",
       "<table border=\"1\" class=\"dataframe\">\n",
       "  <thead>\n",
       "    <tr style=\"text-align: right;\">\n",
       "      <th></th>\n",
       "      <th>날짜</th>\n",
       "      <th>삼성전자</th>\n",
       "      <th>LG전자</th>\n",
       "      <th>합계</th>\n",
       "    </tr>\n",
       "  </thead>\n",
       "  <tbody>\n",
       "    <tr>\n",
       "      <th>0</th>\n",
       "      <td>2016-10</td>\n",
       "      <td>233.53920</td>\n",
       "      <td>136.11721</td>\n",
       "      <td>369.7</td>\n",
       "    </tr>\n",
       "    <tr>\n",
       "      <th>1</th>\n",
       "      <td>2016-11</td>\n",
       "      <td>214.05206</td>\n",
       "      <td>145.20911</td>\n",
       "      <td>359.3</td>\n",
       "    </tr>\n",
       "    <tr>\n",
       "      <th>2</th>\n",
       "      <td>2016-12</td>\n",
       "      <td>159.32536</td>\n",
       "      <td>200.73843</td>\n",
       "      <td>360.1</td>\n",
       "    </tr>\n",
       "    <tr>\n",
       "      <th>3</th>\n",
       "      <td>2017-01</td>\n",
       "      <td>112.86761</td>\n",
       "      <td>59.11641</td>\n",
       "      <td>172.0</td>\n",
       "    </tr>\n",
       "    <tr>\n",
       "      <th>4</th>\n",
       "      <td>2017-02</td>\n",
       "      <td>121.95995</td>\n",
       "      <td>42.20130</td>\n",
       "      <td>164.2</td>\n",
       "    </tr>\n",
       "    <tr>\n",
       "      <th>5</th>\n",
       "      <td>2017-03</td>\n",
       "      <td>129.22589</td>\n",
       "      <td>141.47994</td>\n",
       "      <td>270.7</td>\n",
       "    </tr>\n",
       "  </tbody>\n",
       "</table>\n",
       "</div>"
      ],
      "text/plain": [
       "        날짜       삼성전자       LG전자     합계\n",
       "0  2016-10  233.53920  136.11721  369.7\n",
       "1  2016-11  214.05206  145.20911  359.3\n",
       "2  2016-12  159.32536  200.73843  360.1\n",
       "3  2017-01  112.86761   59.11641  172.0\n",
       "4  2017-02  121.95995   42.20130  164.2\n",
       "5  2017-03  129.22589  141.47994  270.7"
      ]
     },
     "execution_count": 21,
     "metadata": {},
     "output_type": "execute_result"
    }
   ],
   "source": [
    "del df['차이']\n",
    "df"
   ]
  },
  {
   "cell_type": "markdown",
   "metadata": {
    "slideshow": {
     "slide_type": "slide"
    }
   },
   "source": [
    "## DataFame 사본 만들기\n",
    "DataFrame.copy() 로 복사본을 생성할 수 있다. "
   ]
  },
  {
   "cell_type": "code",
   "execution_count": 22,
   "metadata": {
    "slideshow": {
     "slide_type": "-"
    }
   },
   "outputs": [
    {
     "data": {
      "text/html": [
       "<div>\n",
       "<style>\n",
       "    .dataframe thead tr:only-child th {\n",
       "        text-align: right;\n",
       "    }\n",
       "\n",
       "    .dataframe thead th {\n",
       "        text-align: left;\n",
       "    }\n",
       "\n",
       "    .dataframe tbody tr th {\n",
       "        vertical-align: top;\n",
       "    }\n",
       "</style>\n",
       "<table border=\"1\" class=\"dataframe\">\n",
       "  <thead>\n",
       "    <tr style=\"text-align: right;\">\n",
       "      <th></th>\n",
       "      <th>날짜</th>\n",
       "      <th>삼성전자</th>\n",
       "      <th>LG전자</th>\n",
       "      <th>합계</th>\n",
       "    </tr>\n",
       "  </thead>\n",
       "  <tbody>\n",
       "    <tr>\n",
       "      <th>0</th>\n",
       "      <td>2016-10</td>\n",
       "      <td>233.53920</td>\n",
       "      <td>136.11721</td>\n",
       "      <td>369.7</td>\n",
       "    </tr>\n",
       "    <tr>\n",
       "      <th>1</th>\n",
       "      <td>2016-11</td>\n",
       "      <td>214.05206</td>\n",
       "      <td>145.20911</td>\n",
       "      <td>359.3</td>\n",
       "    </tr>\n",
       "    <tr>\n",
       "      <th>2</th>\n",
       "      <td>2016-12</td>\n",
       "      <td>159.32536</td>\n",
       "      <td>200.73843</td>\n",
       "      <td>360.1</td>\n",
       "    </tr>\n",
       "    <tr>\n",
       "      <th>3</th>\n",
       "      <td>2017-01</td>\n",
       "      <td>112.86761</td>\n",
       "      <td>59.11641</td>\n",
       "      <td>172.0</td>\n",
       "    </tr>\n",
       "    <tr>\n",
       "      <th>4</th>\n",
       "      <td>2017-02</td>\n",
       "      <td>121.95995</td>\n",
       "      <td>42.20130</td>\n",
       "      <td>164.2</td>\n",
       "    </tr>\n",
       "    <tr>\n",
       "      <th>5</th>\n",
       "      <td>2017-03</td>\n",
       "      <td>129.22589</td>\n",
       "      <td>141.47994</td>\n",
       "      <td>270.7</td>\n",
       "    </tr>\n",
       "  </tbody>\n",
       "</table>\n",
       "</div>"
      ],
      "text/plain": [
       "        날짜       삼성전자       LG전자     합계\n",
       "0  2016-10  233.53920  136.11721  369.7\n",
       "1  2016-11  214.05206  145.20911  359.3\n",
       "2  2016-12  159.32536  200.73843  360.1\n",
       "3  2017-01  112.86761   59.11641  172.0\n",
       "4  2017-02  121.95995   42.20130  164.2\n",
       "5  2017-03  129.22589  141.47994  270.7"
      ]
     },
     "execution_count": 22,
     "metadata": {},
     "output_type": "execute_result"
    }
   ],
   "source": [
    "df2 = df.copy()\n",
    "df2"
   ]
  },
  {
   "cell_type": "markdown",
   "metadata": {
    "slideshow": {
     "slide_type": "slide"
    }
   },
   "source": [
    "# 인덱싱에 사용하는 메소드\n",
    "\n",
    "loc는 라벨로 인덱싱할 때, iloc는 정수(integer)로 인덱싱할 때 사용 한다."
   ]
  },
  {
   "cell_type": "code",
   "execution_count": 23,
   "metadata": {
    "slideshow": {
     "slide_type": "slide"
    }
   },
   "outputs": [
    {
     "data": {
      "text/html": [
       "<div>\n",
       "<style>\n",
       "    .dataframe thead tr:only-child th {\n",
       "        text-align: right;\n",
       "    }\n",
       "\n",
       "    .dataframe thead th {\n",
       "        text-align: left;\n",
       "    }\n",
       "\n",
       "    .dataframe tbody tr th {\n",
       "        vertical-align: top;\n",
       "    }\n",
       "</style>\n",
       "<table border=\"1\" class=\"dataframe\">\n",
       "  <thead>\n",
       "    <tr style=\"text-align: right;\">\n",
       "      <th></th>\n",
       "      <th>날짜</th>\n",
       "      <th>삼성전자</th>\n",
       "      <th>LG전자</th>\n",
       "      <th>합계</th>\n",
       "    </tr>\n",
       "  </thead>\n",
       "  <tbody>\n",
       "    <tr>\n",
       "      <th>0</th>\n",
       "      <td>2016-10</td>\n",
       "      <td>233.53920</td>\n",
       "      <td>136.11721</td>\n",
       "      <td>369.7</td>\n",
       "    </tr>\n",
       "    <tr>\n",
       "      <th>1</th>\n",
       "      <td>2016-11</td>\n",
       "      <td>214.05206</td>\n",
       "      <td>145.20911</td>\n",
       "      <td>359.3</td>\n",
       "    </tr>\n",
       "    <tr>\n",
       "      <th>2</th>\n",
       "      <td>2016-12</td>\n",
       "      <td>159.32536</td>\n",
       "      <td>200.73843</td>\n",
       "      <td>360.1</td>\n",
       "    </tr>\n",
       "    <tr>\n",
       "      <th>3</th>\n",
       "      <td>2017-01</td>\n",
       "      <td>112.86761</td>\n",
       "      <td>59.11641</td>\n",
       "      <td>172.0</td>\n",
       "    </tr>\n",
       "    <tr>\n",
       "      <th>4</th>\n",
       "      <td>2017-02</td>\n",
       "      <td>121.95995</td>\n",
       "      <td>42.20130</td>\n",
       "      <td>164.2</td>\n",
       "    </tr>\n",
       "    <tr>\n",
       "      <th>5</th>\n",
       "      <td>2017-03</td>\n",
       "      <td>129.22589</td>\n",
       "      <td>141.47994</td>\n",
       "      <td>270.7</td>\n",
       "    </tr>\n",
       "  </tbody>\n",
       "</table>\n",
       "</div>"
      ],
      "text/plain": [
       "        날짜       삼성전자       LG전자     합계\n",
       "0  2016-10  233.53920  136.11721  369.7\n",
       "1  2016-11  214.05206  145.20911  359.3\n",
       "2  2016-12  159.32536  200.73843  360.1\n",
       "3  2017-01  112.86761   59.11641  172.0\n",
       "4  2017-02  121.95995   42.20130  164.2\n",
       "5  2017-03  129.22589  141.47994  270.7"
      ]
     },
     "execution_count": 23,
     "metadata": {},
     "output_type": "execute_result"
    },
    {
     "data": {
      "text/plain": [
       "날짜      2016-12\n",
       "삼성전자    159.325\n",
       "LG전자    200.738\n",
       "합계        360.1\n",
       "Name: 2, dtype: object"
      ]
     },
     "execution_count": 23,
     "metadata": {},
     "output_type": "execute_result"
    }
   ],
   "source": [
    "df\n",
    "\n",
    "df.loc[2] # 2번 로우"
   ]
  },
  {
   "cell_type": "code",
   "execution_count": 24,
   "metadata": {
    "slideshow": {
     "slide_type": "slide"
    }
   },
   "outputs": [
    {
     "data": {
      "text/html": [
       "<div>\n",
       "<style>\n",
       "    .dataframe thead tr:only-child th {\n",
       "        text-align: right;\n",
       "    }\n",
       "\n",
       "    .dataframe thead th {\n",
       "        text-align: left;\n",
       "    }\n",
       "\n",
       "    .dataframe tbody tr th {\n",
       "        vertical-align: top;\n",
       "    }\n",
       "</style>\n",
       "<table border=\"1\" class=\"dataframe\">\n",
       "  <thead>\n",
       "    <tr style=\"text-align: right;\">\n",
       "      <th></th>\n",
       "      <th>날짜</th>\n",
       "      <th>삼성전자</th>\n",
       "      <th>LG전자</th>\n",
       "      <th>합계</th>\n",
       "    </tr>\n",
       "  </thead>\n",
       "  <tbody>\n",
       "    <tr>\n",
       "      <th>0</th>\n",
       "      <td>2016-10</td>\n",
       "      <td>233.53920</td>\n",
       "      <td>136.11721</td>\n",
       "      <td>369.7</td>\n",
       "    </tr>\n",
       "    <tr>\n",
       "      <th>1</th>\n",
       "      <td>2016-11</td>\n",
       "      <td>214.05206</td>\n",
       "      <td>145.20911</td>\n",
       "      <td>359.3</td>\n",
       "    </tr>\n",
       "    <tr>\n",
       "      <th>2</th>\n",
       "      <td>2016-12</td>\n",
       "      <td>159.32536</td>\n",
       "      <td>200.73843</td>\n",
       "      <td>360.1</td>\n",
       "    </tr>\n",
       "    <tr>\n",
       "      <th>3</th>\n",
       "      <td>2017-01</td>\n",
       "      <td>112.86761</td>\n",
       "      <td>59.11641</td>\n",
       "      <td>172.0</td>\n",
       "    </tr>\n",
       "    <tr>\n",
       "      <th>4</th>\n",
       "      <td>2017-02</td>\n",
       "      <td>121.95995</td>\n",
       "      <td>42.20130</td>\n",
       "      <td>164.2</td>\n",
       "    </tr>\n",
       "    <tr>\n",
       "      <th>5</th>\n",
       "      <td>2017-03</td>\n",
       "      <td>129.22589</td>\n",
       "      <td>141.47994</td>\n",
       "      <td>270.7</td>\n",
       "    </tr>\n",
       "  </tbody>\n",
       "</table>\n",
       "</div>"
      ],
      "text/plain": [
       "        날짜       삼성전자       LG전자     합계\n",
       "0  2016-10  233.53920  136.11721  369.7\n",
       "1  2016-11  214.05206  145.20911  359.3\n",
       "2  2016-12  159.32536  200.73843  360.1\n",
       "3  2017-01  112.86761   59.11641  172.0\n",
       "4  2017-02  121.95995   42.20130  164.2\n",
       "5  2017-03  129.22589  141.47994  270.7"
      ]
     },
     "execution_count": 24,
     "metadata": {},
     "output_type": "execute_result"
    },
    {
     "data": {
      "text/html": [
       "<div>\n",
       "<style>\n",
       "    .dataframe thead tr:only-child th {\n",
       "        text-align: right;\n",
       "    }\n",
       "\n",
       "    .dataframe thead th {\n",
       "        text-align: left;\n",
       "    }\n",
       "\n",
       "    .dataframe tbody tr th {\n",
       "        vertical-align: top;\n",
       "    }\n",
       "</style>\n",
       "<table border=\"1\" class=\"dataframe\">\n",
       "  <thead>\n",
       "    <tr style=\"text-align: right;\">\n",
       "      <th></th>\n",
       "      <th>날짜</th>\n",
       "      <th>삼성전자</th>\n",
       "      <th>LG전자</th>\n",
       "      <th>합계</th>\n",
       "    </tr>\n",
       "  </thead>\n",
       "  <tbody>\n",
       "    <tr>\n",
       "      <th>3</th>\n",
       "      <td>2017-01</td>\n",
       "      <td>112.86761</td>\n",
       "      <td>59.11641</td>\n",
       "      <td>172.0</td>\n",
       "    </tr>\n",
       "    <tr>\n",
       "      <th>4</th>\n",
       "      <td>2017-02</td>\n",
       "      <td>121.95995</td>\n",
       "      <td>42.20130</td>\n",
       "      <td>164.2</td>\n",
       "    </tr>\n",
       "  </tbody>\n",
       "</table>\n",
       "</div>"
      ],
      "text/plain": [
       "        날짜       삼성전자      LG전자     합계\n",
       "3  2017-01  112.86761  59.11641  172.0\n",
       "4  2017-02  121.95995  42.20130  164.2"
      ]
     },
     "execution_count": 24,
     "metadata": {},
     "output_type": "execute_result"
    },
    {
     "data": {
      "text/html": [
       "<div>\n",
       "<style>\n",
       "    .dataframe thead tr:only-child th {\n",
       "        text-align: right;\n",
       "    }\n",
       "\n",
       "    .dataframe thead th {\n",
       "        text-align: left;\n",
       "    }\n",
       "\n",
       "    .dataframe tbody tr th {\n",
       "        vertical-align: top;\n",
       "    }\n",
       "</style>\n",
       "<table border=\"1\" class=\"dataframe\">\n",
       "  <thead>\n",
       "    <tr style=\"text-align: right;\">\n",
       "      <th></th>\n",
       "      <th>날짜</th>\n",
       "      <th>삼성전자</th>\n",
       "      <th>LG전자</th>\n",
       "      <th>합계</th>\n",
       "    </tr>\n",
       "  </thead>\n",
       "  <tbody>\n",
       "    <tr>\n",
       "      <th>3</th>\n",
       "      <td>2017-01</td>\n",
       "      <td>112.86761</td>\n",
       "      <td>59.11641</td>\n",
       "      <td>172.0</td>\n",
       "    </tr>\n",
       "    <tr>\n",
       "      <th>4</th>\n",
       "      <td>2017-02</td>\n",
       "      <td>121.95995</td>\n",
       "      <td>42.20130</td>\n",
       "      <td>164.2</td>\n",
       "    </tr>\n",
       "  </tbody>\n",
       "</table>\n",
       "</div>"
      ],
      "text/plain": [
       "        날짜       삼성전자      LG전자     합계\n",
       "3  2017-01  112.86761  59.11641  172.0\n",
       "4  2017-02  121.95995  42.20130  164.2"
      ]
     },
     "execution_count": 24,
     "metadata": {},
     "output_type": "execute_result"
    },
    {
     "data": {
      "text/html": [
       "<div>\n",
       "<style>\n",
       "    .dataframe thead tr:only-child th {\n",
       "        text-align: right;\n",
       "    }\n",
       "\n",
       "    .dataframe thead th {\n",
       "        text-align: left;\n",
       "    }\n",
       "\n",
       "    .dataframe tbody tr th {\n",
       "        vertical-align: top;\n",
       "    }\n",
       "</style>\n",
       "<table border=\"1\" class=\"dataframe\">\n",
       "  <thead>\n",
       "    <tr style=\"text-align: right;\">\n",
       "      <th></th>\n",
       "      <th>날짜</th>\n",
       "      <th>삼성전자</th>\n",
       "      <th>LG전자</th>\n",
       "      <th>합계</th>\n",
       "    </tr>\n",
       "  </thead>\n",
       "  <tbody>\n",
       "    <tr>\n",
       "      <th>3</th>\n",
       "      <td>2017-01</td>\n",
       "      <td>112.86761</td>\n",
       "      <td>59.11641</td>\n",
       "      <td>172.0</td>\n",
       "    </tr>\n",
       "    <tr>\n",
       "      <th>4</th>\n",
       "      <td>2017-02</td>\n",
       "      <td>121.95995</td>\n",
       "      <td>42.20130</td>\n",
       "      <td>164.2</td>\n",
       "    </tr>\n",
       "    <tr>\n",
       "      <th>5</th>\n",
       "      <td>2017-03</td>\n",
       "      <td>129.22589</td>\n",
       "      <td>141.47994</td>\n",
       "      <td>270.7</td>\n",
       "    </tr>\n",
       "  </tbody>\n",
       "</table>\n",
       "</div>"
      ],
      "text/plain": [
       "        날짜       삼성전자       LG전자     합계\n",
       "3  2017-01  112.86761   59.11641  172.0\n",
       "4  2017-02  121.95995   42.20130  164.2\n",
       "5  2017-03  129.22589  141.47994  270.7"
      ]
     },
     "execution_count": 24,
     "metadata": {},
     "output_type": "execute_result"
    }
   ],
   "source": [
    "df\n",
    "df[3:5] # row 3~4\n",
    "df.iloc[3:5] # row 3~4\n",
    "df.loc[3:5] # row 3~5"
   ]
  },
  {
   "cell_type": "code",
   "execution_count": 25,
   "metadata": {
    "slideshow": {
     "slide_type": "slide"
    }
   },
   "outputs": [
    {
     "data": {
      "text/html": [
       "<div>\n",
       "<style>\n",
       "    .dataframe thead tr:only-child th {\n",
       "        text-align: right;\n",
       "    }\n",
       "\n",
       "    .dataframe thead th {\n",
       "        text-align: left;\n",
       "    }\n",
       "\n",
       "    .dataframe tbody tr th {\n",
       "        vertical-align: top;\n",
       "    }\n",
       "</style>\n",
       "<table border=\"1\" class=\"dataframe\">\n",
       "  <thead>\n",
       "    <tr style=\"text-align: right;\">\n",
       "      <th></th>\n",
       "      <th>날짜</th>\n",
       "      <th>삼성전자</th>\n",
       "      <th>LG전자</th>\n",
       "      <th>합계</th>\n",
       "    </tr>\n",
       "  </thead>\n",
       "  <tbody>\n",
       "    <tr>\n",
       "      <th>0</th>\n",
       "      <td>2016-10</td>\n",
       "      <td>233.53920</td>\n",
       "      <td>136.11721</td>\n",
       "      <td>369.7</td>\n",
       "    </tr>\n",
       "    <tr>\n",
       "      <th>1</th>\n",
       "      <td>2016-11</td>\n",
       "      <td>214.05206</td>\n",
       "      <td>145.20911</td>\n",
       "      <td>359.3</td>\n",
       "    </tr>\n",
       "    <tr>\n",
       "      <th>2</th>\n",
       "      <td>2016-12</td>\n",
       "      <td>159.32536</td>\n",
       "      <td>200.73843</td>\n",
       "      <td>360.1</td>\n",
       "    </tr>\n",
       "    <tr>\n",
       "      <th>3</th>\n",
       "      <td>2017-01</td>\n",
       "      <td>112.86761</td>\n",
       "      <td>59.11641</td>\n",
       "      <td>172.0</td>\n",
       "    </tr>\n",
       "    <tr>\n",
       "      <th>4</th>\n",
       "      <td>2017-02</td>\n",
       "      <td>121.95995</td>\n",
       "      <td>42.20130</td>\n",
       "      <td>164.2</td>\n",
       "    </tr>\n",
       "    <tr>\n",
       "      <th>5</th>\n",
       "      <td>2017-03</td>\n",
       "      <td>129.22589</td>\n",
       "      <td>141.47994</td>\n",
       "      <td>270.7</td>\n",
       "    </tr>\n",
       "  </tbody>\n",
       "</table>\n",
       "</div>"
      ],
      "text/plain": [
       "        날짜       삼성전자       LG전자     합계\n",
       "0  2016-10  233.53920  136.11721  369.7\n",
       "1  2016-11  214.05206  145.20911  359.3\n",
       "2  2016-12  159.32536  200.73843  360.1\n",
       "3  2017-01  112.86761   59.11641  172.0\n",
       "4  2017-02  121.95995   42.20130  164.2\n",
       "5  2017-03  129.22589  141.47994  270.7"
      ]
     },
     "execution_count": 25,
     "metadata": {},
     "output_type": "execute_result"
    },
    {
     "data": {
      "text/html": [
       "<div>\n",
       "<style>\n",
       "    .dataframe thead tr:only-child th {\n",
       "        text-align: right;\n",
       "    }\n",
       "\n",
       "    .dataframe thead th {\n",
       "        text-align: left;\n",
       "    }\n",
       "\n",
       "    .dataframe tbody tr th {\n",
       "        vertical-align: top;\n",
       "    }\n",
       "</style>\n",
       "<table border=\"1\" class=\"dataframe\">\n",
       "  <thead>\n",
       "    <tr style=\"text-align: right;\">\n",
       "      <th></th>\n",
       "      <th>LG전자</th>\n",
       "      <th>합계</th>\n",
       "    </tr>\n",
       "  </thead>\n",
       "  <tbody>\n",
       "    <tr>\n",
       "      <th>0</th>\n",
       "      <td>136.11721</td>\n",
       "      <td>369.7</td>\n",
       "    </tr>\n",
       "    <tr>\n",
       "      <th>1</th>\n",
       "      <td>145.20911</td>\n",
       "      <td>359.3</td>\n",
       "    </tr>\n",
       "    <tr>\n",
       "      <th>2</th>\n",
       "      <td>200.73843</td>\n",
       "      <td>360.1</td>\n",
       "    </tr>\n",
       "    <tr>\n",
       "      <th>3</th>\n",
       "      <td>59.11641</td>\n",
       "      <td>172.0</td>\n",
       "    </tr>\n",
       "    <tr>\n",
       "      <th>4</th>\n",
       "      <td>42.20130</td>\n",
       "      <td>164.2</td>\n",
       "    </tr>\n",
       "    <tr>\n",
       "      <th>5</th>\n",
       "      <td>141.47994</td>\n",
       "      <td>270.7</td>\n",
       "    </tr>\n",
       "  </tbody>\n",
       "</table>\n",
       "</div>"
      ],
      "text/plain": [
       "        LG전자     합계\n",
       "0  136.11721  369.7\n",
       "1  145.20911  359.3\n",
       "2  200.73843  360.1\n",
       "3   59.11641  172.0\n",
       "4   42.20130  164.2\n",
       "5  141.47994  270.7"
      ]
     },
     "execution_count": 25,
     "metadata": {},
     "output_type": "execute_result"
    }
   ],
   "source": [
    "df\n",
    "df.loc[:, 'LG전자':'합계'] # 전체 row 컬럼 'skt'~'sum' 선택 "
   ]
  },
  {
   "cell_type": "code",
   "execution_count": 26,
   "metadata": {
    "slideshow": {
     "slide_type": "slide"
    }
   },
   "outputs": [
    {
     "data": {
      "text/html": [
       "<div>\n",
       "<style>\n",
       "    .dataframe thead tr:only-child th {\n",
       "        text-align: right;\n",
       "    }\n",
       "\n",
       "    .dataframe thead th {\n",
       "        text-align: left;\n",
       "    }\n",
       "\n",
       "    .dataframe tbody tr th {\n",
       "        vertical-align: top;\n",
       "    }\n",
       "</style>\n",
       "<table border=\"1\" class=\"dataframe\">\n",
       "  <thead>\n",
       "    <tr style=\"text-align: right;\">\n",
       "      <th></th>\n",
       "      <th>날짜</th>\n",
       "      <th>삼성전자</th>\n",
       "      <th>LG전자</th>\n",
       "      <th>합계</th>\n",
       "    </tr>\n",
       "  </thead>\n",
       "  <tbody>\n",
       "    <tr>\n",
       "      <th>0</th>\n",
       "      <td>2016-10</td>\n",
       "      <td>233.53920</td>\n",
       "      <td>136.11721</td>\n",
       "      <td>369.7</td>\n",
       "    </tr>\n",
       "    <tr>\n",
       "      <th>1</th>\n",
       "      <td>2016-11</td>\n",
       "      <td>214.05206</td>\n",
       "      <td>145.20911</td>\n",
       "      <td>359.3</td>\n",
       "    </tr>\n",
       "    <tr>\n",
       "      <th>2</th>\n",
       "      <td>2016-12</td>\n",
       "      <td>159.32536</td>\n",
       "      <td>200.73843</td>\n",
       "      <td>360.1</td>\n",
       "    </tr>\n",
       "    <tr>\n",
       "      <th>3</th>\n",
       "      <td>2017-01</td>\n",
       "      <td>112.86761</td>\n",
       "      <td>59.11641</td>\n",
       "      <td>172.0</td>\n",
       "    </tr>\n",
       "    <tr>\n",
       "      <th>4</th>\n",
       "      <td>2017-02</td>\n",
       "      <td>121.95995</td>\n",
       "      <td>42.20130</td>\n",
       "      <td>164.2</td>\n",
       "    </tr>\n",
       "    <tr>\n",
       "      <th>5</th>\n",
       "      <td>2017-03</td>\n",
       "      <td>129.22589</td>\n",
       "      <td>141.47994</td>\n",
       "      <td>270.7</td>\n",
       "    </tr>\n",
       "  </tbody>\n",
       "</table>\n",
       "</div>"
      ],
      "text/plain": [
       "        날짜       삼성전자       LG전자     합계\n",
       "0  2016-10  233.53920  136.11721  369.7\n",
       "1  2016-11  214.05206  145.20911  359.3\n",
       "2  2016-12  159.32536  200.73843  360.1\n",
       "3  2017-01  112.86761   59.11641  172.0\n",
       "4  2017-02  121.95995   42.20130  164.2\n",
       "5  2017-03  129.22589  141.47994  270.7"
      ]
     },
     "execution_count": 26,
     "metadata": {},
     "output_type": "execute_result"
    },
    {
     "data": {
      "text/html": [
       "<div>\n",
       "<style>\n",
       "    .dataframe thead tr:only-child th {\n",
       "        text-align: right;\n",
       "    }\n",
       "\n",
       "    .dataframe thead th {\n",
       "        text-align: left;\n",
       "    }\n",
       "\n",
       "    .dataframe tbody tr th {\n",
       "        vertical-align: top;\n",
       "    }\n",
       "</style>\n",
       "<table border=\"1\" class=\"dataframe\">\n",
       "  <thead>\n",
       "    <tr style=\"text-align: right;\">\n",
       "      <th></th>\n",
       "      <th>삼성전자</th>\n",
       "      <th>합계</th>\n",
       "    </tr>\n",
       "  </thead>\n",
       "  <tbody>\n",
       "    <tr>\n",
       "      <th>0</th>\n",
       "      <td>233.53920</td>\n",
       "      <td>369.7</td>\n",
       "    </tr>\n",
       "    <tr>\n",
       "      <th>1</th>\n",
       "      <td>214.05206</td>\n",
       "      <td>359.3</td>\n",
       "    </tr>\n",
       "    <tr>\n",
       "      <th>2</th>\n",
       "      <td>159.32536</td>\n",
       "      <td>360.1</td>\n",
       "    </tr>\n",
       "  </tbody>\n",
       "</table>\n",
       "</div>"
      ],
      "text/plain": [
       "        삼성전자     합계\n",
       "0  233.53920  369.7\n",
       "1  214.05206  359.3\n",
       "2  159.32536  360.1"
      ]
     },
     "execution_count": 26,
     "metadata": {},
     "output_type": "execute_result"
    }
   ],
   "source": [
    "df\n",
    "df.loc[:2, ['삼성전자','합계']] # 로우 처음부터~2까지, 컬럼  '삼성전자','합계'  선택"
   ]
  },
  {
   "cell_type": "markdown",
   "metadata": {
    "slideshow": {
     "slide_type": "slide"
    }
   },
   "source": [
    "# 불린 인덱스"
   ]
  },
  {
   "cell_type": "code",
   "execution_count": 27,
   "metadata": {
    "slideshow": {
     "slide_type": "-"
    }
   },
   "outputs": [
    {
     "data": {
      "text/html": [
       "<div>\n",
       "<style>\n",
       "    .dataframe thead tr:only-child th {\n",
       "        text-align: right;\n",
       "    }\n",
       "\n",
       "    .dataframe thead th {\n",
       "        text-align: left;\n",
       "    }\n",
       "\n",
       "    .dataframe tbody tr th {\n",
       "        vertical-align: top;\n",
       "    }\n",
       "</style>\n",
       "<table border=\"1\" class=\"dataframe\">\n",
       "  <thead>\n",
       "    <tr style=\"text-align: right;\">\n",
       "      <th></th>\n",
       "      <th>날짜</th>\n",
       "      <th>삼성전자</th>\n",
       "      <th>LG전자</th>\n",
       "      <th>합계</th>\n",
       "    </tr>\n",
       "  </thead>\n",
       "  <tbody>\n",
       "    <tr>\n",
       "      <th>0</th>\n",
       "      <td>2016-10</td>\n",
       "      <td>233.53920</td>\n",
       "      <td>136.11721</td>\n",
       "      <td>369.7</td>\n",
       "    </tr>\n",
       "    <tr>\n",
       "      <th>1</th>\n",
       "      <td>2016-11</td>\n",
       "      <td>214.05206</td>\n",
       "      <td>145.20911</td>\n",
       "      <td>359.3</td>\n",
       "    </tr>\n",
       "    <tr>\n",
       "      <th>2</th>\n",
       "      <td>2016-12</td>\n",
       "      <td>159.32536</td>\n",
       "      <td>200.73843</td>\n",
       "      <td>360.1</td>\n",
       "    </tr>\n",
       "    <tr>\n",
       "      <th>3</th>\n",
       "      <td>2017-01</td>\n",
       "      <td>112.86761</td>\n",
       "      <td>59.11641</td>\n",
       "      <td>172.0</td>\n",
       "    </tr>\n",
       "    <tr>\n",
       "      <th>4</th>\n",
       "      <td>2017-02</td>\n",
       "      <td>121.95995</td>\n",
       "      <td>42.20130</td>\n",
       "      <td>164.2</td>\n",
       "    </tr>\n",
       "    <tr>\n",
       "      <th>5</th>\n",
       "      <td>2017-03</td>\n",
       "      <td>129.22589</td>\n",
       "      <td>141.47994</td>\n",
       "      <td>270.7</td>\n",
       "    </tr>\n",
       "  </tbody>\n",
       "</table>\n",
       "</div>"
      ],
      "text/plain": [
       "        날짜       삼성전자       LG전자     합계\n",
       "0  2016-10  233.53920  136.11721  369.7\n",
       "1  2016-11  214.05206  145.20911  359.3\n",
       "2  2016-12  159.32536  200.73843  360.1\n",
       "3  2017-01  112.86761   59.11641  172.0\n",
       "4  2017-02  121.95995   42.20130  164.2\n",
       "5  2017-03  129.22589  141.47994  270.7"
      ]
     },
     "execution_count": 27,
     "metadata": {},
     "output_type": "execute_result"
    },
    {
     "data": {
      "text/plain": [
       "0    True\n",
       "1    True\n",
       "2    True\n",
       "3    True\n",
       "4    True\n",
       "5    True\n",
       "Name: 삼성전자, dtype: bool"
      ]
     },
     "execution_count": 27,
     "metadata": {},
     "output_type": "execute_result"
    },
    {
     "data": {
      "text/html": [
       "<div>\n",
       "<style>\n",
       "    .dataframe thead tr:only-child th {\n",
       "        text-align: right;\n",
       "    }\n",
       "\n",
       "    .dataframe thead th {\n",
       "        text-align: left;\n",
       "    }\n",
       "\n",
       "    .dataframe tbody tr th {\n",
       "        vertical-align: top;\n",
       "    }\n",
       "</style>\n",
       "<table border=\"1\" class=\"dataframe\">\n",
       "  <thead>\n",
       "    <tr style=\"text-align: right;\">\n",
       "      <th></th>\n",
       "      <th>날짜</th>\n",
       "      <th>삼성전자</th>\n",
       "      <th>LG전자</th>\n",
       "      <th>합계</th>\n",
       "    </tr>\n",
       "  </thead>\n",
       "  <tbody>\n",
       "    <tr>\n",
       "      <th>0</th>\n",
       "      <td>2016-10</td>\n",
       "      <td>233.53920</td>\n",
       "      <td>136.11721</td>\n",
       "      <td>369.7</td>\n",
       "    </tr>\n",
       "    <tr>\n",
       "      <th>1</th>\n",
       "      <td>2016-11</td>\n",
       "      <td>214.05206</td>\n",
       "      <td>145.20911</td>\n",
       "      <td>359.3</td>\n",
       "    </tr>\n",
       "    <tr>\n",
       "      <th>2</th>\n",
       "      <td>2016-12</td>\n",
       "      <td>159.32536</td>\n",
       "      <td>200.73843</td>\n",
       "      <td>360.1</td>\n",
       "    </tr>\n",
       "    <tr>\n",
       "      <th>3</th>\n",
       "      <td>2017-01</td>\n",
       "      <td>112.86761</td>\n",
       "      <td>59.11641</td>\n",
       "      <td>172.0</td>\n",
       "    </tr>\n",
       "    <tr>\n",
       "      <th>4</th>\n",
       "      <td>2017-02</td>\n",
       "      <td>121.95995</td>\n",
       "      <td>42.20130</td>\n",
       "      <td>164.2</td>\n",
       "    </tr>\n",
       "    <tr>\n",
       "      <th>5</th>\n",
       "      <td>2017-03</td>\n",
       "      <td>129.22589</td>\n",
       "      <td>141.47994</td>\n",
       "      <td>270.7</td>\n",
       "    </tr>\n",
       "  </tbody>\n",
       "</table>\n",
       "</div>"
      ],
      "text/plain": [
       "        날짜       삼성전자       LG전자     합계\n",
       "0  2016-10  233.53920  136.11721  369.7\n",
       "1  2016-11  214.05206  145.20911  359.3\n",
       "2  2016-12  159.32536  200.73843  360.1\n",
       "3  2017-01  112.86761   59.11641  172.0\n",
       "4  2017-02  121.95995   42.20130  164.2\n",
       "5  2017-03  129.22589  141.47994  270.7"
      ]
     },
     "execution_count": 27,
     "metadata": {},
     "output_type": "execute_result"
    }
   ],
   "source": [
    "df\n",
    "\n",
    "df.삼성전자 > 90\n",
    "\n",
    "df[df.삼성전자 > 90]"
   ]
  },
  {
   "cell_type": "markdown",
   "metadata": {
    "slideshow": {
     "slide_type": "slide"
    }
   },
   "source": [
    "# 다수의 불린 인덱스\n",
    "* 두 개 이상의 컬럼, '&'(AND), '|'(OR), '^'(XOR)연산\n",
    "* 괄호로 묶어주어야 한다."
   ]
  },
  {
   "cell_type": "code",
   "execution_count": 28,
   "metadata": {
    "slideshow": {
     "slide_type": "-"
    }
   },
   "outputs": [
    {
     "data": {
      "text/html": [
       "<div>\n",
       "<style>\n",
       "    .dataframe thead tr:only-child th {\n",
       "        text-align: right;\n",
       "    }\n",
       "\n",
       "    .dataframe thead th {\n",
       "        text-align: left;\n",
       "    }\n",
       "\n",
       "    .dataframe tbody tr th {\n",
       "        vertical-align: top;\n",
       "    }\n",
       "</style>\n",
       "<table border=\"1\" class=\"dataframe\">\n",
       "  <thead>\n",
       "    <tr style=\"text-align: right;\">\n",
       "      <th></th>\n",
       "      <th>날짜</th>\n",
       "      <th>삼성전자</th>\n",
       "      <th>LG전자</th>\n",
       "      <th>합계</th>\n",
       "    </tr>\n",
       "  </thead>\n",
       "  <tbody>\n",
       "    <tr>\n",
       "      <th>0</th>\n",
       "      <td>2016-10</td>\n",
       "      <td>233.53920</td>\n",
       "      <td>136.11721</td>\n",
       "      <td>369.7</td>\n",
       "    </tr>\n",
       "    <tr>\n",
       "      <th>1</th>\n",
       "      <td>2016-11</td>\n",
       "      <td>214.05206</td>\n",
       "      <td>145.20911</td>\n",
       "      <td>359.3</td>\n",
       "    </tr>\n",
       "    <tr>\n",
       "      <th>2</th>\n",
       "      <td>2016-12</td>\n",
       "      <td>159.32536</td>\n",
       "      <td>200.73843</td>\n",
       "      <td>360.1</td>\n",
       "    </tr>\n",
       "    <tr>\n",
       "      <th>3</th>\n",
       "      <td>2017-01</td>\n",
       "      <td>112.86761</td>\n",
       "      <td>59.11641</td>\n",
       "      <td>172.0</td>\n",
       "    </tr>\n",
       "    <tr>\n",
       "      <th>4</th>\n",
       "      <td>2017-02</td>\n",
       "      <td>121.95995</td>\n",
       "      <td>42.20130</td>\n",
       "      <td>164.2</td>\n",
       "    </tr>\n",
       "    <tr>\n",
       "      <th>5</th>\n",
       "      <td>2017-03</td>\n",
       "      <td>129.22589</td>\n",
       "      <td>141.47994</td>\n",
       "      <td>270.7</td>\n",
       "    </tr>\n",
       "  </tbody>\n",
       "</table>\n",
       "</div>"
      ],
      "text/plain": [
       "        날짜       삼성전자       LG전자     합계\n",
       "0  2016-10  233.53920  136.11721  369.7\n",
       "1  2016-11  214.05206  145.20911  359.3\n",
       "2  2016-12  159.32536  200.73843  360.1\n",
       "3  2017-01  112.86761   59.11641  172.0\n",
       "4  2017-02  121.95995   42.20130  164.2\n",
       "5  2017-03  129.22589  141.47994  270.7"
      ]
     },
     "execution_count": 28,
     "metadata": {},
     "output_type": "execute_result"
    },
    {
     "data": {
      "text/plain": [
       "0    True\n",
       "1    True\n",
       "2    True\n",
       "3    True\n",
       "4    True\n",
       "5    True\n",
       "Name: 삼성전자, dtype: bool"
      ]
     },
     "execution_count": 28,
     "metadata": {},
     "output_type": "execute_result"
    },
    {
     "data": {
      "text/html": [
       "<div>\n",
       "<style>\n",
       "    .dataframe thead tr:only-child th {\n",
       "        text-align: right;\n",
       "    }\n",
       "\n",
       "    .dataframe thead th {\n",
       "        text-align: left;\n",
       "    }\n",
       "\n",
       "    .dataframe tbody tr th {\n",
       "        vertical-align: top;\n",
       "    }\n",
       "</style>\n",
       "<table border=\"1\" class=\"dataframe\">\n",
       "  <thead>\n",
       "    <tr style=\"text-align: right;\">\n",
       "      <th></th>\n",
       "      <th>날짜</th>\n",
       "      <th>삼성전자</th>\n",
       "      <th>LG전자</th>\n",
       "      <th>합계</th>\n",
       "    </tr>\n",
       "  </thead>\n",
       "  <tbody>\n",
       "    <tr>\n",
       "      <th>0</th>\n",
       "      <td>2016-10</td>\n",
       "      <td>233.53920</td>\n",
       "      <td>136.11721</td>\n",
       "      <td>369.7</td>\n",
       "    </tr>\n",
       "    <tr>\n",
       "      <th>1</th>\n",
       "      <td>2016-11</td>\n",
       "      <td>214.05206</td>\n",
       "      <td>145.20911</td>\n",
       "      <td>359.3</td>\n",
       "    </tr>\n",
       "    <tr>\n",
       "      <th>2</th>\n",
       "      <td>2016-12</td>\n",
       "      <td>159.32536</td>\n",
       "      <td>200.73843</td>\n",
       "      <td>360.1</td>\n",
       "    </tr>\n",
       "    <tr>\n",
       "      <th>3</th>\n",
       "      <td>2017-01</td>\n",
       "      <td>112.86761</td>\n",
       "      <td>59.11641</td>\n",
       "      <td>172.0</td>\n",
       "    </tr>\n",
       "    <tr>\n",
       "      <th>4</th>\n",
       "      <td>2017-02</td>\n",
       "      <td>121.95995</td>\n",
       "      <td>42.20130</td>\n",
       "      <td>164.2</td>\n",
       "    </tr>\n",
       "    <tr>\n",
       "      <th>5</th>\n",
       "      <td>2017-03</td>\n",
       "      <td>129.22589</td>\n",
       "      <td>141.47994</td>\n",
       "      <td>270.7</td>\n",
       "    </tr>\n",
       "  </tbody>\n",
       "</table>\n",
       "</div>"
      ],
      "text/plain": [
       "        날짜       삼성전자       LG전자     합계\n",
       "0  2016-10  233.53920  136.11721  369.7\n",
       "1  2016-11  214.05206  145.20911  359.3\n",
       "2  2016-12  159.32536  200.73843  360.1\n",
       "3  2017-01  112.86761   59.11641  172.0\n",
       "4  2017-02  121.95995   42.20130  164.2\n",
       "5  2017-03  129.22589  141.47994  270.7"
      ]
     },
     "execution_count": 28,
     "metadata": {},
     "output_type": "execute_result"
    }
   ],
   "source": [
    "df\n",
    "\n",
    "(df.삼성전자 > 50) & (df.삼성전자 > 70)\n",
    "\n",
    "df[(df.삼성전자 > 50) & (df.삼성전자 > 70)]"
   ]
  },
  {
   "cell_type": "code",
   "execution_count": 29,
   "metadata": {
    "slideshow": {
     "slide_type": "slide"
    }
   },
   "outputs": [
    {
     "data": {
      "text/html": [
       "<div>\n",
       "<style>\n",
       "    .dataframe thead tr:only-child th {\n",
       "        text-align: right;\n",
       "    }\n",
       "\n",
       "    .dataframe thead th {\n",
       "        text-align: left;\n",
       "    }\n",
       "\n",
       "    .dataframe tbody tr th {\n",
       "        vertical-align: top;\n",
       "    }\n",
       "</style>\n",
       "<table border=\"1\" class=\"dataframe\">\n",
       "  <thead>\n",
       "    <tr style=\"text-align: right;\">\n",
       "      <th></th>\n",
       "      <th>날짜</th>\n",
       "      <th>삼성전자</th>\n",
       "      <th>LG전자</th>\n",
       "      <th>합계</th>\n",
       "    </tr>\n",
       "  </thead>\n",
       "  <tbody>\n",
       "    <tr>\n",
       "      <th>0</th>\n",
       "      <td>2016-10</td>\n",
       "      <td>233.53920</td>\n",
       "      <td>136.11721</td>\n",
       "      <td>369.7</td>\n",
       "    </tr>\n",
       "    <tr>\n",
       "      <th>1</th>\n",
       "      <td>2016-11</td>\n",
       "      <td>214.05206</td>\n",
       "      <td>145.20911</td>\n",
       "      <td>359.3</td>\n",
       "    </tr>\n",
       "    <tr>\n",
       "      <th>2</th>\n",
       "      <td>2016-12</td>\n",
       "      <td>159.32536</td>\n",
       "      <td>200.73843</td>\n",
       "      <td>360.1</td>\n",
       "    </tr>\n",
       "    <tr>\n",
       "      <th>3</th>\n",
       "      <td>2017-01</td>\n",
       "      <td>112.86761</td>\n",
       "      <td>59.11641</td>\n",
       "      <td>172.0</td>\n",
       "    </tr>\n",
       "    <tr>\n",
       "      <th>4</th>\n",
       "      <td>2017-02</td>\n",
       "      <td>121.95995</td>\n",
       "      <td>42.20130</td>\n",
       "      <td>164.2</td>\n",
       "    </tr>\n",
       "    <tr>\n",
       "      <th>5</th>\n",
       "      <td>2017-03</td>\n",
       "      <td>129.22589</td>\n",
       "      <td>141.47994</td>\n",
       "      <td>270.7</td>\n",
       "    </tr>\n",
       "  </tbody>\n",
       "</table>\n",
       "</div>"
      ],
      "text/plain": [
       "        날짜       삼성전자       LG전자     합계\n",
       "0  2016-10  233.53920  136.11721  369.7\n",
       "1  2016-11  214.05206  145.20911  359.3\n",
       "2  2016-12  159.32536  200.73843  360.1\n",
       "3  2017-01  112.86761   59.11641  172.0\n",
       "4  2017-02  121.95995   42.20130  164.2\n",
       "5  2017-03  129.22589  141.47994  270.7"
      ]
     },
     "execution_count": 29,
     "metadata": {},
     "output_type": "execute_result"
    },
    {
     "data": {
      "text/html": [
       "<div>\n",
       "<style>\n",
       "    .dataframe thead tr:only-child th {\n",
       "        text-align: right;\n",
       "    }\n",
       "\n",
       "    .dataframe thead th {\n",
       "        text-align: left;\n",
       "    }\n",
       "\n",
       "    .dataframe tbody tr th {\n",
       "        vertical-align: top;\n",
       "    }\n",
       "</style>\n",
       "<table border=\"1\" class=\"dataframe\">\n",
       "  <thead>\n",
       "    <tr style=\"text-align: right;\">\n",
       "      <th></th>\n",
       "      <th>날짜</th>\n",
       "      <th>삼성전자</th>\n",
       "      <th>LG전자</th>\n",
       "      <th>합계</th>\n",
       "    </tr>\n",
       "  </thead>\n",
       "  <tbody>\n",
       "    <tr>\n",
       "      <th>0</th>\n",
       "      <td>2016-10</td>\n",
       "      <td>233.53920</td>\n",
       "      <td>136.11721</td>\n",
       "      <td>369.7</td>\n",
       "    </tr>\n",
       "    <tr>\n",
       "      <th>1</th>\n",
       "      <td>2016-11</td>\n",
       "      <td>214.05206</td>\n",
       "      <td>145.20911</td>\n",
       "      <td>359.3</td>\n",
       "    </tr>\n",
       "    <tr>\n",
       "      <th>2</th>\n",
       "      <td>2016-12</td>\n",
       "      <td>159.32536</td>\n",
       "      <td>200.73843</td>\n",
       "      <td>360.1</td>\n",
       "    </tr>\n",
       "    <tr>\n",
       "      <th>3</th>\n",
       "      <td>2017-01</td>\n",
       "      <td>112.86761</td>\n",
       "      <td>59.11641</td>\n",
       "      <td>172.0</td>\n",
       "    </tr>\n",
       "    <tr>\n",
       "      <th>4</th>\n",
       "      <td>2017-02</td>\n",
       "      <td>121.95995</td>\n",
       "      <td>42.20130</td>\n",
       "      <td>164.2</td>\n",
       "    </tr>\n",
       "    <tr>\n",
       "      <th>5</th>\n",
       "      <td>2017-03</td>\n",
       "      <td>129.22589</td>\n",
       "      <td>141.47994</td>\n",
       "      <td>270.7</td>\n",
       "    </tr>\n",
       "  </tbody>\n",
       "</table>\n",
       "</div>"
      ],
      "text/plain": [
       "        날짜       삼성전자       LG전자     합계\n",
       "0  2016-10  233.53920  136.11721  369.7\n",
       "1  2016-11  214.05206  145.20911  359.3\n",
       "2  2016-12  159.32536  200.73843  360.1\n",
       "3  2017-01  112.86761   59.11641  172.0\n",
       "4  2017-02  121.95995   42.20130  164.2\n",
       "5  2017-03  129.22589  141.47994  270.7"
      ]
     },
     "execution_count": 29,
     "metadata": {},
     "output_type": "execute_result"
    }
   ],
   "source": [
    "df\n",
    "\n",
    "df[(df.삼성전자 > 90) | (df.삼성전자 > 70)]"
   ]
  },
  {
   "cell_type": "markdown",
   "metadata": {
    "slideshow": {
     "slide_type": "slide"
    }
   },
   "source": [
    "# 소트\n",
    "\n",
    "인덱스 혹은 특정 컬럼으로 소트\n",
    "\n",
    "```python\n",
    "# 인덱스로 소트 (내림차순) \n",
    "df.sort_index(ascending=False)\n",
    "```\n",
    "\n",
    "```python\n",
    "# skt 컬럼으로 (내림차순)\n",
    "df.sort_values(by='삼성전자', ascending=False)\n",
    "```"
   ]
  },
  {
   "cell_type": "markdown",
   "metadata": {
    "slideshow": {
     "slide_type": "slide"
    }
   },
   "source": [
    "## 인덱스로 소트\n",
    "ascending=False (내림차순)"
   ]
  },
  {
   "cell_type": "code",
   "execution_count": 30,
   "metadata": {
    "slideshow": {
     "slide_type": "-"
    }
   },
   "outputs": [
    {
     "data": {
      "text/html": [
       "<div>\n",
       "<style>\n",
       "    .dataframe thead tr:only-child th {\n",
       "        text-align: right;\n",
       "    }\n",
       "\n",
       "    .dataframe thead th {\n",
       "        text-align: left;\n",
       "    }\n",
       "\n",
       "    .dataframe tbody tr th {\n",
       "        vertical-align: top;\n",
       "    }\n",
       "</style>\n",
       "<table border=\"1\" class=\"dataframe\">\n",
       "  <thead>\n",
       "    <tr style=\"text-align: right;\">\n",
       "      <th></th>\n",
       "      <th>날짜</th>\n",
       "      <th>삼성전자</th>\n",
       "      <th>LG전자</th>\n",
       "      <th>합계</th>\n",
       "    </tr>\n",
       "  </thead>\n",
       "  <tbody>\n",
       "    <tr>\n",
       "      <th>5</th>\n",
       "      <td>2017-03</td>\n",
       "      <td>129.22589</td>\n",
       "      <td>141.47994</td>\n",
       "      <td>270.7</td>\n",
       "    </tr>\n",
       "    <tr>\n",
       "      <th>4</th>\n",
       "      <td>2017-02</td>\n",
       "      <td>121.95995</td>\n",
       "      <td>42.20130</td>\n",
       "      <td>164.2</td>\n",
       "    </tr>\n",
       "    <tr>\n",
       "      <th>3</th>\n",
       "      <td>2017-01</td>\n",
       "      <td>112.86761</td>\n",
       "      <td>59.11641</td>\n",
       "      <td>172.0</td>\n",
       "    </tr>\n",
       "    <tr>\n",
       "      <th>2</th>\n",
       "      <td>2016-12</td>\n",
       "      <td>159.32536</td>\n",
       "      <td>200.73843</td>\n",
       "      <td>360.1</td>\n",
       "    </tr>\n",
       "    <tr>\n",
       "      <th>1</th>\n",
       "      <td>2016-11</td>\n",
       "      <td>214.05206</td>\n",
       "      <td>145.20911</td>\n",
       "      <td>359.3</td>\n",
       "    </tr>\n",
       "    <tr>\n",
       "      <th>0</th>\n",
       "      <td>2016-10</td>\n",
       "      <td>233.53920</td>\n",
       "      <td>136.11721</td>\n",
       "      <td>369.7</td>\n",
       "    </tr>\n",
       "  </tbody>\n",
       "</table>\n",
       "</div>"
      ],
      "text/plain": [
       "        날짜       삼성전자       LG전자     합계\n",
       "5  2017-03  129.22589  141.47994  270.7\n",
       "4  2017-02  121.95995   42.20130  164.2\n",
       "3  2017-01  112.86761   59.11641  172.0\n",
       "2  2016-12  159.32536  200.73843  360.1\n",
       "1  2016-11  214.05206  145.20911  359.3\n",
       "0  2016-10  233.53920  136.11721  369.7"
      ]
     },
     "execution_count": 30,
     "metadata": {},
     "output_type": "execute_result"
    }
   ],
   "source": [
    "df.sort_index(ascending=False) "
   ]
  },
  {
   "cell_type": "markdown",
   "metadata": {
    "slideshow": {
     "slide_type": "slide"
    }
   },
   "source": [
    "## 컬럼으로 소트\n",
    "\n",
    "ascending=False (내림차순), 일반적으로 TOP-N을 구하는데 많이 사용한다. <br/>\n",
    "(skt의 광고비 지출이 많은 순서는 5월, 2월, 6월 순)"
   ]
  },
  {
   "cell_type": "code",
   "execution_count": 31,
   "metadata": {
    "slideshow": {
     "slide_type": "-"
    }
   },
   "outputs": [
    {
     "data": {
      "text/html": [
       "<div>\n",
       "<style>\n",
       "    .dataframe thead tr:only-child th {\n",
       "        text-align: right;\n",
       "    }\n",
       "\n",
       "    .dataframe thead th {\n",
       "        text-align: left;\n",
       "    }\n",
       "\n",
       "    .dataframe tbody tr th {\n",
       "        vertical-align: top;\n",
       "    }\n",
       "</style>\n",
       "<table border=\"1\" class=\"dataframe\">\n",
       "  <thead>\n",
       "    <tr style=\"text-align: right;\">\n",
       "      <th></th>\n",
       "      <th>날짜</th>\n",
       "      <th>삼성전자</th>\n",
       "      <th>LG전자</th>\n",
       "      <th>합계</th>\n",
       "    </tr>\n",
       "  </thead>\n",
       "  <tbody>\n",
       "    <tr>\n",
       "      <th>0</th>\n",
       "      <td>2016-10</td>\n",
       "      <td>233.53920</td>\n",
       "      <td>136.11721</td>\n",
       "      <td>369.7</td>\n",
       "    </tr>\n",
       "    <tr>\n",
       "      <th>1</th>\n",
       "      <td>2016-11</td>\n",
       "      <td>214.05206</td>\n",
       "      <td>145.20911</td>\n",
       "      <td>359.3</td>\n",
       "    </tr>\n",
       "    <tr>\n",
       "      <th>2</th>\n",
       "      <td>2016-12</td>\n",
       "      <td>159.32536</td>\n",
       "      <td>200.73843</td>\n",
       "      <td>360.1</td>\n",
       "    </tr>\n",
       "    <tr>\n",
       "      <th>5</th>\n",
       "      <td>2017-03</td>\n",
       "      <td>129.22589</td>\n",
       "      <td>141.47994</td>\n",
       "      <td>270.7</td>\n",
       "    </tr>\n",
       "    <tr>\n",
       "      <th>4</th>\n",
       "      <td>2017-02</td>\n",
       "      <td>121.95995</td>\n",
       "      <td>42.20130</td>\n",
       "      <td>164.2</td>\n",
       "    </tr>\n",
       "    <tr>\n",
       "      <th>3</th>\n",
       "      <td>2017-01</td>\n",
       "      <td>112.86761</td>\n",
       "      <td>59.11641</td>\n",
       "      <td>172.0</td>\n",
       "    </tr>\n",
       "  </tbody>\n",
       "</table>\n",
       "</div>"
      ],
      "text/plain": [
       "        날짜       삼성전자       LG전자     합계\n",
       "0  2016-10  233.53920  136.11721  369.7\n",
       "1  2016-11  214.05206  145.20911  359.3\n",
       "2  2016-12  159.32536  200.73843  360.1\n",
       "5  2017-03  129.22589  141.47994  270.7\n",
       "4  2017-02  121.95995   42.20130  164.2\n",
       "3  2017-01  112.86761   59.11641  172.0"
      ]
     },
     "execution_count": 31,
     "metadata": {},
     "output_type": "execute_result"
    }
   ],
   "source": [
    "df.sort_values(by='삼성전자', ascending=False) "
   ]
  },
  {
   "cell_type": "markdown",
   "metadata": {
    "slideshow": {
     "slide_type": "slide"
    }
   },
   "source": [
    "# 축 변환\n",
    "* 컬럼과 인덱스 축 바꾸기\n",
    "* 엑셀 선택하여 붙여넣기, 행/열 바꿈\n",
    "* 대칭 행렬(symmetric matrix)"
   ]
  },
  {
   "cell_type": "code",
   "execution_count": 32,
   "metadata": {
    "slideshow": {
     "slide_type": "-"
    }
   },
   "outputs": [
    {
     "data": {
      "text/html": [
       "<div>\n",
       "<style>\n",
       "    .dataframe thead tr:only-child th {\n",
       "        text-align: right;\n",
       "    }\n",
       "\n",
       "    .dataframe thead th {\n",
       "        text-align: left;\n",
       "    }\n",
       "\n",
       "    .dataframe tbody tr th {\n",
       "        vertical-align: top;\n",
       "    }\n",
       "</style>\n",
       "<table border=\"1\" class=\"dataframe\">\n",
       "  <thead>\n",
       "    <tr style=\"text-align: right;\">\n",
       "      <th></th>\n",
       "      <th>날짜</th>\n",
       "      <th>삼성전자</th>\n",
       "      <th>LG전자</th>\n",
       "      <th>합계</th>\n",
       "    </tr>\n",
       "  </thead>\n",
       "  <tbody>\n",
       "    <tr>\n",
       "      <th>0</th>\n",
       "      <td>2016-10</td>\n",
       "      <td>233.53920</td>\n",
       "      <td>136.11721</td>\n",
       "      <td>369.7</td>\n",
       "    </tr>\n",
       "    <tr>\n",
       "      <th>1</th>\n",
       "      <td>2016-11</td>\n",
       "      <td>214.05206</td>\n",
       "      <td>145.20911</td>\n",
       "      <td>359.3</td>\n",
       "    </tr>\n",
       "    <tr>\n",
       "      <th>2</th>\n",
       "      <td>2016-12</td>\n",
       "      <td>159.32536</td>\n",
       "      <td>200.73843</td>\n",
       "      <td>360.1</td>\n",
       "    </tr>\n",
       "    <tr>\n",
       "      <th>3</th>\n",
       "      <td>2017-01</td>\n",
       "      <td>112.86761</td>\n",
       "      <td>59.11641</td>\n",
       "      <td>172.0</td>\n",
       "    </tr>\n",
       "    <tr>\n",
       "      <th>4</th>\n",
       "      <td>2017-02</td>\n",
       "      <td>121.95995</td>\n",
       "      <td>42.20130</td>\n",
       "      <td>164.2</td>\n",
       "    </tr>\n",
       "    <tr>\n",
       "      <th>5</th>\n",
       "      <td>2017-03</td>\n",
       "      <td>129.22589</td>\n",
       "      <td>141.47994</td>\n",
       "      <td>270.7</td>\n",
       "    </tr>\n",
       "  </tbody>\n",
       "</table>\n",
       "</div>"
      ],
      "text/plain": [
       "        날짜       삼성전자       LG전자     합계\n",
       "0  2016-10  233.53920  136.11721  369.7\n",
       "1  2016-11  214.05206  145.20911  359.3\n",
       "2  2016-12  159.32536  200.73843  360.1\n",
       "3  2017-01  112.86761   59.11641  172.0\n",
       "4  2017-02  121.95995   42.20130  164.2\n",
       "5  2017-03  129.22589  141.47994  270.7"
      ]
     },
     "execution_count": 32,
     "metadata": {},
     "output_type": "execute_result"
    }
   ],
   "source": [
    "df"
   ]
  },
  {
   "cell_type": "code",
   "execution_count": 33,
   "metadata": {
    "slideshow": {
     "slide_type": "-"
    }
   },
   "outputs": [
    {
     "data": {
      "text/html": [
       "<div>\n",
       "<style>\n",
       "    .dataframe thead tr:only-child th {\n",
       "        text-align: right;\n",
       "    }\n",
       "\n",
       "    .dataframe thead th {\n",
       "        text-align: left;\n",
       "    }\n",
       "\n",
       "    .dataframe tbody tr th {\n",
       "        vertical-align: top;\n",
       "    }\n",
       "</style>\n",
       "<table border=\"1\" class=\"dataframe\">\n",
       "  <thead>\n",
       "    <tr style=\"text-align: right;\">\n",
       "      <th></th>\n",
       "      <th>0</th>\n",
       "      <th>1</th>\n",
       "      <th>2</th>\n",
       "      <th>3</th>\n",
       "      <th>4</th>\n",
       "      <th>5</th>\n",
       "    </tr>\n",
       "  </thead>\n",
       "  <tbody>\n",
       "    <tr>\n",
       "      <th>날짜</th>\n",
       "      <td>2016-10</td>\n",
       "      <td>2016-11</td>\n",
       "      <td>2016-12</td>\n",
       "      <td>2017-01</td>\n",
       "      <td>2017-02</td>\n",
       "      <td>2017-03</td>\n",
       "    </tr>\n",
       "    <tr>\n",
       "      <th>삼성전자</th>\n",
       "      <td>233.539</td>\n",
       "      <td>214.052</td>\n",
       "      <td>159.325</td>\n",
       "      <td>112.868</td>\n",
       "      <td>121.96</td>\n",
       "      <td>129.226</td>\n",
       "    </tr>\n",
       "    <tr>\n",
       "      <th>LG전자</th>\n",
       "      <td>136.117</td>\n",
       "      <td>145.209</td>\n",
       "      <td>200.738</td>\n",
       "      <td>59.1164</td>\n",
       "      <td>42.2013</td>\n",
       "      <td>141.48</td>\n",
       "    </tr>\n",
       "    <tr>\n",
       "      <th>합계</th>\n",
       "      <td>369.7</td>\n",
       "      <td>359.3</td>\n",
       "      <td>360.1</td>\n",
       "      <td>172</td>\n",
       "      <td>164.2</td>\n",
       "      <td>270.7</td>\n",
       "    </tr>\n",
       "  </tbody>\n",
       "</table>\n",
       "</div>"
      ],
      "text/plain": [
       "            0        1        2        3        4        5\n",
       "날짜    2016-10  2016-11  2016-12  2017-01  2017-02  2017-03\n",
       "삼성전자  233.539  214.052  159.325  112.868   121.96  129.226\n",
       "LG전자  136.117  145.209  200.738  59.1164  42.2013   141.48\n",
       "합계      369.7    359.3    360.1      172    164.2    270.7"
      ]
     },
     "execution_count": 33,
     "metadata": {},
     "output_type": "execute_result"
    }
   ],
   "source": [
    "df.T"
   ]
  },
  {
   "cell_type": "markdown",
   "metadata": {
    "slideshow": {
     "slide_type": "slide"
    }
   },
   "source": [
    "# 리뷰\n",
    "* DataFrame는 pandas에서 가장 많이 사용되는 구조\n",
    "```python\n",
    "df.columns, df.index, df.values\n",
    "```\n",
    "* DataFrame의 일부 추출, 필터링에 `Ix` 사용\n",
    "```python\n",
    "df[df.skt > 90]\n",
    "```\n",
    "* 소트: 컬럼 값, 내림차순 소트를 자주 사용 \n",
    "```python\n",
    "df.sort_values(by='column', ascending=False) \n",
    "```\n",
    "* 축 변환\n",
    "```python\n",
    "df.T\n",
    "```"
   ]
  },
  {
   "cell_type": "markdown",
   "metadata": {
    "slideshow": {
     "slide_type": "notes"
    }
   },
   "source": [
    "----\n",
    "#### 2017 FinanceData http://fb.com/financedata http://financedata.github.com"
   ]
  }
 ],
 "metadata": {
  "celltoolbar": "Slideshow",
  "kernelspec": {
   "display_name": "Python 3",
   "language": "python",
   "name": "python3"
  },
  "language_info": {
   "codemirror_mode": {
    "name": "ipython",
    "version": 3
   },
   "file_extension": ".py",
   "mimetype": "text/x-python",
   "name": "python",
   "nbconvert_exporter": "python",
   "pygments_lexer": "ipython3",
   "version": "3.5.2"
  }
 },
 "nbformat": 4,
 "nbformat_minor": 1
}
