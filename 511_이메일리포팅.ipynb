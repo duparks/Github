{
 "cells": [
  {
   "cell_type": "markdown",
   "metadata": {
    "collapsed": true,
    "slideshow": {
     "slide_type": "slide"
    }
   },
   "source": [
    "# 이메일 리포팅\n",
    "\n",
    "<img width=\"10%\" src=\"https://goo.gl/zq1Kgj\" >\n",
    "\n",
    "#### 이승준 fb.com/plusjune"
   ]
  },
  {
   "cell_type": "code",
   "execution_count": 15,
   "metadata": {
    "collapsed": false,
    "slideshow": {
     "slide_type": "slide"
    }
   },
   "outputs": [],
   "source": [
    "import os\n",
    "import smtplib\n",
    "from email.mime.multipart import MIMEMultipart\n",
    "from email.mime.base import MIMEBase\n",
    "from email.mime.text import MIMEText\n",
    "from email import encoders\n",
    "from email.header import Header"
   ]
  },
  {
   "cell_type": "markdown",
   "metadata": {
    "slideshow": {
     "slide_type": "slide"
    }
   },
   "source": [
    "# SMTP 프로토콜\n",
    "\n",
    "```python\n",
    "\n",
    "import smtplib\n",
    "from email.mime.text import MIMEText\n",
    "\n",
    "msg = MIMEText(\"이메일 본문\")\n",
    "\n",
    "msg['Subject'] = '메일 제목'\n",
    "msg['From'] = 'plusjune@abc.com'\n",
    "msg['To'] = 'plusjune@xyz.com'\n",
    "\n",
    "s = smtplib.SMTP('localhost') # localhost에 사내 SMTP 서버를 지정할 수 있다.\n",
    "s.send_message(msg)\n",
    "s.quit()\n",
    "```"
   ]
  },
  {
   "cell_type": "markdown",
   "metadata": {
    "collapsed": true,
    "slideshow": {
     "slide_type": "slide"
    }
   },
   "source": [
    "# Gmail에서 보내기\n",
    "\n",
    "https://www.google.com/settings/security/lesssecureapps\n",
    "\n",
    "구글의 보안 정책, 보안 수준이 낮은 기기에서 접근을 허용"
   ]
  },
  {
   "cell_type": "markdown",
   "metadata": {
    "slideshow": {
     "slide_type": "slide"
    }
   },
   "source": [
    "# 간단한 메시지 전송\n",
    "\n",
    "```python\n",
    "import smtplib\n",
    "\n",
    "gmail_user='alert.messenger.kr@gmail.com'\n",
    "gmail_pwd='********'\n",
    "\n",
    "server = smtplib.SMTP('smtp.gmail.com', 587)\n",
    "server.starttls()\n",
    "server.login(gmail_user, gmail_pwd)\n",
    " \n",
    "msg = \"YOUR MESSAGE!\"\n",
    "server.sendmail(gmail_user, gmail_user, msg)\n",
    "server.quit()\n",
    "```"
   ]
  },
  {
   "cell_type": "markdown",
   "metadata": {
    "slideshow": {
     "slide_type": "slide"
    }
   },
   "source": [
    "# 여러사람에게 보내기"
   ]
  },
  {
   "cell_type": "code",
   "execution_count": 7,
   "metadata": {
    "collapsed": false,
    "slideshow": {
     "slide_type": "-"
    }
   },
   "outputs": [
    {
     "data": {
      "text/plain": [
       "(221, b'2.0.0 closing connection g27sm24142225pfd.47 - gsmtp')"
      ]
     },
     "execution_count": 7,
     "metadata": {},
     "output_type": "execute_result"
    }
   ],
   "source": [
    "import smtplib\n",
    "from email.mime.text import MIMEText\n",
    "\n",
    "gmail_user='alert.messenger.kr@gmail.com'\n",
    "gmail_pwd='********'\n",
    "\n",
    "msg = MIMEText(\"이메일 본문\")\n",
    "msg['Subject'] = '메일 제목'\n",
    "msg['From'] = 'alert.messenger.kr@gmail.com'\n",
    "msg['To'] = '이승준<plusjune@gmail.com>, 홍길동<gildong-hong@gmail.com>'\n",
    "\n",
    "s = smtplib.SMTP(\"smtp.gmail.com\", 587)\n",
    "s.starttls()\n",
    "s.login(gmail_user, gmail_pwd)\n",
    "s.send_message(msg)\n",
    "s.quit()"
   ]
  },
  {
   "cell_type": "markdown",
   "metadata": {
    "collapsed": true,
    "slideshow": {
     "slide_type": "slide"
    }
   },
   "source": [
    "# 첨부 파일"
   ]
  },
  {
   "cell_type": "code",
   "execution_count": 17,
   "metadata": {
    "collapsed": false,
    "slideshow": {
     "slide_type": "-"
    }
   },
   "outputs": [],
   "source": [
    "gmail_user='alert.messenger.kr@gmail.com'\n",
    "gmail_pwd='********'\n",
    "\n",
    "def send_gmail(to, subject, html, attach):\n",
    "    msg=MIMEMultipart('alternative')\n",
    "    msg['From']=gmail_user\n",
    "    msg['To'] = to\n",
    "    msg['Subject'] = Header(s=subject, charset=\"utf-8\")\n",
    "    msg.attach(MIMEText(html, 'html', _charset=\"utf-8\"))\n",
    "\n",
    "    #첨부파일 발송\n",
    "    part=MIMEBase('application','octet-stream')\n",
    "    part.set_payload(open(attach, 'rb').read())\n",
    "    encoders.encode_base64(part)\n",
    "    part.add_header('Content-Disposition','attachment; filename=\"%s\"' % os.path.basename(attach))\n",
    "    msg.attach(part)\n",
    "\n",
    "    s = smtplib.SMTP(\"smtp.gmail.com\", 587)\n",
    "    s.ehlo()\n",
    "    s.starttls()\n",
    "    s.ehlo()\n",
    "    s.login(gmail_user, gmail_pwd)\n",
    "    s.sendmail(gmail_user, to, msg.as_string())\n",
    "    s.close()\n",
    "    \n",
    "html = \"<h2> 첨부 참조하세요</h2> 상세 내용 보내 드립니다\"\n",
    "send_gmail('이승준<plusjune@gmail.com>', '첨부 참조', html, 'myarchive.zip')"
   ]
  },
  {
   "cell_type": "markdown",
   "metadata": {
    "slideshow": {
     "slide_type": "slide"
    }
   },
   "source": [
    "# 서식있는 레포트\n",
    "HTML로 서식있는 레포트 보내기"
   ]
  },
  {
   "cell_type": "code",
   "execution_count": 18,
   "metadata": {
    "collapsed": true,
    "slideshow": {
     "slide_type": "-"
    }
   },
   "outputs": [],
   "source": [
    "gmail_user='alert.messenger.kr@gmail.com'\n",
    "gmail_pwd='********'\n",
    "\n",
    "def send_gmail(to, subject, html, attach=None):\n",
    "    msg=MIMEMultipart('alternative')\n",
    "    msg['From']=gmail_user\n",
    "    msg['To'] = to\n",
    "    msg['Subject'] = Header(s=subject, charset=\"utf-8\")\n",
    "    msg.attach(MIMEText(html, 'html', _charset=\"utf-8\"))\n",
    "\n",
    "    #첨부파일\n",
    "    if attach:\n",
    "        part=MIMEBase('application','octet-stream')\n",
    "        part.set_payload(open(attach, 'rb').read())\n",
    "        encoders.encode_base64(part)\n",
    "        part.add_header('Content-Disposition','attachment; filename=\"%s\"' % os.path.basename(attach))\n",
    "        msg.attach(part)\n",
    "\n",
    "    s = smtplib.SMTP(\"smtp.gmail.com\", 587)\n",
    "    s.ehlo()\n",
    "    s.starttls()\n",
    "    s.ehlo()\n",
    "    s.login(gmail_user, gmail_pwd)\n",
    "    s.sendmail(gmail_user, to, msg.as_string())\n",
    "    s.close()"
   ]
  },
  {
   "cell_type": "code",
   "execution_count": 21,
   "metadata": {
    "collapsed": false,
    "slideshow": {
     "slide_type": "slide"
    }
   },
   "outputs": [],
   "source": [
    "message_tmpl=\"\"\"<html>\n",
    "<head>\n",
    "<title>페이지 제목</title>\n",
    "<style type=\"text/css\">\n",
    "\n",
    "body {\n",
    "  font-family:'Malgun Gothic';\n",
    "  font-size:10pt;\n",
    "}\n",
    "</style>\n",
    "</head>\n",
    "<body>\n",
    "<h2> 제목1 </h2>\n",
    "여기는 메시지의 본문 #1<br />\n",
    "\n",
    "<h2> 제목2 </h2>\n",
    "여기는 메시지의 본문 #2<br />\n",
    "\n",
    "</body>\n",
    "</html>\n",
    "\"\"\""
   ]
  },
  {
   "cell_type": "code",
   "execution_count": 22,
   "metadata": {
    "collapsed": false,
    "slideshow": {
     "slide_type": "-"
    }
   },
   "outputs": [],
   "source": [
    "to_users = '\"이승준\"<plusjune@gmail.com>'\n",
    "send_gmail(to_users, '[KB IT] Daily Report', message_tmpl, None)"
   ]
  }
 ],
 "metadata": {
  "celltoolbar": "Slideshow",
  "kernelspec": {
   "display_name": "Python 3",
   "language": "python",
   "name": "python3"
  },
  "language_info": {
   "codemirror_mode": {
    "name": "ipython",
    "version": 3
   },
   "file_extension": ".py",
   "mimetype": "text/x-python",
   "name": "python",
   "nbconvert_exporter": "python",
   "pygments_lexer": "ipython3",
   "version": "3.5.2"
  }
 },
 "nbformat": 4,
 "nbformat_minor": 0
}
