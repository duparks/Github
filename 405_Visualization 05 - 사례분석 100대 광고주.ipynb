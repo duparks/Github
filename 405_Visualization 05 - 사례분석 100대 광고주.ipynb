{
 "cells": [
  {
   "cell_type": "markdown",
   "metadata": {
    "slideshow": {
     "slide_type": "slide"
    }
   },
   "source": [
    "# Visualization 05 사례분석 100대 광고주\n",
    "\n",
    "<img src=\"http://matplotlib.org/_static/logo2.svg\" style=\"float:left;width:320px\"/>"
   ]
  },
  {
   "cell_type": "markdown",
   "metadata": {
    "slideshow": {
     "slide_type": "fragment"
    }
   },
   "source": [
    "### 패스트캠퍼스 [금융데이터분석 입문]\n",
    "#### 이승준 fb.com/plusjune"
   ]
  },
  {
   "cell_type": "code",
   "execution_count": 6,
   "metadata": {
    "collapsed": true,
    "slideshow": {
     "slide_type": "skip"
    }
   },
   "outputs": [],
   "source": [
    "%matplotlib inline"
   ]
  },
  {
   "cell_type": "code",
   "execution_count": 7,
   "metadata": {
    "slideshow": {
     "slide_type": "skip"
    }
   },
   "outputs": [],
   "source": [
    "import pandas as pd\n",
    "import matplotlib.pyplot as plt\n"
   ]
  },
  {
   "cell_type": "markdown",
   "metadata": {
    "slideshow": {
     "slide_type": "slide"
    }
   },
   "source": [
    "## 광고 통계 홈\n",
    "* http://www.ad.co.kr/stat/index.hjsp\n",
    "\n",
    "## 100대 광고주 (2012년, 2013년)\n",
    "* https://gist.github.com/financedata/184a03c19ebfb55fcd70 \n",
    "* shorten: https://goo.gl/yWMrcW\n",
    "\n"
   ]
  },
  {
   "cell_type": "code",
   "execution_count": 8,
   "metadata": {
    "slideshow": {
     "slide_type": "slide"
    }
   },
   "outputs": [
    {
     "data": {
      "text/html": [
       "<div>\n",
       "<style>\n",
       "    .dataframe thead tr:only-child th {\n",
       "        text-align: right;\n",
       "    }\n",
       "\n",
       "    .dataframe thead th {\n",
       "        text-align: left;\n",
       "    }\n",
       "\n",
       "    .dataframe tbody tr th {\n",
       "        vertical-align: top;\n",
       "    }\n",
       "</style>\n",
       "<table border=\"1\" class=\"dataframe\">\n",
       "  <thead>\n",
       "    <tr style=\"text-align: right;\">\n",
       "      <th></th>\n",
       "      <th>month</th>\n",
       "      <th>corp</th>\n",
       "      <th>tv</th>\n",
       "      <th>radio</th>\n",
       "      <th>newspaper</th>\n",
       "      <th>magazine</th>\n",
       "      <th>mon-sum</th>\n",
       "      <th>mon-rank</th>\n",
       "    </tr>\n",
       "  </thead>\n",
       "  <tbody>\n",
       "    <tr>\n",
       "      <th>0</th>\n",
       "      <td>2012-02</td>\n",
       "      <td>(주)대명레저산업</td>\n",
       "      <td>0</td>\n",
       "      <td>0</td>\n",
       "      <td>891260</td>\n",
       "      <td>88000</td>\n",
       "      <td>979260</td>\n",
       "      <td>75</td>\n",
       "    </tr>\n",
       "    <tr>\n",
       "      <th>1</th>\n",
       "      <td>2012-06</td>\n",
       "      <td>(주)대명레저산업</td>\n",
       "      <td>484103</td>\n",
       "      <td>0</td>\n",
       "      <td>788072</td>\n",
       "      <td>97250</td>\n",
       "      <td>1369425</td>\n",
       "      <td>74</td>\n",
       "    </tr>\n",
       "    <tr>\n",
       "      <th>2</th>\n",
       "      <td>2012-07</td>\n",
       "      <td>(주)대명레저산업</td>\n",
       "      <td>862823</td>\n",
       "      <td>0</td>\n",
       "      <td>1260625</td>\n",
       "      <td>84600</td>\n",
       "      <td>2208048</td>\n",
       "      <td>34</td>\n",
       "    </tr>\n",
       "    <tr>\n",
       "      <th>3</th>\n",
       "      <td>2012-08</td>\n",
       "      <td>(주)대방건설</td>\n",
       "      <td>212123</td>\n",
       "      <td>0</td>\n",
       "      <td>1036991</td>\n",
       "      <td>0</td>\n",
       "      <td>1249114</td>\n",
       "      <td>82</td>\n",
       "    </tr>\n",
       "    <tr>\n",
       "      <th>4</th>\n",
       "      <td>2012-09</td>\n",
       "      <td>(주)밀레</td>\n",
       "      <td>1223829</td>\n",
       "      <td>101779</td>\n",
       "      <td>381333</td>\n",
       "      <td>27750</td>\n",
       "      <td>1734691</td>\n",
       "      <td>51</td>\n",
       "    </tr>\n",
       "    <tr>\n",
       "      <th>5</th>\n",
       "      <td>2012-10</td>\n",
       "      <td>(주)밀레</td>\n",
       "      <td>1223829</td>\n",
       "      <td>101779</td>\n",
       "      <td>381333</td>\n",
       "      <td>27750</td>\n",
       "      <td>1734691</td>\n",
       "      <td>51</td>\n",
       "    </tr>\n",
       "    <tr>\n",
       "      <th>6</th>\n",
       "      <td>2012-11</td>\n",
       "      <td>(주)밀레</td>\n",
       "      <td>940695</td>\n",
       "      <td>130612</td>\n",
       "      <td>249754</td>\n",
       "      <td>30550</td>\n",
       "      <td>1351611</td>\n",
       "      <td>77</td>\n",
       "    </tr>\n",
       "    <tr>\n",
       "      <th>7</th>\n",
       "      <td>2012-12</td>\n",
       "      <td>(주)밀레</td>\n",
       "      <td>932722</td>\n",
       "      <td>120693</td>\n",
       "      <td>308121</td>\n",
       "      <td>28750</td>\n",
       "      <td>1390286</td>\n",
       "      <td>67</td>\n",
       "    </tr>\n",
       "    <tr>\n",
       "      <th>8</th>\n",
       "      <td>2013-04</td>\n",
       "      <td>(주)밀레</td>\n",
       "      <td>678541</td>\n",
       "      <td>0</td>\n",
       "      <td>371873</td>\n",
       "      <td>37250</td>\n",
       "      <td>1087665</td>\n",
       "      <td>96</td>\n",
       "    </tr>\n",
       "    <tr>\n",
       "      <th>9</th>\n",
       "      <td>2013-05</td>\n",
       "      <td>(주)밀레</td>\n",
       "      <td>662763</td>\n",
       "      <td>0</td>\n",
       "      <td>586635</td>\n",
       "      <td>27250</td>\n",
       "      <td>1276648</td>\n",
       "      <td>88</td>\n",
       "    </tr>\n",
       "    <tr>\n",
       "      <th>10</th>\n",
       "      <td>2012-01</td>\n",
       "      <td>(주)팔도</td>\n",
       "      <td>901670</td>\n",
       "      <td>0</td>\n",
       "      <td>0</td>\n",
       "      <td>0</td>\n",
       "      <td>901670</td>\n",
       "      <td>90</td>\n",
       "    </tr>\n",
       "    <tr>\n",
       "      <th>11</th>\n",
       "      <td>2012-02</td>\n",
       "      <td>(주)팔도</td>\n",
       "      <td>853693</td>\n",
       "      <td>0</td>\n",
       "      <td>0</td>\n",
       "      <td>0</td>\n",
       "      <td>853693</td>\n",
       "      <td>90</td>\n",
       "    </tr>\n",
       "    <tr>\n",
       "      <th>12</th>\n",
       "      <td>2013-02</td>\n",
       "      <td>(주)팔도</td>\n",
       "      <td>833903</td>\n",
       "      <td>0</td>\n",
       "      <td>0</td>\n",
       "      <td>0</td>\n",
       "      <td>833903</td>\n",
       "      <td>87</td>\n",
       "    </tr>\n",
       "    <tr>\n",
       "      <th>13</th>\n",
       "      <td>2012-02</td>\n",
       "      <td>20세기폭스사</td>\n",
       "      <td>980950</td>\n",
       "      <td>0</td>\n",
       "      <td>202650</td>\n",
       "      <td>54300</td>\n",
       "      <td>1237900</td>\n",
       "      <td>57</td>\n",
       "    </tr>\n",
       "    <tr>\n",
       "      <th>14</th>\n",
       "      <td>2013-02</td>\n",
       "      <td>20세기폭스사</td>\n",
       "      <td>737001</td>\n",
       "      <td>0</td>\n",
       "      <td>162886</td>\n",
       "      <td>25000</td>\n",
       "      <td>924887</td>\n",
       "      <td>78</td>\n",
       "    </tr>\n",
       "    <tr>\n",
       "      <th>15</th>\n",
       "      <td>2012-11</td>\n",
       "      <td>경동나비엔</td>\n",
       "      <td>1260617</td>\n",
       "      <td>129435</td>\n",
       "      <td>0</td>\n",
       "      <td>0</td>\n",
       "      <td>1390052</td>\n",
       "      <td>75</td>\n",
       "    </tr>\n",
       "    <tr>\n",
       "      <th>16</th>\n",
       "      <td>2012-12</td>\n",
       "      <td>경동나비엔</td>\n",
       "      <td>975638</td>\n",
       "      <td>116206</td>\n",
       "      <td>0</td>\n",
       "      <td>0</td>\n",
       "      <td>1091844</td>\n",
       "      <td>88</td>\n",
       "    </tr>\n",
       "    <tr>\n",
       "      <th>17</th>\n",
       "      <td>2013-01</td>\n",
       "      <td>경동나비엔</td>\n",
       "      <td>1351426</td>\n",
       "      <td>68990</td>\n",
       "      <td>0</td>\n",
       "      <td>0</td>\n",
       "      <td>1420416</td>\n",
       "      <td>51</td>\n",
       "    </tr>\n",
       "    <tr>\n",
       "      <th>18</th>\n",
       "      <td>2012-04</td>\n",
       "      <td>광동제약</td>\n",
       "      <td>1585595</td>\n",
       "      <td>51177</td>\n",
       "      <td>379938</td>\n",
       "      <td>0</td>\n",
       "      <td>2016710</td>\n",
       "      <td>41</td>\n",
       "    </tr>\n",
       "    <tr>\n",
       "      <th>19</th>\n",
       "      <td>2012-05</td>\n",
       "      <td>광동제약</td>\n",
       "      <td>1303959</td>\n",
       "      <td>56822</td>\n",
       "      <td>405297</td>\n",
       "      <td>0</td>\n",
       "      <td>1766078</td>\n",
       "      <td>55</td>\n",
       "    </tr>\n",
       "  </tbody>\n",
       "</table>\n",
       "</div>"
      ],
      "text/plain": [
       "      month       corp       tv   radio  newspaper  magazine  mon-sum  \\\n",
       "0   2012-02  (주)대명레저산업        0       0     891260     88000   979260   \n",
       "1   2012-06  (주)대명레저산업   484103       0     788072     97250  1369425   \n",
       "2   2012-07  (주)대명레저산업   862823       0    1260625     84600  2208048   \n",
       "3   2012-08    (주)대방건설   212123       0    1036991         0  1249114   \n",
       "4   2012-09      (주)밀레  1223829  101779     381333     27750  1734691   \n",
       "5   2012-10      (주)밀레  1223829  101779     381333     27750  1734691   \n",
       "6   2012-11      (주)밀레   940695  130612     249754     30550  1351611   \n",
       "7   2012-12      (주)밀레   932722  120693     308121     28750  1390286   \n",
       "8   2013-04      (주)밀레   678541       0     371873     37250  1087665   \n",
       "9   2013-05      (주)밀레   662763       0     586635     27250  1276648   \n",
       "10  2012-01      (주)팔도   901670       0          0         0   901670   \n",
       "11  2012-02      (주)팔도   853693       0          0         0   853693   \n",
       "12  2013-02      (주)팔도   833903       0          0         0   833903   \n",
       "13  2012-02    20세기폭스사   980950       0     202650     54300  1237900   \n",
       "14  2013-02    20세기폭스사   737001       0     162886     25000   924887   \n",
       "15  2012-11      경동나비엔  1260617  129435          0         0  1390052   \n",
       "16  2012-12      경동나비엔   975638  116206          0         0  1091844   \n",
       "17  2013-01      경동나비엔  1351426   68990          0         0  1420416   \n",
       "18  2012-04       광동제약  1585595   51177     379938         0  2016710   \n",
       "19  2012-05       광동제약  1303959   56822     405297         0  1766078   \n",
       "\n",
       "    mon-rank  \n",
       "0         75  \n",
       "1         74  \n",
       "2         34  \n",
       "3         82  \n",
       "4         51  \n",
       "5         51  \n",
       "6         77  \n",
       "7         67  \n",
       "8         96  \n",
       "9         88  \n",
       "10        90  \n",
       "11        90  \n",
       "12        87  \n",
       "13        57  \n",
       "14        78  \n",
       "15        75  \n",
       "16        88  \n",
       "17        51  \n",
       "18        41  \n",
       "19        55  "
      ]
     },
     "execution_count": 8,
     "metadata": {},
     "output_type": "execute_result"
    }
   ],
   "source": [
    "url = \"https://goo.gl/6OfpGQ\"\n",
    "df = pd.read_csv(url)\n",
    "df.head(20)\n",
    "\n",
    "# month(날짜), corp(회사명), 시간(2012년, 2013년)이 섞여 있다"
   ]
  },
  {
   "cell_type": "code",
   "execution_count": 31,
   "metadata": {
    "slideshow": {
     "slide_type": "slide"
    }
   },
   "outputs": [
    {
     "data": {
      "text/html": [
       "<div>\n",
       "<style>\n",
       "    .dataframe thead tr:only-child th {\n",
       "        text-align: right;\n",
       "    }\n",
       "\n",
       "    .dataframe thead th {\n",
       "        text-align: left;\n",
       "    }\n",
       "\n",
       "    .dataframe tbody tr th {\n",
       "        vertical-align: top;\n",
       "    }\n",
       "</style>\n",
       "<table border=\"1\" class=\"dataframe\">\n",
       "  <thead>\n",
       "    <tr style=\"text-align: right;\">\n",
       "      <th></th>\n",
       "      <th>corp</th>\n",
       "      <th>tv</th>\n",
       "      <th>radio</th>\n",
       "      <th>newspaper</th>\n",
       "      <th>magazine</th>\n",
       "      <th>mon-sum</th>\n",
       "      <th>mon-rank</th>\n",
       "    </tr>\n",
       "    <tr>\n",
       "      <th>month</th>\n",
       "      <th></th>\n",
       "      <th></th>\n",
       "      <th></th>\n",
       "      <th></th>\n",
       "      <th></th>\n",
       "      <th></th>\n",
       "      <th></th>\n",
       "    </tr>\n",
       "  </thead>\n",
       "  <tbody>\n",
       "    <tr>\n",
       "      <th>2012-02-01</th>\n",
       "      <td>(주)대명레저산업</td>\n",
       "      <td>0</td>\n",
       "      <td>0</td>\n",
       "      <td>891260</td>\n",
       "      <td>88000</td>\n",
       "      <td>979260</td>\n",
       "      <td>75</td>\n",
       "    </tr>\n",
       "    <tr>\n",
       "      <th>2012-06-01</th>\n",
       "      <td>(주)대명레저산업</td>\n",
       "      <td>484103</td>\n",
       "      <td>0</td>\n",
       "      <td>788072</td>\n",
       "      <td>97250</td>\n",
       "      <td>1369425</td>\n",
       "      <td>74</td>\n",
       "    </tr>\n",
       "    <tr>\n",
       "      <th>2012-07-01</th>\n",
       "      <td>(주)대명레저산업</td>\n",
       "      <td>862823</td>\n",
       "      <td>0</td>\n",
       "      <td>1260625</td>\n",
       "      <td>84600</td>\n",
       "      <td>2208048</td>\n",
       "      <td>34</td>\n",
       "    </tr>\n",
       "    <tr>\n",
       "      <th>2012-08-01</th>\n",
       "      <td>(주)대방건설</td>\n",
       "      <td>212123</td>\n",
       "      <td>0</td>\n",
       "      <td>1036991</td>\n",
       "      <td>0</td>\n",
       "      <td>1249114</td>\n",
       "      <td>82</td>\n",
       "    </tr>\n",
       "    <tr>\n",
       "      <th>2012-09-01</th>\n",
       "      <td>(주)밀레</td>\n",
       "      <td>1223829</td>\n",
       "      <td>101779</td>\n",
       "      <td>381333</td>\n",
       "      <td>27750</td>\n",
       "      <td>1734691</td>\n",
       "      <td>51</td>\n",
       "    </tr>\n",
       "  </tbody>\n",
       "</table>\n",
       "</div>"
      ],
      "text/plain": [
       "                 corp       tv   radio  newspaper  magazine  mon-sum  mon-rank\n",
       "month                                                                         \n",
       "2012-02-01  (주)대명레저산업        0       0     891260     88000   979260        75\n",
       "2012-06-01  (주)대명레저산업   484103       0     788072     97250  1369425        74\n",
       "2012-07-01  (주)대명레저산업   862823       0    1260625     84600  2208048        34\n",
       "2012-08-01    (주)대방건설   212123       0    1036991         0  1249114        82\n",
       "2012-09-01      (주)밀레  1223829  101779     381333     27750  1734691        51"
      ]
     },
     "execution_count": 31,
     "metadata": {},
     "output_type": "execute_result"
    }
   ],
   "source": [
    "# 날짜는 part하고, month를 인덱스로 지정\n",
    "\n",
    "url = \"https://goo.gl/6OfpGQ\"\n",
    "df = pd.read_csv(url, parse_dates=True, index_col='month')\n",
    "df.head()"
   ]
  },
  {
   "cell_type": "code",
   "execution_count": 34,
   "metadata": {
    "slideshow": {
     "slide_type": "slide"
    }
   },
   "outputs": [
    {
     "data": {
      "text/html": [
       "<div>\n",
       "<style>\n",
       "    .dataframe thead tr:only-child th {\n",
       "        text-align: right;\n",
       "    }\n",
       "\n",
       "    .dataframe thead th {\n",
       "        text-align: left;\n",
       "    }\n",
       "\n",
       "    .dataframe tbody tr th {\n",
       "        vertical-align: top;\n",
       "    }\n",
       "</style>\n",
       "<table border=\"1\" class=\"dataframe\">\n",
       "  <thead>\n",
       "    <tr style=\"text-align: right;\">\n",
       "      <th></th>\n",
       "      <th>corp</th>\n",
       "      <th>tv</th>\n",
       "      <th>radio</th>\n",
       "      <th>newspaper</th>\n",
       "      <th>magazine</th>\n",
       "      <th>mon-sum</th>\n",
       "      <th>mon-rank</th>\n",
       "    </tr>\n",
       "    <tr>\n",
       "      <th>month</th>\n",
       "      <th></th>\n",
       "      <th></th>\n",
       "      <th></th>\n",
       "      <th></th>\n",
       "      <th></th>\n",
       "      <th></th>\n",
       "      <th></th>\n",
       "    </tr>\n",
       "  </thead>\n",
       "  <tbody>\n",
       "    <tr>\n",
       "      <th>2013-04-01</th>\n",
       "      <td>(주)밀레</td>\n",
       "      <td>678541</td>\n",
       "      <td>0</td>\n",
       "      <td>371873</td>\n",
       "      <td>37250</td>\n",
       "      <td>1087665</td>\n",
       "      <td>96</td>\n",
       "    </tr>\n",
       "    <tr>\n",
       "      <th>2013-05-01</th>\n",
       "      <td>(주)밀레</td>\n",
       "      <td>662763</td>\n",
       "      <td>0</td>\n",
       "      <td>586635</td>\n",
       "      <td>27250</td>\n",
       "      <td>1276648</td>\n",
       "      <td>88</td>\n",
       "    </tr>\n",
       "    <tr>\n",
       "      <th>2013-02-01</th>\n",
       "      <td>(주)팔도</td>\n",
       "      <td>833903</td>\n",
       "      <td>0</td>\n",
       "      <td>0</td>\n",
       "      <td>0</td>\n",
       "      <td>833903</td>\n",
       "      <td>87</td>\n",
       "    </tr>\n",
       "    <tr>\n",
       "      <th>2013-02-01</th>\n",
       "      <td>20세기폭스사</td>\n",
       "      <td>737001</td>\n",
       "      <td>0</td>\n",
       "      <td>162886</td>\n",
       "      <td>25000</td>\n",
       "      <td>924887</td>\n",
       "      <td>78</td>\n",
       "    </tr>\n",
       "    <tr>\n",
       "      <th>2013-01-01</th>\n",
       "      <td>경동나비엔</td>\n",
       "      <td>1351426</td>\n",
       "      <td>68990</td>\n",
       "      <td>0</td>\n",
       "      <td>0</td>\n",
       "      <td>1420416</td>\n",
       "      <td>51</td>\n",
       "    </tr>\n",
       "  </tbody>\n",
       "</table>\n",
       "</div>"
      ],
      "text/plain": [
       "               corp       tv  radio  newspaper  magazine  mon-sum  mon-rank\n",
       "month                                                                      \n",
       "2013-04-01    (주)밀레   678541      0     371873     37250  1087665        96\n",
       "2013-05-01    (주)밀레   662763      0     586635     27250  1276648        88\n",
       "2013-02-01    (주)팔도   833903      0          0         0   833903        87\n",
       "2013-02-01  20세기폭스사   737001      0     162886     25000   924887        78\n",
       "2013-01-01    경동나비엔  1351426  68990          0         0  1420416        51"
      ]
     },
     "execution_count": 34,
     "metadata": {},
     "output_type": "execute_result"
    }
   ],
   "source": [
    "# 2013년만 추출\n",
    "\n",
    "df = df.loc['2013-01-01':'2013-12-31']\n",
    "df.head()"
   ]
  },
  {
   "cell_type": "markdown",
   "metadata": {
    "slideshow": {
     "slide_type": "slide"
    }
   },
   "source": [
    "## DataFrame.groupby 예제"
   ]
  },
  {
   "cell_type": "code",
   "execution_count": 35,
   "metadata": {
    "slideshow": {
     "slide_type": "fragment"
    }
   },
   "outputs": [
    {
     "data": {
      "text/html": [
       "<div>\n",
       "<style>\n",
       "    .dataframe thead tr:only-child th {\n",
       "        text-align: right;\n",
       "    }\n",
       "\n",
       "    .dataframe thead th {\n",
       "        text-align: left;\n",
       "    }\n",
       "\n",
       "    .dataframe tbody tr th {\n",
       "        vertical-align: top;\n",
       "    }\n",
       "</style>\n",
       "<table border=\"1\" class=\"dataframe\">\n",
       "  <thead>\n",
       "    <tr style=\"text-align: right;\">\n",
       "      <th></th>\n",
       "      <th>Y</th>\n",
       "    </tr>\n",
       "    <tr>\n",
       "      <th>X</th>\n",
       "      <th></th>\n",
       "    </tr>\n",
       "  </thead>\n",
       "  <tbody>\n",
       "    <tr>\n",
       "      <th>A</th>\n",
       "      <td>7</td>\n",
       "    </tr>\n",
       "    <tr>\n",
       "      <th>B</th>\n",
       "      <td>3</td>\n",
       "    </tr>\n",
       "  </tbody>\n",
       "</table>\n",
       "</div>"
      ],
      "text/plain": [
       "   Y\n",
       "X   \n",
       "A  7\n",
       "B  3"
      ]
     },
     "execution_count": 35,
     "metadata": {},
     "output_type": "execute_result"
    }
   ],
   "source": [
    "df2 = pd.DataFrame({'X' : ['B', 'B', 'A', 'A'], 'Y' : [1, 2, 3, 4]})\n",
    "df2.groupby(['X']).sum()"
   ]
  },
  {
   "cell_type": "code",
   "execution_count": 36,
   "metadata": {
    "collapsed": true,
    "slideshow": {
     "slide_type": "slide"
    }
   },
   "outputs": [],
   "source": [
    "# corp(회사명)\n",
    "df = df.groupby(\"corp\").sum()\n",
    "\n",
    "# 불필요한 컬럼을 삭제\n",
    "del df['mon-rank']"
   ]
  },
  {
   "cell_type": "code",
   "execution_count": 37,
   "metadata": {
    "slideshow": {
     "slide_type": "fragment"
    }
   },
   "outputs": [
    {
     "data": {
      "text/html": [
       "<div>\n",
       "<style>\n",
       "    .dataframe thead tr:only-child th {\n",
       "        text-align: right;\n",
       "    }\n",
       "\n",
       "    .dataframe thead th {\n",
       "        text-align: left;\n",
       "    }\n",
       "\n",
       "    .dataframe tbody tr th {\n",
       "        vertical-align: top;\n",
       "    }\n",
       "</style>\n",
       "<table border=\"1\" class=\"dataframe\">\n",
       "  <thead>\n",
       "    <tr style=\"text-align: right;\">\n",
       "      <th></th>\n",
       "      <th>tv</th>\n",
       "      <th>radio</th>\n",
       "      <th>newspaper</th>\n",
       "      <th>magazine</th>\n",
       "      <th>mon-sum</th>\n",
       "    </tr>\n",
       "    <tr>\n",
       "      <th>corp</th>\n",
       "      <th></th>\n",
       "      <th></th>\n",
       "      <th></th>\n",
       "      <th></th>\n",
       "      <th></th>\n",
       "    </tr>\n",
       "  </thead>\n",
       "  <tbody>\n",
       "    <tr>\n",
       "      <th>(주)밀레</th>\n",
       "      <td>1341304</td>\n",
       "      <td>0</td>\n",
       "      <td>958508</td>\n",
       "      <td>64500</td>\n",
       "      <td>2364313</td>\n",
       "    </tr>\n",
       "    <tr>\n",
       "      <th>(주)팔도</th>\n",
       "      <td>833903</td>\n",
       "      <td>0</td>\n",
       "      <td>0</td>\n",
       "      <td>0</td>\n",
       "      <td>833903</td>\n",
       "    </tr>\n",
       "    <tr>\n",
       "      <th>20세기폭스사</th>\n",
       "      <td>737001</td>\n",
       "      <td>0</td>\n",
       "      <td>162886</td>\n",
       "      <td>25000</td>\n",
       "      <td>924887</td>\n",
       "    </tr>\n",
       "    <tr>\n",
       "      <th>AIG손해보험</th>\n",
       "      <td>2649447</td>\n",
       "      <td>110362</td>\n",
       "      <td>4430131</td>\n",
       "      <td>4000</td>\n",
       "      <td>7193939</td>\n",
       "    </tr>\n",
       "    <tr>\n",
       "      <th>AXA다이렉트</th>\n",
       "      <td>4184037</td>\n",
       "      <td>187083</td>\n",
       "      <td>26418</td>\n",
       "      <td>0</td>\n",
       "      <td>4397538</td>\n",
       "    </tr>\n",
       "  </tbody>\n",
       "</table>\n",
       "</div>"
      ],
      "text/plain": [
       "              tv   radio  newspaper  magazine  mon-sum\n",
       "corp                                                  \n",
       "(주)밀레    1341304       0     958508     64500  2364313\n",
       "(주)팔도     833903       0          0         0   833903\n",
       "20세기폭스사   737001       0     162886     25000   924887\n",
       "AIG손해보험  2649447  110362    4430131      4000  7193939\n",
       "AXA다이렉트  4184037  187083      26418         0  4397538"
      ]
     },
     "execution_count": 37,
     "metadata": {},
     "output_type": "execute_result"
    }
   ],
   "source": [
    "# \n",
    "df.head()"
   ]
  },
  {
   "cell_type": "code",
   "execution_count": 38,
   "metadata": {
    "slideshow": {
     "slide_type": "slide"
    }
   },
   "outputs": [
    {
     "data": {
      "text/html": [
       "<div>\n",
       "<style>\n",
       "    .dataframe thead tr:only-child th {\n",
       "        text-align: right;\n",
       "    }\n",
       "\n",
       "    .dataframe thead th {\n",
       "        text-align: left;\n",
       "    }\n",
       "\n",
       "    .dataframe tbody tr th {\n",
       "        vertical-align: top;\n",
       "    }\n",
       "</style>\n",
       "<table border=\"1\" class=\"dataframe\">\n",
       "  <thead>\n",
       "    <tr style=\"text-align: right;\">\n",
       "      <th></th>\n",
       "      <th>tv</th>\n",
       "      <th>radio</th>\n",
       "      <th>newspaper</th>\n",
       "      <th>magazine</th>\n",
       "      <th>mon-sum</th>\n",
       "    </tr>\n",
       "    <tr>\n",
       "      <th>corp</th>\n",
       "      <th></th>\n",
       "      <th></th>\n",
       "      <th></th>\n",
       "      <th></th>\n",
       "      <th></th>\n",
       "    </tr>\n",
       "  </thead>\n",
       "  <tbody>\n",
       "    <tr>\n",
       "      <th>삼성전자</th>\n",
       "      <td>48285257</td>\n",
       "      <td>1722479</td>\n",
       "      <td>29146729</td>\n",
       "      <td>1892800</td>\n",
       "      <td>81047264</td>\n",
       "    </tr>\n",
       "    <tr>\n",
       "      <th>SK텔레콤</th>\n",
       "      <td>29410748</td>\n",
       "      <td>945209</td>\n",
       "      <td>11690260</td>\n",
       "      <td>99800</td>\n",
       "      <td>42146017</td>\n",
       "    </tr>\n",
       "    <tr>\n",
       "      <th>현대자동차</th>\n",
       "      <td>28526744</td>\n",
       "      <td>1983420</td>\n",
       "      <td>10149073</td>\n",
       "      <td>930000</td>\n",
       "      <td>41589236</td>\n",
       "    </tr>\n",
       "    <tr>\n",
       "      <th>LG전자</th>\n",
       "      <td>24977588</td>\n",
       "      <td>1155587</td>\n",
       "      <td>10568748</td>\n",
       "      <td>625150</td>\n",
       "      <td>37327072</td>\n",
       "    </tr>\n",
       "    <tr>\n",
       "      <th>KT</th>\n",
       "      <td>27802916</td>\n",
       "      <td>745012</td>\n",
       "      <td>4081864</td>\n",
       "      <td>160700</td>\n",
       "      <td>32790492</td>\n",
       "    </tr>\n",
       "    <tr>\n",
       "      <th>LGU플러스</th>\n",
       "      <td>26793000</td>\n",
       "      <td>1268837</td>\n",
       "      <td>1032656</td>\n",
       "      <td>8300</td>\n",
       "      <td>29102793</td>\n",
       "    </tr>\n",
       "    <tr>\n",
       "      <th>동서식품</th>\n",
       "      <td>20852232</td>\n",
       "      <td>479617</td>\n",
       "      <td>2594594</td>\n",
       "      <td>383800</td>\n",
       "      <td>24310243</td>\n",
       "    </tr>\n",
       "    <tr>\n",
       "      <th>아모레퍼시픽</th>\n",
       "      <td>9118006</td>\n",
       "      <td>548078</td>\n",
       "      <td>6036988</td>\n",
       "      <td>7210500</td>\n",
       "      <td>22913571</td>\n",
       "    </tr>\n",
       "    <tr>\n",
       "      <th>라이나생명보험</th>\n",
       "      <td>8312868</td>\n",
       "      <td>124371</td>\n",
       "      <td>12778573</td>\n",
       "      <td>39000</td>\n",
       "      <td>21254813</td>\n",
       "    </tr>\n",
       "    <tr>\n",
       "      <th>한국지엠</th>\n",
       "      <td>17672165</td>\n",
       "      <td>1892545</td>\n",
       "      <td>882880</td>\n",
       "      <td>31900</td>\n",
       "      <td>20479491</td>\n",
       "    </tr>\n",
       "  </tbody>\n",
       "</table>\n",
       "</div>"
      ],
      "text/plain": [
       "               tv    radio  newspaper  magazine   mon-sum\n",
       "corp                                                     \n",
       "삼성전자     48285257  1722479   29146729   1892800  81047264\n",
       "SK텔레콤    29410748   945209   11690260     99800  42146017\n",
       "현대자동차    28526744  1983420   10149073    930000  41589236\n",
       "LG전자     24977588  1155587   10568748    625150  37327072\n",
       "KT       27802916   745012    4081864    160700  32790492\n",
       "LGU플러스   26793000  1268837    1032656      8300  29102793\n",
       "동서식품     20852232   479617    2594594    383800  24310243\n",
       "아모레퍼시픽    9118006   548078    6036988   7210500  22913571\n",
       "라이나생명보험   8312868   124371   12778573     39000  21254813\n",
       "한국지엠     17672165  1892545     882880     31900  20479491"
      ]
     },
     "execution_count": 38,
     "metadata": {},
     "output_type": "execute_result"
    }
   ],
   "source": [
    "df = df.sort_values(by='mon-sum', ascending=False)\n",
    "df.head(10)"
   ]
  },
  {
   "cell_type": "code",
   "execution_count": 43,
   "metadata": {
    "slideshow": {
     "slide_type": "slide"
    }
   },
   "outputs": [],
   "source": [
    "import matplotlib.font_manager as fm\n",
    "fp = fm.FontProperties(fname=\"fonts/MalgunGothic.ttf\")"
   ]
  },
  {
   "cell_type": "code",
   "execution_count": 44,
   "metadata": {
    "slideshow": {
     "slide_type": "slide"
    }
   },
   "outputs": [
    {
     "data": {
      "text/html": [
       "<div>\n",
       "<style>\n",
       "    .dataframe thead tr:only-child th {\n",
       "        text-align: right;\n",
       "    }\n",
       "\n",
       "    .dataframe thead th {\n",
       "        text-align: left;\n",
       "    }\n",
       "\n",
       "    .dataframe tbody tr th {\n",
       "        vertical-align: top;\n",
       "    }\n",
       "</style>\n",
       "<table border=\"1\" class=\"dataframe\">\n",
       "  <thead>\n",
       "    <tr style=\"text-align: right;\">\n",
       "      <th></th>\n",
       "      <th>tv</th>\n",
       "      <th>radio</th>\n",
       "      <th>newspaper</th>\n",
       "      <th>magazine</th>\n",
       "    </tr>\n",
       "    <tr>\n",
       "      <th>corp</th>\n",
       "      <th></th>\n",
       "      <th></th>\n",
       "      <th></th>\n",
       "      <th></th>\n",
       "    </tr>\n",
       "  </thead>\n",
       "  <tbody>\n",
       "    <tr>\n",
       "      <th>삼성전자</th>\n",
       "      <td>48285257</td>\n",
       "      <td>1722479</td>\n",
       "      <td>29146729</td>\n",
       "      <td>1892800</td>\n",
       "    </tr>\n",
       "    <tr>\n",
       "      <th>SK텔레콤</th>\n",
       "      <td>29410748</td>\n",
       "      <td>945209</td>\n",
       "      <td>11690260</td>\n",
       "      <td>99800</td>\n",
       "    </tr>\n",
       "    <tr>\n",
       "      <th>현대자동차</th>\n",
       "      <td>28526744</td>\n",
       "      <td>1983420</td>\n",
       "      <td>10149073</td>\n",
       "      <td>930000</td>\n",
       "    </tr>\n",
       "    <tr>\n",
       "      <th>LG전자</th>\n",
       "      <td>24977588</td>\n",
       "      <td>1155587</td>\n",
       "      <td>10568748</td>\n",
       "      <td>625150</td>\n",
       "    </tr>\n",
       "    <tr>\n",
       "      <th>KT</th>\n",
       "      <td>27802916</td>\n",
       "      <td>745012</td>\n",
       "      <td>4081864</td>\n",
       "      <td>160700</td>\n",
       "    </tr>\n",
       "  </tbody>\n",
       "</table>\n",
       "</div>"
      ],
      "text/plain": [
       "             tv    radio  newspaper  magazine\n",
       "corp                                         \n",
       "삼성전자   48285257  1722479   29146729   1892800\n",
       "SK텔레콤  29410748   945209   11690260     99800\n",
       "현대자동차  28526744  1983420   10149073    930000\n",
       "LG전자   24977588  1155587   10568748    625150\n",
       "KT     27802916   745012    4081864    160700"
      ]
     },
     "execution_count": 44,
     "metadata": {},
     "output_type": "execute_result"
    }
   ],
   "source": [
    "df = df[['tv', 'radio', 'newspaper', 'magazine']] \n",
    "df.head()"
   ]
  },
  {
   "cell_type": "code",
   "execution_count": 45,
   "metadata": {
    "slideshow": {
     "slide_type": "fragment"
    }
   },
   "outputs": [],
   "source": [
    "df = df[:20]  # 상위 20개사"
   ]
  },
  {
   "cell_type": "code",
   "execution_count": 46,
   "metadata": {
    "slideshow": {
     "slide_type": "slide"
    }
   },
   "outputs": [
    {
     "data": {
      "text/plain": [
       "<matplotlib.axes._subplots.AxesSubplot at 0x7f99176ab2b0>"
      ]
     },
     "execution_count": 46,
     "metadata": {},
     "output_type": "execute_result"
    },
    {
     "data": {
      "image/png": "[encoded data removed]",
      "text/plain": [
       "<matplotlib.figure.Figure at 0x7f9917698080>"
      ]
     },
     "metadata": {},
     "output_type": "display_data"
    }
   ],
   "source": [
    "fig, ax = plt.subplots(figsize=(16, 6))\n",
    "ax.set_title(\"광고주 상위 20 광고비(2013년 12월)\", fontproperties=fp)\n",
    "ax.set_xticklabels(df.index, fontproperties=fp)\n",
    "\n",
    "df.plot(x=df.index, kind='bar', width=1, stacked=False, ax=ax, alpha=0.7)"
   ]
  },
  {
   "cell_type": "code",
   "execution_count": 47,
   "metadata": {
    "slideshow": {
     "slide_type": "slide"
    }
   },
   "outputs": [
    {
     "data": {
      "text/plain": [
       "<matplotlib.axes._subplots.AxesSubplot at 0x7f99173ec7b8>"
      ]
     },
     "execution_count": 47,
     "metadata": {},
     "output_type": "execute_result"
    },
    {
     "data": {
      "image/png": "[encoded data removed]",
      "text/plain": [
       "<matplotlib.figure.Figure at 0x7f9917698d30>"
      ]
     },
     "metadata": {},
     "output_type": "display_data"
    }
   ],
   "source": [
    "fig, ax = plt.subplots(figsize=(16, 8))\n",
    "ax.set_title(\"광고주 상위 20 광고비(2013년 12월)\", fontproperties=fp)\n",
    "ax.set_xticklabels(df2.index, fontproperties=fp)\n",
    "\n",
    "df.plot(x=df.index, kind='bar', stacked=True, ax=ax, alpha=0.7)"
   ]
  },
  {
   "cell_type": "code",
   "execution_count": 48,
   "metadata": {
    "slideshow": {
     "slide_type": "slide"
    }
   },
   "outputs": [
    {
     "data": {
      "text/plain": [
       "<matplotlib.axes._subplots.AxesSubplot at 0x7f9917310b38>"
      ]
     },
     "execution_count": 48,
     "metadata": {},
     "output_type": "execute_result"
    },
    {
     "data": {
      "image/png": "[encoded data removed]",
      "text/plain": [
       "<matplotlib.figure.Figure at 0x7f991720d470>"
      ]
     },
     "metadata": {},
     "output_type": "display_data"
    }
   ],
   "source": [
    "fig, ax = plt.subplots(figsize=(16, 8))\n",
    "ax.set_title(u\"광고주 상위 20 광고비(2013년 12월)\", fontproperties=fp)\n",
    "ax.set_yticklabels(df2.index, fontproperties=fp)\n",
    "\n",
    "df[::-1].plot(x=df.index[::-1], kind='barh', stacked=True, ax=ax, alpha=0.8)"
   ]
  },
  {
   "cell_type": "markdown",
   "metadata": {
    "slideshow": {
     "slide_type": "fragment"
    }
   },
   "source": [
    "* df[::-1] y축의 순서를 뒤집어 그린다. (상위가 위에 오도록한다. 결과적으로 삼성전자가 가장 위쪽에 그려졌다)\n",
    "* df[0:10][::-1] 상위 10개사를 뽑아, 순서를 뒤집는다.\n"
   ]
  },
  {
   "cell_type": "markdown",
   "metadata": {
    "slideshow": {
     "slide_type": "slide"
    }
   },
   "source": [
    "## 정규화\n",
    "* df.div(df.sum(axis=1), axis=0)"
   ]
  },
  {
   "cell_type": "code",
   "execution_count": 49,
   "metadata": {
    "slideshow": {
     "slide_type": "fragment"
    }
   },
   "outputs": [
    {
     "data": {
      "text/html": [
       "<div>\n",
       "<style>\n",
       "    .dataframe thead tr:only-child th {\n",
       "        text-align: right;\n",
       "    }\n",
       "\n",
       "    .dataframe thead th {\n",
       "        text-align: left;\n",
       "    }\n",
       "\n",
       "    .dataframe tbody tr th {\n",
       "        vertical-align: top;\n",
       "    }\n",
       "</style>\n",
       "<table border=\"1\" class=\"dataframe\">\n",
       "  <thead>\n",
       "    <tr style=\"text-align: right;\">\n",
       "      <th></th>\n",
       "      <th>tv</th>\n",
       "      <th>radio</th>\n",
       "      <th>newspaper</th>\n",
       "      <th>magazine</th>\n",
       "    </tr>\n",
       "    <tr>\n",
       "      <th>corp</th>\n",
       "      <th></th>\n",
       "      <th></th>\n",
       "      <th></th>\n",
       "      <th></th>\n",
       "    </tr>\n",
       "  </thead>\n",
       "  <tbody>\n",
       "    <tr>\n",
       "      <th>삼성전자</th>\n",
       "      <td>0.595767</td>\n",
       "      <td>0.021253</td>\n",
       "      <td>0.359626</td>\n",
       "      <td>0.023354</td>\n",
       "    </tr>\n",
       "    <tr>\n",
       "      <th>SK텔레콤</th>\n",
       "      <td>0.697830</td>\n",
       "      <td>0.022427</td>\n",
       "      <td>0.277375</td>\n",
       "      <td>0.002368</td>\n",
       "    </tr>\n",
       "    <tr>\n",
       "      <th>현대자동차</th>\n",
       "      <td>0.685917</td>\n",
       "      <td>0.047691</td>\n",
       "      <td>0.244031</td>\n",
       "      <td>0.022362</td>\n",
       "    </tr>\n",
       "    <tr>\n",
       "      <th>LG전자</th>\n",
       "      <td>0.669155</td>\n",
       "      <td>0.030958</td>\n",
       "      <td>0.283139</td>\n",
       "      <td>0.016748</td>\n",
       "    </tr>\n",
       "    <tr>\n",
       "      <th>KT</th>\n",
       "      <td>0.847896</td>\n",
       "      <td>0.022720</td>\n",
       "      <td>0.124483</td>\n",
       "      <td>0.004901</td>\n",
       "    </tr>\n",
       "    <tr>\n",
       "      <th>LGU플러스</th>\n",
       "      <td>0.920633</td>\n",
       "      <td>0.043598</td>\n",
       "      <td>0.035483</td>\n",
       "      <td>0.000285</td>\n",
       "    </tr>\n",
       "    <tr>\n",
       "      <th>동서식품</th>\n",
       "      <td>0.857755</td>\n",
       "      <td>0.019729</td>\n",
       "      <td>0.106728</td>\n",
       "      <td>0.015788</td>\n",
       "    </tr>\n",
       "    <tr>\n",
       "      <th>아모레퍼시픽</th>\n",
       "      <td>0.397930</td>\n",
       "      <td>0.023919</td>\n",
       "      <td>0.263468</td>\n",
       "      <td>0.314682</td>\n",
       "    </tr>\n",
       "    <tr>\n",
       "      <th>라이나생명보험</th>\n",
       "      <td>0.391105</td>\n",
       "      <td>0.005851</td>\n",
       "      <td>0.601208</td>\n",
       "      <td>0.001835</td>\n",
       "    </tr>\n",
       "    <tr>\n",
       "      <th>한국지엠</th>\n",
       "      <td>0.862920</td>\n",
       "      <td>0.092412</td>\n",
       "      <td>0.043110</td>\n",
       "      <td>0.001558</td>\n",
       "    </tr>\n",
       "    <tr>\n",
       "      <th>기아자동차</th>\n",
       "      <td>0.636373</td>\n",
       "      <td>0.068057</td>\n",
       "      <td>0.283420</td>\n",
       "      <td>0.012150</td>\n",
       "    </tr>\n",
       "    <tr>\n",
       "      <th>기업은행</th>\n",
       "      <td>0.490662</td>\n",
       "      <td>0.068706</td>\n",
       "      <td>0.421053</td>\n",
       "      <td>0.019578</td>\n",
       "    </tr>\n",
       "    <tr>\n",
       "      <th>농심</th>\n",
       "      <td>0.940684</td>\n",
       "      <td>0.034024</td>\n",
       "      <td>0.000644</td>\n",
       "      <td>0.024648</td>\n",
       "    </tr>\n",
       "    <tr>\n",
       "      <th>현대자동차그룹</th>\n",
       "      <td>0.480727</td>\n",
       "      <td>0.021356</td>\n",
       "      <td>0.496977</td>\n",
       "      <td>0.000941</td>\n",
       "    </tr>\n",
       "    <tr>\n",
       "      <th>한국피앤지</th>\n",
       "      <td>0.710231</td>\n",
       "      <td>0.043833</td>\n",
       "      <td>0.037208</td>\n",
       "      <td>0.208728</td>\n",
       "    </tr>\n",
       "    <tr>\n",
       "      <th>남양유업</th>\n",
       "      <td>0.932190</td>\n",
       "      <td>0.028344</td>\n",
       "      <td>0.000391</td>\n",
       "      <td>0.039075</td>\n",
       "    </tr>\n",
       "    <tr>\n",
       "      <th>동국제약</th>\n",
       "      <td>0.742886</td>\n",
       "      <td>0.047394</td>\n",
       "      <td>0.195360</td>\n",
       "      <td>0.014359</td>\n",
       "    </tr>\n",
       "    <tr>\n",
       "      <th>르노삼성자동차</th>\n",
       "      <td>0.770780</td>\n",
       "      <td>0.064285</td>\n",
       "      <td>0.163722</td>\n",
       "      <td>0.001213</td>\n",
       "    </tr>\n",
       "    <tr>\n",
       "      <th>파나소닉코리아</th>\n",
       "      <td>0.000000</td>\n",
       "      <td>0.000000</td>\n",
       "      <td>0.982351</td>\n",
       "      <td>0.017649</td>\n",
       "    </tr>\n",
       "    <tr>\n",
       "      <th>롯데하이마트</th>\n",
       "      <td>0.801800</td>\n",
       "      <td>0.070925</td>\n",
       "      <td>0.127275</td>\n",
       "      <td>0.000000</td>\n",
       "    </tr>\n",
       "  </tbody>\n",
       "</table>\n",
       "</div>"
      ],
      "text/plain": [
       "               tv     radio  newspaper  magazine\n",
       "corp                                            \n",
       "삼성전자     0.595767  0.021253   0.359626  0.023354\n",
       "SK텔레콤    0.697830  0.022427   0.277375  0.002368\n",
       "현대자동차    0.685917  0.047691   0.244031  0.022362\n",
       "LG전자     0.669155  0.030958   0.283139  0.016748\n",
       "KT       0.847896  0.022720   0.124483  0.004901\n",
       "LGU플러스   0.920633  0.043598   0.035483  0.000285\n",
       "동서식품     0.857755  0.019729   0.106728  0.015788\n",
       "아모레퍼시픽   0.397930  0.023919   0.263468  0.314682\n",
       "라이나생명보험  0.391105  0.005851   0.601208  0.001835\n",
       "한국지엠     0.862920  0.092412   0.043110  0.001558\n",
       "기아자동차    0.636373  0.068057   0.283420  0.012150\n",
       "기업은행     0.490662  0.068706   0.421053  0.019578\n",
       "농심       0.940684  0.034024   0.000644  0.024648\n",
       "현대자동차그룹  0.480727  0.021356   0.496977  0.000941\n",
       "한국피앤지    0.710231  0.043833   0.037208  0.208728\n",
       "남양유업     0.932190  0.028344   0.000391  0.039075\n",
       "동국제약     0.742886  0.047394   0.195360  0.014359\n",
       "르노삼성자동차  0.770780  0.064285   0.163722  0.001213\n",
       "파나소닉코리아  0.000000  0.000000   0.982351  0.017649\n",
       "롯데하이마트   0.801800  0.070925   0.127275  0.000000"
      ]
     },
     "execution_count": 49,
     "metadata": {},
     "output_type": "execute_result"
    }
   ],
   "source": [
    "df = df.div(df.sum(1), axis=0)\n",
    "df"
   ]
  },
  {
   "cell_type": "code",
   "execution_count": 50,
   "metadata": {
    "slideshow": {
     "slide_type": "slide"
    }
   },
   "outputs": [
    {
     "data": {
      "text/plain": [
       "<matplotlib.axes._subplots.AxesSubplot at 0x7f9916e4f470>"
      ]
     },
     "execution_count": 50,
     "metadata": {},
     "output_type": "execute_result"
    },
    {
     "data": {
      "image/png": "[encoded data removed]",
      "text/plain": [
       "<matplotlib.figure.Figure at 0x7f9916e5dbe0>"
      ]
     },
     "metadata": {},
     "output_type": "display_data"
    }
   ],
   "source": [
    "fig, ax = plt.subplots(figsize=(16, 8))\n",
    "ax.set_xticklabels(df.index, fontproperties=fp) #한글 폰트 지정\n",
    "\n",
    "df.plot(kind='bar', stacked=True, ax=ax, ylim=(0,1), alpha=0.8)"
   ]
  }
 ],
 "metadata": {
  "kernelspec": {
   "display_name": "Python 3",
   "language": "python",
   "name": "python3"
  },
  "language_info": {
   "codemirror_mode": {
    "name": "ipython",
    "version": 3
   },
   "file_extension": ".py",
   "mimetype": "text/x-python",
   "name": "python",
   "nbconvert_exporter": "python",
   "pygments_lexer": "ipython3",
   "version": "3.5.2"
  }
 },
 "nbformat": 4,
 "nbformat_minor": 1
}
