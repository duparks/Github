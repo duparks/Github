{
 "cells": [
  {
   "cell_type": "markdown",
   "metadata": {
    "slideshow": {
     "slide_type": "slide"
    }
   },
   "source": [
    "### 데이터 분석 환경 만들기 \n",
    "# 아나콘다\n",
    "\n",
    "<img width=\"40%\" src=\"https://i.imgur.com/S8Qpl8o.png\">\n",
    "\n",
    "#### 2018 FinanceData.KR http://fb.com/financedata"
   ]
  },
  {
   "cell_type": "markdown",
   "metadata": {
    "slideshow": {
     "slide_type": "slide"
    }
   },
   "source": [
    "# Anaconda\n",
    "https://anaconda.com\n",
    "* 400개가 넘는 패키지가 기본 포함된 파이썬 배포판\n",
    "* 다운로드 https://www.anaconda.com/download/\n",
    "* Python 3.6, 64비트 추천"
   ]
  },
  {
   "cell_type": "markdown",
   "metadata": {
    "slideshow": {
     "slide_type": "slide"
    }
   },
   "source": [
    "# 설치\n",
    "<img src=\"https://i.imgur.com/VEFvvrQ.png\" >\n",
    "* 운영체제가 64비트 라면(특히, 윈도우 10), 64비트 버전을 설치\n",
    "* Python 3.6 버전 사용 (2.7 버전은 2020년 지원 중단 예정)\n",
    "* 윈도우 32비트 버전: 국내 증권사 API 주문 모듈"
   ]
  },
  {
   "cell_type": "markdown",
   "metadata": {
    "slideshow": {
     "slide_type": "subslide"
    }
   },
   "source": [
    "설치과정에서 PATH를 묻는 부분이 있는데 체크하는 것을 추천\n",
    "\n",
    "<img src=\"https://i.imgur.com/ByM0CkX.png\" >\n",
    "\n",
    "    "
   ]
  },
  {
   "cell_type": "markdown",
   "metadata": {
    "slideshow": {
     "slide_type": "slide"
    }
   },
   "source": [
    "# 주피터 노트북 실행\n",
    "### \"Anaconda Prompt\" 실행\n",
    "Anaconda 프로그램 그룹에서 \"Anaconda Prompt\" 실행\n",
    "\n",
    "<img src=\"https://i.imgur.com/oiqWdip.png\" >"
   ]
  },
  {
   "cell_type": "markdown",
   "metadata": {
    "slideshow": {
     "slide_type": "subslide"
    }
   },
   "source": [
    "### jupyter notebook 실행\n",
    "명령줄에 \"jupyter notebook\" 입력, 기본 브라우저로 주피터 노트북이 열린다\n",
    "\n",
    "<img src=\"https://i.imgur.com/uyE0pyF.png\" >"
   ]
  },
  {
   "cell_type": "markdown",
   "metadata": {
    "slideshow": {
     "slide_type": "slide"
    }
   },
   "source": [
    "# Hello, World\n",
    "\n",
    "### 새로운 노트북 만들기: 메뉴 New / Python 3 선택\n",
    "\n",
    "<img src=\"http://i.imgur.com/JPTbN5g.png\" >"
   ]
  },
  {
   "cell_type": "markdown",
   "metadata": {
    "slideshow": {
     "slide_type": "subslide"
    }
   },
   "source": [
    "### 코드를 입력하고 실행 : 메뉴 Cell / Run Cell 선택\n",
    "\n",
    "<img src=\"http://i.imgur.com/niUmvAd.png\" >"
   ]
  },
  {
   "cell_type": "markdown",
   "metadata": {
    "slideshow": {
     "slide_type": "notes"
    }
   },
   "source": [
    "----\n",
    "#### 2018 FinanceData.KR http://fb.com/financedata"
   ]
  }
 ],
 "metadata": {
  "celltoolbar": "Slideshow",
  "kernelspec": {
   "display_name": "Python 3",
   "language": "python",
   "name": "python3"
  },
  "language_info": {
   "codemirror_mode": {
    "name": "ipython",
    "version": 3
   },
   "file_extension": ".py",
   "mimetype": "text/x-python",
   "name": "python",
   "nbconvert_exporter": "python",
   "pygments_lexer": "ipython3",
   "version": "3.5.2"
  }
 },
 "nbformat": 4,
 "nbformat_minor": 2
}
