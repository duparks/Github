{
 "cells": [
  {
   "cell_type": "markdown",
   "metadata": {
    "deletable": true,
    "editable": true,
    "slideshow": {
     "slide_type": "slide"
    }
   },
   "source": [
    "# 웹기반 데이터 시각화 01 - 시각화 도구와 시계열 데이터\n",
    "\n",
    "<img src=\"https://d3js.org/preview.png\"/>\n",
    "\n",
    "#### 2016 이승준 fb.com/plusjune"
   ]
  },
  {
   "cell_type": "markdown",
   "metadata": {
    "deletable": true,
    "editable": true,
    "slideshow": {
     "slide_type": "slide"
    }
   },
   "source": [
    "# 데이터 시각화 도구\n",
    "* Excel : 범용 통계 프로그램\n",
    "* R: 추가 패키지 설치를 통해 다양한 visualization 제작 (예: 지도 기반)\n",
    "* Google Chart https://developers.google.com/chart/\n",
    "* Improvise http://www.cs.ou.edu/~weaver/improvise/ Visualization 저작 시스템\n",
    "* Polaris (→Tableau) http://www.graphics.stanford.edu/projects/polaris/ <br>http://tableausoftware.com\n",
    "* Spotfire http://spotfire.tibco.com\n",
    "* Many Eyes http://www-958.ibm.com/software/analytics/manyeyes/"
   ]
  },
  {
   "cell_type": "markdown",
   "metadata": {
    "deletable": true,
    "editable": true,
    "slideshow": {
     "slide_type": "slide"
    }
   },
   "source": [
    "# 파이썬 데이터 시각화 도구\n",
    "* Matplotlib time-tested. http://matplotlib.org/\n",
    "* NetworkX https://networkx.github.io/\n",
    "* Plotly collaborative, interactive, sharable http://plot.ly/\n",
    "* Mpld3: matplotlib + D3 http://mpld3.github.io/\n",
    "* Seaborn statistical data visualization <br> http://stanford.edu/~mwaskom/software/seaborn/\n",
    "* Ggplot ggplot2 for Python http://ggplot.yhathq.com/\n",
    "* Bokeh data visualization in Python http://bokeh.pydata.org/en/latest/"
   ]
  },
  {
   "cell_type": "markdown",
   "metadata": {
    "deletable": true,
    "editable": true,
    "slideshow": {
     "slide_type": "slide"
    }
   },
   "source": [
    "# 파이썬과 D3\n",
    "* Mpld3 http://mpld3.github.io/\n",
    "* d3py http://github.com/mikedewar/d3py\n",
    "* ipyD3 http://goo.gl/nq7yrb\n",
    "* http://github.com/fanstatic/js.d3/\n",
    "* Vega is a higher-level visualization tool built on top of D3\n",
    "* Vincent converts Python data objects to Vega visualization grammar"
   ]
  },
  {
   "cell_type": "markdown",
   "metadata": {
    "deletable": true,
    "editable": true,
    "slideshow": {
     "slide_type": "slide"
    }
   },
   "source": [
    "# Data Formats\n",
    "* xls: Excel\n",
    "* csv: Comma Separated Values\n",
    "* tsv: Tab Separated Values\n",
    "* JSON: JavaScript Object Notation <br>인터넷에서 자료를 교환하기 위해 주로 사용. <br>자바스크립트의 구문 형식을 따르고 있으나 프로그래밍 언어나 플랫폼에 독립적이어서 많은 프 로그래밍 언어에서 사용\n",
    "* XML: Extensible Markup Language, W3C에서 정의된 마크업"
   ]
  },
  {
   "cell_type": "markdown",
   "metadata": {
    "deletable": true,
    "editable": true,
    "slideshow": {
     "slide_type": "slide"
    }
   },
   "source": [
    "# SVG (Scalable Vector Graphics)\n",
    "* 텍스트 기반의 이미지 포맷, XML 기반\n",
    "```html\n",
    "<svg width=\"50\" height=\"50\">\n",
    "<circle cx=\"25\" cy=\"25\" r=\"22\" fill=\"blue\" stroke=\"gray\" stroke-width=\"2\"/>\n",
    "</svg>\n",
    "```\n",
    "\n",
    "SVG Tutorial: http://www.w3schools.com/svg/default.asp"
   ]
  },
  {
   "cell_type": "markdown",
   "metadata": {
    "deletable": true,
    "editable": true,
    "slideshow": {
     "slide_type": "slide"
    }
   },
   "source": [
    "# Time Series Data\n",
    "* 비주얼라이제이션의 가장 기본적인 형태\n",
    "* Chronological 한 구성\n",
    "* 75% of 4000 samples of graphics from newspapers and magazines (’74 ~ ’80) were time- series data. - E. Tufte"
   ]
  },
  {
   "cell_type": "markdown",
   "metadata": {
    "deletable": true,
    "editable": true,
    "slideshow": {
     "slide_type": "slide"
    }
   },
   "source": [
    "# Time Series Data Set\n",
    "* 데이터 셋에 포함된 각각의 데이터 케이스는 주로 이벤트\n",
    "* 각각의 이벤트는 최소한 한개의 날짜나 시간의 변수를 가 지게 됨\n",
    "* 예:\n",
    " * 전기 사용량 \n",
    " * 이닝 별 투구 종류\n",
    " * 아침/점심/저녁으로 섭취하는 약의 종류\n",
    " * 여행한 도시\n",
    " * 주가"
   ]
  },
  {
   "cell_type": "markdown",
   "metadata": {
    "deletable": true,
    "editable": true,
    "slideshow": {
     "slide_type": "slide"
    }
   },
   "source": [
    "# Time Series Data, 사용자의 질문은?\n",
    "* 최고값/최저값은? (주가)\n",
    "* 특정한 패턴을 보이는지?\n",
    "* 두 개의 서로 다른 series 가 서로 비슷한 모습인가?\n",
    "* series 데이터를 보다 쉽고 빠르게 살펴보는 방법은?"
   ]
  },
  {
   "cell_type": "markdown",
   "metadata": {
    "deletable": true,
    "editable": true,
    "slideshow": {
     "slide_type": "slide"
    }
   },
   "source": [
    "# 전통적인 Time-Series Plots\n",
    "* Time-Series Plots <br>시간을 하나의 축으로 하여 데이터를 표현\n",
    "\n",
    "<img width=50% src=\"https://goo.gl/6YypPE\" >\n",
    "\n",
    "* Small Multiples <br>작은 그림을 나열하여 시간에 따른 변화 추이를 파악할 수 있게 표현\n",
    "\n",
    "<img width=50% src=\"http://goo.gl/A37Jge\" >\n"
   ]
  },
  {
   "cell_type": "markdown",
   "metadata": {
    "deletable": true,
    "editable": true,
    "slideshow": {
     "slide_type": "slide"
    }
   },
   "source": [
    "# 11 Ways to Visualize Changes Over Time\n",
    "http://flowingdata.com/2010/01/07/11-ways-to-visualize-changes-over-time-a-guide/ <br>\n",
    "by Nathan Yau\n",
    "\n",
    "1. Line Graph \n",
    "1. Scatter Plots\n",
    "1. Bar Charts \n",
    "1. Stacked Bar \n",
    "1. Stacked Area \n",
    "1. Bubble\n",
    "1. Color Scale\n",
    "1. Timeline\n",
    "1. Everything\n",
    "1. Animation\n",
    " "
   ]
  },
  {
   "cell_type": "markdown",
   "metadata": {
    "deletable": true,
    "editable": true,
    "slideshow": {
     "slide_type": "slide"
    }
   },
   "source": [
    "# 1. Line Graph\n",
    "<img src=\"http://goo.gl/dCwVsk\" >\n",
    "* 대부분의 time series data를 표현할 수 있음.\n",
    "* 하나의 그래프에 여러 개의 series 를 그려서 비교할 수 있음.\n",
    "* data point는 square, circle 등으로 표현.\n",
    "* http://flowingdata.com/2008/02/11/comparing-roger-clemens-to-hall-of-fame-pitchers/"
   ]
  },
  {
   "cell_type": "markdown",
   "metadata": {
    "deletable": true,
    "editable": true,
    "slideshow": {
     "slide_type": "slide"
    }
   },
   "source": [
    "# 2. Scatter Plots\n",
    "<img src=\"http://goo.gl/Kv793z\" >\n",
    "\n",
    "* 데이터포인트가 매우 많을 때 적합. 포인트가 적을 경우 화면에 서 의미있는 패턴을 만들어 보이기가 힘들다 (gestalt theory)\n",
    "* Line graph의 경우 데이터포인트가 일정한 간격으로 측정되는 등, 규칙이 있을 때 적합하지만, scatter plot은 불규칙하게 구 조화된 데이터에 적합.\n",
    "* http://www.noc.soton.ac.uk/animate/data/cis/cis8_oxygen_scatter.png"
   ]
  },
  {
   "cell_type": "markdown",
   "metadata": {
    "deletable": true,
    "editable": true,
    "slideshow": {
     "slide_type": "slide"
    }
   },
   "source": [
    "# 3. Bar Charts\n",
    "<img src=\"http://goo.gl/uC9SKr\" >\n",
    "\n",
    "* 시간에 따라 명확하게 구분되는 데이터포인트를 사용할 때 적합 한 표현 방법. <br> (discrete vs. continuous)\n",
    "* 데이터포인트가 시공간내에서 일정하게 분포되어 있을 때 사용.\n",
    "* http://flowingdata.com/2009/07/02/whos-going-to-win-nathans-hot-dog-eating-contest/"
   ]
  },
  {
   "cell_type": "markdown",
   "metadata": {
    "deletable": true,
    "editable": true,
    "slideshow": {
     "slide_type": "slide"
    }
   },
   "source": [
    "# 4. Stacked Bar\n",
    "<img src=\"http://goo.gl/XPzE26\" >\n",
    "\n",
    "* Bar Chart와 동일한 경우에 사용하나 카테고리가 여러 개 있고, 단순히 카테고리를 서로 비교하는 것이 아니라 모두를 합친 것이 의미를 가질 때 사용함.\n",
    "* 만일 각각의 카테고리가 모두 합쳐졌을 때 의미가 없다면 사용하 지 않음. → Bar Chart 사용.\n",
    "* http://images.businessweek.com/ss/08/12/1211_numbers/2.htm"
   ]
  },
  {
   "cell_type": "markdown",
   "metadata": {
    "deletable": true,
    "editable": true,
    "slideshow": {
     "slide_type": "slide"
    }
   },
   "source": [
    "# 5. Stacked Area\n",
    "<img src=\"http://goo.gl/yO1KEv\" >\n",
    "\n",
    "* http://flowingdata.com/2009/12/02/past-15-years-of-consumer-spending/"
   ]
  },
  {
   "cell_type": "markdown",
   "metadata": {
    "deletable": true,
    "editable": true,
    "slideshow": {
     "slide_type": "slide"
    }
   },
   "source": [
    "# 6. Bubble\n",
    "<img src=\"http://goo.gl/yidfFv\" >\n",
    "\n",
    "* Scatter plot과 유사하지만 scatter plot은 데이터포인트를 단 순히 점으로 표현하는데 비해 bubble은 원의 크기가 데이터의 어떠한 값을 표현한다 → 시간에 따라 변화하는 두개의 값 (bubble의 x, y 위치, 크기) 을 보여줄 수 있음.\n",
    "* Hans Rosling의 TED Talk (Gapminder)\n",
    "* http://graphs.gapminder.org/world"
   ]
  },
  {
   "cell_type": "markdown",
   "metadata": {
    "deletable": true,
    "editable": true,
    "slideshow": {
     "slide_type": "slide"
    }
   },
   "source": [
    "# 7. Color Scale\n",
    "<img src=\"http://goo.gl/LhgpOe\" >\n",
    "\n",
    "* 값의 차이를 명확하게 보여주려면 보통 bar chart와 같이 높이 의 비교가 효과적이나 화면이 부족하거나 한 경우에는 칼라를 사 용하는 편이 좋다.\n",
    "* http://flowingdata.com/2009/09/10/3-in-depth-views-of-flight-delays-and-cancellations/"
   ]
  },
  {
   "cell_type": "markdown",
   "metadata": {
    "deletable": true,
    "editable": true,
    "slideshow": {
     "slide_type": "slide"
    }
   },
   "source": [
    "# 8. Timeline\n",
    "<img src=\"http://goo.gl/P17D3P\" >\n",
    "\n",
    "* 어떤 사건이 언제 일어났는지를 보여주는 그래프.\n",
    "* 데이터의 양이 많고, 자세한 내용을 파악하기 힘들 때 타임라인 과 병행하여 그래프를 작성하면 특정 사건이 발생한 순간의 데이 터를 해석하는데 도움이 됨.\n",
    "* http://flowingdata.com/2008/03/14/10-largest-data-breaches-since-2000-millions-affected/"
   ]
  },
  {
   "cell_type": "markdown",
   "metadata": {
    "deletable": true,
    "editable": true,
    "slideshow": {
     "slide_type": "slide"
    }
   },
   "source": [
    "# 9. Everything\n",
    "<img src=\"http://goo.gl/d1kd2D\" >\n",
    "\n",
    "* 경우에 따라서는 모든 데이터를 보여주는 것이 도움이 되기도.\n",
    "* 화면 위에 매우 많은 데이터를 표현해야 하기 때문에 산만하거나 데이터가 주는 의미를 파악하기 어려울수도 있지만, 칼라코딩 등의 방법을 통해 데이터를 시각적으로 보기 편하게 정리할 수 있음.\n",
    "* 인터랙션을 사용하여 자세한 정보(contextual information)를 추가.\n",
    "* http://flowingdata.com/2009/11/11/the-pitching-dominance-of-mariano-rivera/"
   ]
  },
  {
   "cell_type": "markdown",
   "metadata": {
    "deletable": true,
    "editable": true,
    "slideshow": {
     "slide_type": "slide"
    }
   },
   "source": [
    "# 10. Animation\n",
    "<img src=\"http://goo.gl/1YI3AR\" >\n",
    "\n",
    "* 시간의 흐름에 따른 데이터의 변화를 에니메이션으로 표현.\n",
    "* http://flowingdata.com/2009/09/22/watch-the-giants-of-finance-shrink-then-grow/"
   ]
  },
  {
   "cell_type": "markdown",
   "metadata": {
    "deletable": true,
    "editable": true,
    "slideshow": {
     "slide_type": "slide"
    }
   },
   "source": [
    "# 알고리즘 저널리즘\n",
    "* 2015년 1월 28일 기사, 애플의 실적 사상 최대, 전년 동기 대비 아이폰 46%, 맥은 14% 증가 <br> http://techcrunch.com/2015/01/27/apple-q1-2015/\n",
    "* 이 뉴스도 흥미로운 뉴스지만, 더욱 놀라운 사실은 AP 발로 CNBC, Yahoo 등으로 나간 이 뉴스 http://goo.gl/BqmRJa 를 작성한 주체가 로봇이라는 사실 http://goo.gl/l5tQNh\n",
    "* 이미 AI가 쓰는 기사의 양이 사람이 쓰는 것보다 많아지는 시점을 넘어서고 있다. http://goo.gl/PYTDJH"
   ]
  },
  {
   "cell_type": "markdown",
   "metadata": {
    "deletable": true,
    "editable": true,
    "slideshow": {
     "slide_type": "slide"
    }
   },
   "source": [
    "# Text Visualization d3-cloud\n",
    "d3.js의 기본 라이브러리는 워드클라우드 레이아웃을 제공 하지 않음.\n",
    "https://www.jasondavies.com/wordcloud/\n",
    "\n",
    "외부 API\n",
    "* https://github.com/jasondavies/d3-cloud\n",
    "* d3.layout.cloud() : cloud layout\n",
    "* on(type, listener) : 리스너. 단어의 위치 계산\n",
    "* start() : 알고리즘 시작\n",
    "* stop() : 알고리즘 종료\n",
    "* words([words]) : 단어의 배열\n",
    "\n",
    "<img width=\"50%\" src=\"https://goo.gl/sBmNbM\" >"
   ]
  },
  {
   "cell_type": "markdown",
   "metadata": {
    "deletable": true,
    "editable": true,
    "slideshow": {
     "slide_type": "slide"
    }
   },
   "source": [
    "# Gapminder\n",
    "http://gapminder.org/world\n",
    "* 비영리 서비스\n",
    "* 2007년 구글인수\n",
    "\n",
    "### 한스 로슬링\n",
    "* 스웨덴의 의사이자 통계학자, 스웨덴 카롤린스카 의학원 교수\n",
    "* 비영리 벤처 갭마인더 재단의 공동설립자\n",
    "* 그가 설립한 갭마인더 사이트는 데이터를 근거로 한 통계와 그래픽 서비스를 무상으로 공개\n",
    "* 2012년 미국 타임지에 의해 세계에서 가장 영향력 있는 100인에 선정\n",
    "* TED강의 영국의 BBC뉴스가 선정한 10대 명강의로 꼽히기도"
   ]
  },
  {
   "cell_type": "markdown",
   "metadata": {
    "deletable": true,
    "editable": true,
    "slideshow": {
     "slide_type": "slide"
    }
   },
   "source": [
    "# Gapminder 웹 구현\n",
    "* Gapminder's Wealth & Health of Nations 한스 로슬링\n",
    "http://gapminder.org/world\n",
    "* Recreation by Mike Bostock D3.js <br> http://bost.ocks.org/mike/nations/ <br> mind-gapper-js https://github.com/RandomEtc/mind-gapper-js\n",
    "* Re-Recreation of Romain Vuillemot dragit.js <br> http://romsson.github.io/dragit/example/nations.html"
   ]
  },
  {
   "cell_type": "markdown",
   "metadata": {
    "deletable": true,
    "editable": true,
    "slideshow": {
     "slide_type": "slide"
    }
   },
   "source": [
    "# mind-gapper-js\n",
    "\n",
    "https://github.com/RandomEtc/mind-gapper-js\n",
    "\n",
    "```bash\n",
    "$ git clone https://github.com/RandomEtc/mind-gapper-js.git\n",
    "$ cd mind-gapper-js\n",
    "$ sudo python -m http.server 8080\n",
    "```\n",
    "\n",
    "<img width=\"80%\" src=\"http://i.imgur.com/HeqpKSa.png\" >\n"
   ]
  },
  {
   "cell_type": "markdown",
   "metadata": {
    "deletable": true,
    "editable": true,
    "slideshow": {
     "slide_type": "slide"
    }
   },
   "source": [
    "# Motion Chart\n",
    "http://socr.ucla.edu/htmls/HTML5/MotionChart/\n",
    "\n",
    "<img width=\"80%\" src=\"http://i.imgur.com/f0m7Kl9.png\" >"
   ]
  },
  {
   "cell_type": "markdown",
   "metadata": {
    "deletable": true,
    "editable": true,
    "slideshow": {
     "slide_type": "slide"
    }
   },
   "source": [
    "# mpld3\n",
    "\n",
    "<img width=\"80%\" src=\"http://i.imgur.com/DzA5PJW.png\" >"
   ]
  }
 ],
 "metadata": {
  "celltoolbar": "Slideshow",
  "kernelspec": {
   "display_name": "Python 3",
   "language": "python",
   "name": "python3"
  },
  "language_info": {
   "codemirror_mode": {
    "name": "ipython",
    "version": 3
   },
   "file_extension": ".py",
   "mimetype": "text/x-python",
   "name": "python",
   "nbconvert_exporter": "python",
   "pygments_lexer": "ipython3",
   "version": "3.5.2"
  }
 },
 "nbformat": 4,
 "nbformat_minor": 0
}