{
 "cells": [
  {
   "cell_type": "markdown",
   "metadata": {
    "slideshow": {
     "slide_type": "slide"
    }
   },
   "source": [
    "## 파이썬 데이터 분석 기본\n",
    "\n",
    "#  오리엔테이션 \n",
    "\n",
    "<img width=\"320\" src=\"http://goo.gl/0iIqbh\" >\n",
    "\n",
    "### 2018 FinanceData http://fb.com/financedata"
   ]
  },
  {
   "cell_type": "markdown",
   "metadata": {
    "slideshow": {
     "slide_type": "slide"
    }
   },
   "source": [
    "# Overview\n",
    "* \"파이썬을 활용한 데이터분석 기본\"\n",
    "* 2018년 3월 19일 ~ 3월 23일 (5일), 5회 x 7시간 (총 35시간)\n"
   ]
  },
  {
   "cell_type": "markdown",
   "metadata": {
    "slideshow": {
     "slide_type": "slide"
    }
   },
   "source": [
    "# Course Objectives\n",
    "\n",
    "1. 파이썬 기본 문법 익히기\n",
    "1. 데이터 수집(크롤링)기본 익히기\n",
    "1. 주요 사이트(금감원 DART, 포탈, 채권 정보, FRED 등) 크롤링\n",
    "1. 금융통계 기본 익히기\n",
    "1. 파이썬 데이터 시각화\n",
    "1. 파이썬 엑셀 자동화 익히기"
   ]
  },
  {
   "cell_type": "markdown",
   "metadata": {
    "slideshow": {
     "slide_type": "slide"
    }
   },
   "source": [
    "# 강사 소개\n",
    "\n",
    "### 이승준\n",
    "* 2007~현재 FinanceData.KR\n",
    "* 2009~2016 KB증권 IT센터, 팀장/부장\n",
    "* 1998~2008 일래스틱웨어, 대표\n",
    "* 1995~1997 쌍용정보통신 시스템연구소, 연구원\n",
    "* 1993~1994 LG소프트, 연구원\n",
    "\n",
    "### 저작\n",
    "* 마이크로소프트웨어 38개 아티클\n",
    "* 소프트월드 22개 아티클\n",
    "* 저서 및 역서 5권 (C++, jQuery 등)"
   ]
  },
  {
   "cell_type": "markdown",
   "metadata": {
    "slideshow": {
     "slide_type": "slide"
    }
   },
   "source": [
    "# Icebreaking\n",
    "* 서로 소개, 짤막한 소개와 관심사\n",
    "* 간략한 설문 (금융, 투자, 통계, OS, 리눅스, 프로그래밍, 파이썬)\n"
   ]
  },
  {
   "cell_type": "markdown",
   "metadata": {
    "slideshow": {
     "slide_type": "slide"
    }
   },
   "source": [
    "# 거의 누구나 궁금한, 질문\n",
    "* 금융투자에 데이터 분석이 얼마나 필요한가?\n",
    "* 금융데이터 분석 = 빅데이터 분석?\n",
    "* 프로그래밍(코딩) 배워야 하나? (Programmability)\n",
    "* 엑셀, R, 파이썬 무엇을 선택할 것인가? https://fb.com/1968599463429055\n",
    "* 파이썬을 배우면 무엇을 할 수 있나?\n",
    "* 빅데이터, 트렌드인가 버블인가?\n",
    "* 데이터 사이언스, 빅데이터, 인공지능, 머신러닝, 딥러은 어떻게 다른가?\n",
    "* 데이터 사이언스에 통계학(혹은 수학)이 얼마나 필요한가?"
   ]
  },
  {
   "cell_type": "markdown",
   "metadata": {
    "slideshow": {
     "slide_type": "slide"
    }
   },
   "source": [
    "# Data Science \n",
    "<img width=\"40%\" src=\"https://i.imgur.com/6SJrjIh.png\" />\n",
    "\n",
    "THE DATA SCIENCE VENN DIAGRAM <br/>\n",
    "\n",
    "* Math & Statistics: 수학, 통계학 지식\n",
    "* Hacking Skills: 도구(SQL, 프로그래밍 언어, 클라우드)활용 기술\n",
    "* Substantive Expertise: 업무, 도메인에 대한 전문성\n",
    "\n",
    "http://drewconway.com/zia/2013/3/26/the-data-science-venn-diagram"
   ]
  },
  {
   "cell_type": "markdown",
   "metadata": {
    "slideshow": {
     "slide_type": "slide"
    }
   },
   "source": [
    "# Data Science \n",
    "<img width=\"70%\" src=\"https://i.imgur.com/Kl2LvSV.png\" />\n",
    "\n",
    "https://blogs.gartner.com/christi-eubanks/three-lessons-crossfit-taught-data-science/"
   ]
  },
  {
   "cell_type": "markdown",
   "metadata": {
    "slideshow": {
     "slide_type": "slide"
    }
   },
   "source": [
    "# Data Science\n",
    "Data Science, Artificial Intelligence, Machine Learning, Deep Learning\n",
    "\n",
    "<img width=\"40%\" src=\"https://i.imgur.com/6rkdsc1.png\" />\n",
    "\n",
    "https://www.kdnuggets.com/2016/03/data-science-puzzle-explained.html"
   ]
  },
  {
   "cell_type": "markdown",
   "metadata": {
    "slideshow": {
     "slide_type": "slide"
    }
   },
   "source": [
    "# 이 강의는 무엇이 특별한가?\n",
    "* 금융 데이터에 필요한 파이썬 핵심\n",
    "* \"금융 + 통계 + 코딩\" 융합 과정\n",
    "* 실 데이터 기반, 바로 활용 가능한 코드\n",
    "* 데이터 크롤링, 데이터 시각화, 데이터 자동화(엑셀)\n",
    "* 모두 실행 가능한 강의자료 문서(주피터 노트북) "
   ]
  },
  {
   "cell_type": "markdown",
   "metadata": {
    "slideshow": {
     "slide_type": "slide"
    }
   },
   "source": [
    "# 무엇을 배울 수 있나?\n",
    "\n",
    "* 파이썬 프로그래밍 언어 기본\n",
    "* 파이썬 데이터 크롤링 (금융 데이터 수집)\n",
    "* 파이썬 데이터 분석: Python, NumPy, pandas 사용법 전반\n",
    "* 데이터 분석 방법 (데이터 사이언스)\n",
    "* 금융 통계학 기본\n",
    "* 데이터 시각화 도구와 활용 (matplotlib)\n",
    "* 이메일 리포팅, 엑셀 자동화"
   ]
  },
  {
   "cell_type": "markdown",
   "metadata": {
    "slideshow": {
     "slide_type": "slide"
    }
   },
   "source": [
    "# 1회차 - 데이터 분석 환경 구축과 파이썬 언어 기본\n",
    "* 오리엔테이션\n",
    "* 데이터 분석 환경 만들기 - 아나콘다\n",
    "* 데이터 분석을 위한 파이썬 개요\n",
    "* 파이썬 언어 기본 I - 변수와 값, 기본 타입, 출력 / 연산자, 문자열 / 흐름 제어 "
   ]
  },
  {
   "cell_type": "markdown",
   "metadata": {
    "slideshow": {
     "slide_type": "slide"
    }
   },
   "source": [
    "# 2회차 - 파이썬 언어 기본과 금융데이터 수집\n",
    "* 파이썬 언어 기본 II - 함수, 모듈 / 날짜와 시간, 통계, 파일 입출력\n",
    "* 웹사이트에서 데이터 수집하기 (크롤링)\n",
    "* requests, BeautifulSoup\n",
    "* 전자공시(DART) 데이터: 공시 링크와 제목 전체 등\n",
    "* 한국은행경제통계시스템 OpenAPI: 경기, 통화, 물가 지수 등\n",
    "* 채권 데이터: 한신평, 금투협 채권 금리 데이터 등"
   ]
  },
  {
   "cell_type": "markdown",
   "metadata": {
    "slideshow": {
     "slide_type": "slide"
    }
   },
   "source": [
    "# 3회차 - Numpy와 Pandas, 글로벌 금융데이터 수집\n",
    "* 금융 데이터 분석을 위한 Numpy \n",
    "* pandas DataFrame - 인덱싱, 시계열 데이터 등\n",
    "* 해외주식 종목 티커와 지수, 구글 파이낸스\n",
    "* 연방준비은행 경제 데이터(FRED): 환율, 물가 지수 등\n",
    "* 원자재 상품 가격 데이터 등"
   ]
  },
  {
   "cell_type": "markdown",
   "metadata": {
    "slideshow": {
     "slide_type": "slide"
    }
   },
   "source": [
    "# 4회차 - 데이터 시각화\n",
    "* matplotlib를 데이터 시각화 개요\n",
    "* Series, DataFrame 차트\n",
    "* 그래프(선, 막대, 히스토그램 등) 그리기\n",
    "* 선형차트, 로그차트\n",
    "* 다양한 차트 그리기\n",
    "* mpld3 - Matplotlib + D3"
   ]
  },
  {
   "cell_type": "markdown",
   "metadata": {
    "slideshow": {
     "slide_type": "slide"
    }
   },
   "source": [
    "# 5회차 - 데이터 분석 기본과 엑셀 리포트 자동화\n",
    "* 금융 데이터 분석을 위한 통계 기본\n",
    "* 통계량의 이해 (표준편차, 왜도, 첨도 등)\n",
    "* 회귀 분석, 상관 분석\n",
    "* 파이썬으로 엑셀 파일 다루기 - 엑셀 파일 병합, 엑셀 리포트 생성\n",
    "* 이메일 발송\n",
    "* 강의 마무리"
   ]
  },
  {
   "cell_type": "markdown",
   "metadata": {
    "slideshow": {
     "slide_type": "slide"
    }
   },
   "source": [
    "# 커뮤니케이션 계획\n",
    "\n",
    "### 질문\n",
    "* https://m.me/plusjune  (페이스북 메신저)\n",
    "* plusjune@gmail.com (이메일)"
   ]
  },
  {
   "cell_type": "markdown",
   "metadata": {
    "slideshow": {
     "slide_type": "notes"
    }
   },
   "source": [
    "----\n",
    "#### 2018 FinanceData.KR http://fb.com/financedata"
   ]
  }
 ],
 "metadata": {
  "celltoolbar": "Slideshow",
  "kernelspec": {
   "display_name": "Python 3",
   "language": "python",
   "name": "python3"
  },
  "language_info": {
   "codemirror_mode": {
    "name": "ipython",
    "version": 3
   },
   "file_extension": ".py",
   "mimetype": "text/x-python",
   "name": "python",
   "nbconvert_exporter": "python",
   "pygments_lexer": "ipython3",
   "version": "3.5.2"
  }
 },
 "nbformat": 4,
 "nbformat_minor": 2
}
