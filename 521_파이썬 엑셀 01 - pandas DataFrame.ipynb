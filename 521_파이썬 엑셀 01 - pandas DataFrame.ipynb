{
 "cells": [
  {
   "cell_type": "markdown",
   "metadata": {
    "collapsed": true,
    "slideshow": {
     "slide_type": "slide"
    }
   },
   "source": [
    "# 파이썬 엑셀 01 - pandas DataFrame\n",
    "\n",
    "<img width=\"30%\" src=\"https://i.imgur.com/4NZ1Tiw.jpg\" >\n",
    "    \n",
    "### 2018 FinanceData.KR http://financedata.kr"
   ]
  },
  {
   "cell_type": "markdown",
   "metadata": {
    "collapsed": true,
    "slideshow": {
     "slide_type": "slide"
    }
   },
   "source": [
    "# CSV 데이터 파일 생성"
   ]
  },
  {
   "cell_type": "code",
   "execution_count": 1,
   "metadata": {
    "collapsed": true,
    "slideshow": {
     "slide_type": "-"
    }
   },
   "outputs": [],
   "source": [
    "관심종목_데이터 = \"\"\"\n",
    "종목코드,종목명\n",
    "005930,삼성전자\n",
    "000660,SK하이닉스\n",
    "105560,KB금융\n",
    "051910,LG화학\n",
    "090430,아모레퍼시픽\n",
    "\"\"\"\n",
    "\n",
    "with open('stock_picks.csv', 'wt') as f:\n",
    "    f.write(관심종목_데이터)"
   ]
  },
  {
   "cell_type": "markdown",
   "metadata": {
    "slideshow": {
     "slide_type": "notes"
    }
   },
   "source": [
    "파일을 열때 인코딩(encoding)을 지정하지 않으면 기본적으로 운영체제의 기본 인코딩을 따라갑니다. 한글 윈도우를 사용하고 있다면 기본 인코딩은 'euc-kr'이 됩니다.\n",
    "\n",
    "다른 운영체제나 다른 프로그램과 호환성을 고려하여 가급적 유니코드를 사용하는 것을 추천하며 특히, 외부로 .csv를 파일을 전달하는 경우라면 인코딩을 'utf-8'로 지정할 것을 권고한다.\n",
    " \n",
    "다음과 같이 encoding을 지정하면 유니코드(utf-8)로 저장됩니다.\n",
    "\n",
    "```python\n",
    "with open('stock_picks.csv', 'wt', encoding='utf-8') as f:\n",
    "    f.write(관심종목_데이터)\n",
    "```"
   ]
  },
  {
   "cell_type": "code",
   "execution_count": 2,
   "metadata": {
    "collapsed": true,
    "slideshow": {
     "slide_type": "subslide"
    }
   },
   "outputs": [],
   "source": [
    "팩터_데이터 = \"\"\"\n",
    "종목코드,종목명,PER,PBR,주당배당금,배당수익률\n",
    "005930,삼성전자,15.91,1.98,21000.0,1.05\n",
    "000660,SK하이닉스,8.2,1.67,500.0,1.02\n",
    "005380,현대차,6.12,0.67,4000.0,2.74\n",
    "015760,한국전력,2.01,0.4,3100.0,7.45\n",
    "035420,NAVER,45.41,12.41,1100.0,0.14\n",
    "005490,POSCO,153.39,0.6,8000.0,2.83\n",
    "012330,현대모비스,7.62,0.93,3500.0,1.43\n",
    "028260,삼성물산,5.84,1.4,500.0,0.41\n",
    "055550,신한지주,9.89,0.75,1200.0,2.53\n",
    "032830,삼성생명,16.75,0.91,1800.0,1.67\n",
    "105560,KB금융,11.15,0.66,980.0,2.0\n",
    "017670,SK텔레콤,11.77,1.31,10000.0,4.05\n",
    "051910,LG화학,17,1.52,4500.0,1.69\n",
    "\"\"\"\n",
    "\n",
    "with open('stock_factors.csv', 'wt') as f:\n",
    "    f.write(팩터_데이터)"
   ]
  },
  {
   "cell_type": "code",
   "execution_count": 3,
   "metadata": {
    "slideshow": {
     "slide_type": "-"
    }
   },
   "outputs": [
    {
     "name": "stdout",
     "output_type": "stream",
     "text": [
      " C 드라이브의 볼륨: BOOTCAMP\n",
      " 볼륨 일련 번호: 2EBB-6C19\n",
      "\n",
      " C:\\Users\\Seung-June\\Documents\\자동화 디렉터리\n",
      "\n",
      "2018-03-13  오전 02:31               548 stock_factors.csv\n",
      "2018-03-13  오전 02:31               106 stock_picks.csv\n",
      "               2개 파일                 654 바이트\n",
      "               0개 디렉터리  15,257,387,008 바이트 남음\n"
     ]
    }
   ],
   "source": [
    "!dir *.csv"
   ]
  },
  {
   "cell_type": "code",
   "execution_count": 4,
   "metadata": {
    "slideshow": {
     "slide_type": "-"
    }
   },
   "outputs": [
    {
     "name": "stdout",
     "output_type": "stream",
     "text": [
      "\n",
      "종목코드,종목명\n",
      "005930,삼성전자\n",
      "000660,SK하이닉스\n",
      "105560,KB금융\n",
      "051910,LG화학\n",
      "090430,아모레퍼시픽\n"
     ]
    }
   ],
   "source": [
    "!type stock_picks.csv"
   ]
  },
  {
   "cell_type": "markdown",
   "metadata": {
    "slideshow": {
     "slide_type": "slide"
    }
   },
   "source": [
    "# csv를 DataFrame으로 읽기"
   ]
  },
  {
   "cell_type": "code",
   "execution_count": 5,
   "metadata": {
    "slideshow": {
     "slide_type": "-"
    }
   },
   "outputs": [
    {
     "data": {
      "text/html": [
       "<div>\n",
       "<style scoped>\n",
       "    .dataframe tbody tr th:only-of-type {\n",
       "        vertical-align: middle;\n",
       "    }\n",
       "\n",
       "    .dataframe tbody tr th {\n",
       "        vertical-align: top;\n",
       "    }\n",
       "\n",
       "    .dataframe thead th {\n",
       "        text-align: right;\n",
       "    }\n",
       "</style>\n",
       "<table border=\"1\" class=\"dataframe\">\n",
       "  <thead>\n",
       "    <tr style=\"text-align: right;\">\n",
       "      <th></th>\n",
       "      <th>종목코드</th>\n",
       "      <th>종목명</th>\n",
       "    </tr>\n",
       "  </thead>\n",
       "  <tbody>\n",
       "    <tr>\n",
       "      <th>0</th>\n",
       "      <td>5930</td>\n",
       "      <td>삼성전자</td>\n",
       "    </tr>\n",
       "    <tr>\n",
       "      <th>1</th>\n",
       "      <td>660</td>\n",
       "      <td>SK하이닉스</td>\n",
       "    </tr>\n",
       "    <tr>\n",
       "      <th>2</th>\n",
       "      <td>105560</td>\n",
       "      <td>KB금융</td>\n",
       "    </tr>\n",
       "    <tr>\n",
       "      <th>3</th>\n",
       "      <td>51910</td>\n",
       "      <td>LG화학</td>\n",
       "    </tr>\n",
       "    <tr>\n",
       "      <th>4</th>\n",
       "      <td>90430</td>\n",
       "      <td>아모레퍼시픽</td>\n",
       "    </tr>\n",
       "  </tbody>\n",
       "</table>\n",
       "</div>"
      ],
      "text/plain": [
       "     종목코드     종목명\n",
       "0    5930    삼성전자\n",
       "1     660  SK하이닉스\n",
       "2  105560    KB금융\n",
       "3   51910    LG화학\n",
       "4   90430  아모레퍼시픽"
      ]
     },
     "execution_count": 5,
     "metadata": {},
     "output_type": "execute_result"
    }
   ],
   "source": [
    "# pandas\n",
    "import pandas as pd\n",
    "\n",
    "df_관심종목 = pd.read_csv('stock_picks.csv', encoding='euc-kr')\n",
    "df_관심종목"
   ]
  },
  {
   "cell_type": "code",
   "execution_count": 6,
   "metadata": {
    "slideshow": {
     "slide_type": "subslide"
    }
   },
   "outputs": [
    {
     "data": {
      "text/html": [
       "<div>\n",
       "<style scoped>\n",
       "    .dataframe tbody tr th:only-of-type {\n",
       "        vertical-align: middle;\n",
       "    }\n",
       "\n",
       "    .dataframe tbody tr th {\n",
       "        vertical-align: top;\n",
       "    }\n",
       "\n",
       "    .dataframe thead th {\n",
       "        text-align: right;\n",
       "    }\n",
       "</style>\n",
       "<table border=\"1\" class=\"dataframe\">\n",
       "  <thead>\n",
       "    <tr style=\"text-align: right;\">\n",
       "      <th></th>\n",
       "      <th>종목코드</th>\n",
       "      <th>종목명</th>\n",
       "    </tr>\n",
       "  </thead>\n",
       "  <tbody>\n",
       "    <tr>\n",
       "      <th>0</th>\n",
       "      <td>005930</td>\n",
       "      <td>삼성전자</td>\n",
       "    </tr>\n",
       "    <tr>\n",
       "      <th>1</th>\n",
       "      <td>000660</td>\n",
       "      <td>SK하이닉스</td>\n",
       "    </tr>\n",
       "    <tr>\n",
       "      <th>2</th>\n",
       "      <td>105560</td>\n",
       "      <td>KB금융</td>\n",
       "    </tr>\n",
       "    <tr>\n",
       "      <th>3</th>\n",
       "      <td>051910</td>\n",
       "      <td>LG화학</td>\n",
       "    </tr>\n",
       "    <tr>\n",
       "      <th>4</th>\n",
       "      <td>090430</td>\n",
       "      <td>아모레퍼시픽</td>\n",
       "    </tr>\n",
       "  </tbody>\n",
       "</table>\n",
       "</div>"
      ],
      "text/plain": [
       "     종목코드     종목명\n",
       "0  005930    삼성전자\n",
       "1  000660  SK하이닉스\n",
       "2  105560    KB금융\n",
       "3  051910    LG화학\n",
       "4  090430  아모레퍼시픽"
      ]
     },
     "execution_count": 6,
     "metadata": {},
     "output_type": "execute_result"
    }
   ],
   "source": [
    "# 종목코드의 타입을 str로 지정\n",
    "\n",
    "df_관심종목 = pd.read_csv('stock_picks.csv', dtype={'종목코드':str}, encoding='euc-kr')\n",
    "df_관심종목"
   ]
  },
  {
   "cell_type": "markdown",
   "metadata": {
    "slideshow": {
     "slide_type": "notes"
    }
   },
   "source": [
    "파이썬은 기본적으로 유니코드를 가정하고 있으므로 csv 파일을 읽는 도중에 에러(UnicodeDecodeError)가 발생했다면, 다음과 같이 인코딩을 지정해줘 봅니다. 한글이 깨지는 경우 대부분 인코딩 문제이며, 인코딩 문제의 대부분은 문서의 인코딩을 지정하는 것으로 해결됩니다.\n",
    "\n",
    "```python\n",
    "# csv 파일의 인코딩 지정 방법\n",
    "pd.read_csv('파일.csv', encoding='utf-8')\n",
    "pd.read_csv('파일.csv', encoding='euc-kr')\n",
    "\n",
    "# 파일명이 한글일 때 읽기 오류가 생긴다면, csv 파서 엔진을 'python'로 지정해 보십시오\n",
    "pd.read_csv('관심종목.csv', encoding='utf-8', engine='python')\n",
    "```"
   ]
  },
  {
   "cell_type": "code",
   "execution_count": 7,
   "metadata": {
    "slideshow": {
     "slide_type": "subslide"
    }
   },
   "outputs": [
    {
     "data": {
      "text/html": [
       "<div>\n",
       "<style scoped>\n",
       "    .dataframe tbody tr th:only-of-type {\n",
       "        vertical-align: middle;\n",
       "    }\n",
       "\n",
       "    .dataframe tbody tr th {\n",
       "        vertical-align: top;\n",
       "    }\n",
       "\n",
       "    .dataframe thead th {\n",
       "        text-align: right;\n",
       "    }\n",
       "</style>\n",
       "<table border=\"1\" class=\"dataframe\">\n",
       "  <thead>\n",
       "    <tr style=\"text-align: right;\">\n",
       "      <th></th>\n",
       "      <th>종목명</th>\n",
       "    </tr>\n",
       "    <tr>\n",
       "      <th>종목코드</th>\n",
       "      <th></th>\n",
       "    </tr>\n",
       "  </thead>\n",
       "  <tbody>\n",
       "    <tr>\n",
       "      <th>005930</th>\n",
       "      <td>삼성전자</td>\n",
       "    </tr>\n",
       "    <tr>\n",
       "      <th>000660</th>\n",
       "      <td>SK하이닉스</td>\n",
       "    </tr>\n",
       "    <tr>\n",
       "      <th>105560</th>\n",
       "      <td>KB금융</td>\n",
       "    </tr>\n",
       "    <tr>\n",
       "      <th>051910</th>\n",
       "      <td>LG화학</td>\n",
       "    </tr>\n",
       "    <tr>\n",
       "      <th>090430</th>\n",
       "      <td>아모레퍼시픽</td>\n",
       "    </tr>\n",
       "  </tbody>\n",
       "</table>\n",
       "</div>"
      ],
      "text/plain": [
       "           종목명\n",
       "종목코드          \n",
       "005930    삼성전자\n",
       "000660  SK하이닉스\n",
       "105560    KB금융\n",
       "051910    LG화학\n",
       "090430  아모레퍼시픽"
      ]
     },
     "execution_count": 7,
     "metadata": {},
     "output_type": "execute_result"
    }
   ],
   "source": [
    "# 종목코드의 타입을 str로 지정, 종목코드를 인덱스로 지정\n",
    "\n",
    "df_관심종목 = pd.read_csv('stock_picks.csv', dtype={'종목코드':str}, encoding='euc-kr')\n",
    "df_관심종목 = df_관심종목.set_index('종목코드') \n",
    "df_관심종목"
   ]
  },
  {
   "cell_type": "code",
   "execution_count": 8,
   "metadata": {
    "slideshow": {
     "slide_type": "subslide"
    }
   },
   "outputs": [
    {
     "data": {
      "text/html": [
       "<div>\n",
       "<style scoped>\n",
       "    .dataframe tbody tr th:only-of-type {\n",
       "        vertical-align: middle;\n",
       "    }\n",
       "\n",
       "    .dataframe tbody tr th {\n",
       "        vertical-align: top;\n",
       "    }\n",
       "\n",
       "    .dataframe thead th {\n",
       "        text-align: right;\n",
       "    }\n",
       "</style>\n",
       "<table border=\"1\" class=\"dataframe\">\n",
       "  <thead>\n",
       "    <tr style=\"text-align: right;\">\n",
       "      <th></th>\n",
       "      <th>종목명</th>\n",
       "      <th>PER</th>\n",
       "      <th>PBR</th>\n",
       "      <th>주당배당금</th>\n",
       "      <th>배당수익률</th>\n",
       "    </tr>\n",
       "    <tr>\n",
       "      <th>종목코드</th>\n",
       "      <th></th>\n",
       "      <th></th>\n",
       "      <th></th>\n",
       "      <th></th>\n",
       "      <th></th>\n",
       "    </tr>\n",
       "  </thead>\n",
       "  <tbody>\n",
       "    <tr>\n",
       "      <th>005930</th>\n",
       "      <td>삼성전자</td>\n",
       "      <td>15.91</td>\n",
       "      <td>1.98</td>\n",
       "      <td>21000.0</td>\n",
       "      <td>1.05</td>\n",
       "    </tr>\n",
       "    <tr>\n",
       "      <th>000660</th>\n",
       "      <td>SK하이닉스</td>\n",
       "      <td>8.20</td>\n",
       "      <td>1.67</td>\n",
       "      <td>500.0</td>\n",
       "      <td>1.02</td>\n",
       "    </tr>\n",
       "    <tr>\n",
       "      <th>005380</th>\n",
       "      <td>현대차</td>\n",
       "      <td>6.12</td>\n",
       "      <td>0.67</td>\n",
       "      <td>4000.0</td>\n",
       "      <td>2.74</td>\n",
       "    </tr>\n",
       "    <tr>\n",
       "      <th>015760</th>\n",
       "      <td>한국전력</td>\n",
       "      <td>2.01</td>\n",
       "      <td>0.40</td>\n",
       "      <td>3100.0</td>\n",
       "      <td>7.45</td>\n",
       "    </tr>\n",
       "    <tr>\n",
       "      <th>035420</th>\n",
       "      <td>NAVER</td>\n",
       "      <td>45.41</td>\n",
       "      <td>12.41</td>\n",
       "      <td>1100.0</td>\n",
       "      <td>0.14</td>\n",
       "    </tr>\n",
       "    <tr>\n",
       "      <th>005490</th>\n",
       "      <td>POSCO</td>\n",
       "      <td>153.39</td>\n",
       "      <td>0.60</td>\n",
       "      <td>8000.0</td>\n",
       "      <td>2.83</td>\n",
       "    </tr>\n",
       "    <tr>\n",
       "      <th>012330</th>\n",
       "      <td>현대모비스</td>\n",
       "      <td>7.62</td>\n",
       "      <td>0.93</td>\n",
       "      <td>3500.0</td>\n",
       "      <td>1.43</td>\n",
       "    </tr>\n",
       "    <tr>\n",
       "      <th>028260</th>\n",
       "      <td>삼성물산</td>\n",
       "      <td>5.84</td>\n",
       "      <td>1.40</td>\n",
       "      <td>500.0</td>\n",
       "      <td>0.41</td>\n",
       "    </tr>\n",
       "    <tr>\n",
       "      <th>055550</th>\n",
       "      <td>신한지주</td>\n",
       "      <td>9.89</td>\n",
       "      <td>0.75</td>\n",
       "      <td>1200.0</td>\n",
       "      <td>2.53</td>\n",
       "    </tr>\n",
       "    <tr>\n",
       "      <th>032830</th>\n",
       "      <td>삼성생명</td>\n",
       "      <td>16.75</td>\n",
       "      <td>0.91</td>\n",
       "      <td>1800.0</td>\n",
       "      <td>1.67</td>\n",
       "    </tr>\n",
       "    <tr>\n",
       "      <th>105560</th>\n",
       "      <td>KB금융</td>\n",
       "      <td>11.15</td>\n",
       "      <td>0.66</td>\n",
       "      <td>980.0</td>\n",
       "      <td>2.00</td>\n",
       "    </tr>\n",
       "    <tr>\n",
       "      <th>017670</th>\n",
       "      <td>SK텔레콤</td>\n",
       "      <td>11.77</td>\n",
       "      <td>1.31</td>\n",
       "      <td>10000.0</td>\n",
       "      <td>4.05</td>\n",
       "    </tr>\n",
       "    <tr>\n",
       "      <th>051910</th>\n",
       "      <td>LG화학</td>\n",
       "      <td>17.00</td>\n",
       "      <td>1.52</td>\n",
       "      <td>4500.0</td>\n",
       "      <td>1.69</td>\n",
       "    </tr>\n",
       "  </tbody>\n",
       "</table>\n",
       "</div>"
      ],
      "text/plain": [
       "           종목명     PER    PBR    주당배당금  배당수익률\n",
       "종목코드                                         \n",
       "005930    삼성전자   15.91   1.98  21000.0   1.05\n",
       "000660  SK하이닉스    8.20   1.67    500.0   1.02\n",
       "005380     현대차    6.12   0.67   4000.0   2.74\n",
       "015760    한국전력    2.01   0.40   3100.0   7.45\n",
       "035420   NAVER   45.41  12.41   1100.0   0.14\n",
       "005490   POSCO  153.39   0.60   8000.0   2.83\n",
       "012330   현대모비스    7.62   0.93   3500.0   1.43\n",
       "028260    삼성물산    5.84   1.40    500.0   0.41\n",
       "055550    신한지주    9.89   0.75   1200.0   2.53\n",
       "032830    삼성생명   16.75   0.91   1800.0   1.67\n",
       "105560    KB금융   11.15   0.66    980.0   2.00\n",
       "017670   SK텔레콤   11.77   1.31  10000.0   4.05\n",
       "051910    LG화학   17.00   1.52   4500.0   1.69"
      ]
     },
     "execution_count": 8,
     "metadata": {},
     "output_type": "execute_result"
    }
   ],
   "source": [
    "# 종목코드의 타입을 str로 지정, 종목코드를 인덱스로 지정\n",
    "\n",
    "df_팩터 = pd.read_csv('stock_factors.csv', dtype={'종목코드':str}, encoding='euc-kr')\n",
    "df_팩터 = df_팩터.set_index('종목코드') \n",
    "df_팩터"
   ]
  },
  {
   "cell_type": "markdown",
   "metadata": {
    "slideshow": {
     "slide_type": "slide"
    }
   },
   "source": [
    "# 데이터를 엑셀 파일로 저장, 읽기"
   ]
  },
  {
   "cell_type": "code",
   "execution_count": 9,
   "metadata": {
    "collapsed": true,
    "slideshow": {
     "slide_type": "-"
    }
   },
   "outputs": [],
   "source": [
    "df_관심종목.to_excel('stock_picks.xlsx')\n",
    "df_팩터.to_excel('stock_factors.xlsx')"
   ]
  },
  {
   "cell_type": "code",
   "execution_count": 10,
   "metadata": {
    "slideshow": {
     "slide_type": "-"
    }
   },
   "outputs": [
    {
     "name": "stdout",
     "output_type": "stream",
     "text": [
      " C 드라이브의 볼륨: BOOTCAMP\n",
      " 볼륨 일련 번호: 2EBB-6C19\n",
      "\n",
      " C:\\Users\\Seung-June\\Documents\\자동화 디렉터리\n",
      "\n",
      "2018-03-13  오전 02:11             5,550 KT.xlsx\n",
      "2018-03-13  오전 02:11             5,579 merged.xlsx\n",
      "2018-03-13  오전 02:11             4,992 merged_02.xlsx\n",
      "2018-03-13  오전 02:11             5,086 merged_03.xlsx\n",
      "2018-03-13  오전 02:11             5,551 SKT.xlsx\n",
      "2018-03-13  오전 02:31             6,163 stock_factors.xlsx\n",
      "2018-03-13  오전 02:31             5,581 stock_picks.xlsx\n",
      "               7개 파일              38,502 바이트\n",
      "               0개 디렉터리  15,257,370,624 바이트 남음\n"
     ]
    }
   ],
   "source": [
    "!dir *.xlsx"
   ]
  },
  {
   "cell_type": "code",
   "execution_count": 11,
   "metadata": {
    "slideshow": {
     "slide_type": "subslide"
    }
   },
   "outputs": [
    {
     "data": {
      "text/html": [
       "<div>\n",
       "<style scoped>\n",
       "    .dataframe tbody tr th:only-of-type {\n",
       "        vertical-align: middle;\n",
       "    }\n",
       "\n",
       "    .dataframe tbody tr th {\n",
       "        vertical-align: top;\n",
       "    }\n",
       "\n",
       "    .dataframe thead th {\n",
       "        text-align: right;\n",
       "    }\n",
       "</style>\n",
       "<table border=\"1\" class=\"dataframe\">\n",
       "  <thead>\n",
       "    <tr style=\"text-align: right;\">\n",
       "      <th></th>\n",
       "      <th>종목명</th>\n",
       "    </tr>\n",
       "    <tr>\n",
       "      <th>종목코드</th>\n",
       "      <th></th>\n",
       "    </tr>\n",
       "  </thead>\n",
       "  <tbody>\n",
       "    <tr>\n",
       "      <th>005930</th>\n",
       "      <td>삼성전자</td>\n",
       "    </tr>\n",
       "    <tr>\n",
       "      <th>000660</th>\n",
       "      <td>SK하이닉스</td>\n",
       "    </tr>\n",
       "    <tr>\n",
       "      <th>105560</th>\n",
       "      <td>KB금융</td>\n",
       "    </tr>\n",
       "    <tr>\n",
       "      <th>051910</th>\n",
       "      <td>LG화학</td>\n",
       "    </tr>\n",
       "    <tr>\n",
       "      <th>090430</th>\n",
       "      <td>아모레퍼시픽</td>\n",
       "    </tr>\n",
       "  </tbody>\n",
       "</table>\n",
       "</div>"
      ],
      "text/plain": [
       "           종목명\n",
       "종목코드          \n",
       "005930    삼성전자\n",
       "000660  SK하이닉스\n",
       "105560    KB금융\n",
       "051910    LG화학\n",
       "090430  아모레퍼시픽"
      ]
     },
     "execution_count": 11,
     "metadata": {},
     "output_type": "execute_result"
    }
   ],
   "source": [
    "df_관심종목 = pd.read_excel('stock_picks.xlsx', dtype={'종목코드':str})\n",
    "df_관심종목 = df_관심종목.set_index('종목코드') \n",
    "df_관심종목"
   ]
  },
  {
   "cell_type": "code",
   "execution_count": 12,
   "metadata": {
    "slideshow": {
     "slide_type": "subslide"
    }
   },
   "outputs": [
    {
     "data": {
      "text/html": [
       "<div>\n",
       "<style scoped>\n",
       "    .dataframe tbody tr th:only-of-type {\n",
       "        vertical-align: middle;\n",
       "    }\n",
       "\n",
       "    .dataframe tbody tr th {\n",
       "        vertical-align: top;\n",
       "    }\n",
       "\n",
       "    .dataframe thead th {\n",
       "        text-align: right;\n",
       "    }\n",
       "</style>\n",
       "<table border=\"1\" class=\"dataframe\">\n",
       "  <thead>\n",
       "    <tr style=\"text-align: right;\">\n",
       "      <th></th>\n",
       "      <th>종목명</th>\n",
       "      <th>PER</th>\n",
       "      <th>PBR</th>\n",
       "      <th>주당배당금</th>\n",
       "      <th>배당수익률</th>\n",
       "    </tr>\n",
       "    <tr>\n",
       "      <th>종목코드</th>\n",
       "      <th></th>\n",
       "      <th></th>\n",
       "      <th></th>\n",
       "      <th></th>\n",
       "      <th></th>\n",
       "    </tr>\n",
       "  </thead>\n",
       "  <tbody>\n",
       "    <tr>\n",
       "      <th>005930</th>\n",
       "      <td>삼성전자</td>\n",
       "      <td>15.91</td>\n",
       "      <td>1.98</td>\n",
       "      <td>21000</td>\n",
       "      <td>1.05</td>\n",
       "    </tr>\n",
       "    <tr>\n",
       "      <th>000660</th>\n",
       "      <td>SK하이닉스</td>\n",
       "      <td>8.20</td>\n",
       "      <td>1.67</td>\n",
       "      <td>500</td>\n",
       "      <td>1.02</td>\n",
       "    </tr>\n",
       "    <tr>\n",
       "      <th>005380</th>\n",
       "      <td>현대차</td>\n",
       "      <td>6.12</td>\n",
       "      <td>0.67</td>\n",
       "      <td>4000</td>\n",
       "      <td>2.74</td>\n",
       "    </tr>\n",
       "    <tr>\n",
       "      <th>015760</th>\n",
       "      <td>한국전력</td>\n",
       "      <td>2.01</td>\n",
       "      <td>0.40</td>\n",
       "      <td>3100</td>\n",
       "      <td>7.45</td>\n",
       "    </tr>\n",
       "    <tr>\n",
       "      <th>035420</th>\n",
       "      <td>NAVER</td>\n",
       "      <td>45.41</td>\n",
       "      <td>12.41</td>\n",
       "      <td>1100</td>\n",
       "      <td>0.14</td>\n",
       "    </tr>\n",
       "    <tr>\n",
       "      <th>005490</th>\n",
       "      <td>POSCO</td>\n",
       "      <td>153.39</td>\n",
       "      <td>0.60</td>\n",
       "      <td>8000</td>\n",
       "      <td>2.83</td>\n",
       "    </tr>\n",
       "    <tr>\n",
       "      <th>012330</th>\n",
       "      <td>현대모비스</td>\n",
       "      <td>7.62</td>\n",
       "      <td>0.93</td>\n",
       "      <td>3500</td>\n",
       "      <td>1.43</td>\n",
       "    </tr>\n",
       "    <tr>\n",
       "      <th>028260</th>\n",
       "      <td>삼성물산</td>\n",
       "      <td>5.84</td>\n",
       "      <td>1.40</td>\n",
       "      <td>500</td>\n",
       "      <td>0.41</td>\n",
       "    </tr>\n",
       "    <tr>\n",
       "      <th>055550</th>\n",
       "      <td>신한지주</td>\n",
       "      <td>9.89</td>\n",
       "      <td>0.75</td>\n",
       "      <td>1200</td>\n",
       "      <td>2.53</td>\n",
       "    </tr>\n",
       "    <tr>\n",
       "      <th>032830</th>\n",
       "      <td>삼성생명</td>\n",
       "      <td>16.75</td>\n",
       "      <td>0.91</td>\n",
       "      <td>1800</td>\n",
       "      <td>1.67</td>\n",
       "    </tr>\n",
       "    <tr>\n",
       "      <th>105560</th>\n",
       "      <td>KB금융</td>\n",
       "      <td>11.15</td>\n",
       "      <td>0.66</td>\n",
       "      <td>980</td>\n",
       "      <td>2.00</td>\n",
       "    </tr>\n",
       "    <tr>\n",
       "      <th>017670</th>\n",
       "      <td>SK텔레콤</td>\n",
       "      <td>11.77</td>\n",
       "      <td>1.31</td>\n",
       "      <td>10000</td>\n",
       "      <td>4.05</td>\n",
       "    </tr>\n",
       "    <tr>\n",
       "      <th>051910</th>\n",
       "      <td>LG화학</td>\n",
       "      <td>17.00</td>\n",
       "      <td>1.52</td>\n",
       "      <td>4500</td>\n",
       "      <td>1.69</td>\n",
       "    </tr>\n",
       "  </tbody>\n",
       "</table>\n",
       "</div>"
      ],
      "text/plain": [
       "           종목명     PER    PBR  주당배당금  배당수익률\n",
       "종목코드                                       \n",
       "005930    삼성전자   15.91   1.98  21000   1.05\n",
       "000660  SK하이닉스    8.20   1.67    500   1.02\n",
       "005380     현대차    6.12   0.67   4000   2.74\n",
       "015760    한국전력    2.01   0.40   3100   7.45\n",
       "035420   NAVER   45.41  12.41   1100   0.14\n",
       "005490   POSCO  153.39   0.60   8000   2.83\n",
       "012330   현대모비스    7.62   0.93   3500   1.43\n",
       "028260    삼성물산    5.84   1.40    500   0.41\n",
       "055550    신한지주    9.89   0.75   1200   2.53\n",
       "032830    삼성생명   16.75   0.91   1800   1.67\n",
       "105560    KB금융   11.15   0.66    980   2.00\n",
       "017670   SK텔레콤   11.77   1.31  10000   4.05\n",
       "051910    LG화학   17.00   1.52   4500   1.69"
      ]
     },
     "execution_count": 12,
     "metadata": {},
     "output_type": "execute_result"
    }
   ],
   "source": [
    "df_팩터 = pd.read_excel('stock_factors.xlsx', dtype={'종목코드':str})\n",
    "df_팩터 = df_팩터.set_index('종목코드') \n",
    "df_팩터"
   ]
  },
  {
   "cell_type": "markdown",
   "metadata": {
    "slideshow": {
     "slide_type": "slide"
    }
   },
   "source": [
    "# 데이터프레임 간에 컬럼 복사"
   ]
  },
  {
   "cell_type": "code",
   "execution_count": 13,
   "metadata": {
    "slideshow": {
     "slide_type": "-"
    }
   },
   "outputs": [
    {
     "data": {
      "text/html": [
       "<div>\n",
       "<style scoped>\n",
       "    .dataframe tbody tr th:only-of-type {\n",
       "        vertical-align: middle;\n",
       "    }\n",
       "\n",
       "    .dataframe tbody tr th {\n",
       "        vertical-align: top;\n",
       "    }\n",
       "\n",
       "    .dataframe thead th {\n",
       "        text-align: right;\n",
       "    }\n",
       "</style>\n",
       "<table border=\"1\" class=\"dataframe\">\n",
       "  <thead>\n",
       "    <tr style=\"text-align: right;\">\n",
       "      <th></th>\n",
       "      <th>종목명</th>\n",
       "      <th>PER</th>\n",
       "    </tr>\n",
       "    <tr>\n",
       "      <th>종목코드</th>\n",
       "      <th></th>\n",
       "      <th></th>\n",
       "    </tr>\n",
       "  </thead>\n",
       "  <tbody>\n",
       "    <tr>\n",
       "      <th>005930</th>\n",
       "      <td>삼성전자</td>\n",
       "      <td>15.91</td>\n",
       "    </tr>\n",
       "    <tr>\n",
       "      <th>000660</th>\n",
       "      <td>SK하이닉스</td>\n",
       "      <td>8.20</td>\n",
       "    </tr>\n",
       "    <tr>\n",
       "      <th>105560</th>\n",
       "      <td>KB금융</td>\n",
       "      <td>11.15</td>\n",
       "    </tr>\n",
       "    <tr>\n",
       "      <th>051910</th>\n",
       "      <td>LG화학</td>\n",
       "      <td>17.00</td>\n",
       "    </tr>\n",
       "    <tr>\n",
       "      <th>090430</th>\n",
       "      <td>아모레퍼시픽</td>\n",
       "      <td>NaN</td>\n",
       "    </tr>\n",
       "  </tbody>\n",
       "</table>\n",
       "</div>"
      ],
      "text/plain": [
       "           종목명    PER\n",
       "종목코드                 \n",
       "005930    삼성전자  15.91\n",
       "000660  SK하이닉스   8.20\n",
       "105560    KB금융  11.15\n",
       "051910    LG화학  17.00\n",
       "090430  아모레퍼시픽    NaN"
      ]
     },
     "execution_count": 13,
     "metadata": {},
     "output_type": "execute_result"
    }
   ],
   "source": [
    "# 개별 컬럼 복사 (없으면 생성된다)\n",
    "df_관심종목['PER'] = df_팩터['PER']\n",
    "df_관심종목"
   ]
  },
  {
   "cell_type": "code",
   "execution_count": 14,
   "metadata": {
    "slideshow": {
     "slide_type": "subslide"
    }
   },
   "outputs": [
    {
     "data": {
      "text/html": [
       "<div>\n",
       "<style scoped>\n",
       "    .dataframe tbody tr th:only-of-type {\n",
       "        vertical-align: middle;\n",
       "    }\n",
       "\n",
       "    .dataframe tbody tr th {\n",
       "        vertical-align: top;\n",
       "    }\n",
       "\n",
       "    .dataframe thead th {\n",
       "        text-align: right;\n",
       "    }\n",
       "</style>\n",
       "<table border=\"1\" class=\"dataframe\">\n",
       "  <thead>\n",
       "    <tr style=\"text-align: right;\">\n",
       "      <th></th>\n",
       "      <th>종목명</th>\n",
       "      <th>PER</th>\n",
       "      <th>PBR</th>\n",
       "    </tr>\n",
       "    <tr>\n",
       "      <th>종목코드</th>\n",
       "      <th></th>\n",
       "      <th></th>\n",
       "      <th></th>\n",
       "    </tr>\n",
       "  </thead>\n",
       "  <tbody>\n",
       "    <tr>\n",
       "      <th>005930</th>\n",
       "      <td>삼성전자</td>\n",
       "      <td>15.91</td>\n",
       "      <td>1.98</td>\n",
       "    </tr>\n",
       "    <tr>\n",
       "      <th>000660</th>\n",
       "      <td>SK하이닉스</td>\n",
       "      <td>8.20</td>\n",
       "      <td>1.67</td>\n",
       "    </tr>\n",
       "    <tr>\n",
       "      <th>105560</th>\n",
       "      <td>KB금융</td>\n",
       "      <td>11.15</td>\n",
       "      <td>0.66</td>\n",
       "    </tr>\n",
       "    <tr>\n",
       "      <th>051910</th>\n",
       "      <td>LG화학</td>\n",
       "      <td>17.00</td>\n",
       "      <td>1.52</td>\n",
       "    </tr>\n",
       "    <tr>\n",
       "      <th>090430</th>\n",
       "      <td>아모레퍼시픽</td>\n",
       "      <td>NaN</td>\n",
       "      <td>NaN</td>\n",
       "    </tr>\n",
       "  </tbody>\n",
       "</table>\n",
       "</div>"
      ],
      "text/plain": [
       "           종목명    PER   PBR\n",
       "종목코드                       \n",
       "005930    삼성전자  15.91  1.98\n",
       "000660  SK하이닉스   8.20  1.67\n",
       "105560    KB금융  11.15  0.66\n",
       "051910    LG화학  17.00  1.52\n",
       "090430  아모레퍼시픽    NaN   NaN"
      ]
     },
     "execution_count": 14,
     "metadata": {},
     "output_type": "execute_result"
    }
   ],
   "source": [
    "df_관심종목['PBR'] = df_팩터['PBR']\n",
    "df_관심종목"
   ]
  },
  {
   "cell_type": "code",
   "execution_count": 15,
   "metadata": {
    "slideshow": {
     "slide_type": "subslide"
    }
   },
   "outputs": [
    {
     "data": {
      "text/html": [
       "<div>\n",
       "<style scoped>\n",
       "    .dataframe tbody tr th:only-of-type {\n",
       "        vertical-align: middle;\n",
       "    }\n",
       "\n",
       "    .dataframe tbody tr th {\n",
       "        vertical-align: top;\n",
       "    }\n",
       "\n",
       "    .dataframe thead th {\n",
       "        text-align: right;\n",
       "    }\n",
       "</style>\n",
       "<table border=\"1\" class=\"dataframe\">\n",
       "  <thead>\n",
       "    <tr style=\"text-align: right;\">\n",
       "      <th></th>\n",
       "      <th>종목명</th>\n",
       "      <th>PER</th>\n",
       "      <th>PBR</th>\n",
       "      <th>주당배당금</th>\n",
       "      <th>배당수익률</th>\n",
       "    </tr>\n",
       "    <tr>\n",
       "      <th>종목코드</th>\n",
       "      <th></th>\n",
       "      <th></th>\n",
       "      <th></th>\n",
       "      <th></th>\n",
       "      <th></th>\n",
       "    </tr>\n",
       "  </thead>\n",
       "  <tbody>\n",
       "    <tr>\n",
       "      <th>005930</th>\n",
       "      <td>삼성전자</td>\n",
       "      <td>15.91</td>\n",
       "      <td>1.98</td>\n",
       "      <td>21000.0</td>\n",
       "      <td>1.05</td>\n",
       "    </tr>\n",
       "    <tr>\n",
       "      <th>000660</th>\n",
       "      <td>SK하이닉스</td>\n",
       "      <td>8.20</td>\n",
       "      <td>1.67</td>\n",
       "      <td>500.0</td>\n",
       "      <td>1.02</td>\n",
       "    </tr>\n",
       "    <tr>\n",
       "      <th>105560</th>\n",
       "      <td>KB금융</td>\n",
       "      <td>11.15</td>\n",
       "      <td>0.66</td>\n",
       "      <td>980.0</td>\n",
       "      <td>2.00</td>\n",
       "    </tr>\n",
       "    <tr>\n",
       "      <th>051910</th>\n",
       "      <td>LG화학</td>\n",
       "      <td>17.00</td>\n",
       "      <td>1.52</td>\n",
       "      <td>4500.0</td>\n",
       "      <td>1.69</td>\n",
       "    </tr>\n",
       "    <tr>\n",
       "      <th>090430</th>\n",
       "      <td>아모레퍼시픽</td>\n",
       "      <td>NaN</td>\n",
       "      <td>NaN</td>\n",
       "      <td>NaN</td>\n",
       "      <td>NaN</td>\n",
       "    </tr>\n",
       "  </tbody>\n",
       "</table>\n",
       "</div>"
      ],
      "text/plain": [
       "           종목명    PER   PBR    주당배당금  배당수익률\n",
       "종목코드                                       \n",
       "005930    삼성전자  15.91  1.98  21000.0   1.05\n",
       "000660  SK하이닉스   8.20  1.67    500.0   1.02\n",
       "105560    KB금융  11.15  0.66    980.0   2.00\n",
       "051910    LG화학  17.00  1.52   4500.0   1.69\n",
       "090430  아모레퍼시픽    NaN   NaN      NaN    NaN"
      ]
     },
     "execution_count": 15,
     "metadata": {},
     "output_type": "execute_result"
    }
   ],
   "source": [
    "# 여러 컬럼을 한번에 복사\n",
    "\n",
    "df_관심종목[['주당배당금', '배당수익률']] = df_팩터[['주당배당금', '배당수익률']]\n",
    "df_관심종목"
   ]
  },
  {
   "cell_type": "markdown",
   "metadata": {
    "slideshow": {
     "slide_type": "slide"
    }
   },
   "source": [
    "# 엑셀 파일로 저장"
   ]
  },
  {
   "cell_type": "code",
   "execution_count": 16,
   "metadata": {
    "collapsed": true,
    "slideshow": {
     "slide_type": "-"
    }
   },
   "outputs": [],
   "source": [
    "df_관심종목.to_excel('merged.xlsx')"
   ]
  },
  {
   "cell_type": "code",
   "execution_count": 17,
   "metadata": {
    "slideshow": {
     "slide_type": "-"
    }
   },
   "outputs": [
    {
     "name": "stdout",
     "output_type": "stream",
     "text": [
      " C 드라이브의 볼륨: BOOTCAMP\n",
      " 볼륨 일련 번호: 2EBB-6C19\n",
      "\n",
      " C:\\Users\\Seung-June\\Documents\\자동화 디렉터리\n",
      "\n",
      "2018-03-13  오전 02:11             5,550 KT.xlsx\n",
      "2018-03-13  오전 02:31             5,746 merged.xlsx\n",
      "2018-03-13  오전 02:11             4,992 merged_02.xlsx\n",
      "2018-03-13  오전 02:11             5,086 merged_03.xlsx\n",
      "2018-03-13  오전 02:11             5,551 SKT.xlsx\n",
      "2018-03-13  오전 02:31             6,163 stock_factors.xlsx\n",
      "2018-03-13  오전 02:31             5,581 stock_picks.xlsx\n",
      "               7개 파일              38,669 바이트\n",
      "               0개 디렉터리  15,257,370,624 바이트 남음\n"
     ]
    }
   ],
   "source": [
    "!dir *.xlsx"
   ]
  },
  {
   "cell_type": "markdown",
   "metadata": {
    "slideshow": {
     "slide_type": "slide"
    }
   },
   "source": [
    "# 리뷰\n",
    "* csv 데이터 파일과 인코딩\n",
    "* 데이터를 엑셀 파일로 저장, 읽기 - df = pd.read_excel('a.xlsx')\n",
    "* 데이터프레임 간에 컬럼 복사\n",
    "* 엑셀 파일로 저장 - df.to_excel('a.xlsx')"
   ]
  },
  {
   "cell_type": "markdown",
   "metadata": {
    "collapsed": true,
    "slideshow": {
     "slide_type": "notes"
    }
   },
   "source": [
    "### 2018 FinanceData.KR"
   ]
  }
 ],
 "metadata": {
  "celltoolbar": "Slideshow",
  "kernelspec": {
   "display_name": "Python 3",
   "language": "python",
   "name": "python3"
  },
  "language_info": {
   "codemirror_mode": {
    "name": "ipython",
    "version": 3
   },
   "file_extension": ".py",
   "mimetype": "text/x-python",
   "name": "python",
   "nbconvert_exporter": "python",
   "pygments_lexer": "ipython3",
   "version": "3.6.3"
  }
 },
 "nbformat": 4,
 "nbformat_minor": 2
}
