{
 "cells": [
  {
   "cell_type": "markdown",
   "metadata": {
    "slideshow": {
     "slide_type": "slide"
    }
   },
   "source": [
    "# Python Basics for Data Science - PART 3\n",
    "(파이낸스 데이터 분석을 위한 파이썬 언어 기본)\n",
    "\n",
    "###  흐름 제어\n",
    "\n",
    "<img width=\"300\" src=\"http://i.imgur.com/tHmNhjm.png\" >\n",
    "\n",
    "\n",
    "#### 2018 FinanceData.KR http://financedata.kr\n",
    "<!-- TEASER_END -->"
   ]
  },
  {
   "cell_type": "markdown",
   "metadata": {
    "slideshow": {
     "slide_type": "slide"
    }
   },
   "source": [
    "# if, elif, else\n",
    "\n",
    "조건에 따라 실행을 달리하기 위한 문으로 if, elif, else 가 있다"
   ]
  },
  {
   "cell_type": "code",
   "execution_count": 1,
   "metadata": {
    "slideshow": {
     "slide_type": "-"
    }
   },
   "outputs": [
    {
     "name": "stdout",
     "output_type": "stream",
     "text": [
      "상승\n",
      "같은 레벨의 들여쓰기로로 블럭을 구분합니다\n"
     ]
    }
   ],
   "source": [
    "ret = 0.1\n",
    "\n",
    "if ret > 0.0:\n",
    "    print(\"상승\")\n",
    "    print('같은 레벨의 들여쓰기로로 블럭을 구분합니다')\n",
    "else:\n",
    "    print(\"하락\")"
   ]
  },
  {
   "cell_type": "code",
   "execution_count": 2,
   "metadata": {
    "slideshow": {
     "slide_type": "slide"
    }
   },
   "outputs": [
    {
     "name": "stdout",
     "output_type": "stream",
     "text": [
      "종목02 선택\n"
     ]
    }
   ],
   "source": [
    "# True/False를 상승 여부로 가정\n",
    "# stock01, stock02 True 혹은 False 할당을 바꾸어가면서 실행해보자\n",
    "\n",
    "stock01 = False \n",
    "stock02 = True  \n",
    "\n",
    "if stock01:\n",
    "    print(\"종목01 선택\")\n",
    "elif stock02:\n",
    "    print(\"종목02 선택\")\n",
    "else:\n",
    "    print(\"아무것도 선택하지 않음\")"
   ]
  },
  {
   "cell_type": "code",
   "execution_count": 3,
   "metadata": {
    "slideshow": {
     "slide_type": "-"
    }
   },
   "outputs": [
    {
     "name": "stdout",
     "output_type": "stream",
     "text": [
      "종목01 선택, 종목02 선택\n"
     ]
    }
   ],
   "source": [
    "stock01 = True \n",
    "stock02 = True  \n",
    "\n",
    "if stock01 == True:\n",
    "    if stock02 == True:\n",
    "        print(\"종목01 선택, 종목02 선택\")"
   ]
  },
  {
   "cell_type": "markdown",
   "metadata": {
    "slideshow": {
     "slide_type": "slide"
    }
   },
   "source": [
    "# 들여쓰기\n",
    "* 파이썬에서 들여쓰기는 매우 중요하다.\n",
    "* 같은 칸을 들여쓴 연속된 문장들을 들여쓰기 블럭이라고 한다.\n",
    "* 블럭 중간에 공백 라인도 가능하다. 하지만, 들여쓰기 레벨이 달라지면 달라지면 다른 블럭으로 인식된다."
   ]
  },
  {
   "cell_type": "code",
   "execution_count": 4,
   "metadata": {
    "slideshow": {
     "slide_type": "-"
    }
   },
   "outputs": [
    {
     "name": "stdout",
     "output_type": "stream",
     "text": [
      "문장03\n"
     ]
    }
   ],
   "source": [
    "if False:\n",
    "    print(\"문장01\")\n",
    "    print(\"문장02\")\n",
    "print(\"문장03\")"
   ]
  },
  {
   "cell_type": "code",
   "execution_count": 5,
   "metadata": {
    "slideshow": {
     "slide_type": "-"
    }
   },
   "outputs": [
    {
     "name": "stdout",
     "output_type": "stream",
     "text": [
      "문장01\n",
      "문장02\n"
     ]
    }
   ],
   "source": [
    "if True:\n",
    "    print(\"문장01\")\n",
    "    \n",
    "    print(\"문장02\")"
   ]
  },
  {
   "cell_type": "code",
   "execution_count": 6,
   "metadata": {
    "slideshow": {
     "slide_type": "-"
    }
   },
   "outputs": [
    {
     "name": "stdout",
     "output_type": "stream",
     "text": [
      "문장01\n",
      "문장02\n"
     ]
    }
   ],
   "source": [
    "if True:\n",
    "    print(\"문장01\")\n",
    "print(\"문장02\")"
   ]
  },
  {
   "cell_type": "markdown",
   "metadata": {
    "slideshow": {
     "slide_type": "slide"
    }
   },
   "source": [
    "# 반복문\n",
    "\n",
    "* 주로 while과 for가 있는데 절대적으로 for를 많이 사용한다.\n",
    "* for 문은 주로 순회 가능한 객체(iterable object)와 함께 사용한다. list, range 등을 for 문과 함께 자주 사용한다."
   ]
  },
  {
   "cell_type": "code",
   "execution_count": 7,
   "metadata": {
    "slideshow": {
     "slide_type": "-"
    }
   },
   "outputs": [
    {
     "name": "stdout",
     "output_type": "stream",
     "text": [
      "1\n",
      "2\n",
      "3\n"
     ]
    }
   ],
   "source": [
    "values = [1,2,3]\n",
    "\n",
    "for x in values:\n",
    "    print(x)"
   ]
  },
  {
   "cell_type": "markdown",
   "metadata": {
    "slideshow": {
     "slide_type": "slide"
    }
   },
   "source": [
    "파이썬의 range는 지정한 범위의 정수를 발생시키는데 for 문과 함께 많이 사용한다. \n",
    "\n",
    "보통 range(시작,끝) 형식으로 사용하는 정수 범위를 만들어낸다. '끝'은 포함되지 않는다. "
   ]
  },
  {
   "cell_type": "code",
   "execution_count": 8,
   "metadata": {
    "slideshow": {
     "slide_type": "-"
    }
   },
   "outputs": [
    {
     "data": {
      "text/plain": [
       "range(10, 20, 2)"
      ]
     },
     "execution_count": 8,
     "metadata": {},
     "output_type": "execute_result"
    }
   ],
   "source": [
    "range(10) # 0~9 (0에서 시작, 10은 미포함)\n",
    "range(1, 10) # 1~9\n",
    "range(10, 20, 2) # 10~19, 2씩 건너뛰어서"
   ]
  },
  {
   "cell_type": "markdown",
   "metadata": {
    "slideshow": {
     "slide_type": "slide"
    }
   },
   "source": [
    "list()를 사용하여 리스트로 변환할 수 있다."
   ]
  },
  {
   "cell_type": "code",
   "execution_count": 9,
   "metadata": {
    "slideshow": {
     "slide_type": "-"
    }
   },
   "outputs": [
    {
     "name": "stdout",
     "output_type": "stream",
     "text": [
      "[0, 1, 2, 3, 4, 5, 6, 7, 8, 9]\n",
      "[1, 2, 3, 4, 5, 6, 7, 8, 9]\n",
      "[10, 12, 14, 16, 18]\n"
     ]
    }
   ],
   "source": [
    "print(list(range(10)))\n",
    "print(list(range(1, 10)))\n",
    "print(list(range(10, 20, 2)))"
   ]
  },
  {
   "cell_type": "code",
   "execution_count": 10,
   "metadata": {
    "slideshow": {
     "slide_type": "slide"
    }
   },
   "outputs": [
    {
     "name": "stdout",
     "output_type": "stream",
     "text": [
      "0, 1, 2, 3, "
     ]
    }
   ],
   "source": [
    "for x in range(4):\n",
    "    print(x, end=', ' )"
   ]
  },
  {
   "cell_type": "code",
   "execution_count": 11,
   "metadata": {
    "slideshow": {
     "slide_type": "-"
    }
   },
   "outputs": [
    {
     "name": "stdout",
     "output_type": "stream",
     "text": [
      "-2, -1, 0, 1, "
     ]
    }
   ],
   "source": [
    "for x in range(-2,2):\n",
    "    print(x, end=', ' )"
   ]
  },
  {
   "cell_type": "code",
   "execution_count": 12,
   "metadata": {
    "slideshow": {
     "slide_type": "slide"
    }
   },
   "outputs": [
    {
     "name": "stdout",
     "output_type": "stream",
     "text": [
      "0 -3\n",
      "1 -2\n",
      "2 -1\n",
      "3 0\n",
      "4 1\n",
      "5 2\n"
     ]
    }
   ],
   "source": [
    "for idx, x in enumerate(range(-3,3)):\n",
    "    print(idx, x)"
   ]
  },
  {
   "cell_type": "markdown",
   "metadata": {
    "slideshow": {
     "slide_type": "slide"
    }
   },
   "source": [
    "## while 문 \n",
    "while에 주어진 조건이 True 인 동안 while의 몸체 부분을 실행\n",
    "\n",
    "```python\n",
    "while 조건:\n",
    "  조건이 True인 동안 실행할 내용\n",
    "```"
   ]
  },
  {
   "cell_type": "code",
   "execution_count": 13,
   "metadata": {
    "slideshow": {
     "slide_type": "-"
    }
   },
   "outputs": [
    {
     "name": "stdout",
     "output_type": "stream",
     "text": [
      "count:  0\n",
      "count:  1\n",
      "count:  2\n",
      "count:  3\n",
      "count:  4\n"
     ]
    }
   ],
   "source": [
    "count = 0\n",
    "\n",
    "while count < 5:\n",
    "    print (\"count: \", count)\n",
    "    count += 1    "
   ]
  },
  {
   "cell_type": "markdown",
   "metadata": {
    "slideshow": {
     "slide_type": "slide"
    }
   },
   "source": [
    "# for 문\n",
    "주로 목록 형태의 자료구조를 순회하면서 for의 몸체 부분을 실행\n",
    "\n",
    "\n",
    "```python\n",
    "for 항목 in 목록:\n",
    "    개별 항목을 가지고 실행\n",
    "```"
   ]
  },
  {
   "cell_type": "code",
   "execution_count": 14,
   "metadata": {
    "slideshow": {
     "slide_type": "-"
    }
   },
   "outputs": [
    {
     "name": "stdout",
     "output_type": "stream",
     "text": [
      "AAPL\n",
      "GOOGL\n",
      "AMZN\n",
      "FB\n",
      "SBUX\n"
     ]
    }
   ],
   "source": [
    "tech_stocks = ['AAPL', 'GOOGL', 'AMZN', 'FB', 'SBUX']\n",
    "\n",
    "for i in tech_stocks:\n",
    "    print(i)"
   ]
  },
  {
   "cell_type": "code",
   "execution_count": 15,
   "metadata": {
    "slideshow": {
     "slide_type": "-"
    }
   },
   "outputs": [
    {
     "name": "stdout",
     "output_type": "stream",
     "text": [
      "0\n",
      "20\n",
      "40\n",
      "60\n",
      "80\n"
     ]
    }
   ],
   "source": [
    "for i in range(0, 100, 20):\n",
    "    print(i)"
   ]
  },
  {
   "cell_type": "markdown",
   "metadata": {
    "slideshow": {
     "slide_type": "slide"
    }
   },
   "source": [
    "# break, continue\n",
    "* break: 루프를 벗어난다\n",
    "* continue: 루프의 시작으로 이동\n"
   ]
  },
  {
   "cell_type": "code",
   "execution_count": 16,
   "metadata": {
    "slideshow": {
     "slide_type": "-"
    }
   },
   "outputs": [
    {
     "name": "stdout",
     "output_type": "stream",
     "text": [
      "인\n",
      "생\n",
      " \n",
      "짧\n",
      "아\n",
      "요\n",
      ">> 루프 종료\n"
     ]
    }
   ],
   "source": [
    "for ch in \"인생은 짧아요\":\n",
    "    if ch == \"은\":\n",
    "        continue\n",
    "    print(ch)\n",
    "\n",
    "print(\">> 루프 종료\")"
   ]
  },
  {
   "cell_type": "code",
   "execution_count": 17,
   "metadata": {
    "slideshow": {
     "slide_type": "-"
    }
   },
   "outputs": [
    {
     "name": "stdout",
     "output_type": "stream",
     "text": [
      "인\n",
      "생\n",
      ">> 루프 종료\n"
     ]
    }
   ],
   "source": [
    "for ch in \"인생은 짧아요\":\n",
    "    if ch == \"은\":\n",
    "        break\n",
    "    print(ch)\n",
    "\n",
    "print(\">> 루프 종료\")"
   ]
  },
  {
   "cell_type": "markdown",
   "metadata": {
    "slideshow": {
     "slide_type": "slide"
    }
   },
   "source": [
    "# 리스트 컴프리헨션\n",
    "리스트 컴프리헨션 (list comprehension)을 사용하면 축약된 형식으로 리스트를 생성할 수 있다.\n",
    "\n",
    "* `[for ... in ... ]` 형식으로 새로운 리스트를 생성하는데 주로 사용한다.\n",
    "* 간편하고 축약된 방식으로 표현할 수 있다"
   ]
  },
  {
   "cell_type": "code",
   "execution_count": 18,
   "metadata": {
    "slideshow": {
     "slide_type": "-"
    }
   },
   "outputs": [
    {
     "data": {
      "text/plain": [
       "[1, 2, 3, 4, 5, 6, 7, 8, 9, 10, 11, 12, 13, 14, 15, 16, 17, 18]"
      ]
     },
     "execution_count": 18,
     "metadata": {},
     "output_type": "execute_result"
    }
   ],
   "source": [
    "#  1~9까지 각 수의 제곱\n",
    "lst = list(range(1, 19))\n",
    "lst"
   ]
  },
  {
   "cell_type": "code",
   "execution_count": 19,
   "metadata": {
    "slideshow": {
     "slide_type": "-"
    }
   },
   "outputs": [
    {
     "data": {
      "text/plain": [
       "[1, 4, 9, 16, 25, 36, 49, 64, 81, 100, 121, 144, 169, 196, 225, 256, 289, 324]"
      ]
     },
     "execution_count": 19,
     "metadata": {},
     "output_type": "execute_result"
    }
   ],
   "source": [
    "[x ** 2 for x in lst]"
   ]
  },
  {
   "cell_type": "code",
   "execution_count": 20,
   "metadata": {
    "slideshow": {
     "slide_type": "-"
    }
   },
   "outputs": [
    {
     "data": {
      "text/plain": [
       "[4, 16, 36, 64, 100]"
      ]
     },
     "execution_count": 20,
     "metadata": {},
     "output_type": "execute_result"
    }
   ],
   "source": [
    "even_squares = [x ** 2 for x in range(1, 11) if x % 2 == 0]\n",
    "even_squares"
   ]
  },
  {
   "cell_type": "markdown",
   "metadata": {
    "slideshow": {
     "slide_type": "slide"
    }
   },
   "source": [
    "# 리뷰\n",
    "* if, elif, else\n",
    "* 들여쓰기\n",
    "* 반복문 while, for\n",
    "* break, continue\n",
    "* [for ... in ... ]"
   ]
  },
  {
   "cell_type": "markdown",
   "metadata": {
    "slideshow": {
     "slide_type": "notes"
    }
   },
   "source": [
    "----\n",
    "#### 2017 FinanceData.KR http://fb.com/financedata"
   ]
  }
 ],
 "metadata": {
  "celltoolbar": "Slideshow",
  "kernelspec": {
   "display_name": "Python 3",
   "language": "python",
   "name": "python3"
  },
  "language_info": {
   "codemirror_mode": {
    "name": "ipython",
    "version": 3
   },
   "file_extension": ".py",
   "mimetype": "text/x-python",
   "name": "python",
   "nbconvert_exporter": "python",
   "pygments_lexer": "ipython3",
   "version": "3.5.2"
  },
  "nikola": {
   "category": "dev",
   "date": "2017-06-16 05:45:10 UTC+09:00",
   "description": "연산자, 문자열, 흐름 제어(if, for, while)",
   "link": "",
   "slug": "python-basics-part-2",
   "tags": "python, basic,operator,flow control,for,if",
   "title": "Python Basics for Data Science - PART 2",
   "type": "text"
  }
 },
 "nbformat": 4,
 "nbformat_minor": 1
}
