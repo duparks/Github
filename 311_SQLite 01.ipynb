{
 "cells": [
  {
   "cell_type": "markdown",
   "metadata": {
    "slideshow": {
     "slide_type": "skip"
    }
   },
   "source": [
    "# SQLite 01 - Introduction\n",
    "\n",
    "<img src=\"http://sqlite.com/images/sqlite370_banner.gif\" >\n",
    "\n",
    "\n",
    "#### 2016 이승준 fb.com/plusjune"
   ]
  },
  {
   "cell_type": "code",
   "execution_count": 1,
   "metadata": {
    "collapsed": true,
    "slideshow": {
     "slide_type": "skip"
    }
   },
   "outputs": [],
   "source": [
    "%matplotlib inline\n",
    "from IPython.display import display, Image"
   ]
  },
  {
   "cell_type": "markdown",
   "metadata": {
    "slideshow": {
     "slide_type": "fragment"
    }
   },
   "source": [
    "# SQLite 개요 \n",
    "* http://sqlite.com\n",
    "* 별도 서버나 프로세스, 특별한 설정을 할 필요도 없는, 트랜잭션이 가능한 SQL 데이타베이스 엔진\n",
    "* 오픈소스, 어떤 용도로든 무료\n",
    "* 대부분의 브라우저, 거의 모든 스마트폰, 수 많은 프로그램에 사용"
   ]
  },
  {
   "cell_type": "markdown",
   "metadata": {
    "slideshow": {
     "slide_type": "slide"
    }
   },
   "source": [
    "# SQLite 특징\n",
    "* SQL 데이타베이스 엔진 내장\n",
    "* 별도의 서버 프로세스가 없이, 직접 읽기/쓰기\n",
    "* 한 개의 파일에 여러 테이블, 색인, 트리거, 뷰 관리\n",
    "* 크로스 플랫폼, 작은 라이브러리: 200~350 KB, 매우 작은 메모리 (스택 4KB, Heap 100KB)"
   ]
  },
  {
   "cell_type": "markdown",
   "metadata": {
    "slideshow": {
     "slide_type": "slide"
    }
   },
   "source": [
    "# 설치\n",
    "* 우분투(14.04)에는  기본 포함\n",
    "* SQLite3 은 파이썬 2.5.x 이상에 기본 포함\n",
    "\n",
    "```bash\n",
    "$ sudo apt-get install sqlite3\n",
    "```"
   ]
  },
  {
   "cell_type": "markdown",
   "metadata": {
    "slideshow": {
     "slide_type": "slide"
    }
   },
   "source": [
    "# SqLite 콘솔\n",
    "\n",
    "```\n",
    "$ sqlite3 dbname.db3\n",
    "```\n",
    "\n",
    "sqlite> \n",
    "* .help\n",
    "* .tables\n",
    "* .schema [table]\n",
    "* .exit"
   ]
  },
  {
   "cell_type": "markdown",
   "metadata": {
    "slideshow": {
     "slide_type": "slide"
    }
   },
   "source": [
    "# SqLite 콘솔 \n",
    "```bash\n",
    "$ sqlite3 news.db3\n",
    "SQLite version 3.8.2 2013-12-06 14:53:30\n",
    "Enter \".help\" for instructions\n",
    "Enter SQL statements terminated with a \";\"\n",
    "\n",
    "sqlite> .help\n",
    ".backup ?DB? FILE      Backup DB (default \"main\") to FILE\n",
    ".bail ON|OFF           Stop after hitting an error.  Default OFF\n",
    ".databases             List names and files of attached databases\n",
    ".dump ?TABLE? ...      Dump the database in an SQL text format\n",
    "\n",
    "<...중략...>\n",
    "\n",
    "sqlite> .schema news\n",
    "CREATE TABLE news (id varchar(20), time datetime, title text, agency varchar(20));\n",
    "\n",
    "sqlite> .tables\n",
    "news\n",
    "sqlite> select * from news;\n",
    "0003024670|2013-08-29 11:39|국민은행 가족친화 기업에 금리 인하|매일경제\n",
    "0003024522|2013-08-29 09:03|美양적완화 축소는 은행업종에 긍정적|매일경제\n",
    "0002464356|2013-08-29 08:00|<진화하는 MTS> KB투자증권, KB스마톡S|헤럴드생생뉴스\n",
    "0003106995|2013-08-29 07:03|LG상사, STX에너지 인수전에 KB금융 컨소시엄|머니투데이\n",
    "sqlite> .exit\n",
    "$\n",
    "```"
   ]
  },
  {
   "cell_type": "markdown",
   "metadata": {
    "slideshow": {
     "slide_type": "slide"
    }
   },
   "source": [
    "# import CSV to Table\n",
    "\n",
    "```bash\n",
    "sqlite> .separator \",\"\n",
    "sqlite> .import filecsv.csv mytable\n",
    "```"
   ]
  },
  {
   "cell_type": "markdown",
   "metadata": {
    "slideshow": {
     "slide_type": "slide"
    }
   },
   "source": [
    "# Python 에서 SQLite 사용 \n"
   ]
  },
  {
   "cell_type": "code",
   "execution_count": 3,
   "metadata": {
    "collapsed": false,
    "slideshow": {
     "slide_type": "fragment"
    }
   },
   "outputs": [
    {
     "name": "stdout",
     "output_type": "stream",
     "text": [
      "2.6.0\n",
      "3.8.2\n"
     ]
    }
   ],
   "source": [
    "import sqlite3\n",
    "\n",
    "print (sqlite3.version) # pysqlite 버전\n",
    "print (sqlite3.sqlite_version) # SQLite 데이터베이스 라이브러리 버전"
   ]
  },
  {
   "cell_type": "code",
   "execution_count": 4,
   "metadata": {
    "collapsed": true,
    "slideshow": {
     "slide_type": "fragment"
    }
   },
   "outputs": [],
   "source": [
    "#  파일이 존재하면 삭제 (사용 주의 )\n",
    "import os\n",
    "\n",
    "fname = 'test_news.db3'\n",
    "if os.path.isfile(fname):\n",
    "    os.unlink(fname)\n",
    "    \n",
    "#  파일이 존재하지 않으면 생성 된다.\n",
    "db = sqlite3.connect(fname)    "
   ]
  },
  {
   "cell_type": "markdown",
   "metadata": {
    "slideshow": {
     "slide_type": "slide"
    }
   },
   "source": [
    "# 일반적인 사용 수순\n",
    "1. import sqlite3 - sqlite3 모듈 임포트 \n",
    "2. connect() - 연결객체 생성\n",
    "3. cursor() - 커서객체 생성\n",
    "4. execute() - SQL문 실행\n",
    "5. fetch() - 실행결과 가져오기"
   ]
  },
  {
   "cell_type": "code",
   "execution_count": 5,
   "metadata": {
    "collapsed": false,
    "slideshow": {
     "slide_type": "slide"
    }
   },
   "outputs": [
    {
     "name": "stdout",
     "output_type": "stream",
     "text": [
      "SQLite version: 3.8.2\n"
     ]
    }
   ],
   "source": [
    "# 1. import sqlite3 - sqlite3 모듈 임포트 \n",
    "import sqlite3\n",
    "\n",
    "con = None\n",
    "\n",
    "try:\n",
    "    # 2. connect() - 데이터베이스 파일에 연결(혹은 생성)하고, 연결 객체를 반환\n",
    "    con = sqlite3.connect('test_news.db3')\n",
    "    \n",
    "    # 3. cursor() - 커서객체 생성\n",
    "    cur = con.cursor()    \n",
    "\n",
    "    # 4. execute() - SQL문 실행\n",
    "    cur.execute('SELECT SQLITE_VERSION()')\n",
    "    \n",
    "    # 5. fetch() - 실행결과 가져오기\n",
    "    # 커서는 결과집합(result set)을 순회하여 데이터를 읽어온다.\n",
    "    val = cur.fetchone()\n",
    "    print (\"SQLite version: %s\" % val)\n",
    "\n",
    "except sqlite3.Error as e:\n",
    "    # 실패하면, 예외처리 except 구문을 실행\n",
    "    print (\"Error %s:\" % e.args[0])\n",
    "    \n",
    "finally:    \n",
    "    if con:\n",
    "        con.close()"
   ]
  },
  {
   "cell_type": "markdown",
   "metadata": {
    "slideshow": {
     "slide_type": "slide"
    }
   },
   "source": [
    "# with문 사용\n",
    "* with 문을 사용하여 간편하게 표현\n",
    "* with 문은 with 블럭의 끝에서 열린 연결이나 열린 파일을 자동으로 close"
   ]
  },
  {
   "cell_type": "code",
   "execution_count": 6,
   "metadata": {
    "collapsed": false,
    "slideshow": {
     "slide_type": "fragment"
    }
   },
   "outputs": [
    {
     "name": "stdout",
     "output_type": "stream",
     "text": [
      "SQLite version: 3.8.2\n"
     ]
    }
   ],
   "source": [
    "import sqlite3\n",
    "\n",
    "con = sqlite3.connect('test_news.db3')\n",
    "\n",
    "with con:\n",
    "    cur = con.cursor()    \n",
    "    cur.execute('SELECT SQLITE_VERSION()')\n",
    "    \n",
    "    val = cur.fetchone()\n",
    "    print (\"SQLite version: %s\" % val)\n"
   ]
  },
  {
   "cell_type": "markdown",
   "metadata": {
    "slideshow": {
     "slide_type": "slide"
    }
   },
   "source": [
    "# 테이블 만들기"
   ]
  },
  {
   "cell_type": "markdown",
   "metadata": {
    "slideshow": {
     "slide_type": "fragment"
    }
   },
   "source": [
    "* create table\n",
    "* timestamp\n",
    "* char(n), varchar(n), integer, float, text"
   ]
  },
  {
   "cell_type": "code",
   "execution_count": 7,
   "metadata": {
    "collapsed": false,
    "slideshow": {
     "slide_type": "fragment"
    }
   },
   "outputs": [],
   "source": [
    "con = sqlite3.connect('test_news.db3')\n",
    "\n",
    "with con:\n",
    "    cur = con.cursor()\n",
    "    cur.execute('create table news (id varchar(20), time timestamp, title text, agency varchar(20))')"
   ]
  },
  {
   "cell_type": "markdown",
   "metadata": {
    "slideshow": {
     "slide_type": "slide"
    }
   },
   "source": [
    "# 확인\n",
    "```\n",
    "sqlite> .schema news\n",
    "```"
   ]
  },
  {
   "cell_type": "markdown",
   "metadata": {
    "slideshow": {
     "slide_type": "slide"
    }
   },
   "source": [
    "# 테이블 삭제"
   ]
  },
  {
   "cell_type": "code",
   "execution_count": 8,
   "metadata": {
    "collapsed": false,
    "slideshow": {
     "slide_type": "fragment"
    }
   },
   "outputs": [],
   "source": [
    "con = sqlite3.connect('test_news.db3')\n",
    "\n",
    "with con:\n",
    "    cur = con.cursor()\n",
    "    cur.execute('drop table news')\n",
    "    \n",
    "    # 더 좋은 표현\n",
    "    cur.execute('drop table if exists news')"
   ]
  },
  {
   "cell_type": "markdown",
   "metadata": {
    "slideshow": {
     "slide_type": "slide"
    }
   },
   "source": [
    "# 테이블이 존재하지 않으면 생성"
   ]
  },
  {
   "cell_type": "code",
   "execution_count": 9,
   "metadata": {
    "collapsed": true,
    "slideshow": {
     "slide_type": "fragment"
    }
   },
   "outputs": [],
   "source": [
    "con = sqlite3.connect('test_news.db3')\n",
    "\n",
    "with con:\n",
    "    cur = con.cursor()\n",
    "    cur.execute('create table if not exists news (id varchar(20), time timestamp, title text, agency varchar(20))')\n"
   ]
  },
  {
   "cell_type": "markdown",
   "metadata": {
    "slideshow": {
     "slide_type": "slide"
    }
   },
   "source": [
    "# 데이터 삽입"
   ]
  },
  {
   "cell_type": "code",
   "execution_count": 10,
   "metadata": {
    "collapsed": false,
    "slideshow": {
     "slide_type": "fragment"
    }
   },
   "outputs": [],
   "source": [
    "con = sqlite3.connect('test_news.db3')\n",
    "   \n",
    "with con:\n",
    "    cur = con.cursor()\n",
    "    cur.execute(\"insert into news VALUES('0003024670', '2013-08-29 11:39', '국민은행 가족친화 기업에 금리 인하', '매일경제')\")\n",
    "    cur.execute(\"insert into news VALUES('0003024522', '2013-08-29 09:03', '美양적완화 축소는 은행업종에 긍정적', '매일경제')\")\n",
    "    cur.execute(\"insert into news VALUES('0002464356', '2013-08-29 08:00', '<진화하는 MTS> KB투자증권, KB스마톡S', '헤럴드생생뉴스')\")\n",
    "    cur.execute(\"insert into news VALUES('0003106995', '2013-08-29 07:03', 'LG상사, STX에너지 인수전에 KB금융 컨소시엄', '머니투데이')\")\n",
    "    "
   ]
  },
  {
   "cell_type": "markdown",
   "metadata": {
    "slideshow": {
     "slide_type": "slide"
    }
   },
   "source": [
    "# 한번에 여러 데이터 삽입"
   ]
  },
  {
   "cell_type": "code",
   "execution_count": 11,
   "metadata": {
    "collapsed": false,
    "slideshow": {
     "slide_type": "fragment"
    }
   },
   "outputs": [],
   "source": [
    "con = sqlite3.connect('test_news.db3')\n",
    "\n",
    "articles = (\n",
    "    ('0003024670', '2013-08-29 11:39', u'국민은행 가족친화 기업에 금리 인하', u'매일경제'),\n",
    "    ('0003024522', '2013-08-29 09:03', u'美양적완화 축소는 은행업종에 긍정적', u'매일경제'),\n",
    "    ('0002464356', '2013-08-29 08:00', u'<진화하는 MTS> KB투자증권, KB스마톡S', u'헤럴드생생뉴스'),\n",
    "    ('0003106995', '2013-08-29 07:03', u'LG상사, STX에너지 인수전에 KB금융 컨소시엄', u'머니투데이'),\n",
    ")\n",
    "\n",
    "with con:\n",
    "    cur = con.cursor()\n",
    "    cur.executemany(\"insert into news values (?, ?, ?, ?)\", articles)"
   ]
  },
  {
   "cell_type": "markdown",
   "metadata": {
    "slideshow": {
     "slide_type": "slide"
    }
   },
   "source": [
    "# 커밋, 롤백\n",
    "* con.commit()\n",
    "* con.rollback()\n"
   ]
  },
  {
   "cell_type": "markdown",
   "metadata": {
    "slideshow": {
     "slide_type": "slide"
    }
   },
   "source": [
    "# 여러 SQL문 실행"
   ]
  },
  {
   "cell_type": "code",
   "execution_count": 12,
   "metadata": {
    "collapsed": false,
    "slideshow": {
     "slide_type": "fragment"
    }
   },
   "outputs": [],
   "source": [
    "sql_script = '''\n",
    "    drop table if exists news;\n",
    "    create table news (id varchar(20), time datetime, title text, agency varchar(20));\n",
    "    insert into news VALUES('0003024670', '2013-08-29 11:39', '국민은행 가족친화 기업에 금리 인하', '매일경제');\n",
    "    insert into news VALUES('0003024522', '2013-08-29 09:03', '美양적완화 축소는 은행업종에 긍정적', '매일경제');\n",
    "    insert into news VALUES('0002464356', '2013-08-29 08:00', '<진화하는 MTS> KB투자증권, KB스마톡S', '헤럴드생생뉴스');\n",
    "    insert into news VALUES('0003106995', '2013-08-29 07:03', 'LG상사, STX에너지 인수전에 KB금융 컨소시엄', '머니투데이');\n",
    "'''\n",
    "\n",
    "try:\n",
    "    con = sqlite3.connect('test_news.db3')\n",
    "    cur = con.cursor()\n",
    "    cur.executescript(sql_script)\n",
    "    con.commit()\n",
    "except sqlite3.Error as e:\n",
    "    if con:\n",
    "        con.rollback()\n",
    "    print (\"error %s\" % e.args[0])\n",
    "\n",
    "finally:\n",
    "    if con:\n",
    "        con.close()\n",
    "    "
   ]
  },
  {
   "cell_type": "markdown",
   "metadata": {
    "slideshow": {
     "slide_type": "slide"
    }
   },
   "source": [
    "# 데이터 읽기"
   ]
  },
  {
   "cell_type": "code",
   "execution_count": 13,
   "metadata": {
    "collapsed": false,
    "slideshow": {
     "slide_type": "fragment"
    }
   },
   "outputs": [
    {
     "name": "stdout",
     "output_type": "stream",
     "text": [
      "국민은행 가족친화 기업에 금리 인하 | 2013-08-29 11:39(매일경제) \n",
      "美양적완화 축소는 은행업종에 긍정적 | 2013-08-29 09:03(매일경제) \n",
      "<진화하는 MTS> KB투자증권, KB스마톡S | 2013-08-29 08:00(헤럴드생생뉴스) \n",
      "LG상사, STX에너지 인수전에 KB금융 컨소시엄 | 2013-08-29 07:03(머니투데이) \n"
     ]
    }
   ],
   "source": [
    "con = sqlite3.connect('test_news.db3')\n",
    "\n",
    "with con:\n",
    "    cur = con.cursor() \n",
    "    cur.execute('select * from news')\n",
    "    \n",
    "    rows = cur.fetchall()\n",
    "    for row in rows:\n",
    "        print (\"%s | %s(%s) \" %  (row[2], row[1], row[3]) )"
   ]
  },
  {
   "cell_type": "markdown",
   "metadata": {
    "slideshow": {
     "slide_type": "slide"
    }
   },
   "source": [
    "# 조건에 해당하는 row를 하나씩 처리"
   ]
  },
  {
   "cell_type": "code",
   "execution_count": 14,
   "metadata": {
    "collapsed": false,
    "slideshow": {
     "slide_type": "fragment"
    }
   },
   "outputs": [
    {
     "name": "stdout",
     "output_type": "stream",
     "text": [
      "국민은행 가족친화 기업에 금리 인하 | 2013-08-29 11:39 | 매일경제\n",
      "美양적완화 축소는 은행업종에 긍정적 | 2013-08-29 09:03 | 매일경제\n"
     ]
    }
   ],
   "source": [
    "con = sqlite3.connect('test_news.db3')\n",
    "\n",
    "with con:\n",
    "    cur = con.cursor() \n",
    "    cur.execute('select * from news where agency = \"매일경제\"')\n",
    "\n",
    "    while True:\n",
    "        row = cur.fetchone()\n",
    "        if row == None:\n",
    "            break\n",
    "        print (\"%s | %s | %s\" % (row[2], row[1], row[3]))\n",
    "        "
   ]
  }
 ],
 "metadata": {
  "kernelspec": {
   "display_name": "Python 3",
   "language": "python",
   "name": "python3"
  },
  "language_info": {
   "codemirror_mode": {
    "name": "ipython",
    "version": 3
   },
   "file_extension": ".py",
   "mimetype": "text/x-python",
   "name": "python",
   "nbconvert_exporter": "python",
   "pygments_lexer": "ipython3",
   "version": "3.4.3"
  }
 },
 "nbformat": 4,
 "nbformat_minor": 0
}