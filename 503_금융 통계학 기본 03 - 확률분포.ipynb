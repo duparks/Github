{
 "cells": [
  {
   "cell_type": "code",
   "execution_count": 22,
   "metadata": {
    "collapsed": true,
    "slideshow": {
     "slide_type": "skip"
    }
   },
   "outputs": [],
   "source": [
    "%matplotlib inline"
   ]
  },
  {
   "cell_type": "markdown",
   "metadata": {
    "slideshow": {
     "slide_type": "slide"
    }
   },
   "source": [
    "# 금융 통계학 기본 03 – 확률분포\n",
    "\n",
    "<img width=\"320\" src=\"http://goo.gl/Hphovm\">\n",
    "\n",
    "####  이승준 2016 (c) fb.com/plusjune"
   ]
  },
  {
   "cell_type": "markdown",
   "metadata": {
    "slideshow": {
     "slide_type": "slide"
    }
   },
   "source": [
    "# 히스토그램\n",
    "\n",
    "* 요약통계 (Summary statistics): 데이터 집합의 특징을 값으로 표현\n",
    "* 도수분포표 (Frequency table): 데이터의 \"분포\"를 나타낸 표\n",
    "* 히소토그램 (Histogram): 도수분포표를 차트로 표현"
   ]
  },
  {
   "cell_type": "markdown",
   "metadata": {
    "slideshow": {
     "slide_type": "notes"
    }
   },
   "source": [
    "요약통계(Summary statistics)는 데이터 집합의 특징을 간결하게 표현해 주지만, 데이터 집합을 정확하게 해석하기 힘들다. 데이터 집합 전체를 제대로 이해하기 위해서는 데이터가 어떤 모습으로 흩어져있는지 살펴볼 필요가 있다. 즉 데이터가 어떻게 \"분포\"되어 있는지 살펴볼 필요가 있다. 가장 대표적인 것이 \"도수분포표\"이며, 이를 차트로 표현한 것이 \"히스토그램\"."
   ]
  },
  {
   "cell_type": "markdown",
   "metadata": {
    "slideshow": {
     "slide_type": "slide"
    }
   },
   "source": [
    "# 데이터의 개수 세기\n",
    "가장 기본적이면서 실제로 가장 많이 사용되는 데이터 분석\n",
    "* 파이썬 딕셔너리 \n",
    "* dict.get(key, default) 메소드"
   ]
  },
  {
   "cell_type": "markdown",
   "metadata": {
    "slideshow": {
     "slide_type": "notes"
    }
   },
   "source": [
    "파이썬에서 데이터의 개수를 세는 가장 간단한 방법은 딕셔너리(dict)를 사용하는 것이다. \n",
    "\n",
    "```python\n",
    "dict.get(key, default=None)\n",
    "```\n",
    "파이썬 dict.get(key, default) 메소드는 키(key)에 해당하는 값을 반환하며 키(key)가 존재하지 않으면 n을 반환한다.\n",
    "\n",
    "참고) http://tutorialspoint.com/python/dictionary_get.htm"
   ]
  },
  {
   "cell_type": "code",
   "execution_count": 8,
   "metadata": {
    "collapsed": false,
    "slideshow": {
     "slide_type": "fragment"
    }
   },
   "outputs": [
    {
     "name": "stdout",
     "output_type": "stream",
     "text": [
      "{0: 7, 1: 4, 2: 3, 3: 5, 4: 4, 5: 7, 6: 7, 7: 1, 8: 6, 9: 6}\n"
     ]
    }
   ],
   "source": [
    "import numpy as np\n",
    "\n",
    "data = np.random.randint(0, 10, 50)\n",
    "freq_tab = {}\n",
    "for x in data:\n",
    "    freq_tab[x] = freq_tab.get(x, 0) + 1\n",
    "\n",
    "print(freq_tab)"
   ]
  },
  {
   "cell_type": "markdown",
   "metadata": {
    "slideshow": {
     "slide_type": "slide"
    }
   },
   "source": [
    "# 히스토그램 만들기\n",
    "* 계산된 freq_tab 가 바로 도수분포표\n",
    "* 0~9까지 각 값의 빈도(frequency)를 갖는다.\n",
    "* 각 빈도값을 전체 데이터 개수로 나누어 주면 각 값이 발생하는 확률"
   ]
  },
  {
   "cell_type": "code",
   "execution_count": null,
   "metadata": {
    "collapsed": true,
    "slideshow": {
     "slide_type": "notes"
    }
   },
   "outputs": [],
   "source": [
    "구간을 나누고, 각 구간에 존재하는 데이터의 개수를 세는 것(히스토그램)은 가장 많은 데이터 분석 방법이다."
   ]
  },
  {
   "cell_type": "code",
   "execution_count": 16,
   "metadata": {
    "collapsed": false,
    "slideshow": {
     "slide_type": "fragment"
    }
   },
   "outputs": [
    {
     "name": "stdout",
     "output_type": "stream",
     "text": [
      "도수분포:  {0: 7, 1: 4, 2: 3, 3: 5, 4: 4, 5: 7, 6: 7, 7: 1, 8: 6, 9: 6}\n",
      "==================================================\n",
      "발생확률:  {0: 0.14, 1: 0.08, 2: 0.06, 3: 0.1, 4: 0.08, 5: 0.14, 6: 0.14, 7: 0.02, 8: 0.12, 9: 0.12}\n"
     ]
    }
   ],
   "source": [
    "print('도수분포: ', freq_tab)\n",
    "print('=' * 50)\n",
    "\n",
    "n = len(data) # 데이터의 개수\n",
    "p = {}\n",
    "for i, freq in freq_tab.items():\n",
    " p[i] = freq / n\n",
    "\n",
    "print ('발생확률: ', p)"
   ]
  },
  {
   "cell_type": "code",
   "execution_count": 23,
   "metadata": {
    "collapsed": false,
    "slideshow": {
     "slide_type": "slide"
    }
   },
   "outputs": [
    {
     "name": "stdout",
     "output_type": "stream",
     "text": [
      "dict_keys([0, 1, 2, 3, 4, 5, 6, 7, 8, 9])\n",
      "dict_values([0.14, 0.08, 0.06, 0.1, 0.08, 0.14, 0.14, 0.02, 0.12, 0.12])\n"
     ]
    },
    {
     "data": {
      "text/plain": [
       "<Container object of 10 artists>"
      ]
     },
     "execution_count": 23,
     "metadata": {},
     "output_type": "execute_result"
    },
    {
     "data": {
      "image/png": "[encoded data removed]",
      "text/plain": [
       "<matplotlib.figure.Figure at 0x7ff349cb4898>"
      ]
     },
     "metadata": {},
     "output_type": "display_data"
    }
   ],
   "source": [
    "import matplotlib.pyplot as plt\n",
    "\n",
    "print( p.keys() )\n",
    "print( p.values() )\n",
    "\n",
    "plt.bar(p.keys(), p.values())"
   ]
  },
  {
   "cell_type": "markdown",
   "metadata": {
    "slideshow": {
     "slide_type": "slide"
    }
   },
   "source": [
    "# numpy.histogram()\n",
    "* histogram() 함수: 시리즈 데이터의 히스토그램을 계산해 주는 함수.\n",
    "* (hist, bins)을 반환, 히스토그램의 개수와 구간 배열 (각 구간을 cell 또는 bin 이라고 함)\n",
    "* 반환되는 bins의 길이는 hist 개수 + 1"
   ]
  },
  {
   "cell_type": "code",
   "execution_count": 43,
   "metadata": {
    "collapsed": false,
    "slideshow": {
     "slide_type": "fragment"
    }
   },
   "outputs": [
    {
     "name": "stdout",
     "output_type": "stream",
     "text": [
      "[ 8 10  8  7 12 12  8  9 17  9] [  0.    1.9   3.8   5.7   7.6   9.5  11.4  13.3  15.2  17.1  19. ]\n"
     ]
    }
   ],
   "source": [
    "import numpy as np\n",
    "\n",
    "# [0,20), 100개\n",
    "data = np.random.randint(0, 20, size=100)\n",
    "\n",
    "count, bins = np.histogram(data) # 기본 bins=10\n",
    "print (count, bins)"
   ]
  },
  {
   "cell_type": "code",
   "execution_count": 72,
   "metadata": {
    "collapsed": false,
    "slideshow": {
     "slide_type": "fragment"
    }
   },
   "outputs": [
    {
     "name": "stdout",
     "output_type": "stream",
     "text": [
      "[ 8 10  8  7 12 12  8  9 17  9] [  0.    1.9   3.8   5.7   7.6   9.5  11.4  13.3  15.2  17.1  19. ]\n"
     ]
    }
   ],
   "source": [
    "count, bins = np.histogram(data, bins=10)\n",
    "print (count, bins)"
   ]
  },
  {
   "cell_type": "code",
   "execution_count": 76,
   "metadata": {
    "collapsed": false,
    "slideshow": {
     "slide_type": "fragment"
    }
   },
   "outputs": [
    {
     "name": "stdout",
     "output_type": "stream",
     "text": [
      "100\n"
     ]
    },
    {
     "data": {
      "text/plain": [
       "<Container object of 10 artists>"
      ]
     },
     "execution_count": 76,
     "metadata": {},
     "output_type": "execute_result"
    },
    {
     "data": {
      "image/png": "[encoded data removed]",
      "text/plain": [
       "<matplotlib.figure.Figure at 0x7ff349203f60>"
      ]
     },
     "metadata": {},
     "output_type": "display_data"
    }
   ],
   "source": [
    "print (count.sum())\n",
    "plt.bar(bins[1:], count, width=2, align='center')"
   ]
  },
  {
   "cell_type": "markdown",
   "metadata": {
    "slideshow": {
     "slide_type": "slide"
    }
   },
   "source": [
    "# pandas_datareader\n",
    "\n",
    "\n",
    "### pandas_datareader\n",
    "\n",
    "```python\n",
    "from pandas_datareader import data\n",
    "\n",
    "df = data.get_data_yahoo(\"^KS11\", datetime(2015, 1, 1), datetime(2015, 12, 30))\n",
    "```\n",
    "\n",
    "### 로그 수익률\n",
    "```python\n",
    "df['Ret'] = np.log( df['Adj Close'] / df ['Adj Close'].shift(1) )\n",
    "```"
   ]
  },
  {
   "cell_type": "code",
   "execution_count": 107,
   "metadata": {
    "collapsed": false,
    "slideshow": {
     "slide_type": "subslide"
    }
   },
   "outputs": [
    {
     "data": {
      "text/plain": [
       "Date\n",
       "2015-01-02         NaN\n",
       "2015-01-05   -0.005565\n",
       "2015-01-06   -0.017535\n",
       "2015-01-07    0.000733\n",
       "2015-01-08    0.010991\n",
       "Name: Ret, dtype: float64"
      ]
     },
     "execution_count": 107,
     "metadata": {},
     "output_type": "execute_result"
    }
   ],
   "source": [
    "import pandas as pd\n",
    "from datetime import datetime\n",
    "from pandas_datareader import data\n",
    "\n",
    "start = datetime(2015, 1, 1)\n",
    "end = datetime(2015, 12, 30)\n",
    "df = data.get_data_yahoo(\"^KS11\", start, end)\n",
    "\n",
    "df['Ret'] = np.log( df['Adj Close'] / df ['Adj Close'].shift(1) )\n",
    "df['Ret'].head()"
   ]
  },
  {
   "cell_type": "code",
   "execution_count": 108,
   "metadata": {
    "collapsed": false,
    "slideshow": {
     "slide_type": "subslide"
    }
   },
   "outputs": [
    {
     "data": {
      "text/plain": [
       "<matplotlib.axes._subplots.AxesSubplot at 0x7ff33abe0198>"
      ]
     },
     "execution_count": 108,
     "metadata": {},
     "output_type": "execute_result"
    },
    {
     "data": {
      "image/png": "[encoded data removed]",
      "text/plain": [
       "<matplotlib.figure.Figure at 0x7ff33a9fd240>"
      ]
     },
     "metadata": {},
     "output_type": "display_data"
    }
   ],
   "source": [
    "# 수익률(로그)의 분포를 히스토그램으로 그리기\n",
    "\n",
    "df['Ret'].hist(bins=20, normed=False)"
   ]
  },
  {
   "cell_type": "markdown",
   "metadata": {
    "slideshow": {
     "slide_type": "slide"
    }
   },
   "source": [
    "# DataFrame.describe()\n",
    "* 자주 사용하는 통계 요약 값들을 반환\n",
    "* 개수, 평균, 표준편차, 최소, 최대, 사분위 값\n",
    "* 값을 각각 얻을 수 도 있다."
   ]
  },
  {
   "cell_type": "code",
   "execution_count": 83,
   "metadata": {
    "collapsed": false,
    "slideshow": {
     "slide_type": "fragment"
    }
   },
   "outputs": [
    {
     "data": {
      "text/plain": [
       "count    250.000000\n",
       "mean       0.000072\n",
       "std        0.007954\n",
       "min       -0.024967\n",
       "25%       -0.004531\n",
       "50%        0.000094\n",
       "75%        0.004691\n",
       "max        0.029124\n",
       "Name: Ret, dtype: float64"
      ]
     },
     "execution_count": 83,
     "metadata": {},
     "output_type": "execute_result"
    }
   ],
   "source": [
    "df['Ret'].describe()"
   ]
  },
  {
   "cell_type": "markdown",
   "metadata": {
    "slideshow": {
     "slide_type": "slide"
    }
   },
   "source": [
    "# 정규분포\n",
    "\n",
    "정규분포(Normal distribution, 가우스분포)\n",
    "* 연속확률분포의 하나\n",
    "* 수집된 자료의 분포를 근사하는데 자주 사용\n",
    "* 2개의 매개 변수 평균 $\\mu$ 과 표준편차 $\\sigma$ 에 의해 모양 결정\n",
    "* 분포를 $ N(\\mu, \\sigma^2) $ 으로 표기\n",
    "* 표준정규분포: $\\mu = 0$ 이고 $\\sigma = 1 $ 인 정규분포 N(0,1)"
   ]
  },
  {
   "cell_type": "markdown",
   "metadata": {
    "slideshow": {
     "slide_type": "subslide"
    }
   },
   "source": [
    "# $ N(\\mu, \\sigma^2) $\n",
    "\n",
    "평균 $\\mu$ 와 표준편차 $\\sigma$ 값에 따른 정규분포 $ N(\\mu, \\sigma^2) $ 모양\n",
    " \n",
    "<img width=\"70%\" src=\"https://goo.gl/MGOAJz\" >\n",
    "<br> https://en.wikipedia.org/wiki/Normal_distribution"
   ]
  },
  {
   "cell_type": "markdown",
   "metadata": {
    "slideshow": {
     "slide_type": "notes"
    }
   },
   "source": [
    "실험이나 관찰을 통하여 수집된 자료의 확률분포는 대부분 정규분포와 유사한 모습을 나타내기 때문에, 정규분포(가우스 분포)는 자연과학 현상, 사회과학 현상을 분석할 때 가장 빈번하게 활용되는 확률분포이다."
   ]
  },
  {
   "cell_type": "markdown",
   "metadata": {
    "slideshow": {
     "slide_type": "slide"
    }
   },
   "source": [
    "# 주사위 던지기 시뮬레이션\n",
    "주사위 n개를 던져 합을 구하는 시뮬레이션"
   ]
  },
  {
   "cell_type": "code",
   "execution_count": 99,
   "metadata": {
    "collapsed": false,
    "slideshow": {
     "slide_type": "subslide"
    }
   },
   "outputs": [
    {
     "name": "stdout",
     "output_type": "stream",
     "text": [
      "5\n",
      "11\n"
     ]
    }
   ],
   "source": [
    "# 1개의 주사위 던지기\n",
    "print( np.random.randint(1, 7) )\n",
    "\n",
    "# 3개의 주사위 던져 합 구하기\n",
    "print( np.random.randint(1, 7, 3).sum() )"
   ]
  },
  {
   "cell_type": "code",
   "execution_count": 106,
   "metadata": {
    "collapsed": false,
    "slideshow": {
     "slide_type": "subslide"
    }
   },
   "outputs": [
    {
     "data": {
      "text/plain": [
       "(array([   2.,    5.,   15.,   49.,   89.,  173.,  235.,  406.,  573.,\n",
       "         711.,  812.,  926.,  994.,  996.,  954.,  871.,  697.,  531.,\n",
       "         379.,  265.,  152.,   90.,   50.,   17.,    8.]),\n",
       " array([ 5,  6,  7,  8,  9, 10, 11, 12, 13, 14, 15, 16, 17, 18, 19, 20, 21,\n",
       "        22, 23, 24, 25, 26, 27, 28, 29, 30]),\n",
       " <a list of 25 Patch objects>)"
      ]
     },
     "execution_count": 106,
     "metadata": {},
     "output_type": "execute_result"
    },
    {
     "data": {
      "image/png": "[encoded data removed]",
      "text/plain": [
       "<matplotlib.figure.Figure at 0x7ff33acc5908>"
      ]
     },
     "metadata": {},
     "output_type": "display_data"
    }
   ],
   "source": [
    "# 5개 주사위를 1만번 던져 합 구하기\n",
    "throw_count = 10000 # throw count\n",
    "dices = 5 # number of dices\n",
    "\n",
    "data = []\n",
    "for i in range(throw_count):\n",
    "    data.append( np.random.randint(1, 7, dices).sum() )\n",
    "bins = range(5, 31) # 2~30\n",
    "plt.hist(data, bins)"
   ]
  },
  {
   "cell_type": "code",
   "execution_count": 110,
   "metadata": {
    "collapsed": false,
    "slideshow": {
     "slide_type": "subslide"
    }
   },
   "outputs": [
    {
     "data": {
      "text/plain": [
       "[<matplotlib.lines.Line2D at 0x7ff33a9eb588>]"
      ]
     },
     "execution_count": 110,
     "metadata": {},
     "output_type": "execute_result"
    },
    {
     "data": {
      "image/png": "[encoded data removed]",
      "text/plain": [
       "<matplotlib.figure.Figure at 0x7ff33abebf28>"
      ]
     },
     "metadata": {},
     "output_type": "display_data"
    }
   ],
   "source": [
    "from scipy import stats\n",
    "\n",
    "r = np.arange(-5, 5, 0.01)\n",
    "mu, sigma = 0, 1\n",
    "plt.plot(r, stats.norm.pdf(r, mu, sigma))"
   ]
  },
  {
   "cell_type": "markdown",
   "metadata": {
    "slideshow": {
     "slide_type": "subslide"
    }
   },
   "source": [
    "# scipy.stats\n",
    "* norm.pdf(x, mu, sigma)\n",
    "* norm.cdf(x, mu, sigma)"
   ]
  },
  {
   "cell_type": "code",
   "execution_count": 112,
   "metadata": {
    "collapsed": false,
    "slideshow": {
     "slide_type": "subslide"
    }
   },
   "outputs": [
    {
     "data": {
      "text/plain": [
       "[<matplotlib.lines.Line2D at 0x7ff33a9ac668>]"
      ]
     },
     "execution_count": 112,
     "metadata": {},
     "output_type": "execute_result"
    },
    {
     "data": {
      "image/png": "[encoded data removed]",
      "text/plain": [
       "<matplotlib.figure.Figure at 0x7ff33a9a9470>"
      ]
     },
     "metadata": {},
     "output_type": "display_data"
    }
   ],
   "source": [
    "from scipy.stats import norm\n",
    "x = np.arange(-5, 5, 0.01)\n",
    "mu, sigma = 0, 1\n",
    "plt.plot(x, norm.pdf(x, mu, sigma))\n",
    "plt.plot(x, norm.cdf(x, mu, sigma))"
   ]
  },
  {
   "cell_type": "code",
   "execution_count": 113,
   "metadata": {
    "collapsed": false,
    "slideshow": {
     "slide_type": "subslide"
    }
   },
   "outputs": [
    {
     "data": {
      "text/plain": [
       "<matplotlib.axes._subplots.AxesSubplot at 0x7ff33a907908>"
      ]
     },
     "execution_count": 113,
     "metadata": {},
     "output_type": "execute_result"
    },
    {
     "data": {
      "image/png": "[encoded data removed]",
      "text/plain": [
       "<matplotlib.figure.Figure at 0x7ff33a9c7f28>"
      ]
     },
     "metadata": {},
     "output_type": "display_data"
    }
   ],
   "source": [
    "import numpy as np\n",
    "import matplotlib.pyplot as plt\n",
    "import matplotlib.mlab as mlab\n",
    "\n",
    "df['Ret'].hist(bins=20, normed=True)"
   ]
  },
  {
   "cell_type": "markdown",
   "metadata": {
    "slideshow": {
     "slide_type": "slide"
    }
   },
   "source": [
    "# 리뷰\n",
    "* 도수분표표 Frequency table, 히스토그램 Histogram\n",
    "* numpy.histogram(data, bins)\n",
    "* DataFrame.describe()\n",
    "* 정규분포 (Normal distribution)\n",
    "* scipy.stats 패키지 norm.pdf(), norm.cdf() "
   ]
  }
 ],
 "metadata": {
  "kernelspec": {
   "display_name": "Python 3",
   "language": "python",
   "name": "python3"
  },
  "language_info": {
   "codemirror_mode": {
    "name": "ipython",
    "version": 3
   },
   "file_extension": ".py",
   "mimetype": "text/x-python",
   "name": "python",
   "nbconvert_exporter": "python",
   "pygments_lexer": "ipython3",
   "version": "3.4.3"
  }
 },
 "nbformat": 4,
 "nbformat_minor": 0
}
