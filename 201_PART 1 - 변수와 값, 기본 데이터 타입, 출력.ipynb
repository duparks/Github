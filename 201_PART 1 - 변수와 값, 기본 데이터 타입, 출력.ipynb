{
 "cells": [
  {
   "cell_type": "markdown",
   "metadata": {
    "slideshow": {
     "slide_type": "slide"
    }
   },
   "source": [
    "# Python Basics for Data Science - PART 1\n",
    "(파이낸스 데이터 분석을 위한 파이썬 언어 기본)\n",
    "\n",
    "### 변수와 값, 기본 데이터 타입, 출력\n",
    "\n",
    "<img width=\"300\" src=\"http://i.imgur.com/tHmNhjm.png\" >\n",
    "\n",
    "\n",
    "#### 2018 FinanceData.KR http://financedata.kr\n",
    "<!-- TEASER_END -->"
   ]
  },
  {
   "cell_type": "markdown",
   "metadata": {
    "slideshow": {
     "slide_type": "slide"
    }
   },
   "source": [
    "# Hello, Python!\n",
    "\n",
    "print() 함수를 사용한 간단한 출력을 해본다."
   ]
  },
  {
   "cell_type": "code",
   "execution_count": 1,
   "metadata": {
    "slideshow": {
     "slide_type": "-"
    }
   },
   "outputs": [
    {
     "name": "stdout",
     "output_type": "stream",
     "text": [
      "Hello, World!\n"
     ]
    }
   ],
   "source": [
    "print(\"Hello, World!\")"
   ]
  },
  {
   "cell_type": "markdown",
   "metadata": {
    "slideshow": {
     "slide_type": "slide"
    }
   },
   "source": [
    "# 주석 (comment)\n",
    "\n",
    "주석(comment)는 실행하지 않는 내용으로 주로 코드에 대한 설명을 위해 사용한다."
   ]
  },
  {
   "cell_type": "code",
   "execution_count": 2,
   "metadata": {
    "collapsed": true,
    "slideshow": {
     "slide_type": "-"
    }
   },
   "outputs": [],
   "source": [
    "# 한 줄짜리 주석"
   ]
  },
  {
   "cell_type": "markdown",
   "metadata": {
    "slideshow": {
     "slide_type": "slide"
    }
   },
   "source": [
    "# 문자열 상수\n",
    "\n",
    "문자열은 작은 따옴표(single quote)혹은 큰 따옴표(double quote)로 묶어 준다.  "
   ]
  },
  {
   "cell_type": "code",
   "execution_count": 3,
   "metadata": {
    "slideshow": {
     "slide_type": "-"
    }
   },
   "outputs": [
    {
     "name": "stdout",
     "output_type": "stream",
     "text": [
      "Hello, Python\n",
      "Hello, Python\n"
     ]
    }
   ],
   "source": [
    "print('Hello, Python') \n",
    "print(\"Hello, Python\")"
   ]
  },
  {
   "cell_type": "code",
   "execution_count": 4,
   "metadata": {
    "slideshow": {
     "slide_type": "-"
    }
   },
   "outputs": [
    {
     "data": {
      "text/plain": [
       "'\\n따옴표 3개를 연속으로 사용해서\\n여러 줄에 \\n걸친 \\n문자열을\\n나타냅니다\\n'"
      ]
     },
     "execution_count": 4,
     "metadata": {},
     "output_type": "execute_result"
    }
   ],
   "source": [
    "s = \"\"\"\n",
    "따옴표 3개를 연속으로 사용해서\n",
    "여러 줄에 \n",
    "걸친 \n",
    "문자열을\n",
    "나타냅니다\n",
    "\"\"\"\n",
    "\n",
    "s"
   ]
  },
  {
   "cell_type": "code",
   "execution_count": 5,
   "metadata": {
    "slideshow": {
     "slide_type": "-"
    }
   },
   "outputs": [
    {
     "data": {
      "text/plain": [
       "'\\n여러 줄을 가지는\\n주석을 만드는데도 \\n사용하죠\\n'"
      ]
     },
     "execution_count": 5,
     "metadata": {},
     "output_type": "execute_result"
    }
   ],
   "source": [
    "\"\"\"\n",
    "여러 줄을 가지는\n",
    "주석을 만드는데도 \n",
    "사용하죠\n",
    "\"\"\""
   ]
  },
  {
   "cell_type": "markdown",
   "metadata": {
    "slideshow": {
     "slide_type": "slide"
    }
   },
   "source": [
    "# 변수와 값\n",
    "\n",
    "변수(variable)에 값(value)을 할당(assign)"
   ]
  },
  {
   "cell_type": "code",
   "execution_count": 6,
   "metadata": {
    "slideshow": {
     "slide_type": "-"
    }
   },
   "outputs": [
    {
     "name": "stdout",
     "output_type": "stream",
     "text": [
      "10\n"
     ]
    }
   ],
   "source": [
    "# = 는 변수(my_var)에 값(10)을 할당(assign)하는 연산자(operator)\n",
    "my_var = 10\n",
    "print (my_var)"
   ]
  },
  {
   "cell_type": "markdown",
   "metadata": {
    "slideshow": {
     "slide_type": "slide"
    }
   },
   "source": [
    "# 기본 데이터 타입\n",
    "\n",
    "엑셀의 데이터 타입(type)에는 숫자값과 텍스트(문자열)이 있으며, 덧붙여 논리값이 있다. 파이썬에서 주로 사용하는 데이터 타입도 비숫하다. 다만 숫자값을 정수(int)와 실수(float)를 구분한다. \n",
    "\n",
    "주로 사용하는 파이썬의 데이터 타입에는,\n",
    "* 정수(int): 0, 10, 20\n",
    "* 실수(float): 0.1, 3.14, .015\n",
    "* 불린(bool): True, False\n",
    "* 문자열(str): 'Hello', \"World\""
   ]
  },
  {
   "cell_type": "code",
   "execution_count": 7,
   "metadata": {
    "slideshow": {
     "slide_type": "-"
    }
   },
   "outputs": [
    {
     "data": {
      "text/plain": [
       "(7, 1.23, True, '문자열')"
      ]
     },
     "execution_count": 7,
     "metadata": {},
     "output_type": "execute_result"
    }
   ],
   "source": [
    "a = 7\n",
    "b = 1.23\n",
    "c = True\n",
    "d = '문자열'\n",
    "\n",
    "a, b, c, d"
   ]
  },
  {
   "cell_type": "code",
   "execution_count": 8,
   "metadata": {
    "slideshow": {
     "slide_type": "-"
    }
   },
   "outputs": [
    {
     "data": {
      "text/plain": [
       "(int, float, bool, str)"
      ]
     },
     "execution_count": 8,
     "metadata": {},
     "output_type": "execute_result"
    }
   ],
   "source": [
    "type(a), type(b), type(c), type(d)"
   ]
  },
  {
   "cell_type": "markdown",
   "metadata": {
    "slideshow": {
     "slide_type": "notes"
    }
   },
   "source": [
    "변수의 데이터 타입은 type() 함수로 확인이 가능하다. 다양한 경우들에 대해 확인해 보자. "
   ]
  },
  {
   "cell_type": "code",
   "execution_count": 9,
   "metadata": {
    "slideshow": {
     "slide_type": "slide"
    }
   },
   "outputs": [
    {
     "name": "stdout",
     "output_type": "stream",
     "text": [
      "<class 'int'>\n",
      "<class 'float'>\n",
      "<class 'str'>\n",
      "<class 'str'>\n",
      "<class 'builtin_function_or_method'>\n"
     ]
    }
   ],
   "source": [
    "print( type(1) )\n",
    "print( type(1.) )\n",
    "print( type(\"hello\") )\n",
    "print( type(str(1.)) )\n",
    "print( type(print) )"
   ]
  },
  {
   "cell_type": "markdown",
   "metadata": {
    "slideshow": {
     "slide_type": "-"
    }
   },
   "source": [
    "파이썬에는 복소수(complex)  타입등 더 다양한 타입들이 있지만,  우선은 문자열(str), 정수(int), 실수(float), 불린(bool) 4가지 정도의 타입만 알아도 파이썬을 충분히 활용할 수 있다."
   ]
  },
  {
   "cell_type": "markdown",
   "metadata": {
    "slideshow": {
     "slide_type": "slide"
    }
   },
   "source": [
    "# 타입 변환\n",
    "\n",
    "우리가 처리하는 데이터들은 숫자가 많지만, 대부분 원천 데이터는 문자열 형태로 저장되어 있다. 문자열(str)을 수치형 타입(int, float)로 바꾸거나 출력이나 포맷팅을 위해 수치를 문자열로 바꾸는 경우들도 있다. 이처럼 서로 다른 데이터 타입을 바꾸어는 작업을 타입 변환(type conversion)이라고 한다."
   ]
  },
  {
   "cell_type": "code",
   "execution_count": 10,
   "metadata": {
    "slideshow": {
     "slide_type": "-"
    }
   },
   "outputs": [
    {
     "name": "stdout",
     "output_type": "stream",
     "text": [
      "<class 'str'>\n",
      "9.14\n"
     ]
    }
   ],
   "source": [
    "s ='9.14'\n",
    "print(type(s))\n",
    "\n",
    "f = float(s)\n",
    "print(f)"
   ]
  },
  {
   "cell_type": "markdown",
   "metadata": {
    "slideshow": {
     "slide_type": "slide"
    }
   },
   "source": [
    "부동소수점(float)을 정수(int)로 바꾸면 소수점 이하 자리가 버림(floor)된다."
   ]
  },
  {
   "cell_type": "code",
   "execution_count": 11,
   "metadata": {
    "slideshow": {
     "slide_type": "-"
    }
   },
   "outputs": [
    {
     "name": "stdout",
     "output_type": "stream",
     "text": [
      "3.6\n",
      "<class 'float'>\n",
      "3\n"
     ]
    }
   ],
   "source": [
    "x = 3.6\n",
    "print(x)\n",
    "print(type(x))\n",
    "print(int(x))"
   ]
  },
  {
   "cell_type": "markdown",
   "metadata": {
    "slideshow": {
     "slide_type": "slide"
    }
   },
   "source": [
    "문자열과 문자열에 +연산 혹은 숫자와 숫자 사이에 +연산이 가능하지만, 문자열과 수치값에 +연산을 할 수 없다.\n",
    "\n",
    "연산이 가능하도록 타입을 맞추기 위해 타입 전환을 사용하기도 한다.\n",
    "\n",
    "```python\n",
    "\"The value of pi is around \" + 3.14 # 에러\n",
    "```"
   ]
  },
  {
   "cell_type": "code",
   "execution_count": 12,
   "metadata": {
    "slideshow": {
     "slide_type": "-"
    }
   },
   "outputs": [
    {
     "data": {
      "text/plain": [
       "'The value of pi is around 3.14'"
      ]
     },
     "execution_count": 12,
     "metadata": {},
     "output_type": "execute_result"
    }
   ],
   "source": [
    "\"The value of pi is around \" + str(3.14)"
   ]
  },
  {
   "cell_type": "markdown",
   "metadata": {
    "slideshow": {
     "slide_type": "slide"
    }
   },
   "source": [
    "# 식별자\n",
    "식별자(identifier): 개체를 식별하는 이름 (변수 이름, 함수 이름, 모듈 이름, 클래스 이름 ..) \n",
    "\n",
    "식별자 이름 짓는 규칙\n",
    "* 문자, 언더바(_), 숫자를 포함할 수 있다. 단,숫자로 시작할 수 없다.\n",
    "* 특수문자가 들어갈 수 없다. ( !, @, $, %, ^, & 등등)\n"
   ]
  },
  {
   "cell_type": "markdown",
   "metadata": {
    "slideshow": {
     "slide_type": "-"
    }
   },
   "source": [
    "적절한 변수명의 예,\n",
    "* myVar\n",
    "* my_var\n",
    "* _var\n",
    "\n",
    "사용할 수 없는 변수명의 예,\n",
    "* 123var (숫자로 시작 할수 없다)\n",
    "* june@financedata (특수문자를 포함할 수 없다)\n",
    "* about34% (특수문자를 포함할 수 없다)\n",
    "\n",
    "\n",
    "몇 가지 주의할 사항\n",
    "* 대소문자를 구분한다. myVal 과 myval 은 서로 다른 이름\n",
    "* 예약어, 함수이름, 모듈 이름을 변수로 사용하지 말아야 한다"
   ]
  },
  {
   "cell_type": "markdown",
   "metadata": {
    "slideshow": {
     "slide_type": "slide"
    }
   },
   "source": [
    "# 예약어\n",
    "* 예약어(Reserved word): 미리 용도가 지정된 어휘\n",
    "* 변수명으로 사용하면 안되는 단어들"
   ]
  },
  {
   "cell_type": "code",
   "execution_count": 13,
   "metadata": {
    "slideshow": {
     "slide_type": "-"
    }
   },
   "outputs": [
    {
     "data": {
      "text/plain": [
       "33"
      ]
     },
     "execution_count": 13,
     "metadata": {},
     "output_type": "execute_result"
    }
   ],
   "source": [
    "import keyword\n",
    "\n",
    "len(keyword.kwlist) # 총 33개의 예약어가 있다"
   ]
  },
  {
   "cell_type": "code",
   "execution_count": 14,
   "metadata": {
    "slideshow": {
     "slide_type": "-"
    }
   },
   "outputs": [
    {
     "name": "stdout",
     "output_type": "stream",
     "text": [
      "['False', 'None', 'True', 'and', 'as', 'assert', 'break', 'class', 'continue', 'def', 'del', 'elif', 'else', 'except', 'finally', 'for', 'from', 'global', 'if', 'import', 'in', 'is', 'lambda', 'nonlocal', 'not', 'or', 'pass', 'raise', 'return', 'try', 'while', 'with', 'yield']\n"
     ]
    }
   ],
   "source": [
    "print(keyword.kwlist)"
   ]
  },
  {
   "cell_type": "markdown",
   "metadata": {
    "slideshow": {
     "slide_type": "slide"
    }
   },
   "source": [
    "# 한글 변수명\n",
    "\n",
    "적절하게 사용하면 효과적"
   ]
  },
  {
   "cell_type": "code",
   "execution_count": 15,
   "metadata": {
    "slideshow": {
     "slide_type": "-"
    }
   },
   "outputs": [
    {
     "data": {
      "text/plain": [
       "(24, 25)"
      ]
     },
     "execution_count": 15,
     "metadata": {},
     "output_type": "execute_result"
    }
   ],
   "source": [
    "A, B = 745, 30\n",
    "\n",
    "몫 = A // B\n",
    "나머지 = A % B\n",
    "\n",
    "몫, 나머지"
   ]
  },
  {
   "cell_type": "markdown",
   "metadata": {
    "slideshow": {
     "slide_type": "slide"
    }
   },
   "source": [
    "# 간단한 출력\n",
    "\n",
    "간단하게 값을 확인하기 위해 print()을 사용한다. 콤마(,)로 구분하여 여러 값을 출력할 수 있다."
   ]
  },
  {
   "cell_type": "code",
   "execution_count": 16,
   "metadata": {
    "slideshow": {
     "slide_type": "-"
    }
   },
   "outputs": [
    {
     "name": "stdout",
     "output_type": "stream",
     "text": [
      "Hello, python\n",
      "Hello, python 3.14 1.4142\n",
      "1125899906842624\n",
      "False 3.14\n"
     ]
    }
   ],
   "source": [
    "print(\"Hello, python\")\n",
    "print(\"Hello, python\", 3.14, 1.4142)\n",
    "print(1024 ** 5)\n",
    "print( 2 == 1, 3.14 )"
   ]
  },
  {
   "cell_type": "markdown",
   "metadata": {
    "slideshow": {
     "slide_type": "slide"
    }
   },
   "source": [
    "# 다양한 출력과 포맷팅\n",
    "문자열 포맷팅으로 다양한 타입의 데이터를 출력할 수 있다. % 기호를 사용하여 표현하며 부동소수점 표현에 %f, 정수 %d, 문자열은 %s 로 표현한다.\n",
    "특히, %f의 경우 소수점 이하 몇 자리까지 출력할 것인지 지정하는 용도로 자주 사용한다.\n",
    "\n",
    "* %f - float\n",
    "* %d - decimal (int)\n",
    "* %s - str"
   ]
  },
  {
   "cell_type": "code",
   "execution_count": 17,
   "metadata": {
    "slideshow": {
     "slide_type": "-"
    }
   },
   "outputs": [
    {
     "name": "stdout",
     "output_type": "stream",
     "text": [
      "Life is short, You need 파이썬!\n",
      "Today is Pi (3.14) day  !\n",
      "x= 3.14, y = 2, z = 0.015\n"
     ]
    }
   ],
   "source": [
    "# 포맷 출력\n",
    "\n",
    "print (\"%s is short, You need %s!\" % (\"Life\", \"파이썬\"))\n",
    "print (\"Today is Pi (%.2f) day  !\" % (3.1415926535))\n",
    "print(\"x= %.2f, y = %d, z = %.3f\" % (3.1415, 2.8, 0.0150))"
   ]
  },
  {
   "cell_type": "markdown",
   "metadata": {
    "slideshow": {
     "slide_type": "skip"
    }
   },
   "source": [
    "Python 3 에는 str.format() 함수를 사용하여 좀 더 복잡한 표현이 가능한 포맷 문자열을 제공한다."
   ]
  },
  {
   "cell_type": "code",
   "execution_count": 18,
   "metadata": {
    "slideshow": {
     "slide_type": "slide"
    }
   },
   "outputs": [
    {
     "name": "stdout",
     "output_type": "stream",
     "text": [
      "x = 3.14, y = 2.8, z = 0.015\n",
      "x = 3.14, y = 2.8, z = 0.015\n",
      "x = 3.14, y = 2.8, z = 0.015\n"
     ]
    }
   ],
   "source": [
    "# 포맷 문자열 생성 (Python3 스타일)\n",
    "\n",
    "print(\"x = {:.2f}, y = {}, z = {}\".format(3.1415, 2.8, 0.015))\n",
    "print(\"x = {0:.2f}, y = {1}, z = {2}\".format(3.1415, 2.8, 0.015))\n",
    "print(\"x = {x:.2f}, y = {y}, z = {z}\".format(x=3.1415, y=2.8, z=0.015))"
   ]
  },
  {
   "cell_type": "markdown",
   "metadata": {
    "slideshow": {
     "slide_type": "slide"
    }
   },
   "source": [
    "# 리뷰\n",
    "* 간단한 출력, print()\n",
    "* 주석(comment)\n",
    "* 변수와 값, a = 10\n",
    "* 기본 데이터 타입: int, float, str, bool\n",
    "* 타입 바꾸기: float('3.14')\n",
    "* 식별자: 변수명 이름짓기"
   ]
  },
  {
   "cell_type": "markdown",
   "metadata": {
    "slideshow": {
     "slide_type": "notes"
    }
   },
   "source": [
    "----\n",
    "#### 2017 FinanceData.KR http://fb.com/financedata"
   ]
  }
 ],
 "metadata": {
  "celltoolbar": "Slideshow",
  "kernelspec": {
   "display_name": "Python 3",
   "language": "python",
   "name": "python3"
  },
  "language_info": {
   "codemirror_mode": {
    "name": "ipython",
    "version": 3
   },
   "file_extension": ".py",
   "mimetype": "text/x-python",
   "name": "python",
   "nbconvert_exporter": "python",
   "pygments_lexer": "ipython3",
   "version": "3.5.2"
  },
  "nikola": {
   "category": "dev",
   "date": "2017-06-16 04:45:10 UTC+09:00",
   "description": "주석, 변수와 값, 기본 데이터 타입, 타입 전환, print() 출력",
   "link": "",
   "slug": "python-basics-part-1",
   "tags": "python, basic, variable, value, type, print",
   "title": "Python Basics for Data Science - PART 1",
   "type": "text"
  }
 },
 "nbformat": 4,
 "nbformat_minor": 2
}
