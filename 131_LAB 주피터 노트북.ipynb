{
 "cells": [
  {
   "cell_type": "markdown",
   "metadata": {
    "slideshow": {
     "slide_type": "slide"
    }
   },
   "source": [
    "# LAB: 주피터 노트북 (Jupyter Notebook)\n",
    "\n",
    "<img src=\"http://jupyter.org/assets/main-logo.svg\" width=\"140\" />\n",
    "\n",
    "\n",
    "#### 2017 FinanceData http://fb.com/financedata"
   ]
  },
  {
   "cell_type": "markdown",
   "metadata": {
    "slideshow": {
     "slide_type": "slide"
    }
   },
   "source": [
    "# STEP 01:  시작\n",
    "\n",
    "시작 (로컬 혹은 서버로 실행)\n",
    "```bash\n",
    "# 서버로 실행\n",
    "$ jupyter notebook --ip=0.0.0.0 --port=8080 --no-browser --allow-root\n",
    "```\n",
    "\n",
    "종료는 Ctrl+C"
   ]
  },
  {
   "cell_type": "markdown",
   "metadata": {
    "slideshow": {
     "slide_type": "slide"
    }
   },
   "source": [
    "# STEP 02: 명령모드와 편집모드\n",
    "\n",
    "명령모드와 편집모드 전환을 확인\n",
    "\n",
    "Jupyter Notebook 키보드 입력에는 두 가지 모드가 있다.\n",
    "* 명령모드(Command mode): 노트북의 셀을 편집 (파란색+회색 테두리) \n",
    "* 편집모드(Edit mode): 셀에 있는 텍스트나 코드를 편집 (녹색 테두리)\n",
    "\n",
    "\n",
    "모드 전환\n",
    "* Esc키를 누르면 명령모드로, Enter를 누르면 편집모드로 상호전환\n",
    "* 명령 모드에서 j,k 키로 아래/위로 이동 (vi 에디터, 대부분 SNS 동일)\n"
   ]
  },
  {
   "cell_type": "markdown",
   "metadata": {
    "slideshow": {
     "slide_type": "slide"
    }
   },
   "source": [
    "# STEP 03: 자주 사용하는 바로가기 연습\n",
    "* 모드전환: Esc키를 누르면 명령모드로, Enter를 누르면 편집모드로 상호전환\n",
    "* 이동: 명령 모드에서 j,k 키로 아래/위로 이동\n",
    "* 도움말 표시: 명령 모드에서 h 키\n",
    "* Shift-Enter 셀 실행 + 아래로 이동 \n",
    "* Ctrl-s: 노트북 저장 \n",
    "\n",
    "* Enter 편집 모드 \n",
    "* y: 코드로 전환 \n",
    "* m: 마크다운으로 전환 \n",
    "* ↑, k : 위로, \n",
    "* ↓, j : 아래로 \n",
    "* Ctrl-k: 셀을 위로 이동 \n",
    "* Ctrl-j: 셀을 아래로 이동 \n",
    "* a: 위에 셀 추가 (b는 아래에 셀 추가)\n",
    "* c: 셀 복사 \n",
    "* v: 아래에 셀 붙여넣기 \n",
    "* Shift-m: 셀 아래 병합 \n",
    "* h: 키보드 바로가기 도움말 "
   ]
  },
  {
   "cell_type": "markdown",
   "metadata": {
    "slideshow": {
     "slide_type": "slide"
    }
   },
   "source": [
    "# STEP 04: 쉘 명령어\n",
    "* ll # 파일 리스트\n",
    "* pwd # 현재 디렉토리"
   ]
  },
  {
   "cell_type": "code",
   "execution_count": 7,
   "metadata": {
    "slideshow": {
     "slide_type": "-"
    }
   },
   "outputs": [
    {
     "name": "stdout",
     "output_type": "stream",
     "text": [
      "total 1996\r\n",
      "-rw-rw-r-- 1 plusjune     640 Mar 27 04:09 노트.ipynb\r\n",
      "-rw-rw-r-- 1 plusjune 1599446 Mar 27 03:52 Jupiter Notebook.key\r\n",
      "-rw-rw-r-- 1 plusjune  423388 Mar 27 03:54 Jupiter Notebook.pdf\r\n",
      "-rw-rw-r-- 1 plusjune    9292 Sep 18 05:52 Jupyter Notebook.ipynb\r\n"
     ]
    }
   ],
   "source": [
    "ll"
   ]
  },
  {
   "cell_type": "markdown",
   "metadata": {
    "slideshow": {
     "slide_type": "slide"
    }
   },
   "source": [
    "# STEP 05: 탭 자동완성\n",
    "잘 모르겠으면 일단 탭을 눌러본다\n",
    "\n",
    "```python\n",
    "import numpy\n",
    "numpy.random.\n",
    "numpy.random.rand(\n",
    "magic?\n",
    "```\n",
    "\n",
    "### 상세 도움말\n",
    "```python\n",
    "import numpy as np\n",
    "#닫으려면 ESC\n",
    "np?\n",
    "np.array?\n",
    "```"
   ]
  },
  {
   "cell_type": "markdown",
   "metadata": {
    "slideshow": {
     "slide_type": "slide"
    }
   },
   "source": [
    "# STEP 06: 마크다운(markdown)\n",
    "\n",
    "## 머릿말\n",
    "```\n",
    "# H1 머릿말\n",
    "## H2 머릿말\n",
    "### H3 머릿말\n",
    "```\n",
    "\n",
    "## 불릿\n",
    "```markdown\n",
    "* apples\n",
    "* oranges\n",
    "* pears\n",
    "```\n",
    "\n",
    "## 번호 매기기\n",
    "```markdown\n",
    "1. apples\n",
    "1. oranges\n",
    "1. pears\n",
    "```\n",
    "좀 더 다양한 마크다운 연습\n",
    "* https://goo.gl/PmPXY2 (나무위키 마크다운)"
   ]
  },
  {
   "cell_type": "markdown",
   "metadata": {
    "slideshow": {
     "slide_type": "slide"
    }
   },
   "source": [
    "# STEP 07: 수식 사용\n",
    "* Mathjax를 포함하고 있다. LaTeX를 그대로 사용\n",
    "* 다음 수식편집기 (크롬 앱으로 제공) https://goo.gl/2TGR3\n",
    "\n",
    "```\n",
    "$$c = \\sqrt{a^2 + b^2}$$\n",
    "```\n",
    "\n",
    "$$c = \\sqrt{a^2 + b^2}$$\n",
    "\n",
    "```\n",
    "$$N(\\mu ,\\sigma )$$\n",
    "```\n",
    "\n",
    "$$N(\\mu ,\\sigma )$$"
   ]
  },
  {
   "cell_type": "markdown",
   "metadata": {
    "collapsed": true,
    "slideshow": {
     "slide_type": "-"
    }
   },
   "source": [
    "# STEP 08: 차트 그리기\n",
    "n 값을 바꾸어 다시 실행 (예 n=200)"
   ]
  },
  {
   "cell_type": "code",
   "execution_count": 12,
   "metadata": {
    "slideshow": {
     "slide_type": "-"
    }
   },
   "outputs": [
    {
     "data": {
      "image/png": "[encoded data removed]",
      "text/plain": [
       "<matplotlib.figure.Figure at 0x7fe7f8a3f208>"
      ]
     },
     "metadata": {},
     "output_type": "display_data"
    }
   ],
   "source": [
    "%matplotlib inline\n",
    "import numpy as np\n",
    "import matplotlib.pyplot as plt\n",
    "\n",
    "n = 20\n",
    "plt.plot(range(n), np.random.randint(-100, 100, n).cumsum())\n",
    "plt.show()"
   ]
  },
  {
   "cell_type": "markdown",
   "metadata": {
    "slideshow": {
     "slide_type": "notes"
    }
   },
   "source": [
    "----\n",
    "#### 2017 FinanceData http://fb.com/financedata http://financedata.github.com\n"
   ]
  }
 ],
 "metadata": {
  "celltoolbar": "Slideshow",
  "kernelspec": {
   "display_name": "Python 3",
   "language": "python",
   "name": "python3"
  },
  "language_info": {
   "codemirror_mode": {
    "name": "ipython",
    "version": 3
   },
   "file_extension": ".py",
   "mimetype": "text/x-python",
   "name": "python",
   "nbconvert_exporter": "python",
   "pygments_lexer": "ipython3",
   "version": "3.5.2"
  }
 },
 "nbformat": 4,
 "nbformat_minor": 1
}
