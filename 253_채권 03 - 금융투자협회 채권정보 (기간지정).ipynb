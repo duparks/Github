{
 "cells": [
  {
   "cell_type": "markdown",
   "metadata": {
    "slideshow": {
     "slide_type": "slide"
    }
   },
   "source": [
    "# 금융투자협회 채권정보\n",
    "### 채권 데이터 가져오기 (기간 지정)\n",
    "\n",
    "<img width=\"30%\" src=\"https://i.imgur.com/gH0DdDK.jpg\" >\n",
    "\n",
    "http://www.kofiabond.or.kr\n",
    "\n",
    "### 2017 http://financedata.kr"
   ]
  },
  {
   "cell_type": "markdown",
   "metadata": {
    "slideshow": {
     "slide_type": "slide"
    }
   },
   "source": [
    "# 요약\n",
    "* 저정한 기간의 날짜별 국고채권(1년) 등 17종류의 채권 수익률 호가 데이터\n",
    "* 1995년 5월 1일~현재 (5,500일 이상의 일자별 데이터)\n",
    "* 기간(시작일자, 끝 일자)와 조회시간 오전/오후를 지정하여 일간, 월간, 년간 조회\n",
    "* 결과 데이터를 XML로 조회 (내부적으로 XML 서비스로 데이터 서비스)"
   ]
  },
  {
   "cell_type": "markdown",
   "metadata": {
    "slideshow": {
     "slide_type": "slide"
    }
   },
   "source": [
    "# 금융투자협회 채권 수익률 (기간)\n",
    "\n",
    "<img src=\"https://i.imgur.com/cEpbmq7.png\" >"
   ]
  },
  {
   "cell_type": "markdown",
   "metadata": {
    "slideshow": {
     "slide_type": "slide"
    }
   },
   "source": [
    "## 2) URL과 요청 헤더 확인\n",
    "\n",
    "<img src=\"https://i.imgur.com/iTtxDGL.png\" >"
   ]
  },
  {
   "cell_type": "code",
   "execution_count": 1,
   "metadata": {
    "slideshow": {
     "slide_type": "slide"
    }
   },
   "outputs": [
    {
     "data": {
      "text/plain": [
       "'<?xml version=\"1.0\" encoding=\"UTF-8\"?><root><message><proframeHeader>\\n<pfmAppName>BIS-KOFIABOND</pfmAppName>\\n<pfmSvcName>BISLastAskPrcROPSrchSO</pfmSvcName>\\n<pfmFnName>listTrm</pfmFnName>\\n<pfmGlobalNo>54651e6a0afe009d6aaa3090cb6ce408</pfmGlobalNo>\\n<pfmTrDate>20170906</pfmTrDate>\\n<pfmTrTime>20170906083426666</pfmTrTime>\\n<pfmClntIp>1.225.69.82</pfmClntIp>\\n<pfmResponseDtal></pfmResponseDtal>\\n</proframeHeader>\\n<systemHeader>\\n</systemHeader>\\n<BISComDspDatListDTO>\\n<dbio_affected_count_>0</dbio_affected_count_>\\n<dbio_fetch_size_>0</dbio_fetch_size_>\\n<dbio_fetch_seq_>0</dbio_fetch_seq_>\\n<dbio_total_count_>1240</dbio_total_count_>\\n<BISComDspDatDTO>\\n<val1>최고</val1>\\n<val2>3.12</val2>\\n<val3>3.43</val3>\\n<val4>2.88</val4>\\n<val5>2.99</val5>\\n<val6>3.48</val6>\\n<val7>3.16</val7>\\n<val8 />\\n<val9 />\\n<val10 />\\n<val11 />\\n<val12>20130624</val12>\\n<val13>20130624</val13>\\n<val14>20120917</val14>\\n<val15>20130624</val15>\\n<val16>20130624</val16>\\n<val17>20120907</val17>\\n<val18 />\\n<val19 />\\n<val20 />\\n<val21 />\\n<val22'"
      ]
     },
     "execution_count": 1,
     "metadata": {},
     "output_type": "execute_result"
    }
   ],
   "source": [
    "import requests\n",
    "\n",
    "payload = \"\"\"<?xml version=\"1.0\" encoding=\"utf-8\"?>\n",
    "<message>\n",
    "  <proframeHeader>\n",
    "    <pfmAppName>BIS-KOFIABOND</pfmAppName>\n",
    "    <pfmSvcName>BISLastAskPrcROPSrchSO</pfmSvcName>\n",
    "    <pfmFnName>listTrm</pfmFnName>\n",
    "  </proframeHeader>\n",
    "  <systemHeader></systemHeader>\n",
    "<BISComDspDatDTO>\n",
    "  <val1>DD</val1>\n",
    "  <val2>20120905</val2>\n",
    "  <val3>20170905</val3>\n",
    "  <val4>1530</val4>\n",
    "  <val5>3000</val5>\n",
    "  <val6>3007</val6>\n",
    "  <val7>3016</val7>\n",
    "  <val8>3003</val8>\n",
    "  <val9>3009</val9>\n",
    "  <val10>4000</val10>\n",
    "</BISComDspDatDTO>\n",
    "</message>\n",
    "\"\"\"\n",
    "\n",
    "r = requests.post('http://www.kofiabond.or.kr/proframeWeb/XMLSERVICES/', data=payload)\n",
    "r.text[:1000] # 앞부분만 출력"
   ]
  },
  {
   "cell_type": "markdown",
   "metadata": {
    "slideshow": {
     "slide_type": "slide"
    }
   },
   "source": [
    "# XML to DataFrame"
   ]
  },
  {
   "cell_type": "code",
   "execution_count": 2,
   "metadata": {
    "slideshow": {
     "slide_type": "-"
    }
   },
   "outputs": [
    {
     "name": "stdout",
     "output_type": "stream",
     "text": [
      "row count: 1240\n"
     ]
    },
    {
     "data": {
      "text/html": [
       "<div>\n",
       "<style>\n",
       "    .dataframe thead tr:only-child th {\n",
       "        text-align: right;\n",
       "    }\n",
       "\n",
       "    .dataframe thead th {\n",
       "        text-align: left;\n",
       "    }\n",
       "\n",
       "    .dataframe tbody tr th {\n",
       "        vertical-align: top;\n",
       "    }\n",
       "</style>\n",
       "<table border=\"1\" class=\"dataframe\">\n",
       "  <thead>\n",
       "    <tr style=\"text-align: right;\">\n",
       "      <th></th>\n",
       "      <th>val1</th>\n",
       "      <th>val2</th>\n",
       "      <th>val3</th>\n",
       "      <th>val4</th>\n",
       "      <th>val5</th>\n",
       "      <th>val6</th>\n",
       "      <th>val7</th>\n",
       "    </tr>\n",
       "  </thead>\n",
       "  <tbody>\n",
       "    <tr>\n",
       "      <th>0</th>\n",
       "      <td>최고</td>\n",
       "      <td>3.12</td>\n",
       "      <td>3.43</td>\n",
       "      <td>2.88</td>\n",
       "      <td>2.99</td>\n",
       "      <td>3.48</td>\n",
       "      <td>3.16</td>\n",
       "    </tr>\n",
       "    <tr>\n",
       "      <th>1</th>\n",
       "      <td>최저</td>\n",
       "      <td>1.203</td>\n",
       "      <td>1.217</td>\n",
       "      <td>1.245</td>\n",
       "      <td>1.226</td>\n",
       "      <td>1.628</td>\n",
       "      <td>1.34</td>\n",
       "    </tr>\n",
       "    <tr>\n",
       "      <th>2</th>\n",
       "      <td>2017-09-05</td>\n",
       "      <td>1.780</td>\n",
       "      <td>1.996</td>\n",
       "      <td>1.479</td>\n",
       "      <td>1.704</td>\n",
       "      <td>2.333</td>\n",
       "      <td>1.38</td>\n",
       "    </tr>\n",
       "    <tr>\n",
       "      <th>3</th>\n",
       "      <td>2017-09-04</td>\n",
       "      <td>1.782</td>\n",
       "      <td>2.001</td>\n",
       "      <td>1.482</td>\n",
       "      <td>1.708</td>\n",
       "      <td>2.335</td>\n",
       "      <td>1.38</td>\n",
       "    </tr>\n",
       "    <tr>\n",
       "      <th>4</th>\n",
       "      <td>2017-09-01</td>\n",
       "      <td>1.747</td>\n",
       "      <td>1.966</td>\n",
       "      <td>1.470</td>\n",
       "      <td>1.678</td>\n",
       "      <td>2.302</td>\n",
       "      <td>1.38</td>\n",
       "    </tr>\n",
       "    <tr>\n",
       "      <th>5</th>\n",
       "      <td>2017-08-31</td>\n",
       "      <td>1.747</td>\n",
       "      <td>1.968</td>\n",
       "      <td>1.476</td>\n",
       "      <td>1.684</td>\n",
       "      <td>2.304</td>\n",
       "      <td>1.38</td>\n",
       "    </tr>\n",
       "    <tr>\n",
       "      <th>6</th>\n",
       "      <td>2017-08-30</td>\n",
       "      <td>1.752</td>\n",
       "      <td>1.958</td>\n",
       "      <td>1.478</td>\n",
       "      <td>1.690</td>\n",
       "      <td>2.307</td>\n",
       "      <td>1.38</td>\n",
       "    </tr>\n",
       "    <tr>\n",
       "      <th>7</th>\n",
       "      <td>2017-08-29</td>\n",
       "      <td>1.772</td>\n",
       "      <td>1.975</td>\n",
       "      <td>1.489</td>\n",
       "      <td>1.708</td>\n",
       "      <td>2.322</td>\n",
       "      <td>1.38</td>\n",
       "    </tr>\n",
       "    <tr>\n",
       "      <th>8</th>\n",
       "      <td>2017-08-28</td>\n",
       "      <td>1.758</td>\n",
       "      <td>1.963</td>\n",
       "      <td>1.485</td>\n",
       "      <td>1.701</td>\n",
       "      <td>2.308</td>\n",
       "      <td>1.39</td>\n",
       "    </tr>\n",
       "    <tr>\n",
       "      <th>9</th>\n",
       "      <td>2017-08-25</td>\n",
       "      <td>1.755</td>\n",
       "      <td>1.960</td>\n",
       "      <td>1.482</td>\n",
       "      <td>1.698</td>\n",
       "      <td>2.306</td>\n",
       "      <td>1.39</td>\n",
       "    </tr>\n",
       "    <tr>\n",
       "      <th>10</th>\n",
       "      <td>2017-08-24</td>\n",
       "      <td>1.801</td>\n",
       "      <td>1.998</td>\n",
       "      <td>1.494</td>\n",
       "      <td>1.727</td>\n",
       "      <td>2.339</td>\n",
       "      <td>1.39</td>\n",
       "    </tr>\n",
       "    <tr>\n",
       "      <th>11</th>\n",
       "      <td>2017-08-23</td>\n",
       "      <td>1.797</td>\n",
       "      <td>2.002</td>\n",
       "      <td>1.492</td>\n",
       "      <td>1.727</td>\n",
       "      <td>2.336</td>\n",
       "      <td>1.39</td>\n",
       "    </tr>\n",
       "    <tr>\n",
       "      <th>12</th>\n",
       "      <td>2017-08-22</td>\n",
       "      <td>1.803</td>\n",
       "      <td>2.010</td>\n",
       "      <td>1.489</td>\n",
       "      <td>1.731</td>\n",
       "      <td>2.341</td>\n",
       "      <td>1.39</td>\n",
       "    </tr>\n",
       "    <tr>\n",
       "      <th>13</th>\n",
       "      <td>2017-08-21</td>\n",
       "      <td>1.784</td>\n",
       "      <td>1.997</td>\n",
       "      <td>1.484</td>\n",
       "      <td>1.708</td>\n",
       "      <td>2.325</td>\n",
       "      <td>1.39</td>\n",
       "    </tr>\n",
       "    <tr>\n",
       "      <th>14</th>\n",
       "      <td>2017-08-18</td>\n",
       "      <td>1.777</td>\n",
       "      <td>1.999</td>\n",
       "      <td>1.484</td>\n",
       "      <td>1.705</td>\n",
       "      <td>2.323</td>\n",
       "      <td>1.39</td>\n",
       "    </tr>\n",
       "    <tr>\n",
       "      <th>15</th>\n",
       "      <td>2017-08-17</td>\n",
       "      <td>1.801</td>\n",
       "      <td>2.011</td>\n",
       "      <td>1.490</td>\n",
       "      <td>1.718</td>\n",
       "      <td>2.340</td>\n",
       "      <td>1.39</td>\n",
       "    </tr>\n",
       "    <tr>\n",
       "      <th>16</th>\n",
       "      <td>2017-08-16</td>\n",
       "      <td>1.821</td>\n",
       "      <td>2.028</td>\n",
       "      <td>1.497</td>\n",
       "      <td>1.733</td>\n",
       "      <td>2.359</td>\n",
       "      <td>1.39</td>\n",
       "    </tr>\n",
       "    <tr>\n",
       "      <th>17</th>\n",
       "      <td>2017-08-14</td>\n",
       "      <td>1.802</td>\n",
       "      <td>2.002</td>\n",
       "      <td>1.485</td>\n",
       "      <td>1.706</td>\n",
       "      <td>2.338</td>\n",
       "      <td>1.39</td>\n",
       "    </tr>\n",
       "    <tr>\n",
       "      <th>18</th>\n",
       "      <td>2017-08-11</td>\n",
       "      <td>1.804</td>\n",
       "      <td>2.004</td>\n",
       "      <td>1.477</td>\n",
       "      <td>1.696</td>\n",
       "      <td>2.338</td>\n",
       "      <td>1.39</td>\n",
       "    </tr>\n",
       "    <tr>\n",
       "      <th>19</th>\n",
       "      <td>2017-08-10</td>\n",
       "      <td>1.824</td>\n",
       "      <td>2.024</td>\n",
       "      <td>1.474</td>\n",
       "      <td>1.703</td>\n",
       "      <td>2.353</td>\n",
       "      <td>1.39</td>\n",
       "    </tr>\n",
       "  </tbody>\n",
       "</table>\n",
       "</div>"
      ],
      "text/plain": [
       "          val1   val2   val3   val4   val5   val6  val7\n",
       "0           최고   3.12   3.43   2.88   2.99   3.48  3.16\n",
       "1           최저  1.203  1.217  1.245  1.226  1.628  1.34\n",
       "2   2017-09-05  1.780  1.996  1.479  1.704  2.333  1.38\n",
       "3   2017-09-04  1.782  2.001  1.482  1.708  2.335  1.38\n",
       "4   2017-09-01  1.747  1.966  1.470  1.678  2.302  1.38\n",
       "5   2017-08-31  1.747  1.968  1.476  1.684  2.304  1.38\n",
       "6   2017-08-30  1.752  1.958  1.478  1.690  2.307  1.38\n",
       "7   2017-08-29  1.772  1.975  1.489  1.708  2.322  1.38\n",
       "8   2017-08-28  1.758  1.963  1.485  1.701  2.308  1.39\n",
       "9   2017-08-25  1.755  1.960  1.482  1.698  2.306  1.39\n",
       "10  2017-08-24  1.801  1.998  1.494  1.727  2.339  1.39\n",
       "11  2017-08-23  1.797  2.002  1.492  1.727  2.336  1.39\n",
       "12  2017-08-22  1.803  2.010  1.489  1.731  2.341  1.39\n",
       "13  2017-08-21  1.784  1.997  1.484  1.708  2.325  1.39\n",
       "14  2017-08-18  1.777  1.999  1.484  1.705  2.323  1.39\n",
       "15  2017-08-17  1.801  2.011  1.490  1.718  2.340  1.39\n",
       "16  2017-08-16  1.821  2.028  1.497  1.733  2.359  1.39\n",
       "17  2017-08-14  1.802  2.002  1.485  1.706  2.338  1.39\n",
       "18  2017-08-11  1.804  2.004  1.477  1.696  2.338  1.39\n",
       "19  2017-08-10  1.824  2.024  1.474  1.703  2.353  1.39"
      ]
     },
     "execution_count": 2,
     "metadata": {},
     "output_type": "execute_result"
    }
   ],
   "source": [
    "# XML to DataFrame\n",
    "\n",
    "import xml.etree.ElementTree as ET\n",
    "import pandas as pd\n",
    "\n",
    "tree = ET.XML(r.content) \n",
    "all_records = []\n",
    "\n",
    "element = tree.findall('message/BISComDspDatListDTO/BISComDspDatDTO')\n",
    "for i, child in enumerate(element):\n",
    "    record = {}\n",
    "    for i, subchild in enumerate(child):\n",
    "        record[subchild.tag] = subchild.text\n",
    "    all_records.append(record)\n",
    "\n",
    "df = pd.DataFrame(all_records)\n",
    "\n",
    "print('row count:', len(df))\n",
    "df[['val1', 'val2', 'val3', 'val4', 'val5', 'val6', 'val7']].head(20)"
   ]
  },
  {
   "cell_type": "markdown",
   "metadata": {
    "slideshow": {
     "slide_type": "slide"
    }
   },
   "source": [
    "# FormData 값 지정 (XML) 값으로 지정 된다\n",
    "\n",
    "```XML\n",
    "...\n",
    "  <val1>DD</val1> <!-- 기간: DD=일간, MM=월간, YY=년간 -->\n",
    "  <val2>20120905</val2> <!-- 조회기간 시작: YYYMMDD(일간), YYMM(월간), YY(년간) -->\n",
    "  <val3>20170905</val3> <!-- 조회기간 끝: YYYMMDD(일간), YYMM(월간), YY(년간) -->\n",
    "  <val4>1530</val4> <!-- 조회시간: 1130=오전, 1530=오후 -->\n",
    "  <val5>3000</val5> <!-- 종류1 -->\n",
    "  <val6>3007</val6> <!-- 종류2 -->\n",
    "  <val7>3016</val7> <!-- 종류3 -->\n",
    "  <val8>3003</val8> <!-- 종류4 -->\n",
    "  <val9>3009</val9> <!-- 종류5 -->\n",
    "  <val10>4000</val10> <!-- 종류6 -->\n",
    "...\n",
    "```\n",
    "\n",
    "채권의 종류를 지정하는 부분(최대 6개): \n",
    "\n",
    "```XML\n",
    "<val5>3000</val5><val6>3007</val6><val7>3016</val7><val8>3003</val8><val9>3009</val9><val10>4000</val10>\n",
    "```"
   ]
  },
  {
   "cell_type": "markdown",
   "metadata": {
    "slideshow": {
     "slide_type": "slide"
    }
   },
   "source": [
    "# 종류\n",
    "최대 6개 지정, <val5/>에서 <val10/> 까지 (종류1~종류6 까지)\n",
    "\n",
    "\n",
    "종류 | 코드\n",
    ":--- | :----\n",
    "3006 | 국고채권(1년) \n",
    "3000 | 국고채권(3년) \n",
    "3007 | 국고채권(5년) \n",
    "3013 | 국고채권(10년)\n",
    "3014 | 국고채권(20년)\n",
    "3017 | 국고채권(30년)\n",
    "3018 | 국고채권(50년)\n",
    "3008 | 국민주택1종(5년)\n",
    "3015 | 통안증권(91일)\n",
    "3016 | 통안증권(1년)\n",
    "3003 | 통안증권(2년)\n",
    "3002 | 한전채(3년)\n",
    "3004 | 산금채(1년)\n",
    "3009 | 회사채(무보증3년)AA|\n",
    "3010 | 회사채(무보증3년)BBB-\n",
    "4000 | CD(91일)\n",
    "5000 | CP(91일)"
   ]
  },
  {
   "cell_type": "markdown",
   "metadata": {
    "slideshow": {
     "slide_type": "slide"
    }
   },
   "source": [
    "# XML 문서의 항목 명칭과 컬럼명 매칭"
   ]
  },
  {
   "cell_type": "code",
   "execution_count": 3,
   "metadata": {
    "collapsed": true,
    "slideshow": {
     "slide_type": "-"
    }
   },
   "outputs": [],
   "source": [
    "# XML 문서의 항목 명칭과 컬럼명\n",
    "    \n",
    "col_maps = [\n",
    "    ('val1', '일자'), # YYYY-MM-DD\n",
    "    ('val2', '국고채권(3년)'), # <val5>3000</val5>\n",
    "    ('val3', '국고채권(5년)'), # <val6>3007</val6>\n",
    "    ('val4', '통안증권(1년)'), # <val7>3016</val7>\n",
    "    ('val5', '통안증권(2년)'), # <val8>3003</val8>\n",
    "    ('val6', '회사채(무보증3년)'), # <val9>3009</val9>\n",
    "    ('val7', 'CD(91일)'), #  <val10>4000</val10>\n",
    "]"
   ]
  },
  {
   "cell_type": "code",
   "execution_count": 4,
   "metadata": {
    "slideshow": {
     "slide_type": "-"
    }
   },
   "outputs": [
    {
     "data": {
      "text/plain": [
       "['일자', '국고채권(3년)', '국고채권(5년)', '통안증권(1년)', '통안증권(2년)', '회사채(무보증3년)', 'CD(91일)']"
      ]
     },
     "execution_count": 4,
     "metadata": {},
     "output_type": "execute_result"
    }
   ],
   "source": [
    "col_names = [col[1] for col in col_maps]\n",
    "col_names "
   ]
  },
  {
   "cell_type": "code",
   "execution_count": 5,
   "metadata": {
    "slideshow": {
     "slide_type": "-"
    }
   },
   "outputs": [
    {
     "data": {
      "text/plain": [
       "['val1', 'val2', 'val3', 'val4', 'val5', 'val6', 'val7']"
      ]
     },
     "execution_count": 5,
     "metadata": {},
     "output_type": "execute_result"
    }
   ],
   "source": [
    "col_list= [col[0] for col in col_maps]\n",
    "col_list"
   ]
  },
  {
   "cell_type": "markdown",
   "metadata": {
    "slideshow": {
     "slide_type": "slide"
    }
   },
   "source": [
    "# 사용할 컬럼만 추출"
   ]
  },
  {
   "cell_type": "code",
   "execution_count": 6,
   "metadata": {
    "slideshow": {
     "slide_type": "-"
    }
   },
   "outputs": [
    {
     "name": "stdout",
     "output_type": "stream",
     "text": [
      "row count: 1240\n"
     ]
    },
    {
     "data": {
      "text/html": [
       "<div>\n",
       "<style>\n",
       "    .dataframe thead tr:only-child th {\n",
       "        text-align: right;\n",
       "    }\n",
       "\n",
       "    .dataframe thead th {\n",
       "        text-align: left;\n",
       "    }\n",
       "\n",
       "    .dataframe tbody tr th {\n",
       "        vertical-align: top;\n",
       "    }\n",
       "</style>\n",
       "<table border=\"1\" class=\"dataframe\">\n",
       "  <thead>\n",
       "    <tr style=\"text-align: right;\">\n",
       "      <th></th>\n",
       "      <th>val1</th>\n",
       "      <th>val2</th>\n",
       "      <th>val3</th>\n",
       "      <th>val4</th>\n",
       "      <th>val5</th>\n",
       "      <th>val6</th>\n",
       "      <th>val7</th>\n",
       "    </tr>\n",
       "  </thead>\n",
       "  <tbody>\n",
       "    <tr>\n",
       "      <th>0</th>\n",
       "      <td>최고</td>\n",
       "      <td>3.12</td>\n",
       "      <td>3.43</td>\n",
       "      <td>2.88</td>\n",
       "      <td>2.99</td>\n",
       "      <td>3.48</td>\n",
       "      <td>3.16</td>\n",
       "    </tr>\n",
       "    <tr>\n",
       "      <th>1</th>\n",
       "      <td>최저</td>\n",
       "      <td>1.203</td>\n",
       "      <td>1.217</td>\n",
       "      <td>1.245</td>\n",
       "      <td>1.226</td>\n",
       "      <td>1.628</td>\n",
       "      <td>1.34</td>\n",
       "    </tr>\n",
       "    <tr>\n",
       "      <th>2</th>\n",
       "      <td>2017-09-05</td>\n",
       "      <td>1.780</td>\n",
       "      <td>1.996</td>\n",
       "      <td>1.479</td>\n",
       "      <td>1.704</td>\n",
       "      <td>2.333</td>\n",
       "      <td>1.38</td>\n",
       "    </tr>\n",
       "    <tr>\n",
       "      <th>3</th>\n",
       "      <td>2017-09-04</td>\n",
       "      <td>1.782</td>\n",
       "      <td>2.001</td>\n",
       "      <td>1.482</td>\n",
       "      <td>1.708</td>\n",
       "      <td>2.335</td>\n",
       "      <td>1.38</td>\n",
       "    </tr>\n",
       "    <tr>\n",
       "      <th>4</th>\n",
       "      <td>2017-09-01</td>\n",
       "      <td>1.747</td>\n",
       "      <td>1.966</td>\n",
       "      <td>1.470</td>\n",
       "      <td>1.678</td>\n",
       "      <td>2.302</td>\n",
       "      <td>1.38</td>\n",
       "    </tr>\n",
       "    <tr>\n",
       "      <th>5</th>\n",
       "      <td>2017-08-31</td>\n",
       "      <td>1.747</td>\n",
       "      <td>1.968</td>\n",
       "      <td>1.476</td>\n",
       "      <td>1.684</td>\n",
       "      <td>2.304</td>\n",
       "      <td>1.38</td>\n",
       "    </tr>\n",
       "    <tr>\n",
       "      <th>6</th>\n",
       "      <td>2017-08-30</td>\n",
       "      <td>1.752</td>\n",
       "      <td>1.958</td>\n",
       "      <td>1.478</td>\n",
       "      <td>1.690</td>\n",
       "      <td>2.307</td>\n",
       "      <td>1.38</td>\n",
       "    </tr>\n",
       "    <tr>\n",
       "      <th>7</th>\n",
       "      <td>2017-08-29</td>\n",
       "      <td>1.772</td>\n",
       "      <td>1.975</td>\n",
       "      <td>1.489</td>\n",
       "      <td>1.708</td>\n",
       "      <td>2.322</td>\n",
       "      <td>1.38</td>\n",
       "    </tr>\n",
       "    <tr>\n",
       "      <th>8</th>\n",
       "      <td>2017-08-28</td>\n",
       "      <td>1.758</td>\n",
       "      <td>1.963</td>\n",
       "      <td>1.485</td>\n",
       "      <td>1.701</td>\n",
       "      <td>2.308</td>\n",
       "      <td>1.39</td>\n",
       "    </tr>\n",
       "    <tr>\n",
       "      <th>9</th>\n",
       "      <td>2017-08-25</td>\n",
       "      <td>1.755</td>\n",
       "      <td>1.960</td>\n",
       "      <td>1.482</td>\n",
       "      <td>1.698</td>\n",
       "      <td>2.306</td>\n",
       "      <td>1.39</td>\n",
       "    </tr>\n",
       "  </tbody>\n",
       "</table>\n",
       "</div>"
      ],
      "text/plain": [
       "         val1   val2   val3   val4   val5   val6  val7\n",
       "0          최고   3.12   3.43   2.88   2.99   3.48  3.16\n",
       "1          최저  1.203  1.217  1.245  1.226  1.628  1.34\n",
       "2  2017-09-05  1.780  1.996  1.479  1.704  2.333  1.38\n",
       "3  2017-09-04  1.782  2.001  1.482  1.708  2.335  1.38\n",
       "4  2017-09-01  1.747  1.966  1.470  1.678  2.302  1.38\n",
       "5  2017-08-31  1.747  1.968  1.476  1.684  2.304  1.38\n",
       "6  2017-08-30  1.752  1.958  1.478  1.690  2.307  1.38\n",
       "7  2017-08-29  1.772  1.975  1.489  1.708  2.322  1.38\n",
       "8  2017-08-28  1.758  1.963  1.485  1.701  2.308  1.39\n",
       "9  2017-08-25  1.755  1.960  1.482  1.698  2.306  1.39"
      ]
     },
     "execution_count": 6,
     "metadata": {},
     "output_type": "execute_result"
    }
   ],
   "source": [
    "df = df[col_list].copy()\n",
    "\n",
    "print('row count:', len(df))\n",
    "df.head(10)"
   ]
  },
  {
   "cell_type": "markdown",
   "metadata": {
    "slideshow": {
     "slide_type": "slide"
    }
   },
   "source": [
    "# 처음 2개 row 삭제"
   ]
  },
  {
   "cell_type": "code",
   "execution_count": 7,
   "metadata": {
    "slideshow": {
     "slide_type": "-"
    }
   },
   "outputs": [
    {
     "data": {
      "text/html": [
       "<div>\n",
       "<style>\n",
       "    .dataframe thead tr:only-child th {\n",
       "        text-align: right;\n",
       "    }\n",
       "\n",
       "    .dataframe thead th {\n",
       "        text-align: left;\n",
       "    }\n",
       "\n",
       "    .dataframe tbody tr th {\n",
       "        vertical-align: top;\n",
       "    }\n",
       "</style>\n",
       "<table border=\"1\" class=\"dataframe\">\n",
       "  <thead>\n",
       "    <tr style=\"text-align: right;\">\n",
       "      <th></th>\n",
       "      <th>val1</th>\n",
       "      <th>val2</th>\n",
       "      <th>val3</th>\n",
       "      <th>val4</th>\n",
       "      <th>val5</th>\n",
       "      <th>val6</th>\n",
       "      <th>val7</th>\n",
       "    </tr>\n",
       "  </thead>\n",
       "  <tbody>\n",
       "    <tr>\n",
       "      <th>0</th>\n",
       "      <td>최고</td>\n",
       "      <td>3.12</td>\n",
       "      <td>3.43</td>\n",
       "      <td>2.88</td>\n",
       "      <td>2.99</td>\n",
       "      <td>3.48</td>\n",
       "      <td>3.16</td>\n",
       "    </tr>\n",
       "    <tr>\n",
       "      <th>1</th>\n",
       "      <td>최저</td>\n",
       "      <td>1.203</td>\n",
       "      <td>1.217</td>\n",
       "      <td>1.245</td>\n",
       "      <td>1.226</td>\n",
       "      <td>1.628</td>\n",
       "      <td>1.34</td>\n",
       "    </tr>\n",
       "    <tr>\n",
       "      <th>2</th>\n",
       "      <td>2017-09-05</td>\n",
       "      <td>1.780</td>\n",
       "      <td>1.996</td>\n",
       "      <td>1.479</td>\n",
       "      <td>1.704</td>\n",
       "      <td>2.333</td>\n",
       "      <td>1.38</td>\n",
       "    </tr>\n",
       "    <tr>\n",
       "      <th>3</th>\n",
       "      <td>2017-09-04</td>\n",
       "      <td>1.782</td>\n",
       "      <td>2.001</td>\n",
       "      <td>1.482</td>\n",
       "      <td>1.708</td>\n",
       "      <td>2.335</td>\n",
       "      <td>1.38</td>\n",
       "    </tr>\n",
       "    <tr>\n",
       "      <th>4</th>\n",
       "      <td>2017-09-01</td>\n",
       "      <td>1.747</td>\n",
       "      <td>1.966</td>\n",
       "      <td>1.470</td>\n",
       "      <td>1.678</td>\n",
       "      <td>2.302</td>\n",
       "      <td>1.38</td>\n",
       "    </tr>\n",
       "  </tbody>\n",
       "</table>\n",
       "</div>"
      ],
      "text/plain": [
       "         val1   val2   val3   val4   val5   val6  val7\n",
       "0          최고   3.12   3.43   2.88   2.99   3.48  3.16\n",
       "1          최저  1.203  1.217  1.245  1.226  1.628  1.34\n",
       "2  2017-09-05  1.780  1.996  1.479  1.704  2.333  1.38\n",
       "3  2017-09-04  1.782  2.001  1.482  1.708  2.335  1.38\n",
       "4  2017-09-01  1.747  1.966  1.470  1.678  2.302  1.38"
      ]
     },
     "execution_count": 7,
     "metadata": {},
     "output_type": "execute_result"
    }
   ],
   "source": [
    "df.head(5)"
   ]
  },
  {
   "cell_type": "code",
   "execution_count": 8,
   "metadata": {
    "slideshow": {
     "slide_type": "-"
    }
   },
   "outputs": [
    {
     "data": {
      "text/html": [
       "<div>\n",
       "<style>\n",
       "    .dataframe thead tr:only-child th {\n",
       "        text-align: right;\n",
       "    }\n",
       "\n",
       "    .dataframe thead th {\n",
       "        text-align: left;\n",
       "    }\n",
       "\n",
       "    .dataframe tbody tr th {\n",
       "        vertical-align: top;\n",
       "    }\n",
       "</style>\n",
       "<table border=\"1\" class=\"dataframe\">\n",
       "  <thead>\n",
       "    <tr style=\"text-align: right;\">\n",
       "      <th></th>\n",
       "      <th>val1</th>\n",
       "      <th>val2</th>\n",
       "      <th>val3</th>\n",
       "      <th>val4</th>\n",
       "      <th>val5</th>\n",
       "      <th>val6</th>\n",
       "      <th>val7</th>\n",
       "    </tr>\n",
       "  </thead>\n",
       "  <tbody>\n",
       "    <tr>\n",
       "      <th>2</th>\n",
       "      <td>2017-09-05</td>\n",
       "      <td>1.780</td>\n",
       "      <td>1.996</td>\n",
       "      <td>1.479</td>\n",
       "      <td>1.704</td>\n",
       "      <td>2.333</td>\n",
       "      <td>1.38</td>\n",
       "    </tr>\n",
       "    <tr>\n",
       "      <th>3</th>\n",
       "      <td>2017-09-04</td>\n",
       "      <td>1.782</td>\n",
       "      <td>2.001</td>\n",
       "      <td>1.482</td>\n",
       "      <td>1.708</td>\n",
       "      <td>2.335</td>\n",
       "      <td>1.38</td>\n",
       "    </tr>\n",
       "    <tr>\n",
       "      <th>4</th>\n",
       "      <td>2017-09-01</td>\n",
       "      <td>1.747</td>\n",
       "      <td>1.966</td>\n",
       "      <td>1.470</td>\n",
       "      <td>1.678</td>\n",
       "      <td>2.302</td>\n",
       "      <td>1.38</td>\n",
       "    </tr>\n",
       "    <tr>\n",
       "      <th>5</th>\n",
       "      <td>2017-08-31</td>\n",
       "      <td>1.747</td>\n",
       "      <td>1.968</td>\n",
       "      <td>1.476</td>\n",
       "      <td>1.684</td>\n",
       "      <td>2.304</td>\n",
       "      <td>1.38</td>\n",
       "    </tr>\n",
       "    <tr>\n",
       "      <th>6</th>\n",
       "      <td>2017-08-30</td>\n",
       "      <td>1.752</td>\n",
       "      <td>1.958</td>\n",
       "      <td>1.478</td>\n",
       "      <td>1.690</td>\n",
       "      <td>2.307</td>\n",
       "      <td>1.38</td>\n",
       "    </tr>\n",
       "  </tbody>\n",
       "</table>\n",
       "</div>"
      ],
      "text/plain": [
       "         val1   val2   val3   val4   val5   val6  val7\n",
       "2  2017-09-05  1.780  1.996  1.479  1.704  2.333  1.38\n",
       "3  2017-09-04  1.782  2.001  1.482  1.708  2.335  1.38\n",
       "4  2017-09-01  1.747  1.966  1.470  1.678  2.302  1.38\n",
       "5  2017-08-31  1.747  1.968  1.476  1.684  2.304  1.38\n",
       "6  2017-08-30  1.752  1.958  1.478  1.690  2.307  1.38"
      ]
     },
     "execution_count": 8,
     "metadata": {},
     "output_type": "execute_result"
    }
   ],
   "source": [
    "df = df[2:]\n",
    "df.head(5)"
   ]
  },
  {
   "cell_type": "markdown",
   "metadata": {
    "slideshow": {
     "slide_type": "slide"
    }
   },
   "source": [
    "# 컬럼의 타입 바꾸기 (str to float)"
   ]
  },
  {
   "cell_type": "code",
   "execution_count": 9,
   "metadata": {
    "slideshow": {
     "slide_type": "-"
    }
   },
   "outputs": [
    {
     "data": {
      "text/html": [
       "<div>\n",
       "<style>\n",
       "    .dataframe thead tr:only-child th {\n",
       "        text-align: right;\n",
       "    }\n",
       "\n",
       "    .dataframe thead th {\n",
       "        text-align: left;\n",
       "    }\n",
       "\n",
       "    .dataframe tbody tr th {\n",
       "        vertical-align: top;\n",
       "    }\n",
       "</style>\n",
       "<table border=\"1\" class=\"dataframe\">\n",
       "  <thead>\n",
       "    <tr style=\"text-align: right;\">\n",
       "      <th></th>\n",
       "      <th>val1</th>\n",
       "      <th>val2</th>\n",
       "      <th>val3</th>\n",
       "      <th>val4</th>\n",
       "      <th>val5</th>\n",
       "      <th>val6</th>\n",
       "      <th>val7</th>\n",
       "    </tr>\n",
       "  </thead>\n",
       "  <tbody>\n",
       "    <tr>\n",
       "      <th>2</th>\n",
       "      <td>2017-09-05</td>\n",
       "      <td>1.780</td>\n",
       "      <td>1.996</td>\n",
       "      <td>1.479</td>\n",
       "      <td>1.704</td>\n",
       "      <td>2.333</td>\n",
       "      <td>1.38</td>\n",
       "    </tr>\n",
       "    <tr>\n",
       "      <th>3</th>\n",
       "      <td>2017-09-04</td>\n",
       "      <td>1.782</td>\n",
       "      <td>2.001</td>\n",
       "      <td>1.482</td>\n",
       "      <td>1.708</td>\n",
       "      <td>2.335</td>\n",
       "      <td>1.38</td>\n",
       "    </tr>\n",
       "    <tr>\n",
       "      <th>4</th>\n",
       "      <td>2017-09-01</td>\n",
       "      <td>1.747</td>\n",
       "      <td>1.966</td>\n",
       "      <td>1.470</td>\n",
       "      <td>1.678</td>\n",
       "      <td>2.302</td>\n",
       "      <td>1.38</td>\n",
       "    </tr>\n",
       "    <tr>\n",
       "      <th>5</th>\n",
       "      <td>2017-08-31</td>\n",
       "      <td>1.747</td>\n",
       "      <td>1.968</td>\n",
       "      <td>1.476</td>\n",
       "      <td>1.684</td>\n",
       "      <td>2.304</td>\n",
       "      <td>1.38</td>\n",
       "    </tr>\n",
       "    <tr>\n",
       "      <th>6</th>\n",
       "      <td>2017-08-30</td>\n",
       "      <td>1.752</td>\n",
       "      <td>1.958</td>\n",
       "      <td>1.478</td>\n",
       "      <td>1.690</td>\n",
       "      <td>2.307</td>\n",
       "      <td>1.38</td>\n",
       "    </tr>\n",
       "  </tbody>\n",
       "</table>\n",
       "</div>"
      ],
      "text/plain": [
       "        val1   val2   val3   val4   val5   val6  val7\n",
       "2 2017-09-05  1.780  1.996  1.479  1.704  2.333  1.38\n",
       "3 2017-09-04  1.782  2.001  1.482  1.708  2.335  1.38\n",
       "4 2017-09-01  1.747  1.966  1.470  1.678  2.302  1.38\n",
       "5 2017-08-31  1.747  1.968  1.476  1.684  2.304  1.38\n",
       "6 2017-08-30  1.752  1.958  1.478  1.690  2.307  1.38"
      ]
     },
     "execution_count": 9,
     "metadata": {},
     "output_type": "execute_result"
    }
   ],
   "source": [
    "# 수치값으로\n",
    "float_columns = ['val2', 'val3', 'val4', 'val5', 'val6', 'val7']\n",
    "df[float_columns] = df[float_columns].astype(float)\n",
    "\n",
    "# 날짜값으로\n",
    "df['val1'] = pd.to_datetime(df['val1'])\n",
    "\n",
    "df.head()"
   ]
  },
  {
   "cell_type": "code",
   "execution_count": 10,
   "metadata": {
    "slideshow": {
     "slide_type": "-"
    }
   },
   "outputs": [
    {
     "data": {
      "text/plain": [
       "val1    datetime64[ns]\n",
       "val2           float64\n",
       "val3           float64\n",
       "val4           float64\n",
       "val5           float64\n",
       "val6           float64\n",
       "val7           float64\n",
       "dtype: object"
      ]
     },
     "execution_count": 10,
     "metadata": {},
     "output_type": "execute_result"
    }
   ],
   "source": [
    "df.dtypes"
   ]
  },
  {
   "cell_type": "markdown",
   "metadata": {
    "slideshow": {
     "slide_type": "slide"
    }
   },
   "source": [
    "# 컬럼 이름 바꾸기"
   ]
  },
  {
   "cell_type": "code",
   "execution_count": 11,
   "metadata": {
    "slideshow": {
     "slide_type": "-"
    }
   },
   "outputs": [
    {
     "data": {
      "text/html": [
       "<div>\n",
       "<style>\n",
       "    .dataframe thead tr:only-child th {\n",
       "        text-align: right;\n",
       "    }\n",
       "\n",
       "    .dataframe thead th {\n",
       "        text-align: left;\n",
       "    }\n",
       "\n",
       "    .dataframe tbody tr th {\n",
       "        vertical-align: top;\n",
       "    }\n",
       "</style>\n",
       "<table border=\"1\" class=\"dataframe\">\n",
       "  <thead>\n",
       "    <tr style=\"text-align: right;\">\n",
       "      <th></th>\n",
       "      <th>일자</th>\n",
       "      <th>국고채권(3년)</th>\n",
       "      <th>국고채권(5년)</th>\n",
       "      <th>통안증권(1년)</th>\n",
       "      <th>통안증권(2년)</th>\n",
       "      <th>회사채(무보증3년)</th>\n",
       "      <th>CD(91일)</th>\n",
       "    </tr>\n",
       "  </thead>\n",
       "  <tbody>\n",
       "    <tr>\n",
       "      <th>2</th>\n",
       "      <td>2017-09-05</td>\n",
       "      <td>1.780</td>\n",
       "      <td>1.996</td>\n",
       "      <td>1.479</td>\n",
       "      <td>1.704</td>\n",
       "      <td>2.333</td>\n",
       "      <td>1.38</td>\n",
       "    </tr>\n",
       "    <tr>\n",
       "      <th>3</th>\n",
       "      <td>2017-09-04</td>\n",
       "      <td>1.782</td>\n",
       "      <td>2.001</td>\n",
       "      <td>1.482</td>\n",
       "      <td>1.708</td>\n",
       "      <td>2.335</td>\n",
       "      <td>1.38</td>\n",
       "    </tr>\n",
       "    <tr>\n",
       "      <th>4</th>\n",
       "      <td>2017-09-01</td>\n",
       "      <td>1.747</td>\n",
       "      <td>1.966</td>\n",
       "      <td>1.470</td>\n",
       "      <td>1.678</td>\n",
       "      <td>2.302</td>\n",
       "      <td>1.38</td>\n",
       "    </tr>\n",
       "    <tr>\n",
       "      <th>5</th>\n",
       "      <td>2017-08-31</td>\n",
       "      <td>1.747</td>\n",
       "      <td>1.968</td>\n",
       "      <td>1.476</td>\n",
       "      <td>1.684</td>\n",
       "      <td>2.304</td>\n",
       "      <td>1.38</td>\n",
       "    </tr>\n",
       "    <tr>\n",
       "      <th>6</th>\n",
       "      <td>2017-08-30</td>\n",
       "      <td>1.752</td>\n",
       "      <td>1.958</td>\n",
       "      <td>1.478</td>\n",
       "      <td>1.690</td>\n",
       "      <td>2.307</td>\n",
       "      <td>1.38</td>\n",
       "    </tr>\n",
       "  </tbody>\n",
       "</table>\n",
       "</div>"
      ],
      "text/plain": [
       "          일자  국고채권(3년)  국고채권(5년)  통안증권(1년)  통안증권(2년)  회사채(무보증3년)  CD(91일)\n",
       "2 2017-09-05     1.780     1.996     1.479     1.704       2.333     1.38\n",
       "3 2017-09-04     1.782     2.001     1.482     1.708       2.335     1.38\n",
       "4 2017-09-01     1.747     1.966     1.470     1.678       2.302     1.38\n",
       "5 2017-08-31     1.747     1.968     1.476     1.684       2.304     1.38\n",
       "6 2017-08-30     1.752     1.958     1.478     1.690       2.307     1.38"
      ]
     },
     "execution_count": 11,
     "metadata": {},
     "output_type": "execute_result"
    }
   ],
   "source": [
    "for col in col_maps:\n",
    "    df.rename(columns={col[0] : col[1]}, inplace=True)\n",
    "    \n",
    "df.head()"
   ]
  },
  {
   "cell_type": "markdown",
   "metadata": {
    "slideshow": {
     "slide_type": "slide"
    }
   },
   "source": [
    "# 함수로 정리"
   ]
  },
  {
   "cell_type": "code",
   "execution_count": 12,
   "metadata": {
    "slideshow": {
     "slide_type": "-"
    }
   },
   "outputs": [],
   "source": [
    "import requests\n",
    "import xml.etree.ElementTree as ET\n",
    "import pandas as pd\n",
    "from datetime import datetime\n",
    "\n",
    "payload_tmpl = \"\"\"<?xml version=\"1.0\" encoding=\"utf-8\"?>\n",
    "<message>\n",
    "  <proframeHeader>\n",
    "    <pfmAppName>BIS-KOFIABOND</pfmAppName>\n",
    "    <pfmSvcName>BISLastAskPrcROPSrchSO</pfmSvcName>\n",
    "    <pfmFnName>listTrm</pfmFnName>\n",
    "  </proframeHeader>\n",
    "  <systemHeader></systemHeader>\n",
    "<BISComDspDatDTO>\n",
    "  <val1>DD</val1>\n",
    "  <val2>{start_date}</val2>\n",
    "  <val3>{end_date}</val3>\n",
    "  <val4>1530</val4>\n",
    "  <val5>3000</val5>\n",
    "  <val6>3007</val6>\n",
    "  <val7>3016</val7>\n",
    "  <val8>3003</val8>\n",
    "  <val9>3009</val9>\n",
    "  <val10>4000</val10>\n",
    "</BISComDspDatDTO>\n",
    "</message>\n",
    "\"\"\"\n",
    "\n",
    "def get_bond_interest_range(start_date=None, end_date=None):\n",
    "    # start_date: \"YYYYMMDD\", end_date: \"YYYYMMDD\"\n",
    "    if start_date is None:\n",
    "        start_date = \"19950501\" # 1995년 5월 데이터 부터 \n",
    "    if end_date is None:\n",
    "        end_date = datetime.now().strftime(\"%Y%m%d\")\n",
    "    payload = payload_tmpl.format(start_date=start_date, end_date=end_date)\n",
    "    r = requests.post('http://www.kofiabond.or.kr/proframeWeb/XMLSERVICES/', data=payload)\n",
    "\n",
    "    # XML to DataFrame\n",
    "    tree = ET.XML(r.content) \n",
    "    all_records = []\n",
    "    element = tree.findall('message/BISComDspDatListDTO/BISComDspDatDTO')\n",
    "    for i, child in enumerate(element):\n",
    "        record = {}\n",
    "        for i, subchild in enumerate(child):\n",
    "            record[subchild.tag] = subchild.text\n",
    "        all_records.append(record)\n",
    "\n",
    "    df = pd.DataFrame(all_records)\n",
    "\n",
    "    # XML 문서의 항목 명칭과 컬럼명 매칭\n",
    "    col_maps = [\n",
    "        ('val1', '일자'), # YYYY-MM-DD\n",
    "        ('val2', '국고채권(3년)'), # <val5>3000</val5>, 코드와 항목\n",
    "        ('val3', '국고채권(5년)'), # <val6>3007</val6>\n",
    "        ('val4', '통안증권(1년)'), # <val7>3016</val7>\n",
    "        ('val5', '통안증권(2년)'), # <val8>3003</val8>\n",
    "        ('val6', '회사채(무보증3년)'), # <val9>3009</val9>\n",
    "        ('val7', 'CD(91일)'), #  <val10>4000</val10>\n",
    "    ]\n",
    "\n",
    "    # 사용할 컬럼만 추출\n",
    "    df = df[col_list].copy()\n",
    "\n",
    "    # 처음 2개(최고, 최저) row 삭제\n",
    "    df = df[2:]\n",
    "    \n",
    "    # 컬럼의 타입 바꾸기 (str to float)\n",
    "    float_columns = ['val2', 'val3', 'val4', 'val5', 'val6', 'val7']\n",
    "    df[float_columns] = df[float_columns].astype(float)\n",
    "\n",
    "    # 컬럼의 타입 바꾸기 (날짜값으로)\n",
    "    df['val1'] = pd.to_datetime(df['val1'])\n",
    "\n",
    "    # 컬럼 이름 바꾸기\n",
    "    for col in col_maps:\n",
    "        df.rename(columns={col[0] : col[1]}, inplace=True)\n",
    "\n",
    "    # 인덱스 지정\n",
    "    df.set_index('일자', inplace=True)\n",
    "    df.sort_index(inplace=True)\n",
    "    return df"
   ]
  },
  {
   "cell_type": "markdown",
   "metadata": {
    "slideshow": {
     "slide_type": "slide"
    }
   },
   "source": [
    "# 전체 조회\n",
    "\n",
    "1995년 5월 ~ 현재까지 일자별 데이터"
   ]
  },
  {
   "cell_type": "code",
   "execution_count": 13,
   "metadata": {
    "slideshow": {
     "slide_type": "-"
    }
   },
   "outputs": [
    {
     "name": "stdout",
     "output_type": "stream",
     "text": [
      "row count: 5548\n"
     ]
    },
    {
     "data": {
      "text/html": [
       "<div>\n",
       "<style>\n",
       "    .dataframe thead tr:only-child th {\n",
       "        text-align: right;\n",
       "    }\n",
       "\n",
       "    .dataframe thead th {\n",
       "        text-align: left;\n",
       "    }\n",
       "\n",
       "    .dataframe tbody tr th {\n",
       "        vertical-align: top;\n",
       "    }\n",
       "</style>\n",
       "<table border=\"1\" class=\"dataframe\">\n",
       "  <thead>\n",
       "    <tr style=\"text-align: right;\">\n",
       "      <th></th>\n",
       "      <th>국고채권(3년)</th>\n",
       "      <th>국고채권(5년)</th>\n",
       "      <th>통안증권(1년)</th>\n",
       "      <th>통안증권(2년)</th>\n",
       "      <th>회사채(무보증3년)</th>\n",
       "      <th>CD(91일)</th>\n",
       "    </tr>\n",
       "    <tr>\n",
       "      <th>일자</th>\n",
       "      <th></th>\n",
       "      <th></th>\n",
       "      <th></th>\n",
       "      <th></th>\n",
       "      <th></th>\n",
       "      <th></th>\n",
       "    </tr>\n",
       "  </thead>\n",
       "  <tbody>\n",
       "    <tr>\n",
       "      <th>1995-05-02</th>\n",
       "      <td>14.70</td>\n",
       "      <td>14.2</td>\n",
       "      <td>NaN</td>\n",
       "      <td>NaN</td>\n",
       "      <td>NaN</td>\n",
       "      <td>14.65</td>\n",
       "    </tr>\n",
       "    <tr>\n",
       "      <th>1995-05-03</th>\n",
       "      <td>14.75</td>\n",
       "      <td>14.2</td>\n",
       "      <td>NaN</td>\n",
       "      <td>NaN</td>\n",
       "      <td>NaN</td>\n",
       "      <td>14.65</td>\n",
       "    </tr>\n",
       "    <tr>\n",
       "      <th>1995-05-04</th>\n",
       "      <td>14.75</td>\n",
       "      <td>14.2</td>\n",
       "      <td>NaN</td>\n",
       "      <td>NaN</td>\n",
       "      <td>NaN</td>\n",
       "      <td>14.70</td>\n",
       "    </tr>\n",
       "    <tr>\n",
       "      <th>1995-05-08</th>\n",
       "      <td>14.70</td>\n",
       "      <td>14.2</td>\n",
       "      <td>NaN</td>\n",
       "      <td>NaN</td>\n",
       "      <td>NaN</td>\n",
       "      <td>14.80</td>\n",
       "    </tr>\n",
       "    <tr>\n",
       "      <th>1995-05-09</th>\n",
       "      <td>14.70</td>\n",
       "      <td>14.2</td>\n",
       "      <td>NaN</td>\n",
       "      <td>NaN</td>\n",
       "      <td>NaN</td>\n",
       "      <td>14.80</td>\n",
       "    </tr>\n",
       "  </tbody>\n",
       "</table>\n",
       "</div>"
      ],
      "text/plain": [
       "            국고채권(3년)  국고채권(5년)  통안증권(1년)  통안증권(2년)  회사채(무보증3년)  CD(91일)\n",
       "일자                                                                     \n",
       "1995-05-02     14.70      14.2       NaN       NaN         NaN    14.65\n",
       "1995-05-03     14.75      14.2       NaN       NaN         NaN    14.65\n",
       "1995-05-04     14.75      14.2       NaN       NaN         NaN    14.70\n",
       "1995-05-08     14.70      14.2       NaN       NaN         NaN    14.80\n",
       "1995-05-09     14.70      14.2       NaN       NaN         NaN    14.80"
      ]
     },
     "execution_count": 13,
     "metadata": {},
     "output_type": "execute_result"
    }
   ],
   "source": [
    "df = get_bond_interest_range()\n",
    "\n",
    "print('row count:', len(df))\n",
    "df.head()"
   ]
  },
  {
   "cell_type": "code",
   "execution_count": 14,
   "metadata": {
    "slideshow": {
     "slide_type": "-"
    }
   },
   "outputs": [
    {
     "data": {
      "text/html": [
       "<div>\n",
       "<style>\n",
       "    .dataframe thead tr:only-child th {\n",
       "        text-align: right;\n",
       "    }\n",
       "\n",
       "    .dataframe thead th {\n",
       "        text-align: left;\n",
       "    }\n",
       "\n",
       "    .dataframe tbody tr th {\n",
       "        vertical-align: top;\n",
       "    }\n",
       "</style>\n",
       "<table border=\"1\" class=\"dataframe\">\n",
       "  <thead>\n",
       "    <tr style=\"text-align: right;\">\n",
       "      <th></th>\n",
       "      <th>국고채권(3년)</th>\n",
       "      <th>국고채권(5년)</th>\n",
       "      <th>통안증권(1년)</th>\n",
       "      <th>통안증권(2년)</th>\n",
       "      <th>회사채(무보증3년)</th>\n",
       "      <th>CD(91일)</th>\n",
       "    </tr>\n",
       "    <tr>\n",
       "      <th>일자</th>\n",
       "      <th></th>\n",
       "      <th></th>\n",
       "      <th></th>\n",
       "      <th></th>\n",
       "      <th></th>\n",
       "      <th></th>\n",
       "    </tr>\n",
       "  </thead>\n",
       "  <tbody>\n",
       "    <tr>\n",
       "      <th>2017-08-30</th>\n",
       "      <td>1.752</td>\n",
       "      <td>1.958</td>\n",
       "      <td>1.478</td>\n",
       "      <td>1.690</td>\n",
       "      <td>2.307</td>\n",
       "      <td>1.38</td>\n",
       "    </tr>\n",
       "    <tr>\n",
       "      <th>2017-08-31</th>\n",
       "      <td>1.747</td>\n",
       "      <td>1.968</td>\n",
       "      <td>1.476</td>\n",
       "      <td>1.684</td>\n",
       "      <td>2.304</td>\n",
       "      <td>1.38</td>\n",
       "    </tr>\n",
       "    <tr>\n",
       "      <th>2017-09-01</th>\n",
       "      <td>1.747</td>\n",
       "      <td>1.966</td>\n",
       "      <td>1.470</td>\n",
       "      <td>1.678</td>\n",
       "      <td>2.302</td>\n",
       "      <td>1.38</td>\n",
       "    </tr>\n",
       "    <tr>\n",
       "      <th>2017-09-04</th>\n",
       "      <td>1.782</td>\n",
       "      <td>2.001</td>\n",
       "      <td>1.482</td>\n",
       "      <td>1.708</td>\n",
       "      <td>2.335</td>\n",
       "      <td>1.38</td>\n",
       "    </tr>\n",
       "    <tr>\n",
       "      <th>2017-09-05</th>\n",
       "      <td>1.780</td>\n",
       "      <td>1.996</td>\n",
       "      <td>1.479</td>\n",
       "      <td>1.704</td>\n",
       "      <td>2.333</td>\n",
       "      <td>1.38</td>\n",
       "    </tr>\n",
       "  </tbody>\n",
       "</table>\n",
       "</div>"
      ],
      "text/plain": [
       "            국고채권(3년)  국고채권(5년)  통안증권(1년)  통안증권(2년)  회사채(무보증3년)  CD(91일)\n",
       "일자                                                                     \n",
       "2017-08-30     1.752     1.958     1.478     1.690       2.307     1.38\n",
       "2017-08-31     1.747     1.968     1.476     1.684       2.304     1.38\n",
       "2017-09-01     1.747     1.966     1.470     1.678       2.302     1.38\n",
       "2017-09-04     1.782     2.001     1.482     1.708       2.335     1.38\n",
       "2017-09-05     1.780     1.996     1.479     1.704       2.333     1.38"
      ]
     },
     "execution_count": 14,
     "metadata": {},
     "output_type": "execute_result"
    }
   ],
   "source": [
    "df.tail()"
   ]
  },
  {
   "cell_type": "markdown",
   "metadata": {},
   "source": [
    "# 다양한 조회 예시"
   ]
  },
  {
   "cell_type": "code",
   "execution_count": 15,
   "metadata": {
    "slideshow": {
     "slide_type": "-"
    }
   },
   "outputs": [
    {
     "data": {
      "text/plain": [
       "1.966"
      ]
     },
     "execution_count": 15,
     "metadata": {},
     "output_type": "execute_result"
    }
   ],
   "source": [
    "from datetime import datetime\n",
    "\n",
    "dt = datetime(2017, 9 ,1)\n",
    "df.loc[dt, '국고채권(5년)']"
   ]
  },
  {
   "cell_type": "code",
   "execution_count": 16,
   "metadata": {
    "slideshow": {
     "slide_type": "slide"
    }
   },
   "outputs": [
    {
     "data": {
      "text/plain": [
       "1.8280000000000001"
      ]
     },
     "execution_count": 16,
     "metadata": {},
     "output_type": "execute_result"
    }
   ],
   "source": [
    "# 특정 날짜의 특정 채권의 수익률\n",
    "\n",
    "df.loc['2017-01-10', '국고채권(5년)']"
   ]
  },
  {
   "cell_type": "code",
   "execution_count": 17,
   "metadata": {
    "slideshow": {
     "slide_type": "slide"
    }
   },
   "outputs": [
    {
     "data": {
      "text/plain": [
       "일자\n",
       "2017-01-02    1.638\n",
       "2017-01-03    1.617\n",
       "2017-01-04    1.630\n",
       "2017-01-05    1.607\n",
       "2017-01-06    1.626\n",
       "2017-01-09    1.663\n",
       "2017-01-10    1.647\n",
       "2017-01-11    1.653\n",
       "2017-01-12    1.624\n",
       "2017-01-13    1.635\n",
       "2017-01-16    1.633\n",
       "2017-01-17    1.628\n",
       "2017-01-18    1.649\n",
       "2017-01-19    1.677\n",
       "2017-01-20    1.655\n",
       "2017-01-23    1.640\n",
       "2017-01-24    1.628\n",
       "2017-01-25    1.647\n",
       "2017-01-26    1.687\n",
       "Name: 국고채권(3년), dtype: float64"
      ]
     },
     "execution_count": 17,
     "metadata": {},
     "output_type": "execute_result"
    }
   ],
   "source": [
    "# 날짜 범위 지정, 특정 채권의 수익률\n",
    "\n",
    "df.loc['2017-01-01':'2017-01-30', '국고채권(3년)']"
   ]
  },
  {
   "cell_type": "code",
   "execution_count": 18,
   "metadata": {
    "collapsed": true
   },
   "outputs": [],
   "source": [
    "%matplotlib inline\n",
    "import matplotlib.pyplot as plt\n",
    "\n",
    "plt.rcParams[\"font.family\"] = 'nanummyeongjo'\n",
    "plt.rcParams[\"axes.grid\"] = True\n",
    "plt.rcParams[\"figure.figsize\"] = (14,4)"
   ]
  },
  {
   "cell_type": "code",
   "execution_count": 19,
   "metadata": {
    "slideshow": {
     "slide_type": "slide"
    }
   },
   "outputs": [
    {
     "data": {
      "text/plain": [
       "<matplotlib.axes._subplots.AxesSubplot at 0x7f1fcbdba208>"
      ]
     },
     "execution_count": 19,
     "metadata": {},
     "output_type": "execute_result"
    },
    {
     "data": {
      "image/png": "[encoded data removed]",
      "text/plain": [
       "<matplotlib.figure.Figure at 0x7f1fcbddddd8>"
      ]
     },
     "metadata": {},
     "output_type": "display_data"
    }
   ],
   "source": [
    "# 1995년 5월 ~ 현재, 채권 수익률 변동 추이\n",
    "\n",
    "df.plot()"
   ]
  },
  {
   "cell_type": "code",
   "execution_count": 20,
   "metadata": {
    "slideshow": {
     "slide_type": "slide"
    }
   },
   "outputs": [
    {
     "data": {
      "text/plain": [
       "<matplotlib.axes._subplots.AxesSubplot at 0x7f1fcb9f0470>"
      ]
     },
     "execution_count": 20,
     "metadata": {},
     "output_type": "execute_result"
    },
    {
     "data": {
      "image/png": "[encoded data removed]",
      "text/plain": [
       "<matplotlib.figure.Figure at 0x7f1ff6398f28>"
      ]
     },
     "metadata": {},
     "output_type": "display_data"
    }
   ],
   "source": [
    "# 2017년 상반기 국고채권(5년) 수익률 변동\n",
    "\n",
    "df.loc['2017-01-01':'2017-06-30', '국고채권(5년)'].plot()"
   ]
  },
  {
   "cell_type": "code",
   "execution_count": 21,
   "metadata": {
    "slideshow": {
     "slide_type": "slide"
    }
   },
   "outputs": [
    {
     "data": {
      "text/plain": [
       "<matplotlib.axes._subplots.AxesSubplot at 0x7f1fcb94c1d0>"
      ]
     },
     "execution_count": 21,
     "metadata": {},
     "output_type": "execute_result"
    },
    {
     "data": {
      "image/png": "[encoded data removed]",
      "text/plain": [
       "<matplotlib.figure.Figure at 0x7f1fcb946828>"
      ]
     },
     "metadata": {},
     "output_type": "display_data"
    }
   ],
   "source": [
    "# 2012년~2017년, 국고채권(3년), 국고채권(5년) 수익률 비교\n",
    "\n",
    "df.loc['2012':'2017', ['국고채권(3년)', '국고채권(5년)']].plot()"
   ]
  },
  {
   "cell_type": "markdown",
   "metadata": {
    "collapsed": true,
    "slideshow": {
     "slide_type": "notes"
    }
   },
   "source": [
    "\n",
    "### 2017 http://financedata.kr"
   ]
  }
 ],
 "metadata": {
  "celltoolbar": "Slideshow",
  "kernelspec": {
   "display_name": "Python 3",
   "language": "python",
   "name": "python3"
  },
  "language_info": {
   "codemirror_mode": {
    "name": "ipython",
    "version": 3
   },
   "file_extension": ".py",
   "mimetype": "text/x-python",
   "name": "python",
   "nbconvert_exporter": "python",
   "pygments_lexer": "ipython3",
   "version": "3.5.2"
  }
 },
 "nbformat": 4,
 "nbformat_minor": 2
}
