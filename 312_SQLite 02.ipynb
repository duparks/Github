{
 "cells": [
  {
   "cell_type": "markdown",
   "metadata": {
    "slideshow": {
     "slide_type": "slide"
    }
   },
   "source": [
    "# SQLite 02 - SQL 과 DataFrame\n",
    "\n",
    "<img src=\"http://sqlite.com/images/sqlite370_banner.gif\" >\n",
    "\n",
    "\n",
    "#### 2016 이승준 fb.com/plusjune"
   ]
  },
  {
   "cell_type": "markdown",
   "metadata": {},
   "source": [
    "# SQLite and  DataFrame\n",
    "* df = pd.read_sql_query(query, con)\n",
    "* df.to_sql(table_name, con)"
   ]
  },
  {
   "cell_type": "code",
   "execution_count": 1,
   "metadata": {
    "collapsed": true,
    "slideshow": {
     "slide_type": "skip"
    }
   },
   "outputs": [],
   "source": [
    "%matplotlib inline\n",
    "from IPython.display import display, Image"
   ]
  },
  {
   "cell_type": "code",
   "execution_count": 2,
   "metadata": {
    "collapsed": true,
    "slideshow": {
     "slide_type": "slide"
    }
   },
   "outputs": [],
   "source": [
    "import sqlite3\n",
    "import pandas as pd"
   ]
  },
  {
   "cell_type": "code",
   "execution_count": 3,
   "metadata": {
    "collapsed": false,
    "slideshow": {
     "slide_type": "slide"
    }
   },
   "outputs": [
    {
     "data": {
      "text/html": [
       "<div>\n",
       "<table border=\"1\" class=\"dataframe\">\n",
       "  <thead>\n",
       "    <tr style=\"text-align: right;\">\n",
       "      <th></th>\n",
       "      <th>type</th>\n",
       "      <th>name</th>\n",
       "      <th>tbl_name</th>\n",
       "      <th>rootpage</th>\n",
       "      <th>sql</th>\n",
       "    </tr>\n",
       "  </thead>\n",
       "  <tbody>\n",
       "    <tr>\n",
       "      <th>0</th>\n",
       "      <td>table</td>\n",
       "      <td>news</td>\n",
       "      <td>news</td>\n",
       "      <td>2</td>\n",
       "      <td>CREATE TABLE news (id varchar(20), time dateti...</td>\n",
       "    </tr>\n",
       "    <tr>\n",
       "      <th>1</th>\n",
       "      <td>table</td>\n",
       "      <td>maekyung</td>\n",
       "      <td>maekyung</td>\n",
       "      <td>3</td>\n",
       "      <td>CREATE TABLE \"maekyung\" (\\n\"index\" INTEGER,\\n ...</td>\n",
       "    </tr>\n",
       "  </tbody>\n",
       "</table>\n",
       "</div>"
      ],
      "text/plain": [
       "    type      name  tbl_name  rootpage  \\\n",
       "0  table      news      news         2   \n",
       "1  table  maekyung  maekyung         3   \n",
       "\n",
       "                                                 sql  \n",
       "0  CREATE TABLE news (id varchar(20), time dateti...  \n",
       "1  CREATE TABLE \"maekyung\" (\\n\"index\" INTEGER,\\n ...  "
      ]
     },
     "execution_count": 3,
     "metadata": {},
     "output_type": "execute_result"
    }
   ],
   "source": [
    "query = \"SELECT * FROM sqlite_master WHERE type='table'\"\n",
    "\n",
    "con = sqlite3.connect('test_news.db3')\n",
    "with con:\n",
    "    df = pd.read_sql_query(query, con)\n",
    "    \n",
    "df"
   ]
  },
  {
   "cell_type": "code",
   "execution_count": 4,
   "metadata": {
    "collapsed": false,
    "slideshow": {
     "slide_type": "slide"
    }
   },
   "outputs": [
    {
     "data": {
      "text/html": [
       "<div>\n",
       "<table border=\"1\" class=\"dataframe\">\n",
       "  <thead>\n",
       "    <tr style=\"text-align: right;\">\n",
       "      <th></th>\n",
       "      <th>id</th>\n",
       "      <th>time</th>\n",
       "      <th>title</th>\n",
       "      <th>agency</th>\n",
       "    </tr>\n",
       "  </thead>\n",
       "  <tbody>\n",
       "    <tr>\n",
       "      <th>0</th>\n",
       "      <td>0003024670</td>\n",
       "      <td>2013-08-29 11:39</td>\n",
       "      <td>국민은행 가족친화 기업에 금리 인하</td>\n",
       "      <td>매일경제</td>\n",
       "    </tr>\n",
       "    <tr>\n",
       "      <th>1</th>\n",
       "      <td>0003024522</td>\n",
       "      <td>2013-08-29 09:03</td>\n",
       "      <td>美양적완화 축소는 은행업종에 긍정적</td>\n",
       "      <td>매일경제</td>\n",
       "    </tr>\n",
       "    <tr>\n",
       "      <th>2</th>\n",
       "      <td>0002464356</td>\n",
       "      <td>2013-08-29 08:00</td>\n",
       "      <td>&lt;진화하는 MTS&gt; KB투자증권, KB스마톡S</td>\n",
       "      <td>헤럴드생생뉴스</td>\n",
       "    </tr>\n",
       "    <tr>\n",
       "      <th>3</th>\n",
       "      <td>0003106995</td>\n",
       "      <td>2013-08-29 07:03</td>\n",
       "      <td>LG상사, STX에너지 인수전에 KB금융 컨소시엄</td>\n",
       "      <td>머니투데이</td>\n",
       "    </tr>\n",
       "  </tbody>\n",
       "</table>\n",
       "</div>"
      ],
      "text/plain": [
       "           id              time                        title   agency\n",
       "0  0003024670  2013-08-29 11:39          국민은행 가족친화 기업에 금리 인하     매일경제\n",
       "1  0003024522  2013-08-29 09:03          美양적완화 축소는 은행업종에 긍정적     매일경제\n",
       "2  0002464356  2013-08-29 08:00    <진화하는 MTS> KB투자증권, KB스마톡S  헤럴드생생뉴스\n",
       "3  0003106995  2013-08-29 07:03  LG상사, STX에너지 인수전에 KB금융 컨소시엄    머니투데이"
      ]
     },
     "execution_count": 4,
     "metadata": {},
     "output_type": "execute_result"
    }
   ],
   "source": [
    "con = sqlite3.connect('test_news.db3')\n",
    "df = pd.read_sql_query('SELECT * FROM news', con)\n",
    "df"
   ]
  },
  {
   "cell_type": "code",
   "execution_count": 5,
   "metadata": {
    "collapsed": false,
    "slideshow": {
     "slide_type": "slide"
    }
   },
   "outputs": [
    {
     "data": {
      "text/html": [
       "<div>\n",
       "<table border=\"1\" class=\"dataframe\">\n",
       "  <thead>\n",
       "    <tr style=\"text-align: right;\">\n",
       "      <th></th>\n",
       "      <th>time</th>\n",
       "      <th>title</th>\n",
       "      <th>agency</th>\n",
       "    </tr>\n",
       "    <tr>\n",
       "      <th>id</th>\n",
       "      <th></th>\n",
       "      <th></th>\n",
       "      <th></th>\n",
       "    </tr>\n",
       "  </thead>\n",
       "  <tbody>\n",
       "    <tr>\n",
       "      <th>0003024670</th>\n",
       "      <td>2013-08-29 11:39:00</td>\n",
       "      <td>국민은행 가족친화 기업에 금리 인하</td>\n",
       "      <td>매일경제</td>\n",
       "    </tr>\n",
       "    <tr>\n",
       "      <th>0003024522</th>\n",
       "      <td>2013-08-29 09:03:00</td>\n",
       "      <td>美양적완화 축소는 은행업종에 긍정적</td>\n",
       "      <td>매일경제</td>\n",
       "    </tr>\n",
       "    <tr>\n",
       "      <th>0002464356</th>\n",
       "      <td>2013-08-29 08:00:00</td>\n",
       "      <td>&lt;진화하는 MTS&gt; KB투자증권, KB스마톡S</td>\n",
       "      <td>헤럴드생생뉴스</td>\n",
       "    </tr>\n",
       "    <tr>\n",
       "      <th>0003106995</th>\n",
       "      <td>2013-08-29 07:03:00</td>\n",
       "      <td>LG상사, STX에너지 인수전에 KB금융 컨소시엄</td>\n",
       "      <td>머니투데이</td>\n",
       "    </tr>\n",
       "  </tbody>\n",
       "</table>\n",
       "</div>"
      ],
      "text/plain": [
       "                          time                        title   agency\n",
       "id                                                                  \n",
       "0003024670 2013-08-29 11:39:00          국민은행 가족친화 기업에 금리 인하     매일경제\n",
       "0003024522 2013-08-29 09:03:00          美양적완화 축소는 은행업종에 긍정적     매일경제\n",
       "0002464356 2013-08-29 08:00:00    <진화하는 MTS> KB투자증권, KB스마톡S  헤럴드생생뉴스\n",
       "0003106995 2013-08-29 07:03:00  LG상사, STX에너지 인수전에 KB금융 컨소시엄    머니투데이"
      ]
     },
     "execution_count": 5,
     "metadata": {},
     "output_type": "execute_result"
    }
   ],
   "source": [
    "con = sqlite3.connect('test_news.db3')\n",
    "df = pd.read_sql_query('SELECT * FROM news', con, index_col='id')\n",
    "df['time'] = pd.to_datetime(df['time'])\n",
    "df"
   ]
  },
  {
   "cell_type": "markdown",
   "metadata": {
    "slideshow": {
     "slide_type": "slide"
    }
   },
   "source": [
    "# 조건부 읽기"
   ]
  },
  {
   "cell_type": "code",
   "execution_count": 6,
   "metadata": {
    "collapsed": false,
    "slideshow": {
     "slide_type": "fragment"
    }
   },
   "outputs": [],
   "source": [
    "con = sqlite3.connect('test_news.db3')\n",
    "query = 'SELECT time, title FROM news WHERE agency = \"매일경제\"'\n",
    "df = pd.read_sql_query(query, con)"
   ]
  },
  {
   "cell_type": "markdown",
   "metadata": {
    "slideshow": {
     "slide_type": "slide"
    }
   },
   "source": [
    "# 테이블에 쓰기"
   ]
  },
  {
   "cell_type": "code",
   "execution_count": 7,
   "metadata": {
    "collapsed": true,
    "slideshow": {
     "slide_type": "fragment"
    }
   },
   "outputs": [],
   "source": [
    "con = sqlite3.connect('test_news.db3')\n",
    "df.to_sql('maekyung', con, if_exists='replace')"
   ]
  },
  {
   "cell_type": "markdown",
   "metadata": {},
   "source": [
    "# 환율 데이터 테이블"
   ]
  },
  {
   "cell_type": "code",
   "execution_count": 20,
   "metadata": {
    "collapsed": false,
    "slideshow": {
     "slide_type": "slide"
    }
   },
   "outputs": [
    {
     "data": {
      "text/plain": [
       "<matplotlib.axes._subplots.AxesSubplot at 0x7ff70fdbeba8>"
      ]
     },
     "execution_count": 20,
     "metadata": {},
     "output_type": "execute_result"
    },
    {
     "data": {
      "image/png": "[encoded data removed]",
      "text/plain": [
       "<matplotlib.figure.Figure at 0x7ff70fdc15f8>"
      ]
     },
     "metadata": {},
     "output_type": "display_data"
    }
   ],
   "source": [
    "import datetime\n",
    "from pandas_datareader import data\n",
    "\n",
    "start = datetime.datetime(2000, 1, 1)\n",
    "end = datetime.datetime(2016, 3, 30)\n",
    "\n",
    "dexkous = data.get_data_fred('DEXKOUS', start=start, end=end)\n",
    "dexkous.plot(figsize=(12,4))"
   ]
  },
  {
   "cell_type": "code",
   "execution_count": 21,
   "metadata": {
    "collapsed": false,
    "slideshow": {
     "slide_type": "slide"
    }
   },
   "outputs": [
    {
     "data": {
      "text/html": [
       "<div>\n",
       "<table border=\"1\" class=\"dataframe\">\n",
       "  <thead>\n",
       "    <tr style=\"text-align: right;\">\n",
       "      <th></th>\n",
       "      <th>DEXKOUS</th>\n",
       "    </tr>\n",
       "    <tr>\n",
       "      <th>DATE</th>\n",
       "      <th></th>\n",
       "    </tr>\n",
       "  </thead>\n",
       "  <tbody>\n",
       "    <tr>\n",
       "      <th>2016-03-24</th>\n",
       "      <td>1168.09</td>\n",
       "    </tr>\n",
       "    <tr>\n",
       "      <th>2016-03-25</th>\n",
       "      <td>1168.19</td>\n",
       "    </tr>\n",
       "    <tr>\n",
       "      <th>2016-03-28</th>\n",
       "      <td>1163.39</td>\n",
       "    </tr>\n",
       "    <tr>\n",
       "      <th>2016-03-29</th>\n",
       "      <td>1164.69</td>\n",
       "    </tr>\n",
       "    <tr>\n",
       "      <th>2016-03-30</th>\n",
       "      <td>1142.02</td>\n",
       "    </tr>\n",
       "  </tbody>\n",
       "</table>\n",
       "</div>"
      ],
      "text/plain": [
       "            DEXKOUS\n",
       "DATE               \n",
       "2016-03-24  1168.09\n",
       "2016-03-25  1168.19\n",
       "2016-03-28  1163.39\n",
       "2016-03-29  1164.69\n",
       "2016-03-30  1142.02"
      ]
     },
     "execution_count": 21,
     "metadata": {},
     "output_type": "execute_result"
    }
   ],
   "source": [
    "con = sqlite3.connect('dex.db3')\n",
    "dexkous.to_sql('dexkous', con, if_exists='replace')\n",
    "\n",
    "query = 'SELECT * FROM dexkous'\n",
    "df = pd.read_sql_query(query, con)\n",
    "\n",
    "dexkous.tail()"
   ]
  }
 ],
 "metadata": {
  "kernelspec": {
   "display_name": "Python 3",
   "language": "python",
   "name": "python3"
  },
  "language_info": {
   "codemirror_mode": {
    "name": "ipython",
    "version": 3
   },
   "file_extension": ".py",
   "mimetype": "text/x-python",
   "name": "python",
   "nbconvert_exporter": "python",
   "pygments_lexer": "ipython3",
   "version": "3.4.3"
  }
 },
 "nbformat": 4,
 "nbformat_minor": 0
}